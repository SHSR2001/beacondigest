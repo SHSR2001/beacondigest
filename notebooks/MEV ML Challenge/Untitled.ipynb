{
 "cells": [
  {
   "cell_type": "code",
   "execution_count": 29,
   "id": "c7dc72d3-73c3-43c8-a795-abd9c49ca94a",
   "metadata": {},
   "outputs": [],
   "source": [
    "import sklearn\n",
    "from sklearn.model_selection import train_test_split\n",
    "from sklearn.metrics import accuracy_score\n",
    "from sklearn.metrics import classification_report\n",
    "from sklearn.metrics import confusion_matrix\n",
    "import pandas\n",
    "import numpy as np\n",
    "import xgboost as xgb\n",
    "from sklearn.linear_model import LogisticRegression\n",
    "from sklearn.neighbors import KNeighborsClassifier\n",
    "from sklearn.svm import SVC\n",
    "import ast\n",
    "import csv"
   ]
  },
  {
   "cell_type": "code",
   "execution_count": 2,
   "id": "9a1f6918-613b-4f40-a5c8-68c10967a393",
   "metadata": {},
   "outputs": [],
   "source": [
    "def convert_dataset(dataset):\n",
    "    examples = []\n",
    "    for blob in dataset['txData']:\n",
    "        txData = ast.literal_eval(blob)\n",
    "        examples.append([\n",
    "          int(txData['from'], 0) % (2 ** 30),\n",
    "          (int(txData['to'], 0) if txData['to'] is not None else 0) % (2 ** 30),\n",
    "          int(txData['gas'], 0),\n",
    "          int(txData['gasPrice'], 0),\n",
    "          (int(txData['input'][:10], 0) if txData['input'] != '0x' else 0) % (2 ** 30),\n",
    "          int(txData['nonce'], 0),\n",
    "        ])\n",
    "    return np.array(examples)\n"
   ]
  },
  {
   "cell_type": "code",
   "execution_count": 3,
   "id": "28175ac0-7669-4dab-b0bc-7c8bce5c14b7",
   "metadata": {},
   "outputs": [],
   "source": [
    "train = pandas.read_csv('train.csv')\n",
    "test = pandas.read_csv('test.csv')\n",
    "testFeatures = convert_dataset(test)"
   ]
  },
  {
   "cell_type": "code",
   "execution_count": 4,
   "id": "ecf5549a-58d8-4aee-a931-e9c3d0b2bcc9",
   "metadata": {},
   "outputs": [
    {
     "name": "stdout",
     "output_type": "stream",
     "text": [
      "Index(['txHash', 'txData', 'txTrace', 'Label0', 'Label1'], dtype='object')\n",
      "Index(['txHash', 'txData', 'txTrace'], dtype='object')\n"
     ]
    }
   ],
   "source": [
    "print(train.columns)\n",
    "print(test.columns)"
   ]
  },
  {
   "cell_type": "code",
   "execution_count": 20,
   "id": "521fd8c4-7576-4278-bd00-a50759585a39",
   "metadata": {},
   "outputs": [],
   "source": [
    "X, Y = convert_dataset(train), train['Label0']\n",
    "X_train, X_test, y_train, y_test = train_test_split(X, Y, test_size=0.25, random_state=9)\n"
   ]
  },
  {
   "cell_type": "code",
   "execution_count": 21,
   "id": "d2fcc708-a909-424c-aa7a-1032e1b420a4",
   "metadata": {},
   "outputs": [
    {
     "name": "stderr",
     "output_type": "stream",
     "text": [
      "c:\\users\\shyam\\documents\\github\\beacondigest\\env\\lib\\site-packages\\xgboost\\sklearn.py:1146: UserWarning: The use of label encoder in XGBClassifier is deprecated and will be removed in a future release. To remove this warning, do the following: 1) Pass option use_label_encoder=False when constructing XGBClassifier object; and 2) Encode your labels (y) as integers starting with 0, i.e. 0, 1, 2, ..., [num_class - 1].\n",
      "  warnings.warn(label_encoder_deprecation_msg, UserWarning)\n"
     ]
    },
    {
     "name": "stdout",
     "output_type": "stream",
     "text": [
      "[13:44:00] WARNING: C:/Users/Administrator/workspace/xgboost-win64_release_1.4.0/src/learner.cc:1095: Starting in XGBoost 1.3.0, the default evaluation metric used with the objective 'binary:logistic' was changed from 'error' to 'logloss'. Explicitly set eval_metric if you'd like to restore the old behavior.\n"
     ]
    }
   ],
   "source": [
    "#XGB - Classification\n",
    "XGBoost_model = xgb.XGBClassifier(n_estimators=50)\n",
    "\n",
    "XGBoost_model.fit(X_train, y_train)\n",
    "y_pred = XGBoost_model.predict(X_test)\n",
    "\n",
    "predictions = [value for value in y_pred]"
   ]
  },
  {
   "cell_type": "code",
   "execution_count": 22,
   "id": "6a210f03-7acb-479a-a50b-4671d5d56e96",
   "metadata": {},
   "outputs": [
    {
     "name": "stdout",
     "output_type": "stream",
     "text": [
      "0.9212613780965243\n",
      "              precision    recall  f1-score   support\n",
      "\n",
      "       False       0.96      0.95      0.95    170406\n",
      "        True       0.75      0.80      0.77     34703\n",
      "\n",
      "    accuracy                           0.92    205109\n",
      "   macro avg       0.85      0.87      0.86    205109\n",
      "weighted avg       0.92      0.92      0.92    205109\n",
      "\n",
      "[[161207   9199]\n",
      " [  6951  27752]]\n"
     ]
    }
   ],
   "source": [
    "print(accuracy_score(y_test, predictions))\n",
    "print(classification_report(y_test, predictions))\n",
    "print(confusion_matrix(y_test, predictions))"
   ]
  },
  {
   "cell_type": "code",
   "execution_count": 24,
   "id": "b7c0baef-ef43-453a-b4fc-0845b0f4934d",
   "metadata": {},
   "outputs": [],
   "source": [
    "#Logistic Regression - Classification\n",
    "logreg = LogisticRegression()\n",
    "\n",
    "logreg.fit(X_train,y_train)\n",
    "y_pred=logreg.predict(X_test)\n",
    "\n",
    "predictions = [value for value in y_pred]"
   ]
  },
  {
   "cell_type": "code",
   "execution_count": 25,
   "id": "f4a561be-e1e4-4ee2-a850-7facc241f59f",
   "metadata": {},
   "outputs": [
    {
     "name": "stdout",
     "output_type": "stream",
     "text": [
      "0.8251856330048901\n",
      "              precision    recall  f1-score   support\n",
      "\n",
      "       False       0.84      0.98      0.90    170406\n",
      "        True       0.39      0.06      0.10     34703\n",
      "\n",
      "    accuracy                           0.83    205109\n",
      "   macro avg       0.61      0.52      0.50    205109\n",
      "weighted avg       0.76      0.83      0.77    205109\n",
      "\n",
      "[[167288   3118]\n",
      " [ 32738   1965]]\n"
     ]
    }
   ],
   "source": [
    "print(accuracy_score(y_test, predictions))\n",
    "print(classification_report(y_test, predictions))\n",
    "print(confusion_matrix(y_test, predictions))"
   ]
  },
  {
   "cell_type": "code",
   "execution_count": 27,
   "id": "6fca0c82-af30-4c17-a83d-1dbe28d5b77e",
   "metadata": {},
   "outputs": [],
   "source": [
    "#KNN - Classification\n",
    "knn = KNeighborsClassifier()\n",
    "\n",
    "knn.fit(X_train,y_train)\n",
    "y_pred=knn.predict(X_test)\n",
    "\n",
    "predictions = [value for value in y_pred]"
   ]
  },
  {
   "cell_type": "code",
   "execution_count": 28,
   "id": "b6eaa928-ad32-4a0d-b7ae-4525b3b0ee84",
   "metadata": {},
   "outputs": [
    {
     "name": "stdout",
     "output_type": "stream",
     "text": [
      "0.8701032134133558\n",
      "              precision    recall  f1-score   support\n",
      "\n",
      "       False       0.91      0.93      0.92    170406\n",
      "        True       0.63      0.57      0.60     34703\n",
      "\n",
      "    accuracy                           0.87    205109\n",
      "   macro avg       0.77      0.75      0.76    205109\n",
      "weighted avg       0.87      0.87      0.87    205109\n",
      "\n",
      "[[158666  11740]\n",
      " [ 14903  19800]]\n"
     ]
    }
   ],
   "source": [
    "print(accuracy_score(y_test, predictions))\n",
    "print(classification_report(y_test, predictions))\n",
    "print(confusion_matrix(y_test, predictions))"
   ]
  },
  {
   "cell_type": "code",
   "execution_count": null,
   "id": "7b5d9903-2513-4f4d-9d7f-1a4e50a3ba89",
   "metadata": {},
   "outputs": [],
   "source": [
    "#SVM - Classification\n",
    "svm = SVC()\n",
    "\n",
    "svm.fit(X_train,y_train)\n",
    "y_pred=svm.predict(X_test)\n",
    "\n",
    "predictions = [value for value in y_pred]"
   ]
  },
  {
   "cell_type": "code",
   "execution_count": null,
   "id": "4f85afe4-295d-4aa9-a4fd-e367a259c387",
   "metadata": {},
   "outputs": [],
   "source": [
    "print(accuracy_score(y_test, predictions))\n",
    "print(classification_report(y_test, predictions))\n",
    "print(confusion_matrix(y_test, predictions))"
   ]
  },
  {
   "cell_type": "code",
   "execution_count": null,
   "id": "4220baf1-ac58-4ecf-ae64-8440e8a48929",
   "metadata": {},
   "outputs": [],
   "source": [
    "# submission = csv.writer(open('submission.csv', 'w', encoding='UTF8'))\n",
    "# for x, y in zip(binaryPredictions, regressionPredictions):\n",
    "#   submission.writerow([x, y])"
   ]
  }
 ],
 "metadata": {
  "kernelspec": {
   "display_name": "Python 3",
   "language": "python",
   "name": "python3"
  },
  "language_info": {
   "codemirror_mode": {
    "name": "ipython",
    "version": 3
   },
   "file_extension": ".py",
   "mimetype": "text/x-python",
   "name": "python",
   "nbconvert_exporter": "python",
   "pygments_lexer": "ipython3",
   "version": "3.8.2"
  }
 },
 "nbformat": 4,
 "nbformat_minor": 5
}
