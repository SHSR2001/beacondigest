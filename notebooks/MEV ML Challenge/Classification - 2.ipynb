{
 "cells": [
  {
   "cell_type": "code",
   "execution_count": 15,
   "id": "16d7af51-f1c9-4300-9a37-658d24146d41",
   "metadata": {},
   "outputs": [],
   "source": [
    "from numpy import mean\n",
    "from numpy import std\n",
    "import numpy as np\n",
    "import pandas\n",
    "from sklearn.datasets import make_classification\n",
    "from sklearn.model_selection import cross_val_score\n",
    "from sklearn.model_selection import RepeatedStratifiedKFold\n",
    "from sklearn.linear_model import LogisticRegression\n",
    "from sklearn.neighbors import KNeighborsClassifier\n",
    "from sklearn.tree import DecisionTreeClassifier\n",
    "from sklearn.svm import SVC\n",
    "from sklearn.naive_bayes import GaussianNB\n",
    "from matplotlib import pyplot\n",
    "import ast\n",
    "import csv"
   ]
  },
  {
   "cell_type": "code",
   "execution_count": 7,
   "id": "3f08e2b7-ec60-4e9b-84c7-3c7c73581b82",
   "metadata": {},
   "outputs": [],
   "source": [
    "def convert_dataset(dataset):\n",
    "    examples = []\n",
    "    for blob in dataset['txData']:\n",
    "        txData = ast.literal_eval(blob)\n",
    "        examples.append([\n",
    "          int(txData['from'], 0) % (2 ** 30),\n",
    "          (int(txData['to'], 0) if txData['to'] is not None else 0) % (2 ** 30),\n",
    "          int(txData['gas'], 0),\n",
    "          int(txData['gasPrice'], 0),\n",
    "          (int(txData['input'][:10], 0) if txData['input'] != '0x' else 0) % (2 ** 30),\n",
    "          int(txData['nonce'], 0),\n",
    "        ])\n",
    "    return np.array(examples)"
   ]
  },
  {
   "cell_type": "code",
   "execution_count": 8,
   "id": "16d5b719-2454-4867-bfaa-949124f20c09",
   "metadata": {},
   "outputs": [],
   "source": [
    "def get_models():\n",
    "    models = {}\n",
    "    models['lr'] = LogisticRegression()\n",
    "    models['knn'] = KNeighborsClassifier()\n",
    "    models['cart'] = DecisionTreeClassifier()\n",
    "    models['svm'] = SVC()\n",
    "    models['bayes'] = GaussianNB()\n",
    "    return models"
   ]
  },
  {
   "cell_type": "code",
   "execution_count": 21,
   "id": "f34a4bfe-4416-424e-ac0e-ef10e7fe425d",
   "metadata": {},
   "outputs": [],
   "source": [
    "def evaluate_model_roc_auc(model, X, y):\n",
    "    cv = RepeatedStratifiedKFold(n_splits=10, n_repeats=3, random_state=1)\n",
    "    scores = cross_val_score(model, X, y, scoring='roc_auc', cv=cv, n_jobs=-1, error_score='raise')\n",
    "    return scores"
   ]
  },
  {
   "cell_type": "code",
   "execution_count": 26,
   "id": "6f8f1c2d-e15f-449f-ab6c-61af9a770cbc",
   "metadata": {},
   "outputs": [],
   "source": [
    "def evaluate_model_log_loss(model, X, y):\n",
    "    cv = RepeatedStratifiedKFold(n_splits=10, n_repeats=3, random_state=1)\n",
    "    scores = cross_val_score(model, X, y, scoring='neg_log_loss', cv=cv, n_jobs=-1, error_score='raise')\n",
    "    return scores"
   ]
  },
  {
   "cell_type": "code",
   "execution_count": null,
   "id": "40b40984-f416-49ea-a99a-a153a7357156",
   "metadata": {},
   "outputs": [],
   "source": [
    "train = pandas.read_csv('train.csv')\n",
    "test = pandas.read_csv('test.csv')"
   ]
  },
  {
   "cell_type": "code",
   "execution_count": 16,
   "id": "f8c11333-20e2-43ba-aaf1-207a325636f2",
   "metadata": {},
   "outputs": [],
   "source": [
    "X, y = convert_dataset(train), train['Label0']"
   ]
  },
  {
   "cell_type": "code",
   "execution_count": 17,
   "id": "4cceef6b-ed64-4200-9d47-25baad4277a7",
   "metadata": {},
   "outputs": [],
   "source": [
    "models = get_models()"
   ]
  },
  {
   "cell_type": "code",
   "execution_count": null,
   "id": "e33aa2a8-6875-4f57-ae9e-0a2f8056700a",
   "metadata": {},
   "outputs": [
    {
     "name": "stdout",
     "output_type": "stream",
     "text": [
      ">lr 0.732 (0.043) -0.408 (0.020)\n",
      ">knn 0.881 (0.002) -1.035 (0.018)\n",
      ">cart 0.839 (0.002) -3.141 (0.023)\n"
     ]
    }
   ],
   "source": [
    "results1, results2, names = [], [], []\n",
    "for name, model in models.items():\n",
    "    score1 = evaluate_model_roc_auc(model, X, y)\n",
    "    results1.append(score1)\n",
    "    score2 = evaluate_model_log_loss(model, X, y)\n",
    "    results2.append(score2)\n",
    "    names.append(name)\n",
    "    print('>%s %.3f (%.3f) %.3f (%.3f)' % (name, mean(score1), std(score1), mean(score2), std(score2)))"
   ]
  },
  {
   "cell_type": "code",
   "execution_count": null,
   "id": "d3111f28-7d29-4af0-a413-fd74f58afbbd",
   "metadata": {},
   "outputs": [],
   "source": []
  }
 ],
 "metadata": {
  "kernelspec": {
   "display_name": "Python 3",
   "language": "python",
   "name": "python3"
  },
  "language_info": {
   "codemirror_mode": {
    "name": "ipython",
    "version": 3
   },
   "file_extension": ".py",
   "mimetype": "text/x-python",
   "name": "python",
   "nbconvert_exporter": "python",
   "pygments_lexer": "ipython3",
   "version": "3.8.2"
  }
 },
 "nbformat": 4,
 "nbformat_minor": 5
}
