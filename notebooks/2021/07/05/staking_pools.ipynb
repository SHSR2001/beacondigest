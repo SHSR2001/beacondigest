{
 "cells": [
  {
   "cell_type": "code",
   "execution_count": 1,
   "id": "0df3706f-560e-4653-b8ae-a3f7d73c71d4",
   "metadata": {},
   "outputs": [],
   "source": [
    "from web3 import Web3\n",
    "import json\n",
    "import requests\n",
    "import csv\n",
    "import pandas as pd\n",
    "import seaborn as sns \n",
    "import numpy as np\n",
    "import matplotlib.pyplot as plt\n",
    "from time import *\n",
    "import plotly.express as px\n",
    "import plotly.io as pio\n",
    "pd.options.plotting.backend = \"plotly\"\n",
    "pio.renderers.default = \"plotly_mimetype+notebook_connected\"\n",
    "import plotly.graph_objects as go\n",
    "import math"
   ]
  },
  {
   "cell_type": "code",
   "execution_count": 2,
   "id": "f397f20e-046e-4d17-90cd-8f65533d7d08",
   "metadata": {},
   "outputs": [
    {
     "data": {
      "text/plain": [
       "True"
      ]
     },
     "execution_count": 2,
     "metadata": {},
     "output_type": "execute_result"
    }
   ],
   "source": [
    "infura_url = \"https://mainnet.infura.io/v3/619d68734a8c4565a67d94657faf48a9\"\n",
    "    \n",
    "web3 = Web3(Web3.HTTPProvider(infura_url))\n",
    "web3.isConnected()"
   ]
  },
  {
   "cell_type": "code",
   "execution_count": 120,
   "id": "72d53e5f-a2fe-4e6c-8527-a4480796ac2c",
   "metadata": {},
   "outputs": [],
   "source": [
    "contract_address = web3.toChecksumAddress('0xae7ab96520de3a18e5e111b5eaab095312d7fe84')\n",
    "abi = json.loads('[{\"constant\":true,\"inputs\":[],\"name\":\"proxyType\",\"outputs\":[{\"name\":\"proxyTypeId\",\"type\":\"uint256\"}],\"payable\":false,\"stateMutability\":\"pure\",\"type\":\"function\"},{\"constant\":true,\"inputs\":[],\"name\":\"isDepositable\",\"outputs\":[{\"name\":\"\",\"type\":\"bool\"}],\"payable\":false,\"stateMutability\":\"view\",\"type\":\"function\"},{\"constant\":true,\"inputs\":[],\"name\":\"implementation\",\"outputs\":[{\"name\":\"\",\"type\":\"address\"}],\"payable\":false,\"stateMutability\":\"view\",\"type\":\"function\"},{\"constant\":true,\"inputs\":[],\"name\":\"appId\",\"outputs\":[{\"name\":\"\",\"type\":\"bytes32\"}],\"payable\":false,\"stateMutability\":\"view\",\"type\":\"function\"},{\"constant\":true,\"inputs\":[],\"name\":\"kernel\",\"outputs\":[{\"name\":\"\",\"type\":\"address\"}],\"payable\":false,\"stateMutability\":\"view\",\"type\":\"function\"},{\"inputs\":[{\"name\":\"_kernel\",\"type\":\"address\"},{\"name\":\"_appId\",\"type\":\"bytes32\"},{\"name\":\"_initializePayload\",\"type\":\"bytes\"}],\"payable\":false,\"stateMutability\":\"nonpayable\",\"type\":\"constructor\"},{\"payable\":true,\"stateMutability\":\"payable\",\"type\":\"fallback\"},{\"anonymous\":false,\"inputs\":[{\"indexed\":false,\"name\":\"sender\",\"type\":\"address\"},{\"indexed\":false,\"name\":\"value\",\"type\":\"uint256\"}],\"name\":\"ProxyDeposit\",\"type\":\"event\"}]')"
   ]
  },
  {
   "cell_type": "code",
   "execution_count": 3,
   "id": "50a35744-ebb9-4055-a532-510c7b76df5f",
   "metadata": {},
   "outputs": [],
   "source": [
    "df1 = pd.read_csv('import_file_1.csv', index_col=False, low_memory=False)\n",
    "df2 = pd.read_csv('import_file_2.csv', index_col=False, low_memory=False)\n",
    "\n",
    "frames = [df1, df2]\n",
    "df = pd.concat(frames)"
   ]
  },
  {
   "cell_type": "code",
   "execution_count": 4,
   "id": "2581a906-84be-4315-a57e-c0a8edf8cc1f",
   "metadata": {},
   "outputs": [
    {
     "name": "stdout",
     "output_type": "stream",
     "text": [
      "1856\n"
     ]
    }
   ],
   "source": [
    "df_pruned = df.drop_duplicates(subset = 'Txhash', keep = 'first')\n",
    "print(len(df_pruned))"
   ]
  },
  {
   "cell_type": "code",
   "execution_count": 6,
   "id": "5f6b7909-3b90-4214-a49f-6adac32bfad9",
   "metadata": {},
   "outputs": [
    {
     "name": "stdout",
     "output_type": "stream",
     "text": [
      "195\n",
      "1661\n",
      "2\n"
     ]
    }
   ],
   "source": [
    "deposit_transactions = df_pruned['TxTo'] == '0x00000000219ab540356cbb839cbe05303d7705fa'\n",
    "stEth_token_transactions = df_pruned['TxTo'] == '0xae7ab96520de3a18e5e111b5eaab095312d7fe84' \n",
    "df_pruned_deposit_transactions = df_pruned[deposit_transactions]\n",
    "df_pruned_stEth_token_transactions = df_pruned[stEth_token_transactions]\n",
    "zero_value_transactions = df_pruned_stEth_token_transactions['Value_IN(ETH)'] == 0\n",
    "df_pruned_zero_value_transactions = df_pruned_stEth_token_transactions[zero_value_transactions]\n",
    "print(len(df_pruned_deposit_transactions))\n",
    "print(len(df_pruned_stEth_token_transactions))\n",
    "print(len(df_pruned_zero_value_transactions))"
   ]
  },
  {
   "cell_type": "code",
   "execution_count": 284,
   "id": "9595bcc3-b081-4530-8e3e-81154c08508d",
   "metadata": {},
   "outputs": [],
   "source": [
    "df_pruned_deposit_transactions.to_csv('lido_deposits.csv', index = False)\n",
    "df_pruned_stEth_token_transactions.to_csv('lido_stEth_token_transactions.csv', index = False)"
   ]
  },
  {
   "cell_type": "code",
   "execution_count": 249,
   "id": "aadab30d-c649-4bfe-8422-616106bf81fd",
   "metadata": {},
   "outputs": [],
   "source": [
    "txn_hash_deposit_transactions = df_pruned_deposit_transactions.iloc[:, 0]\n",
    "data_list_eth2_deposits = []\n",
    "txn_hash_stEth_token_transactions = df_pruned_stEth_token_transactions.iloc[:, 0]\n",
    "data_list_stEth_token_transactions = []"
   ]
  },
  {
   "cell_type": "code",
   "execution_count": 250,
   "id": "70aafbb3-fd17-44a5-84c6-78ea4fc2e7dc",
   "metadata": {},
   "outputs": [],
   "source": [
    "for i in txn_hash_deposit_transactions:\n",
    "    #print(i)\n",
    "    data_list_eth2_deposits.append(web3.eth.get_transaction(i))"
   ]
  },
  {
   "cell_type": "code",
   "execution_count": 251,
   "id": "d401d8aa-8b92-4a64-910c-5fa00ed18014",
   "metadata": {},
   "outputs": [],
   "source": [
    "for i in txn_hash_stEth_token_transactions:\n",
    "    #print(i)\n",
    "    data_list_stEth_token_transactions.append(web3.eth.get_transaction(i))"
   ]
  },
  {
   "cell_type": "code",
   "execution_count": 285,
   "id": "38d7289f-d777-4d1a-8e49-3e7e76620333",
   "metadata": {},
   "outputs": [],
   "source": [
    "df_gas_deposits = pd.DataFrame(data_list_eth2_deposits)\n",
    "\n",
    "df_gas_stEth_toekn_transactions = pd.DataFrame(data_list_stEth_token_transactions)\n",
    "\n",
    "\n",
    "# print(df_deposit_transactions)\n",
    "# print(df_stEth_token_transactions)"
   ]
  },
  {
   "cell_type": "code",
   "execution_count": 286,
   "id": "522737df-f6e8-4512-b9e0-be45e402e84c",
   "metadata": {},
   "outputs": [],
   "source": [
    "df_gas_deposits.to_csv('lido_deposits_with_gas.csv', index = False)\n",
    "df_gas_stEth_toekn_transactions.to_csv('lido_stEth_token_transactions_with_gas.csv', index = False)"
   ]
  },
  {
   "cell_type": "code",
   "execution_count": 7,
   "id": "6c1aa7b5-0dac-4e2a-adb9-3e8c6504438c",
   "metadata": {},
   "outputs": [
    {
     "data": {
      "text/html": [
       "<div>\n",
       "<style scoped>\n",
       "    .dataframe tbody tr th:only-of-type {\n",
       "        vertical-align: middle;\n",
       "    }\n",
       "\n",
       "    .dataframe tbody tr th {\n",
       "        vertical-align: top;\n",
       "    }\n",
       "\n",
       "    .dataframe thead th {\n",
       "        text-align: right;\n",
       "    }\n",
       "</style>\n",
       "<table border=\"1\" class=\"dataframe\">\n",
       "  <thead>\n",
       "    <tr style=\"text-align: right;\">\n",
       "      <th></th>\n",
       "      <th>ParentTxFrom</th>\n",
       "      <th>ParentTxTo</th>\n",
       "      <th>TxTo</th>\n",
       "      <th>From</th>\n",
       "      <th>count</th>\n",
       "    </tr>\n",
       "  </thead>\n",
       "  <tbody>\n",
       "    <tr>\n",
       "      <th>2</th>\n",
       "      <td>0x6352f8c749954c9df198cf72976e48994a77cce2</td>\n",
       "      <td>0x1ee5c83c4b43aaed21613d5cc7835d36078ce03f</td>\n",
       "      <td>0x00000000219ab540356cbb839cbe05303d7705fa</td>\n",
       "      <td>0xae7ab96520de3a18e5e111b5eaab095312d7fe84</td>\n",
       "      <td>72</td>\n",
       "    </tr>\n",
       "    <tr>\n",
       "      <th>5</th>\n",
       "      <td>0xa76a7d0d06754e4fc4941519d1f9d56fd9f8d53b</td>\n",
       "      <td>0xae7ab96520de3a18e5e111b5eaab095312d7fe84</td>\n",
       "      <td>0x00000000219ab540356cbb839cbe05303d7705fa</td>\n",
       "      <td>0xae7ab96520de3a18e5e111b5eaab095312d7fe84</td>\n",
       "      <td>53</td>\n",
       "    </tr>\n",
       "    <tr>\n",
       "      <th>0</th>\n",
       "      <td>0x00444797ba158a7bdb8302e72da98dcbccef0fbc</td>\n",
       "      <td>0xae7ab96520de3a18e5e111b5eaab095312d7fe84</td>\n",
       "      <td>0x00000000219ab540356cbb839cbe05303d7705fa</td>\n",
       "      <td>0xae7ab96520de3a18e5e111b5eaab095312d7fe84</td>\n",
       "      <td>36</td>\n",
       "    </tr>\n",
       "    <tr>\n",
       "      <th>1</th>\n",
       "      <td>0x073adf97f6de257d76e67f7c2fe57ac9843cca25</td>\n",
       "      <td>0xae7ab96520de3a18e5e111b5eaab095312d7fe84</td>\n",
       "      <td>0x00000000219ab540356cbb839cbe05303d7705fa</td>\n",
       "      <td>0xae7ab96520de3a18e5e111b5eaab095312d7fe84</td>\n",
       "      <td>25</td>\n",
       "    </tr>\n",
       "    <tr>\n",
       "      <th>6</th>\n",
       "      <td>0xc8381ca290c198f5ab739a1841ce8aedb0b330d5</td>\n",
       "      <td>0xae7ab96520de3a18e5e111b5eaab095312d7fe84</td>\n",
       "      <td>0x00000000219ab540356cbb839cbe05303d7705fa</td>\n",
       "      <td>0xae7ab96520de3a18e5e111b5eaab095312d7fe84</td>\n",
       "      <td>5</td>\n",
       "    </tr>\n",
       "    <tr>\n",
       "      <th>3</th>\n",
       "      <td>0x6e34e47df7026e0ace9457f930f1cfada6f547c4</td>\n",
       "      <td>0x1ee5c83c4b43aaed21613d5cc7835d36078ce03f</td>\n",
       "      <td>0x00000000219ab540356cbb839cbe05303d7705fa</td>\n",
       "      <td>0xae7ab96520de3a18e5e111b5eaab095312d7fe84</td>\n",
       "      <td>3</td>\n",
       "    </tr>\n",
       "    <tr>\n",
       "      <th>4</th>\n",
       "      <td>0x99b2c5d50086b02f83e791633c5660fbb8344653</td>\n",
       "      <td>0x1ee5c83c4b43aaed21613d5cc7835d36078ce03f</td>\n",
       "      <td>0x00000000219ab540356cbb839cbe05303d7705fa</td>\n",
       "      <td>0xae7ab96520de3a18e5e111b5eaab095312d7fe84</td>\n",
       "      <td>1</td>\n",
       "    </tr>\n",
       "  </tbody>\n",
       "</table>\n",
       "</div>"
      ],
      "text/plain": [
       "                                 ParentTxFrom  \\\n",
       "2  0x6352f8c749954c9df198cf72976e48994a77cce2   \n",
       "5  0xa76a7d0d06754e4fc4941519d1f9d56fd9f8d53b   \n",
       "0  0x00444797ba158a7bdb8302e72da98dcbccef0fbc   \n",
       "1  0x073adf97f6de257d76e67f7c2fe57ac9843cca25   \n",
       "6  0xc8381ca290c198f5ab739a1841ce8aedb0b330d5   \n",
       "3  0x6e34e47df7026e0ace9457f930f1cfada6f547c4   \n",
       "4  0x99b2c5d50086b02f83e791633c5660fbb8344653   \n",
       "\n",
       "                                   ParentTxTo  \\\n",
       "2  0x1ee5c83c4b43aaed21613d5cc7835d36078ce03f   \n",
       "5  0xae7ab96520de3a18e5e111b5eaab095312d7fe84   \n",
       "0  0xae7ab96520de3a18e5e111b5eaab095312d7fe84   \n",
       "1  0xae7ab96520de3a18e5e111b5eaab095312d7fe84   \n",
       "6  0xae7ab96520de3a18e5e111b5eaab095312d7fe84   \n",
       "3  0x1ee5c83c4b43aaed21613d5cc7835d36078ce03f   \n",
       "4  0x1ee5c83c4b43aaed21613d5cc7835d36078ce03f   \n",
       "\n",
       "                                         TxTo  \\\n",
       "2  0x00000000219ab540356cbb839cbe05303d7705fa   \n",
       "5  0x00000000219ab540356cbb839cbe05303d7705fa   \n",
       "0  0x00000000219ab540356cbb839cbe05303d7705fa   \n",
       "1  0x00000000219ab540356cbb839cbe05303d7705fa   \n",
       "6  0x00000000219ab540356cbb839cbe05303d7705fa   \n",
       "3  0x00000000219ab540356cbb839cbe05303d7705fa   \n",
       "4  0x00000000219ab540356cbb839cbe05303d7705fa   \n",
       "\n",
       "                                         From  count  \n",
       "2  0xae7ab96520de3a18e5e111b5eaab095312d7fe84     72  \n",
       "5  0xae7ab96520de3a18e5e111b5eaab095312d7fe84     53  \n",
       "0  0xae7ab96520de3a18e5e111b5eaab095312d7fe84     36  \n",
       "1  0xae7ab96520de3a18e5e111b5eaab095312d7fe84     25  \n",
       "6  0xae7ab96520de3a18e5e111b5eaab095312d7fe84      5  \n",
       "3  0xae7ab96520de3a18e5e111b5eaab095312d7fe84      3  \n",
       "4  0xae7ab96520de3a18e5e111b5eaab095312d7fe84      1  "
      ]
     },
     "execution_count": 7,
     "metadata": {},
     "output_type": "execute_result"
    }
   ],
   "source": [
    "df_deposit_transactions_pairs = df_pruned_deposit_transactions.groupby(['ParentTxFrom','ParentTxTo', 'TxTo', 'From']).size().reset_index().rename(columns={0:'count'})\n",
    "df_deposit_transactions_pairs.sort_values([\"count\"], ascending=False)"
   ]
  },
  {
   "cell_type": "code",
   "execution_count": 12,
   "id": "ffaa3bb0-f61f-416f-86ca-ff3d5f16576f",
   "metadata": {},
   "outputs": [
    {
     "data": {
      "text/html": [
       "<div>\n",
       "<style scoped>\n",
       "    .dataframe tbody tr th:only-of-type {\n",
       "        vertical-align: middle;\n",
       "    }\n",
       "\n",
       "    .dataframe tbody tr th {\n",
       "        vertical-align: top;\n",
       "    }\n",
       "\n",
       "    .dataframe thead th {\n",
       "        text-align: right;\n",
       "    }\n",
       "</style>\n",
       "<table border=\"1\" class=\"dataframe\">\n",
       "  <thead>\n",
       "    <tr style=\"text-align: right;\">\n",
       "      <th></th>\n",
       "      <th>blockHash</th>\n",
       "      <th>blockNumber</th>\n",
       "      <th>from</th>\n",
       "      <th>gas</th>\n",
       "      <th>gasPrice</th>\n",
       "      <th>hash</th>\n",
       "      <th>input</th>\n",
       "      <th>nonce</th>\n",
       "      <th>r</th>\n",
       "      <th>s</th>\n",
       "      <th>to</th>\n",
       "      <th>transactionIndex</th>\n",
       "      <th>type</th>\n",
       "      <th>v</th>\n",
       "      <th>value</th>\n",
       "    </tr>\n",
       "  </thead>\n",
       "  <tbody>\n",
       "    <tr>\n",
       "      <th>0</th>\n",
       "      <td>b'\\xb9!6\\x92\\x0e.L\\x1c\\xc3\\xbc\\x06\\xccL\\x9e\\xd...</td>\n",
       "      <td>12514976</td>\n",
       "      <td>0xA76a7D0d06754e4fC4941519D1F9d56fD9f8d53B</td>\n",
       "      <td>10000000</td>\n",
       "      <td>26000000000</td>\n",
       "      <td>b\"\\xf7`\\xb5;Z?\\xafM\\x82m;'\\xb2\\xefZ\\x8e\\x9fuL\\...</td>\n",
       "      <td>0x90adc83b000000000000000000000000000000000000...</td>\n",
       "      <td>2</td>\n",
       "      <td>b'\\x8f\\x87\\x93\\x03\\x0b\\xa9\\xa9\\x90\\x8d+\\xb1R\\x...</td>\n",
       "      <td>b'\\\\\\xda\\xb7(*Z\\xb1\\xbd\\xff\\xacl\\xf6\\xd0X`\\x04...</td>\n",
       "      <td>0xae7ab96520DE3A18E5e111B5EaAb095312D7fE84</td>\n",
       "      <td>35</td>\n",
       "      <td>0x0</td>\n",
       "      <td>37</td>\n",
       "      <td>0</td>\n",
       "    </tr>\n",
       "    <tr>\n",
       "      <th>1</th>\n",
       "      <td>b'Y\\x19\\xeb\\xa3$\\xe1\\xa5\\xd9\\xed\\xca\\x04W\\xb2p...</td>\n",
       "      <td>12515306</td>\n",
       "      <td>0xA76a7D0d06754e4fC4941519D1F9d56fD9f8d53B</td>\n",
       "      <td>10000000</td>\n",
       "      <td>28600001604</td>\n",
       "      <td>b'7\\x14\\x17.\\xc2\\xf0\\xb9\\xc3q\\xe2\\x08\\xa9T\\x8c...</td>\n",
       "      <td>0x90adc83b000000000000000000000000000000000000...</td>\n",
       "      <td>3</td>\n",
       "      <td>b'\\xce\\xaf\\x83/\\x81\\xc9\\x86\\xa1\\x830\\x14 \\x19D...</td>\n",
       "      <td>b'Y\\xc2\\x0e\\x17D0cqB\\xc7\\xe1\\x14\\xa71\\xb3\\xa9/...</td>\n",
       "      <td>0xae7ab96520DE3A18E5e111B5EaAb095312D7fE84</td>\n",
       "      <td>11</td>\n",
       "      <td>0x0</td>\n",
       "      <td>38</td>\n",
       "      <td>0</td>\n",
       "    </tr>\n",
       "    <tr>\n",
       "      <th>2</th>\n",
       "      <td>b'\\x15X\\xc6T456\\xe3+I\\xfa\\x9e\\x0eo\\xa5SABZ\\xf3...</td>\n",
       "      <td>12516727</td>\n",
       "      <td>0xA76a7D0d06754e4fC4941519D1F9d56fD9f8d53B</td>\n",
       "      <td>10000000</td>\n",
       "      <td>35970000000</td>\n",
       "      <td>b'c\\x87\\x80\\xfc\\x97\\x9c\\xab\\xd8\\xd3\\xabM\\xc1\\x...</td>\n",
       "      <td>0x90adc83b000000000000000000000000000000000000...</td>\n",
       "      <td>4</td>\n",
       "      <td>b'\\xd1\\x9b\\xc7{`S\\xc5\\xbaF[\\xbdw\\xd0D\\xae\\xaaI...</td>\n",
       "      <td>b'r\\x1e\\x90\\xe5P2\\x86.\\x8dg2\\xc7a\\xcc\\xf4\\x93\\...</td>\n",
       "      <td>0xae7ab96520DE3A18E5e111B5EaAb095312D7fE84</td>\n",
       "      <td>31</td>\n",
       "      <td>0x0</td>\n",
       "      <td>38</td>\n",
       "      <td>0</td>\n",
       "    </tr>\n",
       "    <tr>\n",
       "      <th>3</th>\n",
       "      <td>b'`X\\xfd\\x02\\x08@\\x14i4\\xaea\\xb4/:I\\xe3rL%\\xad...</td>\n",
       "      <td>12517352</td>\n",
       "      <td>0xA76a7D0d06754e4fC4941519D1F9d56fD9f8d53B</td>\n",
       "      <td>10000000</td>\n",
       "      <td>33033000000</td>\n",
       "      <td>b'\\xd1\\xd2\\x1b\\x94\\x15c\\xac\\xf0\\x06(h\\xe7\\xf8\\...</td>\n",
       "      <td>0x90adc83b000000000000000000000000000000000000...</td>\n",
       "      <td>5</td>\n",
       "      <td>b'\\xba\\xa6\\xc1=9\\xcc\\x16\\xc3\\xd6}\\xf2\\xb11K\\xe...</td>\n",
       "      <td>b'Gr\\xca\\xd8Du8\\x1b\\x1a\\x97&lt;\\xd6\\xa9\\x08\\x90r1...</td>\n",
       "      <td>0xae7ab96520DE3A18E5e111B5EaAb095312D7fE84</td>\n",
       "      <td>30</td>\n",
       "      <td>0x0</td>\n",
       "      <td>38</td>\n",
       "      <td>0</td>\n",
       "    </tr>\n",
       "    <tr>\n",
       "      <th>4</th>\n",
       "      <td>b'\\xd42\\xa4\\x87E\\x8c\\xbe!\\x15r\\xe1\\x1f\\x1b\\x16...</td>\n",
       "      <td>12517524</td>\n",
       "      <td>0xA76a7D0d06754e4fC4941519D1F9d56fD9f8d53B</td>\n",
       "      <td>10000000</td>\n",
       "      <td>33000000000</td>\n",
       "      <td>b\"\\xab\\xc0\\xad\\xff%\\x98\\xf1'\\x9cN'\\xe6RB\\xad\\x...</td>\n",
       "      <td>0x90adc83b000000000000000000000000000000000000...</td>\n",
       "      <td>6</td>\n",
       "      <td>b'KXA\\x93\\xb8\\x9a\\xde`~@\\x8b\\x19j$t%\\xe1\\xaf\\x...</td>\n",
       "      <td>b'2&amp;\\x97\\x17\\xf2vC\\xab\\x96;\\xbf\\xb7,Bl#\\x9c\\xb...</td>\n",
       "      <td>0xae7ab96520DE3A18E5e111B5EaAb095312D7fE84</td>\n",
       "      <td>54</td>\n",
       "      <td>0x0</td>\n",
       "      <td>38</td>\n",
       "      <td>0</td>\n",
       "    </tr>\n",
       "    <tr>\n",
       "      <th>...</th>\n",
       "      <td>...</td>\n",
       "      <td>...</td>\n",
       "      <td>...</td>\n",
       "      <td>...</td>\n",
       "      <td>...</td>\n",
       "      <td>...</td>\n",
       "      <td>...</td>\n",
       "      <td>...</td>\n",
       "      <td>...</td>\n",
       "      <td>...</td>\n",
       "      <td>...</td>\n",
       "      <td>...</td>\n",
       "      <td>...</td>\n",
       "      <td>...</td>\n",
       "      <td>...</td>\n",
       "    </tr>\n",
       "    <tr>\n",
       "      <th>190</th>\n",
       "      <td>b'\\xb1\\xa1\\xd8\\xf1`\\xf8\\xb5\\xc0Vv\\x90.?\\x86\\x0...</td>\n",
       "      <td>12493144</td>\n",
       "      <td>0x00444797Ba158A7BdB8302e72da98dCbCCef0Fbc</td>\n",
       "      <td>12880275</td>\n",
       "      <td>54000000000</td>\n",
       "      <td>b'&amp;\\x1dj_&lt;\\xd5\\xe4\\xf2M\\x95Z\\xa434a\\x95\\x06y\\x...</td>\n",
       "      <td>0x90adc83b000000000000000000000000000000000000...</td>\n",
       "      <td>210</td>\n",
       "      <td>b'q`\\xbapsi\\xf7\\xb0B6i\\x92\\x14\\xd2\\xdd\\x96\\xb1...</td>\n",
       "      <td>b'h\\xa9\\x82\\x1d!\\xed\\xff\\x83\\xa1\\x00\\x828LU\\xe...</td>\n",
       "      <td>0xae7ab96520DE3A18E5e111B5EaAb095312D7fE84</td>\n",
       "      <td>29</td>\n",
       "      <td>0x0</td>\n",
       "      <td>37</td>\n",
       "      <td>0</td>\n",
       "    </tr>\n",
       "    <tr>\n",
       "      <th>191</th>\n",
       "      <td>b\"F\\xb3G\\xf9'\\xcb\\x15s\\xf1\\x80\\xd3\\x1a\\n\\x9b\\x...</td>\n",
       "      <td>12493180</td>\n",
       "      <td>0x00444797Ba158A7BdB8302e72da98dCbCCef0Fbc</td>\n",
       "      <td>12880275</td>\n",
       "      <td>46000000000</td>\n",
       "      <td>b'\\x0c\\xf9\\xd4\\r\\x90\\x87lu\\xdc^\\xfe\\x19\\x0c\\x8...</td>\n",
       "      <td>0x90adc83b000000000000000000000000000000000000...</td>\n",
       "      <td>211</td>\n",
       "      <td>b'\\xb1\\xf5\\xd7\\xac-\\xf2\\x17\\xd9\\xc7\\xa2\\xeaZ\\x...</td>\n",
       "      <td>b'l\\x8e\\x19\\xb8\\x86\\xd9\\xd0\\x08D\\xa6v\\x9a\\x9f\\...</td>\n",
       "      <td>0xae7ab96520DE3A18E5e111B5EaAb095312D7fE84</td>\n",
       "      <td>18</td>\n",
       "      <td>0x0</td>\n",
       "      <td>38</td>\n",
       "      <td>0</td>\n",
       "    </tr>\n",
       "    <tr>\n",
       "      <th>192</th>\n",
       "      <td>b'\\xb8A\\xb1m\\x10S\\xa9\\xd7\\xed\\xaa?\\x81\\x99\\xe0...</td>\n",
       "      <td>12493515</td>\n",
       "      <td>0x00444797Ba158A7BdB8302e72da98dCbCCef0Fbc</td>\n",
       "      <td>12880275</td>\n",
       "      <td>46000000000</td>\n",
       "      <td>b'\\r\\xd7,0\\xa1\\xfbSh[\\xbf}\\xfcE\\xa9\\xab\\xd0\\xa...</td>\n",
       "      <td>0x90adc83b000000000000000000000000000000000000...</td>\n",
       "      <td>212</td>\n",
       "      <td>b\"\\x8e'\\xb3d\\xb7$\\xb3\\\\Y\\xb0v\\x06\\n\\xe8O \\xac\\...</td>\n",
       "      <td>b'?\\xc4\\x14\\xb6\\t\\x944G\\xbd\\xca\"F\\xbe\\xc8\\xa2n...</td>\n",
       "      <td>0xae7ab96520DE3A18E5e111B5EaAb095312D7fE84</td>\n",
       "      <td>11</td>\n",
       "      <td>0x0</td>\n",
       "      <td>38</td>\n",
       "      <td>0</td>\n",
       "    </tr>\n",
       "    <tr>\n",
       "      <th>193</th>\n",
       "      <td>b'\\xa6P+_-{O\\x9e\\xa8\\xd8o\\xb6\\x17\\x8e(\\xcb*^\\x...</td>\n",
       "      <td>12494668</td>\n",
       "      <td>0x00444797Ba158A7BdB8302e72da98dCbCCef0Fbc</td>\n",
       "      <td>12956874</td>\n",
       "      <td>37000000000</td>\n",
       "      <td>b'y\\xafP\\x87c\\x88|\\xa3\\xf7\\xe3\\x08\\xe80\\xfey\\x...</td>\n",
       "      <td>0x90adc83b000000000000000000000000000000000000...</td>\n",
       "      <td>213</td>\n",
       "      <td>b'%N\\xbf\\xefRj\\x16j`\\x8e*\\xa11!@\\xf8\\xaa\\xf9\\x...</td>\n",
       "      <td>b'a\\xa6\\xfea\\xf41J*A\\xfe\\x08\"\\xf0\\x15\\x89\\xd9\\...</td>\n",
       "      <td>0xae7ab96520DE3A18E5e111B5EaAb095312D7fE84</td>\n",
       "      <td>18</td>\n",
       "      <td>0x0</td>\n",
       "      <td>37</td>\n",
       "      <td>0</td>\n",
       "    </tr>\n",
       "    <tr>\n",
       "      <th>194</th>\n",
       "      <td>b'{\\x98\\x85\\xa7K\\xaa\\xf4\\xe03\\xbb\\x85y9@]\\xd4|...</td>\n",
       "      <td>12505193</td>\n",
       "      <td>0xA76a7D0d06754e4fC4941519D1F9d56fD9f8d53B</td>\n",
       "      <td>10000000</td>\n",
       "      <td>39600000000</td>\n",
       "      <td>b'\\xfa\\x06\\xe0\\x16\\xbf\\x82\\nq\\xc1\\xa0\\xad~F\\xa...</td>\n",
       "      <td>0x90adc83b000000000000000000000000000000000000...</td>\n",
       "      <td>0</td>\n",
       "      <td>b'M\\xea\\x8a\\xc6\\xd9\\xc2\\x10\\xdb\\xb5\\xe3\\xc7\\xc...</td>\n",
       "      <td>b'\\x18\\\\ Hs|\\xaf\\xf0\\xf3\\xce\\xbb\\xe6@\\xa1tS\\x0...</td>\n",
       "      <td>0xae7ab96520DE3A18E5e111B5EaAb095312D7fE84</td>\n",
       "      <td>31</td>\n",
       "      <td>0x0</td>\n",
       "      <td>38</td>\n",
       "      <td>0</td>\n",
       "    </tr>\n",
       "  </tbody>\n",
       "</table>\n",
       "<p>195 rows × 15 columns</p>\n",
       "</div>"
      ],
      "text/plain": [
       "                                             blockHash  blockNumber  \\\n",
       "0    b'\\xb9!6\\x92\\x0e.L\\x1c\\xc3\\xbc\\x06\\xccL\\x9e\\xd...     12514976   \n",
       "1    b'Y\\x19\\xeb\\xa3$\\xe1\\xa5\\xd9\\xed\\xca\\x04W\\xb2p...     12515306   \n",
       "2    b'\\x15X\\xc6T456\\xe3+I\\xfa\\x9e\\x0eo\\xa5SABZ\\xf3...     12516727   \n",
       "3    b'`X\\xfd\\x02\\x08@\\x14i4\\xaea\\xb4/:I\\xe3rL%\\xad...     12517352   \n",
       "4    b'\\xd42\\xa4\\x87E\\x8c\\xbe!\\x15r\\xe1\\x1f\\x1b\\x16...     12517524   \n",
       "..                                                 ...          ...   \n",
       "190  b'\\xb1\\xa1\\xd8\\xf1`\\xf8\\xb5\\xc0Vv\\x90.?\\x86\\x0...     12493144   \n",
       "191  b\"F\\xb3G\\xf9'\\xcb\\x15s\\xf1\\x80\\xd3\\x1a\\n\\x9b\\x...     12493180   \n",
       "192  b'\\xb8A\\xb1m\\x10S\\xa9\\xd7\\xed\\xaa?\\x81\\x99\\xe0...     12493515   \n",
       "193  b'\\xa6P+_-{O\\x9e\\xa8\\xd8o\\xb6\\x17\\x8e(\\xcb*^\\x...     12494668   \n",
       "194  b'{\\x98\\x85\\xa7K\\xaa\\xf4\\xe03\\xbb\\x85y9@]\\xd4|...     12505193   \n",
       "\n",
       "                                           from       gas     gasPrice  \\\n",
       "0    0xA76a7D0d06754e4fC4941519D1F9d56fD9f8d53B  10000000  26000000000   \n",
       "1    0xA76a7D0d06754e4fC4941519D1F9d56fD9f8d53B  10000000  28600001604   \n",
       "2    0xA76a7D0d06754e4fC4941519D1F9d56fD9f8d53B  10000000  35970000000   \n",
       "3    0xA76a7D0d06754e4fC4941519D1F9d56fD9f8d53B  10000000  33033000000   \n",
       "4    0xA76a7D0d06754e4fC4941519D1F9d56fD9f8d53B  10000000  33000000000   \n",
       "..                                          ...       ...          ...   \n",
       "190  0x00444797Ba158A7BdB8302e72da98dCbCCef0Fbc  12880275  54000000000   \n",
       "191  0x00444797Ba158A7BdB8302e72da98dCbCCef0Fbc  12880275  46000000000   \n",
       "192  0x00444797Ba158A7BdB8302e72da98dCbCCef0Fbc  12880275  46000000000   \n",
       "193  0x00444797Ba158A7BdB8302e72da98dCbCCef0Fbc  12956874  37000000000   \n",
       "194  0xA76a7D0d06754e4fC4941519D1F9d56fD9f8d53B  10000000  39600000000   \n",
       "\n",
       "                                                  hash  \\\n",
       "0    b\"\\xf7`\\xb5;Z?\\xafM\\x82m;'\\xb2\\xefZ\\x8e\\x9fuL\\...   \n",
       "1    b'7\\x14\\x17.\\xc2\\xf0\\xb9\\xc3q\\xe2\\x08\\xa9T\\x8c...   \n",
       "2    b'c\\x87\\x80\\xfc\\x97\\x9c\\xab\\xd8\\xd3\\xabM\\xc1\\x...   \n",
       "3    b'\\xd1\\xd2\\x1b\\x94\\x15c\\xac\\xf0\\x06(h\\xe7\\xf8\\...   \n",
       "4    b\"\\xab\\xc0\\xad\\xff%\\x98\\xf1'\\x9cN'\\xe6RB\\xad\\x...   \n",
       "..                                                 ...   \n",
       "190  b'&\\x1dj_<\\xd5\\xe4\\xf2M\\x95Z\\xa434a\\x95\\x06y\\x...   \n",
       "191  b'\\x0c\\xf9\\xd4\\r\\x90\\x87lu\\xdc^\\xfe\\x19\\x0c\\x8...   \n",
       "192  b'\\r\\xd7,0\\xa1\\xfbSh[\\xbf}\\xfcE\\xa9\\xab\\xd0\\xa...   \n",
       "193  b'y\\xafP\\x87c\\x88|\\xa3\\xf7\\xe3\\x08\\xe80\\xfey\\x...   \n",
       "194  b'\\xfa\\x06\\xe0\\x16\\xbf\\x82\\nq\\xc1\\xa0\\xad~F\\xa...   \n",
       "\n",
       "                                                 input  nonce  \\\n",
       "0    0x90adc83b000000000000000000000000000000000000...      2   \n",
       "1    0x90adc83b000000000000000000000000000000000000...      3   \n",
       "2    0x90adc83b000000000000000000000000000000000000...      4   \n",
       "3    0x90adc83b000000000000000000000000000000000000...      5   \n",
       "4    0x90adc83b000000000000000000000000000000000000...      6   \n",
       "..                                                 ...    ...   \n",
       "190  0x90adc83b000000000000000000000000000000000000...    210   \n",
       "191  0x90adc83b000000000000000000000000000000000000...    211   \n",
       "192  0x90adc83b000000000000000000000000000000000000...    212   \n",
       "193  0x90adc83b000000000000000000000000000000000000...    213   \n",
       "194  0x90adc83b000000000000000000000000000000000000...      0   \n",
       "\n",
       "                                                     r  \\\n",
       "0    b'\\x8f\\x87\\x93\\x03\\x0b\\xa9\\xa9\\x90\\x8d+\\xb1R\\x...   \n",
       "1    b'\\xce\\xaf\\x83/\\x81\\xc9\\x86\\xa1\\x830\\x14 \\x19D...   \n",
       "2    b'\\xd1\\x9b\\xc7{`S\\xc5\\xbaF[\\xbdw\\xd0D\\xae\\xaaI...   \n",
       "3    b'\\xba\\xa6\\xc1=9\\xcc\\x16\\xc3\\xd6}\\xf2\\xb11K\\xe...   \n",
       "4    b'KXA\\x93\\xb8\\x9a\\xde`~@\\x8b\\x19j$t%\\xe1\\xaf\\x...   \n",
       "..                                                 ...   \n",
       "190  b'q`\\xbapsi\\xf7\\xb0B6i\\x92\\x14\\xd2\\xdd\\x96\\xb1...   \n",
       "191  b'\\xb1\\xf5\\xd7\\xac-\\xf2\\x17\\xd9\\xc7\\xa2\\xeaZ\\x...   \n",
       "192  b\"\\x8e'\\xb3d\\xb7$\\xb3\\\\Y\\xb0v\\x06\\n\\xe8O \\xac\\...   \n",
       "193  b'%N\\xbf\\xefRj\\x16j`\\x8e*\\xa11!@\\xf8\\xaa\\xf9\\x...   \n",
       "194  b'M\\xea\\x8a\\xc6\\xd9\\xc2\\x10\\xdb\\xb5\\xe3\\xc7\\xc...   \n",
       "\n",
       "                                                     s  \\\n",
       "0    b'\\\\\\xda\\xb7(*Z\\xb1\\xbd\\xff\\xacl\\xf6\\xd0X`\\x04...   \n",
       "1    b'Y\\xc2\\x0e\\x17D0cqB\\xc7\\xe1\\x14\\xa71\\xb3\\xa9/...   \n",
       "2    b'r\\x1e\\x90\\xe5P2\\x86.\\x8dg2\\xc7a\\xcc\\xf4\\x93\\...   \n",
       "3    b'Gr\\xca\\xd8Du8\\x1b\\x1a\\x97<\\xd6\\xa9\\x08\\x90r1...   \n",
       "4    b'2&\\x97\\x17\\xf2vC\\xab\\x96;\\xbf\\xb7,Bl#\\x9c\\xb...   \n",
       "..                                                 ...   \n",
       "190  b'h\\xa9\\x82\\x1d!\\xed\\xff\\x83\\xa1\\x00\\x828LU\\xe...   \n",
       "191  b'l\\x8e\\x19\\xb8\\x86\\xd9\\xd0\\x08D\\xa6v\\x9a\\x9f\\...   \n",
       "192  b'?\\xc4\\x14\\xb6\\t\\x944G\\xbd\\xca\"F\\xbe\\xc8\\xa2n...   \n",
       "193  b'a\\xa6\\xfea\\xf41J*A\\xfe\\x08\"\\xf0\\x15\\x89\\xd9\\...   \n",
       "194  b'\\x18\\\\ Hs|\\xaf\\xf0\\xf3\\xce\\xbb\\xe6@\\xa1tS\\x0...   \n",
       "\n",
       "                                             to  transactionIndex type   v  \\\n",
       "0    0xae7ab96520DE3A18E5e111B5EaAb095312D7fE84                35  0x0  37   \n",
       "1    0xae7ab96520DE3A18E5e111B5EaAb095312D7fE84                11  0x0  38   \n",
       "2    0xae7ab96520DE3A18E5e111B5EaAb095312D7fE84                31  0x0  38   \n",
       "3    0xae7ab96520DE3A18E5e111B5EaAb095312D7fE84                30  0x0  38   \n",
       "4    0xae7ab96520DE3A18E5e111B5EaAb095312D7fE84                54  0x0  38   \n",
       "..                                          ...               ...  ...  ..   \n",
       "190  0xae7ab96520DE3A18E5e111B5EaAb095312D7fE84                29  0x0  37   \n",
       "191  0xae7ab96520DE3A18E5e111B5EaAb095312D7fE84                18  0x0  38   \n",
       "192  0xae7ab96520DE3A18E5e111B5EaAb095312D7fE84                11  0x0  38   \n",
       "193  0xae7ab96520DE3A18E5e111B5EaAb095312D7fE84                18  0x0  37   \n",
       "194  0xae7ab96520DE3A18E5e111B5EaAb095312D7fE84                31  0x0  38   \n",
       "\n",
       "     value  \n",
       "0        0  \n",
       "1        0  \n",
       "2        0  \n",
       "3        0  \n",
       "4        0  \n",
       "..     ...  \n",
       "190      0  \n",
       "191      0  \n",
       "192      0  \n",
       "193      0  \n",
       "194      0  \n",
       "\n",
       "[195 rows x 15 columns]"
      ]
     },
     "execution_count": 12,
     "metadata": {},
     "output_type": "execute_result"
    }
   ],
   "source": [
    "df_lido_deposits_with_gas = pd.read_csv(\"lido_deposits_with_gas.csv\") \n",
    "df_lido_deposits_with_gas"
   ]
  },
  {
   "cell_type": "code",
   "execution_count": 36,
   "id": "c03a1c69-0888-4636-a0a5-b23d1fafd1ac",
   "metadata": {},
   "outputs": [
    {
     "data": {
      "application/vnd.plotly.v1+json": {
       "config": {
        "plotlyServerURL": "https://plot.ly"
       },
       "data": [
        {
         "hovertemplate": "x=%{x}<br>y=%{y}<extra></extra>",
         "legendgroup": "",
         "marker": {
          "color": "#636efa",
          "symbol": "circle"
         },
         "mode": "markers",
         "name": "",
         "orientation": "h",
         "showlegend": false,
         "type": "scatter",
         "x": [
          12514976,
          12515306,
          12516727,
          12517352,
          12517524,
          12517746,
          12517857,
          12522725,
          12530222,
          12535183,
          12537970,
          12541896,
          12542184,
          12560402,
          12568330,
          12589458,
          12593272,
          12594049,
          12599021,
          12612902,
          12619327,
          12627738,
          12627747,
          12627791,
          12627808,
          12627823,
          12629393,
          12630253,
          12631425,
          12633750,
          12635001,
          12636494,
          12640421,
          12640771,
          12641188,
          12646579,
          12651166,
          12651187,
          12651198,
          12651619,
          12656878,
          12658076,
          12659798,
          12661539,
          12663318,
          12663331,
          12665106,
          12666625,
          12678926,
          12682334,
          12704475,
          12706908,
          12708437,
          12728520,
          12730249,
          12730849,
          12731645,
          12384044,
          12384072,
          12384383,
          12384396,
          12384398,
          12384400,
          12384402,
          12384403,
          12385995,
          12386880,
          12386882,
          12387316,
          12387342,
          12387344,
          12387371,
          12387372,
          12387374,
          12387375,
          12387385,
          12387390,
          12387398,
          12387406,
          12387420,
          12387422,
          12387433,
          12387435,
          12387443,
          12387444,
          12387476,
          12387508,
          12387510,
          12387512,
          12387513,
          12387514,
          12388492,
          12389289,
          12389971,
          12391367,
          12391624,
          12391836,
          12391838,
          12391841,
          12391843,
          12391845,
          12391846,
          12391847,
          12391850,
          12391854,
          12391856,
          12391858,
          12391860,
          12391861,
          12391863,
          12391871,
          12392372,
          12392870,
          12393238,
          12393536,
          12394503,
          12395786,
          12396380,
          12396760,
          12396761,
          12396762,
          12396763,
          12396765,
          12398869,
          12400132,
          12404471,
          12408479,
          12408931,
          12410411,
          12414099,
          12418020,
          12439643,
          12439658,
          12439663,
          12439691,
          12439739,
          12439739,
          12439747,
          12439747,
          12439754,
          12439765,
          12439769,
          12439774,
          12439774,
          12439774,
          12442533,
          12444940,
          12445008,
          12445008,
          12451542,
          12451543,
          12451552,
          12463717,
          12483514,
          12483521,
          12483543,
          12483556,
          12483573,
          12483593,
          12483686,
          12483744,
          12483744,
          12483773,
          12483828,
          12483874,
          12483889,
          12484025,
          12484027,
          12484027,
          12484029,
          12484029,
          12485049,
          12485085,
          12485100,
          12485102,
          12485113,
          12485113,
          12485116,
          12485116,
          12485117,
          12485123,
          12485124,
          12485131,
          12485131,
          12485133,
          12485133,
          12485156,
          12492828,
          12492896,
          12493116,
          12493144,
          12493180,
          12493515,
          12494668,
          12505193
         ],
         "xaxis": "x",
         "y": [
          2.6e-08,
          2.8600001604e-08,
          3.597e-08,
          3.3033e-08,
          3.3e-08,
          3.003e-08,
          2.9700000001e-08,
          3e-08,
          3.52e-08,
          1.70017e-08,
          1.7000001347e-08,
          1.5e-08,
          1.87e-08,
          2.3e-08,
          2.256e-08,
          1.01e-08,
          1e-08,
          1.2e-08,
          1.43e-08,
          8.8e-09,
          8e-09,
          1e-08,
          9.9e-09,
          8e-09,
          8e-09,
          7.7e-09,
          8e-09,
          1e-08,
          1e-08,
          2.95e-08,
          2.53e-08,
          1.2000001123e-08,
          2.1776079709e-08,
          2.5e-08,
          1.5e-08,
          2.3e-08,
          1.3e-08,
          1.2000001459e-08,
          1.3e-08,
          8e-09,
          1.0300001502e-08,
          1.2e-08,
          1.1e-08,
          7.7e-09,
          9.9e-09,
          1e-08,
          1.05e-08,
          1.437e-08,
          4.909653e-08,
          1.40928e-08,
          5.3e-08,
          1e-08,
          1.6e-08,
          1.3e-08,
          2e-08,
          2e-08,
          1.4e-08,
          5.24e-08,
          5.052e-08,
          5.912e-08,
          5.675e-08,
          5.775e-08,
          5.895e-08,
          5.74e-08,
          5.86e-08,
          5.84e-08,
          5.2230000656e-08,
          5.0580000292e-08,
          6.86e-08,
          6.35e-08,
          6.39e-08,
          6.2960000291e-08,
          6.0960000583e-08,
          5.7360000583e-08,
          5.7000000583e-08,
          5.6580000291e-08,
          5.93e-08,
          6.4000000583e-08,
          6.28000007e-08,
          6.3040000583e-08,
          6.3400000583e-08,
          6.3960000671e-08,
          6.2800000583e-08,
          6.1034340583e-08,
          6.0234340875e-08,
          5.9814340583e-08,
          7.6473400388e-08,
          7.8800000764e-08,
          7.6494001117e-08,
          7.2988000997e-08,
          7.3188000705e-08,
          9.96e-08,
          6.054e-08,
          5.94e-08,
          5.1440000046e-08,
          5.1520000291e-08,
          6.45e-08,
          6.344e-08,
          6.132e-08,
          6.152e-08,
          6.360000016e-08,
          6.274000016e-08,
          6.344000016e-08,
          6.344000016e-08,
          6.3180000247e-08,
          6.2907000247e-08,
          6.4117000364e-08,
          6.4294000364e-08,
          6.368402e-08,
          6.346402e-08,
          6.2340000612e-08,
          1.332e-07,
          1.02402092069e-07,
          6.1625000364e-08,
          6.1040000338e-08,
          1.9478e-07,
          1.69924e-07,
          1.85e-07,
          1.4303e-07,
          1.8858e-07,
          1.8838e-07,
          1.9198e-07,
          1.53475e-07,
          1.055e-07,
          9.3500000001e-08,
          1.35000000001e-07,
          3.2799e-07,
          3.85186e-07,
          3.3414e-07,
          3.04900000156e-07,
          2.2052e-07,
          8.7e-08,
          8.9e-08,
          9.4e-08,
          8.1e-08,
          8.4e-08,
          8.3e-08,
          8.4e-08,
          8.2e-08,
          8.3e-08,
          8.5e-08,
          8.3e-08,
          8e-08,
          8.1e-08,
          8.7e-08,
          5.82e-08,
          4.4e-08,
          4.62e-08,
          5.2e-08,
          5.5e-08,
          5.4e-08,
          5.5e-08,
          1e-07,
          4e-08,
          4e-08,
          4e-08,
          3.2e-08,
          3.3e-08,
          3.1230000001e-08,
          3.6e-08,
          3.5e-08,
          3.8e-08,
          3.6e-08,
          3.6e-08,
          3.5e-08,
          3.6e-08,
          3.9e-08,
          3.4e-08,
          3.4e-08,
          3.5e-08,
          3.4e-08,
          4.9e-08,
          5.26e-08,
          5.2e-08,
          5.4e-08,
          5.1e-08,
          5.2e-08,
          5.2e-08,
          4.8e-08,
          5e-08,
          5.2e-08,
          5.2e-08,
          4.9e-08,
          4.9e-08,
          4.8e-08,
          4.8e-08,
          4.8e-08,
          1e-07,
          5.9e-08,
          5.4e-08,
          5.4e-08,
          4.6e-08,
          4.6e-08,
          3.7e-08,
          3.96e-08
         ],
         "yaxis": "y"
        }
       ],
       "layout": {
        "autosize": true,
        "legend": {
         "tracegroupgap": 0
        },
        "template": {
         "data": {
          "bar": [
           {
            "error_x": {
             "color": "#2a3f5f"
            },
            "error_y": {
             "color": "#2a3f5f"
            },
            "marker": {
             "line": {
              "color": "#E5ECF6",
              "width": 0.5
             }
            },
            "type": "bar"
           }
          ],
          "barpolar": [
           {
            "marker": {
             "line": {
              "color": "#E5ECF6",
              "width": 0.5
             }
            },
            "type": "barpolar"
           }
          ],
          "carpet": [
           {
            "aaxis": {
             "endlinecolor": "#2a3f5f",
             "gridcolor": "white",
             "linecolor": "white",
             "minorgridcolor": "white",
             "startlinecolor": "#2a3f5f"
            },
            "baxis": {
             "endlinecolor": "#2a3f5f",
             "gridcolor": "white",
             "linecolor": "white",
             "minorgridcolor": "white",
             "startlinecolor": "#2a3f5f"
            },
            "type": "carpet"
           }
          ],
          "choropleth": [
           {
            "colorbar": {
             "outlinewidth": 0,
             "ticks": ""
            },
            "type": "choropleth"
           }
          ],
          "contour": [
           {
            "colorbar": {
             "outlinewidth": 0,
             "ticks": ""
            },
            "colorscale": [
             [
              0,
              "#0d0887"
             ],
             [
              0.1111111111111111,
              "#46039f"
             ],
             [
              0.2222222222222222,
              "#7201a8"
             ],
             [
              0.3333333333333333,
              "#9c179e"
             ],
             [
              0.4444444444444444,
              "#bd3786"
             ],
             [
              0.5555555555555556,
              "#d8576b"
             ],
             [
              0.6666666666666666,
              "#ed7953"
             ],
             [
              0.7777777777777778,
              "#fb9f3a"
             ],
             [
              0.8888888888888888,
              "#fdca26"
             ],
             [
              1,
              "#f0f921"
             ]
            ],
            "type": "contour"
           }
          ],
          "contourcarpet": [
           {
            "colorbar": {
             "outlinewidth": 0,
             "ticks": ""
            },
            "type": "contourcarpet"
           }
          ],
          "heatmap": [
           {
            "colorbar": {
             "outlinewidth": 0,
             "ticks": ""
            },
            "colorscale": [
             [
              0,
              "#0d0887"
             ],
             [
              0.1111111111111111,
              "#46039f"
             ],
             [
              0.2222222222222222,
              "#7201a8"
             ],
             [
              0.3333333333333333,
              "#9c179e"
             ],
             [
              0.4444444444444444,
              "#bd3786"
             ],
             [
              0.5555555555555556,
              "#d8576b"
             ],
             [
              0.6666666666666666,
              "#ed7953"
             ],
             [
              0.7777777777777778,
              "#fb9f3a"
             ],
             [
              0.8888888888888888,
              "#fdca26"
             ],
             [
              1,
              "#f0f921"
             ]
            ],
            "type": "heatmap"
           }
          ],
          "heatmapgl": [
           {
            "colorbar": {
             "outlinewidth": 0,
             "ticks": ""
            },
            "colorscale": [
             [
              0,
              "#0d0887"
             ],
             [
              0.1111111111111111,
              "#46039f"
             ],
             [
              0.2222222222222222,
              "#7201a8"
             ],
             [
              0.3333333333333333,
              "#9c179e"
             ],
             [
              0.4444444444444444,
              "#bd3786"
             ],
             [
              0.5555555555555556,
              "#d8576b"
             ],
             [
              0.6666666666666666,
              "#ed7953"
             ],
             [
              0.7777777777777778,
              "#fb9f3a"
             ],
             [
              0.8888888888888888,
              "#fdca26"
             ],
             [
              1,
              "#f0f921"
             ]
            ],
            "type": "heatmapgl"
           }
          ],
          "histogram": [
           {
            "marker": {
             "colorbar": {
              "outlinewidth": 0,
              "ticks": ""
             }
            },
            "type": "histogram"
           }
          ],
          "histogram2d": [
           {
            "colorbar": {
             "outlinewidth": 0,
             "ticks": ""
            },
            "colorscale": [
             [
              0,
              "#0d0887"
             ],
             [
              0.1111111111111111,
              "#46039f"
             ],
             [
              0.2222222222222222,
              "#7201a8"
             ],
             [
              0.3333333333333333,
              "#9c179e"
             ],
             [
              0.4444444444444444,
              "#bd3786"
             ],
             [
              0.5555555555555556,
              "#d8576b"
             ],
             [
              0.6666666666666666,
              "#ed7953"
             ],
             [
              0.7777777777777778,
              "#fb9f3a"
             ],
             [
              0.8888888888888888,
              "#fdca26"
             ],
             [
              1,
              "#f0f921"
             ]
            ],
            "type": "histogram2d"
           }
          ],
          "histogram2dcontour": [
           {
            "colorbar": {
             "outlinewidth": 0,
             "ticks": ""
            },
            "colorscale": [
             [
              0,
              "#0d0887"
             ],
             [
              0.1111111111111111,
              "#46039f"
             ],
             [
              0.2222222222222222,
              "#7201a8"
             ],
             [
              0.3333333333333333,
              "#9c179e"
             ],
             [
              0.4444444444444444,
              "#bd3786"
             ],
             [
              0.5555555555555556,
              "#d8576b"
             ],
             [
              0.6666666666666666,
              "#ed7953"
             ],
             [
              0.7777777777777778,
              "#fb9f3a"
             ],
             [
              0.8888888888888888,
              "#fdca26"
             ],
             [
              1,
              "#f0f921"
             ]
            ],
            "type": "histogram2dcontour"
           }
          ],
          "mesh3d": [
           {
            "colorbar": {
             "outlinewidth": 0,
             "ticks": ""
            },
            "type": "mesh3d"
           }
          ],
          "parcoords": [
           {
            "line": {
             "colorbar": {
              "outlinewidth": 0,
              "ticks": ""
             }
            },
            "type": "parcoords"
           }
          ],
          "pie": [
           {
            "automargin": true,
            "type": "pie"
           }
          ],
          "scatter": [
           {
            "marker": {
             "colorbar": {
              "outlinewidth": 0,
              "ticks": ""
             }
            },
            "type": "scatter"
           }
          ],
          "scatter3d": [
           {
            "line": {
             "colorbar": {
              "outlinewidth": 0,
              "ticks": ""
             }
            },
            "marker": {
             "colorbar": {
              "outlinewidth": 0,
              "ticks": ""
             }
            },
            "type": "scatter3d"
           }
          ],
          "scattercarpet": [
           {
            "marker": {
             "colorbar": {
              "outlinewidth": 0,
              "ticks": ""
             }
            },
            "type": "scattercarpet"
           }
          ],
          "scattergeo": [
           {
            "marker": {
             "colorbar": {
              "outlinewidth": 0,
              "ticks": ""
             }
            },
            "type": "scattergeo"
           }
          ],
          "scattergl": [
           {
            "marker": {
             "colorbar": {
              "outlinewidth": 0,
              "ticks": ""
             }
            },
            "type": "scattergl"
           }
          ],
          "scattermapbox": [
           {
            "marker": {
             "colorbar": {
              "outlinewidth": 0,
              "ticks": ""
             }
            },
            "type": "scattermapbox"
           }
          ],
          "scatterpolar": [
           {
            "marker": {
             "colorbar": {
              "outlinewidth": 0,
              "ticks": ""
             }
            },
            "type": "scatterpolar"
           }
          ],
          "scatterpolargl": [
           {
            "marker": {
             "colorbar": {
              "outlinewidth": 0,
              "ticks": ""
             }
            },
            "type": "scatterpolargl"
           }
          ],
          "scatterternary": [
           {
            "marker": {
             "colorbar": {
              "outlinewidth": 0,
              "ticks": ""
             }
            },
            "type": "scatterternary"
           }
          ],
          "surface": [
           {
            "colorbar": {
             "outlinewidth": 0,
             "ticks": ""
            },
            "colorscale": [
             [
              0,
              "#0d0887"
             ],
             [
              0.1111111111111111,
              "#46039f"
             ],
             [
              0.2222222222222222,
              "#7201a8"
             ],
             [
              0.3333333333333333,
              "#9c179e"
             ],
             [
              0.4444444444444444,
              "#bd3786"
             ],
             [
              0.5555555555555556,
              "#d8576b"
             ],
             [
              0.6666666666666666,
              "#ed7953"
             ],
             [
              0.7777777777777778,
              "#fb9f3a"
             ],
             [
              0.8888888888888888,
              "#fdca26"
             ],
             [
              1,
              "#f0f921"
             ]
            ],
            "type": "surface"
           }
          ],
          "table": [
           {
            "cells": {
             "fill": {
              "color": "#EBF0F8"
             },
             "line": {
              "color": "white"
             }
            },
            "header": {
             "fill": {
              "color": "#C8D4E3"
             },
             "line": {
              "color": "white"
             }
            },
            "type": "table"
           }
          ]
         },
         "layout": {
          "annotationdefaults": {
           "arrowcolor": "#2a3f5f",
           "arrowhead": 0,
           "arrowwidth": 1
          },
          "autotypenumbers": "strict",
          "coloraxis": {
           "colorbar": {
            "outlinewidth": 0,
            "ticks": ""
           }
          },
          "colorscale": {
           "diverging": [
            [
             0,
             "#8e0152"
            ],
            [
             0.1,
             "#c51b7d"
            ],
            [
             0.2,
             "#de77ae"
            ],
            [
             0.3,
             "#f1b6da"
            ],
            [
             0.4,
             "#fde0ef"
            ],
            [
             0.5,
             "#f7f7f7"
            ],
            [
             0.6,
             "#e6f5d0"
            ],
            [
             0.7,
             "#b8e186"
            ],
            [
             0.8,
             "#7fbc41"
            ],
            [
             0.9,
             "#4d9221"
            ],
            [
             1,
             "#276419"
            ]
           ],
           "sequential": [
            [
             0,
             "#0d0887"
            ],
            [
             0.1111111111111111,
             "#46039f"
            ],
            [
             0.2222222222222222,
             "#7201a8"
            ],
            [
             0.3333333333333333,
             "#9c179e"
            ],
            [
             0.4444444444444444,
             "#bd3786"
            ],
            [
             0.5555555555555556,
             "#d8576b"
            ],
            [
             0.6666666666666666,
             "#ed7953"
            ],
            [
             0.7777777777777778,
             "#fb9f3a"
            ],
            [
             0.8888888888888888,
             "#fdca26"
            ],
            [
             1,
             "#f0f921"
            ]
           ],
           "sequentialminus": [
            [
             0,
             "#0d0887"
            ],
            [
             0.1111111111111111,
             "#46039f"
            ],
            [
             0.2222222222222222,
             "#7201a8"
            ],
            [
             0.3333333333333333,
             "#9c179e"
            ],
            [
             0.4444444444444444,
             "#bd3786"
            ],
            [
             0.5555555555555556,
             "#d8576b"
            ],
            [
             0.6666666666666666,
             "#ed7953"
            ],
            [
             0.7777777777777778,
             "#fb9f3a"
            ],
            [
             0.8888888888888888,
             "#fdca26"
            ],
            [
             1,
             "#f0f921"
            ]
           ]
          },
          "colorway": [
           "#636efa",
           "#EF553B",
           "#00cc96",
           "#ab63fa",
           "#FFA15A",
           "#19d3f3",
           "#FF6692",
           "#B6E880",
           "#FF97FF",
           "#FECB52"
          ],
          "font": {
           "color": "#2a3f5f"
          },
          "geo": {
           "bgcolor": "white",
           "lakecolor": "white",
           "landcolor": "#E5ECF6",
           "showlakes": true,
           "showland": true,
           "subunitcolor": "white"
          },
          "hoverlabel": {
           "align": "left"
          },
          "hovermode": "closest",
          "mapbox": {
           "style": "light"
          },
          "paper_bgcolor": "white",
          "plot_bgcolor": "#E5ECF6",
          "polar": {
           "angularaxis": {
            "gridcolor": "white",
            "linecolor": "white",
            "ticks": ""
           },
           "bgcolor": "#E5ECF6",
           "radialaxis": {
            "gridcolor": "white",
            "linecolor": "white",
            "ticks": ""
           }
          },
          "scene": {
           "xaxis": {
            "backgroundcolor": "#E5ECF6",
            "gridcolor": "white",
            "gridwidth": 2,
            "linecolor": "white",
            "showbackground": true,
            "ticks": "",
            "zerolinecolor": "white"
           },
           "yaxis": {
            "backgroundcolor": "#E5ECF6",
            "gridcolor": "white",
            "gridwidth": 2,
            "linecolor": "white",
            "showbackground": true,
            "ticks": "",
            "zerolinecolor": "white"
           },
           "zaxis": {
            "backgroundcolor": "#E5ECF6",
            "gridcolor": "white",
            "gridwidth": 2,
            "linecolor": "white",
            "showbackground": true,
            "ticks": "",
            "zerolinecolor": "white"
           }
          },
          "shapedefaults": {
           "line": {
            "color": "#2a3f5f"
           }
          },
          "ternary": {
           "aaxis": {
            "gridcolor": "white",
            "linecolor": "white",
            "ticks": ""
           },
           "baxis": {
            "gridcolor": "white",
            "linecolor": "white",
            "ticks": ""
           },
           "bgcolor": "#E5ECF6",
           "caxis": {
            "gridcolor": "white",
            "linecolor": "white",
            "ticks": ""
           }
          },
          "title": {
           "x": 0.05
          },
          "xaxis": {
           "automargin": true,
           "gridcolor": "white",
           "linecolor": "white",
           "ticks": "",
           "title": {
            "standoff": 15
           },
           "zerolinecolor": "white",
           "zerolinewidth": 2
          },
          "yaxis": {
           "automargin": true,
           "gridcolor": "white",
           "linecolor": "white",
           "ticks": "",
           "title": {
            "standoff": 15
           },
           "zerolinecolor": "white",
           "zerolinewidth": 2
          }
         }
        },
        "title": {
         "text": "Gas prices of Lido deposit transactions"
        },
        "xaxis": {
         "anchor": "y",
         "autorange": true,
         "domain": [
          0,
          1
         ],
         "range": [
          12362304.3667002,
          12753384.6332998
         ],
         "title": {
          "text": "Block number"
         },
         "type": "linear"
        },
        "yaxis": {
         "anchor": "x",
         "autorange": true,
         "domain": [
          0,
          1
         ],
         "range": [
          -1.9950248407643314e-08,
          4.128362484076433e-07
         ],
         "title": {
          "text": "Gas Price (Eth)"
         },
         "type": "linear"
        }
       }
      },
      "image/png": "[encoded data removed]",
      "text/html": [
       "<div>                            <div id=\"0da1aa41-9b2c-4b12-9207-86df1beb04af\" class=\"plotly-graph-div\" style=\"height:525px; width:100%;\"></div>            <script type=\"text/javascript\">                require([\"plotly\"], function(Plotly) {                    window.PLOTLYENV=window.PLOTLYENV || {};                                    if (document.getElementById(\"0da1aa41-9b2c-4b12-9207-86df1beb04af\")) {                    Plotly.newPlot(                        \"0da1aa41-9b2c-4b12-9207-86df1beb04af\",                        [{\"hovertemplate\": \"x=%{x}<br>y=%{y}<extra></extra>\", \"legendgroup\": \"\", \"marker\": {\"color\": \"#636efa\", \"symbol\": \"circle\"}, \"mode\": \"markers\", \"name\": \"\", \"orientation\": \"h\", \"showlegend\": false, \"type\": \"scatter\", \"x\": [12514976, 12515306, 12516727, 12517352, 12517524, 12517746, 12517857, 12522725, 12530222, 12535183, 12537970, 12541896, 12542184, 12560402, 12568330, 12589458, 12593272, 12594049, 12599021, 12612902, 12619327, 12627738, 12627747, 12627791, 12627808, 12627823, 12629393, 12630253, 12631425, 12633750, 12635001, 12636494, 12640421, 12640771, 12641188, 12646579, 12651166, 12651187, 12651198, 12651619, 12656878, 12658076, 12659798, 12661539, 12663318, 12663331, 12665106, 12666625, 12678926, 12682334, 12704475, 12706908, 12708437, 12728520, 12730249, 12730849, 12731645, 12384044, 12384072, 12384383, 12384396, 12384398, 12384400, 12384402, 12384403, 12385995, 12386880, 12386882, 12387316, 12387342, 12387344, 12387371, 12387372, 12387374, 12387375, 12387385, 12387390, 12387398, 12387406, 12387420, 12387422, 12387433, 12387435, 12387443, 12387444, 12387476, 12387508, 12387510, 12387512, 12387513, 12387514, 12388492, 12389289, 12389971, 12391367, 12391624, 12391836, 12391838, 12391841, 12391843, 12391845, 12391846, 12391847, 12391850, 12391854, 12391856, 12391858, 12391860, 12391861, 12391863, 12391871, 12392372, 12392870, 12393238, 12393536, 12394503, 12395786, 12396380, 12396760, 12396761, 12396762, 12396763, 12396765, 12398869, 12400132, 12404471, 12408479, 12408931, 12410411, 12414099, 12418020, 12439643, 12439658, 12439663, 12439691, 12439739, 12439739, 12439747, 12439747, 12439754, 12439765, 12439769, 12439774, 12439774, 12439774, 12442533, 12444940, 12445008, 12445008, 12451542, 12451543, 12451552, 12463717, 12483514, 12483521, 12483543, 12483556, 12483573, 12483593, 12483686, 12483744, 12483744, 12483773, 12483828, 12483874, 12483889, 12484025, 12484027, 12484027, 12484029, 12484029, 12485049, 12485085, 12485100, 12485102, 12485113, 12485113, 12485116, 12485116, 12485117, 12485123, 12485124, 12485131, 12485131, 12485133, 12485133, 12485156, 12492828, 12492896, 12493116, 12493144, 12493180, 12493515, 12494668, 12505193], \"xaxis\": \"x\", \"y\": [2.6e-08, 2.8600001604e-08, 3.597e-08, 3.3033e-08, 3.3e-08, 3.003e-08, 2.9700000001e-08, 3e-08, 3.52e-08, 1.70017e-08, 1.7000001347e-08, 1.5e-08, 1.87e-08, 2.3e-08, 2.256e-08, 1.01e-08, 1e-08, 1.2e-08, 1.43e-08, 8.8e-09, 8e-09, 1e-08, 9.9e-09, 8e-09, 8e-09, 7.7e-09, 8e-09, 1e-08, 1e-08, 2.95e-08, 2.53e-08, 1.2000001123e-08, 2.1776079709e-08, 2.5e-08, 1.5e-08, 2.3e-08, 1.3e-08, 1.2000001459e-08, 1.3e-08, 8e-09, 1.0300001502e-08, 1.2e-08, 1.1e-08, 7.7e-09, 9.9e-09, 1e-08, 1.05e-08, 1.437e-08, 4.909653e-08, 1.40928e-08, 5.3e-08, 1e-08, 1.6e-08, 1.3e-08, 2e-08, 2e-08, 1.4e-08, 5.24e-08, 5.052e-08, 5.912e-08, 5.675e-08, 5.775e-08, 5.895e-08, 5.74e-08, 5.86e-08, 5.84e-08, 5.2230000656e-08, 5.0580000292e-08, 6.86e-08, 6.35e-08, 6.39e-08, 6.2960000291e-08, 6.0960000583e-08, 5.7360000583e-08, 5.7000000583e-08, 5.6580000291e-08, 5.93e-08, 6.4000000583e-08, 6.28000007e-08, 6.3040000583e-08, 6.3400000583e-08, 6.3960000671e-08, 6.2800000583e-08, 6.1034340583e-08, 6.0234340875e-08, 5.9814340583e-08, 7.6473400388e-08, 7.8800000764e-08, 7.6494001117e-08, 7.2988000997e-08, 7.3188000705e-08, 9.96e-08, 6.054e-08, 5.94e-08, 5.1440000046e-08, 5.1520000291e-08, 6.45e-08, 6.344e-08, 6.132e-08, 6.152e-08, 6.360000016e-08, 6.274000016e-08, 6.344000016e-08, 6.344000016e-08, 6.3180000247e-08, 6.2907000247e-08, 6.4117000364e-08, 6.4294000364e-08, 6.368402e-08, 6.346402e-08, 6.2340000612e-08, 1.332e-07, 1.02402092069e-07, 6.1625000364e-08, 6.1040000338e-08, 1.9478e-07, 1.69924e-07, 1.85e-07, 1.4303e-07, 1.8858e-07, 1.8838e-07, 1.9198e-07, 1.53475e-07, 1.055e-07, 9.3500000001e-08, 1.35000000001e-07, 3.2799e-07, 3.85186e-07, 3.3414e-07, 3.04900000156e-07, 2.2052e-07, 8.7e-08, 8.9e-08, 9.4e-08, 8.1e-08, 8.4e-08, 8.3e-08, 8.4e-08, 8.2e-08, 8.3e-08, 8.5e-08, 8.3e-08, 8e-08, 8.1e-08, 8.7e-08, 5.82e-08, 4.4e-08, 4.62e-08, 5.2e-08, 5.5e-08, 5.4e-08, 5.5e-08, 1e-07, 4e-08, 4e-08, 4e-08, 3.2e-08, 3.3e-08, 3.1230000001e-08, 3.6e-08, 3.5e-08, 3.8e-08, 3.6e-08, 3.6e-08, 3.5e-08, 3.6e-08, 3.9e-08, 3.4e-08, 3.4e-08, 3.5e-08, 3.4e-08, 4.9e-08, 5.26e-08, 5.2e-08, 5.4e-08, 5.1e-08, 5.2e-08, 5.2e-08, 4.8e-08, 5e-08, 5.2e-08, 5.2e-08, 4.9e-08, 4.9e-08, 4.8e-08, 4.8e-08, 4.8e-08, 1e-07, 5.9e-08, 5.4e-08, 5.4e-08, 4.6e-08, 4.6e-08, 3.7e-08, 3.96e-08], \"yaxis\": \"y\"}],                        {\"legend\": {\"tracegroupgap\": 0}, \"template\": {\"data\": {\"bar\": [{\"error_x\": {\"color\": \"#2a3f5f\"}, \"error_y\": {\"color\": \"#2a3f5f\"}, \"marker\": {\"line\": {\"color\": \"#E5ECF6\", \"width\": 0.5}}, \"type\": \"bar\"}], \"barpolar\": [{\"marker\": {\"line\": {\"color\": \"#E5ECF6\", \"width\": 0.5}}, \"type\": \"barpolar\"}], \"carpet\": [{\"aaxis\": {\"endlinecolor\": \"#2a3f5f\", \"gridcolor\": \"white\", \"linecolor\": \"white\", \"minorgridcolor\": \"white\", \"startlinecolor\": \"#2a3f5f\"}, \"baxis\": {\"endlinecolor\": \"#2a3f5f\", \"gridcolor\": \"white\", \"linecolor\": \"white\", \"minorgridcolor\": \"white\", \"startlinecolor\": \"#2a3f5f\"}, \"type\": \"carpet\"}], \"choropleth\": [{\"colorbar\": {\"outlinewidth\": 0, \"ticks\": \"\"}, \"type\": \"choropleth\"}], \"contour\": [{\"colorbar\": {\"outlinewidth\": 0, \"ticks\": \"\"}, \"colorscale\": [[0.0, \"#0d0887\"], [0.1111111111111111, \"#46039f\"], [0.2222222222222222, \"#7201a8\"], [0.3333333333333333, \"#9c179e\"], [0.4444444444444444, \"#bd3786\"], [0.5555555555555556, \"#d8576b\"], [0.6666666666666666, \"#ed7953\"], [0.7777777777777778, \"#fb9f3a\"], [0.8888888888888888, \"#fdca26\"], [1.0, \"#f0f921\"]], \"type\": \"contour\"}], \"contourcarpet\": [{\"colorbar\": {\"outlinewidth\": 0, \"ticks\": \"\"}, \"type\": \"contourcarpet\"}], \"heatmap\": [{\"colorbar\": {\"outlinewidth\": 0, \"ticks\": \"\"}, \"colorscale\": [[0.0, \"#0d0887\"], [0.1111111111111111, \"#46039f\"], [0.2222222222222222, \"#7201a8\"], [0.3333333333333333, \"#9c179e\"], [0.4444444444444444, \"#bd3786\"], [0.5555555555555556, \"#d8576b\"], [0.6666666666666666, \"#ed7953\"], [0.7777777777777778, \"#fb9f3a\"], [0.8888888888888888, \"#fdca26\"], [1.0, \"#f0f921\"]], \"type\": \"heatmap\"}], \"heatmapgl\": [{\"colorbar\": {\"outlinewidth\": 0, \"ticks\": \"\"}, \"colorscale\": [[0.0, \"#0d0887\"], [0.1111111111111111, \"#46039f\"], [0.2222222222222222, \"#7201a8\"], [0.3333333333333333, \"#9c179e\"], [0.4444444444444444, \"#bd3786\"], [0.5555555555555556, \"#d8576b\"], [0.6666666666666666, \"#ed7953\"], [0.7777777777777778, \"#fb9f3a\"], [0.8888888888888888, \"#fdca26\"], [1.0, \"#f0f921\"]], \"type\": \"heatmapgl\"}], \"histogram\": [{\"marker\": {\"colorbar\": {\"outlinewidth\": 0, \"ticks\": \"\"}}, \"type\": \"histogram\"}], \"histogram2d\": [{\"colorbar\": {\"outlinewidth\": 0, \"ticks\": \"\"}, \"colorscale\": [[0.0, \"#0d0887\"], [0.1111111111111111, \"#46039f\"], [0.2222222222222222, \"#7201a8\"], [0.3333333333333333, \"#9c179e\"], [0.4444444444444444, \"#bd3786\"], [0.5555555555555556, \"#d8576b\"], [0.6666666666666666, \"#ed7953\"], [0.7777777777777778, \"#fb9f3a\"], [0.8888888888888888, \"#fdca26\"], [1.0, \"#f0f921\"]], \"type\": \"histogram2d\"}], \"histogram2dcontour\": [{\"colorbar\": {\"outlinewidth\": 0, \"ticks\": \"\"}, \"colorscale\": [[0.0, \"#0d0887\"], [0.1111111111111111, \"#46039f\"], [0.2222222222222222, \"#7201a8\"], [0.3333333333333333, \"#9c179e\"], [0.4444444444444444, \"#bd3786\"], [0.5555555555555556, \"#d8576b\"], [0.6666666666666666, \"#ed7953\"], [0.7777777777777778, \"#fb9f3a\"], [0.8888888888888888, \"#fdca26\"], [1.0, \"#f0f921\"]], \"type\": \"histogram2dcontour\"}], \"mesh3d\": [{\"colorbar\": {\"outlinewidth\": 0, \"ticks\": \"\"}, \"type\": \"mesh3d\"}], \"parcoords\": [{\"line\": {\"colorbar\": {\"outlinewidth\": 0, \"ticks\": \"\"}}, \"type\": \"parcoords\"}], \"pie\": [{\"automargin\": true, \"type\": \"pie\"}], \"scatter\": [{\"marker\": {\"colorbar\": {\"outlinewidth\": 0, \"ticks\": \"\"}}, \"type\": \"scatter\"}], \"scatter3d\": [{\"line\": {\"colorbar\": {\"outlinewidth\": 0, \"ticks\": \"\"}}, \"marker\": {\"colorbar\": {\"outlinewidth\": 0, \"ticks\": \"\"}}, \"type\": \"scatter3d\"}], \"scattercarpet\": [{\"marker\": {\"colorbar\": {\"outlinewidth\": 0, \"ticks\": \"\"}}, \"type\": \"scattercarpet\"}], \"scattergeo\": [{\"marker\": {\"colorbar\": {\"outlinewidth\": 0, \"ticks\": \"\"}}, \"type\": \"scattergeo\"}], \"scattergl\": [{\"marker\": {\"colorbar\": {\"outlinewidth\": 0, \"ticks\": \"\"}}, \"type\": \"scattergl\"}], \"scattermapbox\": [{\"marker\": {\"colorbar\": {\"outlinewidth\": 0, \"ticks\": \"\"}}, \"type\": \"scattermapbox\"}], \"scatterpolar\": [{\"marker\": {\"colorbar\": {\"outlinewidth\": 0, \"ticks\": \"\"}}, \"type\": \"scatterpolar\"}], \"scatterpolargl\": [{\"marker\": {\"colorbar\": {\"outlinewidth\": 0, \"ticks\": \"\"}}, \"type\": \"scatterpolargl\"}], \"scatterternary\": [{\"marker\": {\"colorbar\": {\"outlinewidth\": 0, \"ticks\": \"\"}}, \"type\": \"scatterternary\"}], \"surface\": [{\"colorbar\": {\"outlinewidth\": 0, \"ticks\": \"\"}, \"colorscale\": [[0.0, \"#0d0887\"], [0.1111111111111111, \"#46039f\"], [0.2222222222222222, \"#7201a8\"], [0.3333333333333333, \"#9c179e\"], [0.4444444444444444, \"#bd3786\"], [0.5555555555555556, \"#d8576b\"], [0.6666666666666666, \"#ed7953\"], [0.7777777777777778, \"#fb9f3a\"], [0.8888888888888888, \"#fdca26\"], [1.0, \"#f0f921\"]], \"type\": \"surface\"}], \"table\": [{\"cells\": {\"fill\": {\"color\": \"#EBF0F8\"}, \"line\": {\"color\": \"white\"}}, \"header\": {\"fill\": {\"color\": \"#C8D4E3\"}, \"line\": {\"color\": \"white\"}}, \"type\": \"table\"}]}, \"layout\": {\"annotationdefaults\": {\"arrowcolor\": \"#2a3f5f\", \"arrowhead\": 0, \"arrowwidth\": 1}, \"autotypenumbers\": \"strict\", \"coloraxis\": {\"colorbar\": {\"outlinewidth\": 0, \"ticks\": \"\"}}, \"colorscale\": {\"diverging\": [[0, \"#8e0152\"], [0.1, \"#c51b7d\"], [0.2, \"#de77ae\"], [0.3, \"#f1b6da\"], [0.4, \"#fde0ef\"], [0.5, \"#f7f7f7\"], [0.6, \"#e6f5d0\"], [0.7, \"#b8e186\"], [0.8, \"#7fbc41\"], [0.9, \"#4d9221\"], [1, \"#276419\"]], \"sequential\": [[0.0, \"#0d0887\"], [0.1111111111111111, \"#46039f\"], [0.2222222222222222, \"#7201a8\"], [0.3333333333333333, \"#9c179e\"], [0.4444444444444444, \"#bd3786\"], [0.5555555555555556, \"#d8576b\"], [0.6666666666666666, \"#ed7953\"], [0.7777777777777778, \"#fb9f3a\"], [0.8888888888888888, \"#fdca26\"], [1.0, \"#f0f921\"]], \"sequentialminus\": [[0.0, \"#0d0887\"], [0.1111111111111111, \"#46039f\"], [0.2222222222222222, \"#7201a8\"], [0.3333333333333333, \"#9c179e\"], [0.4444444444444444, \"#bd3786\"], [0.5555555555555556, \"#d8576b\"], [0.6666666666666666, \"#ed7953\"], [0.7777777777777778, \"#fb9f3a\"], [0.8888888888888888, \"#fdca26\"], [1.0, \"#f0f921\"]]}, \"colorway\": [\"#636efa\", \"#EF553B\", \"#00cc96\", \"#ab63fa\", \"#FFA15A\", \"#19d3f3\", \"#FF6692\", \"#B6E880\", \"#FF97FF\", \"#FECB52\"], \"font\": {\"color\": \"#2a3f5f\"}, \"geo\": {\"bgcolor\": \"white\", \"lakecolor\": \"white\", \"landcolor\": \"#E5ECF6\", \"showlakes\": true, \"showland\": true, \"subunitcolor\": \"white\"}, \"hoverlabel\": {\"align\": \"left\"}, \"hovermode\": \"closest\", \"mapbox\": {\"style\": \"light\"}, \"paper_bgcolor\": \"white\", \"plot_bgcolor\": \"#E5ECF6\", \"polar\": {\"angularaxis\": {\"gridcolor\": \"white\", \"linecolor\": \"white\", \"ticks\": \"\"}, \"bgcolor\": \"#E5ECF6\", \"radialaxis\": {\"gridcolor\": \"white\", \"linecolor\": \"white\", \"ticks\": \"\"}}, \"scene\": {\"xaxis\": {\"backgroundcolor\": \"#E5ECF6\", \"gridcolor\": \"white\", \"gridwidth\": 2, \"linecolor\": \"white\", \"showbackground\": true, \"ticks\": \"\", \"zerolinecolor\": \"white\"}, \"yaxis\": {\"backgroundcolor\": \"#E5ECF6\", \"gridcolor\": \"white\", \"gridwidth\": 2, \"linecolor\": \"white\", \"showbackground\": true, \"ticks\": \"\", \"zerolinecolor\": \"white\"}, \"zaxis\": {\"backgroundcolor\": \"#E5ECF6\", \"gridcolor\": \"white\", \"gridwidth\": 2, \"linecolor\": \"white\", \"showbackground\": true, \"ticks\": \"\", \"zerolinecolor\": \"white\"}}, \"shapedefaults\": {\"line\": {\"color\": \"#2a3f5f\"}}, \"ternary\": {\"aaxis\": {\"gridcolor\": \"white\", \"linecolor\": \"white\", \"ticks\": \"\"}, \"baxis\": {\"gridcolor\": \"white\", \"linecolor\": \"white\", \"ticks\": \"\"}, \"bgcolor\": \"#E5ECF6\", \"caxis\": {\"gridcolor\": \"white\", \"linecolor\": \"white\", \"ticks\": \"\"}}, \"title\": {\"x\": 0.05}, \"xaxis\": {\"automargin\": true, \"gridcolor\": \"white\", \"linecolor\": \"white\", \"ticks\": \"\", \"title\": {\"standoff\": 15}, \"zerolinecolor\": \"white\", \"zerolinewidth\": 2}, \"yaxis\": {\"automargin\": true, \"gridcolor\": \"white\", \"linecolor\": \"white\", \"ticks\": \"\", \"title\": {\"standoff\": 15}, \"zerolinecolor\": \"white\", \"zerolinewidth\": 2}}}, \"title\": {\"text\": \"Gas prices of Lido deposit transactions\"}, \"xaxis\": {\"anchor\": \"y\", \"domain\": [0.0, 1.0], \"title\": {\"text\": \"Block number\"}}, \"yaxis\": {\"anchor\": \"x\", \"domain\": [0.0, 1.0], \"title\": {\"text\": \"Gas Price (Eth)\"}}},                        {\"responsive\": true}                    ).then(function(){\n",
       "                            \n",
       "var gd = document.getElementById('0da1aa41-9b2c-4b12-9207-86df1beb04af');\n",
       "var x = new MutationObserver(function (mutations, observer) {{\n",
       "        var display = window.getComputedStyle(gd).display;\n",
       "        if (!display || display === 'none') {{\n",
       "            console.log([gd, 'removed!']);\n",
       "            Plotly.purge(gd);\n",
       "            observer.disconnect();\n",
       "        }}\n",
       "}});\n",
       "\n",
       "// Listen for the removal of the full notebook cells\n",
       "var notebookContainer = gd.closest('#notebook-container');\n",
       "if (notebookContainer) {{\n",
       "    x.observe(notebookContainer, {childList: true});\n",
       "}}\n",
       "\n",
       "// Listen for the clearing of the current output cell\n",
       "var outputEl = gd.closest('.output');\n",
       "if (outputEl) {{\n",
       "    x.observe(outputEl, {childList: true});\n",
       "}}\n",
       "\n",
       "                        })                };                });            </script>        </div>"
      ]
     },
     "metadata": {},
     "output_type": "display_data"
    }
   ],
   "source": [
    "# x = df_lido_deposits_with_gas[\"blockNumber\"]\n",
    "y = df_lido_deposits_with_gas[\"gasPrice\"]\n",
    "lst = []\n",
    "for i in y:\n",
    "    #lst.append(int(i)/(10**8))\n",
    "    lst.append(Web3.fromWei(int(i), 'ether'))\n",
    "fig = px.scatter(x = df_lido_deposits_with_gas[\"blockNumber\"] ,y = lst, title = \"Gas prices of Lido deposit transactions\")\n",
    "fig.update_layout(xaxis_title = \"Block number\", yaxis_title = \"Gas Price (Eth)\")\n",
    "fig.show()"
   ]
  }
 ],
 "metadata": {
  "kernelspec": {
   "display_name": "Python 3",
   "language": "python",
   "name": "python3"
  },
  "language_info": {
   "codemirror_mode": {
    "name": "ipython",
    "version": 3
   },
   "file_extension": ".py",
   "mimetype": "text/x-python",
   "name": "python",
   "nbconvert_exporter": "python",
   "pygments_lexer": "ipython3",
   "version": "3.8.2"
  }
 },
 "nbformat": 4,
 "nbformat_minor": 5
}
