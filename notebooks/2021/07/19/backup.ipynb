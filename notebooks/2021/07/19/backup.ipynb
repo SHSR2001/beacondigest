{
 "cells": [
  {
   "cell_type": "code",
   "execution_count": 10,
   "id": "f3c1dd53-772e-48bd-9f8c-5fa290d22f7e",
   "metadata": {},
   "outputs": [],
   "source": [
    "from web3 import Web3\n",
    "import json\n",
    "import requests\n",
    "import csv\n",
    "import pandas as pd\n",
    "import seaborn as sns \n",
    "import numpy as np\n",
    "import matplotlib.pyplot as plt\n",
    "from time import *\n",
    "import plotly.express as px\n",
    "import plotly.io as pio\n",
    "pd.options.plotting.backend = \"plotly\"\n",
    "pio.renderers.default = \"plotly_mimetype+notebook_connected\"\n",
    "import plotly.graph_objects as go\n",
    "import math"
   ]
  },
  {
   "cell_type": "code",
   "execution_count": 11,
   "id": "c744c651-287f-4941-9b44-4201fc2ba797",
   "metadata": {},
   "outputs": [
    {
     "name": "stdout",
     "output_type": "stream",
     "text": [
      "17505\n"
     ]
    }
   ],
   "source": [
    "import csv\n",
    "\n",
    "with open('proposer_indices.csv', newline='') as f:\n",
    "    reader = csv.reader(f)\n",
    "    data = list(reader)\n",
    "\n",
    "print(len(data[0]))"
   ]
  },
  {
   "cell_type": "code",
   "execution_count": 17,
   "id": "72472243-fd91-4f59-9265-50fd86e1c27d",
   "metadata": {},
   "outputs": [],
   "source": [
    "staking_entities = []\n",
    "indices_list = []"
   ]
  },
  {
   "cell_type": "code",
   "execution_count": 18,
   "id": "9697087f-4eb5-4ca2-b374-97e6ab625672",
   "metadata": {},
   "outputs": [],
   "source": [
    "for i in range(0,len(data[0]) + 1, 100):\n",
    "    str1 = ''\n",
    "    \n",
    "    if i<=17400:\n",
    "        for j in range(99):\n",
    "            str1 = str1 + str(data[0][i+j]) + ','\n",
    "        str1 = str1 + str(data[0][i+99])\n",
    "\n",
    "#             str1 = str1 + str(i+j) + ','\n",
    "#         str1 = str1 + str(i+99)\n",
    "        \n",
    "    else:\n",
    "        for j in range(5):\n",
    "            str1 = str1 + str(data[0][i+j]) + ','\n",
    "        str1 = str1 + str(data[0][i+4])\n",
    "#                 str1 = str1 + str(i+j) + ','\n",
    "#         str1 = str1 + str(i+4)\n",
    "\n",
    "    #print(str1)\n",
    "    indices_list.append(str1)\n",
    "    \n",
    "#     x = requests.get('https://beaconcha.in/api/v1/validator/{}/deposits?api_key={}'.format(str1, \"dDQvWWNGZzhxaTlZRC5id01rT1gu\"))\n",
    "#     #Add a sleep to stay within the call rate limits\n",
    "#     sleep(6)\n",
    "    \n",
    "#     data = x.json()['data']\n",
    "    \n",
    "#     for t in data:\n",
    "#         staking_entities.append(t['from_address'])"
   ]
  },
  {
   "cell_type": "code",
   "execution_count": 20,
   "id": "ad4cc6e7-8856-4eaf-ad60-fe35ed610895",
   "metadata": {},
   "outputs": [],
   "source": [
    "for i in indices_list:\n",
    "    x = requests.get('https://beaconcha.in/api/v1/validator/{}/deposits?api_key={}'.format(i, \"dDQvWWNGZzhxaTlZRC5id01rT1gu\"))\n",
    "    #Add a sleep to stay within the call rate limits\n",
    "    sleep(6)\n",
    "    \n",
    "    data = x.json()['data']\n",
    "    \n",
    "    for t in data:\n",
    "        staking_entities.append(t['from_address'])\n",
    "    "
   ]
  },
  {
   "cell_type": "code",
   "execution_count": 22,
   "id": "569b95a1-8d7b-48db-9d11-26f4ef46f8ce",
   "metadata": {},
   "outputs": [],
   "source": [
    "with open('proposer_addresses.csv', 'w', newline='') as myfile:\n",
    "     wr = csv.writer(myfile, quoting=csv.QUOTE_ALL)\n",
    "     wr.writerow(staking_entities)"
   ]
  },
  {
   "cell_type": "code",
   "execution_count": null,
   "id": "c262c379-1c7f-4ebd-acee-225cdbc8c6a0",
   "metadata": {},
   "outputs": [],
   "source": []
  }
 ],
 "metadata": {
  "kernelspec": {
   "display_name": "Python 3",
   "language": "python",
   "name": "python3"
  },
  "language_info": {
   "codemirror_mode": {
    "name": "ipython",
    "version": 3
   },
   "file_extension": ".py",
   "mimetype": "text/x-python",
   "name": "python",
   "nbconvert_exporter": "python",
   "pygments_lexer": "ipython3",
   "version": "3.8.2"
  }
 },
 "nbformat": 4,
 "nbformat_minor": 5
}
