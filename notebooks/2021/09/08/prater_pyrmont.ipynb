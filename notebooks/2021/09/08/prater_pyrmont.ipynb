{
 "cells": [
  {
   "cell_type": "code",
   "execution_count": 74,
   "id": "a1879c78-ef44-44ae-aabc-0b9703f1b4e5",
   "metadata": {},
   "outputs": [],
   "source": [
    "import requests\n",
    "import math\n",
    "import pandas as pd\n",
    "import matplotlib.pyplot as plt\n",
    "import plotly.express as px\n",
    "import plotly.io as pio"
   ]
  },
  {
   "cell_type": "code",
   "execution_count": null,
   "id": "7b00a30b-65fd-4199-879f-79434b4f0f10",
   "metadata": {},
   "outputs": [],
   "source": [
    "#Pyrmont\n",
    "'http://157.90.199.50:50002\n",
    "#Prater\n",
    "'http://95.217.105.14:50002'"
   ]
  },
  {
   "cell_type": "code",
   "execution_count": 4,
   "id": "098787f5-ad4d-4fd3-b77f-5b8e67000660",
   "metadata": {},
   "outputs": [
    {
     "name": "stdout",
     "output_type": "stream",
     "text": [
      "{'data': {'genesis_time': '1605700807', 'genesis_validators_root': '0x9436e8a630e3162b7ed4f449b12b8a5a368a4b95bc46b941ae65c11613bfa4c1', 'genesis_fork_version': '0x00002009'}}\n",
      "{'data': {'genesis_time': '1616508000', 'genesis_validators_root': '0x043db0d9a83813551ee2f33450d23797757d430911a9320530ad8a0eabc43efb', 'genesis_fork_version': '0x00001020'}}\n"
     ]
    }
   ],
   "source": [
    "x = requests.request('GET', 'http://157.90.199.50:50002/eth/v1/beacon/genesis') \n",
    "y = requests.request('GET', 'http://95.217.105.14:50002/eth/v1/beacon/genesis')\n",
    "\n",
    "print(x.json())\n",
    "print(y.json())"
   ]
  },
  {
   "cell_type": "markdown",
   "id": "442cbe22-b695-47e3-9092-7c550eb4ebc8",
   "metadata": {},
   "source": [
    "## Prater"
   ]
  },
  {
   "cell_type": "code",
   "execution_count": 20,
   "id": "7e6368e5-a9c2-4543-ad0a-81a94464bcae",
   "metadata": {},
   "outputs": [],
   "source": [
    "prater_start = 40800\n",
    "prater_end = 40970\n",
    "\n",
    "prater_validators = []\n",
    "for i in range(prater_start, prater_end+1):\n",
    "    x = requests.request('GET', 'http://95.217.105.14:50002/eth/v1/beacon/states/{}/sync_committees'.format(str(i*32)))\n",
    "    prater_validators.append(x.json()['data']['validators'])\n",
    "\n",
    "prater_bits = []\n",
    "for i in range(prater_start, prater_end+1):\n",
    "    x = requests.request('GET', 'http://95.217.105.14:50002/eth/v1/beacon/blocks/{}'.format(str(i*32)))\n",
    "    if 'data' in x.json():\n",
    "        prater_bits.append(x.json()['data']['message']['body']['sync_aggregate']['sync_committee_bits'])\n",
    "    else:\n",
    "        prater_bits.append('No Block At Slot')"
   ]
  },
  {
   "cell_type": "code",
   "execution_count": 22,
   "id": "ef86e8d2-631a-4f11-bdf4-5f3c87e64f29",
   "metadata": {},
   "outputs": [],
   "source": [
    "with open(\"prater_validators.txt\", \"w\") as output:\n",
    "    output.write(str(prater_validators))\n",
    "with open(\"prater_bits.txt\", \"w\") as output:\n",
    "    output.write(str(prater_bits))"
   ]
  },
  {
   "cell_type": "code",
   "execution_count": 122,
   "id": "a7c02053-f63d-4894-8919-cdbc24591b23",
   "metadata": {},
   "outputs": [],
   "source": [
    "def decoding(ini_string):\n",
    "# Code to convert hex to binary\n",
    "    n = int(ini_string, 16) \n",
    "    bStr = ''\n",
    "    while n > 0:\n",
    "        bStr = str(n % 2) + bStr\n",
    "        n = n >> 1    \n",
    "    res = bStr\n",
    "    ret = ''\n",
    "    for i in range(0,len(bStr) +1, 8):\n",
    "        temp = bstr[i:i+8]\n",
    "        ret = ret + temp[::-1]\n",
    "    return ret"
   ]
  },
  {
   "cell_type": "code",
   "execution_count": 124,
   "id": "428b3886-6b61-4d51-826f-85a5f4015659",
   "metadata": {},
   "outputs": [],
   "source": [
    "prater_bits_decoded = []\n",
    "for i in prater_bits:\n",
    "    if i == 'No Block At Slot':\n",
    "        prater_bits_decoded.append(i)\n",
    "    else:\n",
    "        prater_bits_decoded.append(decoding(str(i)))"
   ]
  },
  {
   "cell_type": "code",
   "execution_count": 126,
   "id": "2e0868ee-f62f-4460-88c1-ee4c1591e422",
   "metadata": {},
   "outputs": [],
   "source": [
    "freq_dict = {}\n",
    "\n",
    "for i in range(len(prater_bits)):\n",
    "    if prater_bits_decoded[i] == 'No Block At String':\n",
    "        continue\n",
    "    else: \n",
    "        for j in range(len(prater_bits_decoded[i])):\n",
    "            if prater_bits_decoded[i][j] == '0':\n",
    "                if prater_validators[i][j] in freq_dict:\n",
    "                    freq_dict[prater_validators[i][j]] += 1\n",
    "                else:\n",
    "                    freq_dict[prater_validators[i][j]] = 1"
   ]
  },
  {
   "cell_type": "code",
   "execution_count": 127,
   "id": "c6b9fa69-272e-4be3-89bf-b11089461f9c",
   "metadata": {},
   "outputs": [
    {
     "data": {
      "text/html": [
       "<div>\n",
       "<style scoped>\n",
       "    .dataframe tbody tr th:only-of-type {\n",
       "        vertical-align: middle;\n",
       "    }\n",
       "\n",
       "    .dataframe tbody tr th {\n",
       "        vertical-align: top;\n",
       "    }\n",
       "\n",
       "    .dataframe thead th {\n",
       "        text-align: right;\n",
       "    }\n",
       "</style>\n",
       "<table border=\"1\" class=\"dataframe\">\n",
       "  <thead>\n",
       "    <tr style=\"text-align: right;\">\n",
       "      <th></th>\n",
       "      <th>Validator index</th>\n",
       "      <th>Number of missed/incorrect sync</th>\n",
       "    </tr>\n",
       "  </thead>\n",
       "  <tbody>\n",
       "    <tr>\n",
       "      <th>0</th>\n",
       "      <td>204380</td>\n",
       "      <td>138</td>\n",
       "    </tr>\n",
       "    <tr>\n",
       "      <th>1</th>\n",
       "      <td>217704</td>\n",
       "      <td>138</td>\n",
       "    </tr>\n",
       "    <tr>\n",
       "      <th>2</th>\n",
       "      <td>174807</td>\n",
       "      <td>131</td>\n",
       "    </tr>\n",
       "    <tr>\n",
       "      <th>3</th>\n",
       "      <td>15163</td>\n",
       "      <td>131</td>\n",
       "    </tr>\n",
       "    <tr>\n",
       "      <th>4</th>\n",
       "      <td>194298</td>\n",
       "      <td>131</td>\n",
       "    </tr>\n",
       "    <tr>\n",
       "      <th>...</th>\n",
       "      <td>...</td>\n",
       "      <td>...</td>\n",
       "    </tr>\n",
       "    <tr>\n",
       "      <th>345</th>\n",
       "      <td>161783</td>\n",
       "      <td>9</td>\n",
       "    </tr>\n",
       "    <tr>\n",
       "      <th>346</th>\n",
       "      <td>123876</td>\n",
       "      <td>9</td>\n",
       "    </tr>\n",
       "    <tr>\n",
       "      <th>347</th>\n",
       "      <td>68389</td>\n",
       "      <td>9</td>\n",
       "    </tr>\n",
       "    <tr>\n",
       "      <th>348</th>\n",
       "      <td>80524</td>\n",
       "      <td>9</td>\n",
       "    </tr>\n",
       "    <tr>\n",
       "      <th>349</th>\n",
       "      <td>15660</td>\n",
       "      <td>9</td>\n",
       "    </tr>\n",
       "  </tbody>\n",
       "</table>\n",
       "<p>350 rows × 2 columns</p>\n",
       "</div>"
      ],
      "text/plain": [
       "    Validator index  Number of missed/incorrect sync\n",
       "0            204380                              138\n",
       "1            217704                              138\n",
       "2            174807                              131\n",
       "3             15163                              131\n",
       "4            194298                              131\n",
       "..              ...                              ...\n",
       "345          161783                                9\n",
       "346          123876                                9\n",
       "347           68389                                9\n",
       "348           80524                                9\n",
       "349           15660                                9\n",
       "\n",
       "[350 rows x 2 columns]"
      ]
     },
     "execution_count": 127,
     "metadata": {},
     "output_type": "execute_result"
    }
   ],
   "source": [
    "freq_df = pd.DataFrame(freq_dict.items(), columns=['Validator index', 'Number of missed/incorrect sync'])\n",
    "freq_df"
   ]
  },
  {
   "cell_type": "code",
   "execution_count": 128,
   "id": "e841a8a2-531e-4d76-ba2d-f40afc439344",
   "metadata": {},
   "outputs": [],
   "source": [
    "client_df = pd.read_csv('prater_client_map.csv')\n",
    "client = client_df.set_index('Validator index')['Client'].to_dict()\n",
    "\n",
    "client_list = []\n",
    "\n",
    "for i in freq_df['Validator index']:\n",
    "    if int(i) in client: \n",
    "        client_list.append(client[int(i)])\n",
    "    else:\n",
    "        client_list.append('Unknown')"
   ]
  },
  {
   "cell_type": "code",
   "execution_count": 129,
   "id": "11ae9957-ba4a-43da-9765-7e3b1e64abad",
   "metadata": {},
   "outputs": [
    {
     "data": {
      "text/html": [
       "<div>\n",
       "<style scoped>\n",
       "    .dataframe tbody tr th:only-of-type {\n",
       "        vertical-align: middle;\n",
       "    }\n",
       "\n",
       "    .dataframe tbody tr th {\n",
       "        vertical-align: top;\n",
       "    }\n",
       "\n",
       "    .dataframe thead th {\n",
       "        text-align: right;\n",
       "    }\n",
       "</style>\n",
       "<table border=\"1\" class=\"dataframe\">\n",
       "  <thead>\n",
       "    <tr style=\"text-align: right;\">\n",
       "      <th></th>\n",
       "      <th>Validator index</th>\n",
       "      <th>Number of missed/incorrect sync</th>\n",
       "      <th>Client</th>\n",
       "    </tr>\n",
       "  </thead>\n",
       "  <tbody>\n",
       "    <tr>\n",
       "      <th>0</th>\n",
       "      <td>204380</td>\n",
       "      <td>138</td>\n",
       "      <td>Unknown</td>\n",
       "    </tr>\n",
       "    <tr>\n",
       "      <th>1</th>\n",
       "      <td>217704</td>\n",
       "      <td>138</td>\n",
       "      <td>Unknown</td>\n",
       "    </tr>\n",
       "    <tr>\n",
       "      <th>2</th>\n",
       "      <td>174807</td>\n",
       "      <td>131</td>\n",
       "      <td>nimbus</td>\n",
       "    </tr>\n",
       "    <tr>\n",
       "      <th>3</th>\n",
       "      <td>15163</td>\n",
       "      <td>131</td>\n",
       "      <td>teku</td>\n",
       "    </tr>\n",
       "    <tr>\n",
       "      <th>4</th>\n",
       "      <td>194298</td>\n",
       "      <td>131</td>\n",
       "      <td>nimbus</td>\n",
       "    </tr>\n",
       "    <tr>\n",
       "      <th>...</th>\n",
       "      <td>...</td>\n",
       "      <td>...</td>\n",
       "      <td>...</td>\n",
       "    </tr>\n",
       "    <tr>\n",
       "      <th>345</th>\n",
       "      <td>161783</td>\n",
       "      <td>9</td>\n",
       "      <td>nimbus</td>\n",
       "    </tr>\n",
       "    <tr>\n",
       "      <th>346</th>\n",
       "      <td>123876</td>\n",
       "      <td>9</td>\n",
       "      <td>teku</td>\n",
       "    </tr>\n",
       "    <tr>\n",
       "      <th>347</th>\n",
       "      <td>68389</td>\n",
       "      <td>9</td>\n",
       "      <td>prysm</td>\n",
       "    </tr>\n",
       "    <tr>\n",
       "      <th>348</th>\n",
       "      <td>80524</td>\n",
       "      <td>9</td>\n",
       "      <td>lighthouse</td>\n",
       "    </tr>\n",
       "    <tr>\n",
       "      <th>349</th>\n",
       "      <td>15660</td>\n",
       "      <td>9</td>\n",
       "      <td>teku</td>\n",
       "    </tr>\n",
       "  </tbody>\n",
       "</table>\n",
       "<p>350 rows × 3 columns</p>\n",
       "</div>"
      ],
      "text/plain": [
       "    Validator index  Number of missed/incorrect sync      Client\n",
       "0            204380                              138     Unknown\n",
       "1            217704                              138     Unknown\n",
       "2            174807                              131      nimbus\n",
       "3             15163                              131        teku\n",
       "4            194298                              131      nimbus\n",
       "..              ...                              ...         ...\n",
       "345          161783                                9      nimbus\n",
       "346          123876                                9        teku\n",
       "347           68389                                9       prysm\n",
       "348           80524                                9  lighthouse\n",
       "349           15660                                9        teku\n",
       "\n",
       "[350 rows x 3 columns]"
      ]
     },
     "execution_count": 129,
     "metadata": {},
     "output_type": "execute_result"
    }
   ],
   "source": [
    "freq_df['Client'] = client_list\n",
    "freq_df"
   ]
  },
  {
   "cell_type": "code",
   "execution_count": 130,
   "id": "75520fb2-cad7-4aa1-8394-5eefba80eb03",
   "metadata": {},
   "outputs": [
    {
     "data": {
      "application/vnd.plotly.v1+json": {
       "config": {
        "plotlyServerURL": "https://plot.ly"
       },
       "data": [
        {
         "hovertemplate": "Client=Unknown<br>Validator index=%{x}<br>Number of missed/incorrect sync=%{y}<extra></extra>",
         "legendgroup": "Unknown",
         "marker": {
          "color": "#636efa",
          "symbol": "circle"
         },
         "mode": "markers",
         "name": "Unknown",
         "orientation": "v",
         "showlegend": true,
         "type": "scatter",
         "x": [
          "204380",
          "217704",
          "206920",
          "216518",
          "202060",
          "216099",
          "208689",
          "215869",
          "225808",
          "204976",
          "225786",
          "201197",
          "207271",
          "224108",
          "208376",
          "201354",
          "217383",
          "224537",
          "205486",
          "216056",
          "204559",
          "205229",
          "210908",
          "204703",
          "205386",
          "227610",
          "206226",
          "202978",
          "201013",
          "207323",
          "205627",
          "215395",
          "206757",
          "207393",
          "204288",
          "205811",
          "227142",
          "213657",
          "218052",
          "217607",
          "230728",
          "229408",
          "203156",
          "230227",
          "201884",
          "205629",
          "210097",
          "206979",
          "209912",
          "227059",
          "224207",
          "223308",
          "201146",
          "225770",
          "214024",
          "219266",
          "204426",
          "218984",
          "207826",
          "201625",
          "230924"
         ],
         "xaxis": "x",
         "y": [
          138,
          138,
          131,
          131,
          131,
          131,
          131,
          131,
          131,
          131,
          131,
          131,
          131,
          131,
          131,
          131,
          131,
          131,
          131,
          131,
          131,
          131,
          131,
          131,
          131,
          131,
          131,
          131,
          131,
          131,
          131,
          131,
          131,
          131,
          131,
          131,
          131,
          9,
          9,
          9,
          9,
          9,
          9,
          9,
          9,
          9,
          9,
          9,
          9,
          9,
          9,
          9,
          9,
          9,
          9,
          9,
          9,
          9,
          9,
          9,
          9
         ],
         "yaxis": "y"
        },
        {
         "hovertemplate": "Client=nimbus<br>Validator index=%{x}<br>Number of missed/incorrect sync=%{y}<extra></extra>",
         "legendgroup": "nimbus",
         "marker": {
          "color": "#EF553B",
          "symbol": "circle"
         },
         "mode": "markers",
         "name": "nimbus",
         "orientation": "v",
         "showlegend": true,
         "type": "scatter",
         "x": [
          "174807",
          "194298",
          "185514",
          "161964",
          "183731",
          "161259",
          "192376",
          "5582",
          "167275",
          "164724",
          "181121",
          "187268",
          "199829",
          "174140",
          "189950",
          "161426",
          "181846",
          "161559",
          "194036",
          "8875",
          "190471",
          "5846",
          "162050",
          "175925",
          "195185",
          "34240",
          "170045",
          "194185",
          "193740",
          "171527",
          "196169",
          "165790",
          "182551",
          "182859",
          "170712",
          "161501",
          "169678",
          "183224",
          "191955",
          "170249",
          "175562",
          "191181",
          "29458",
          "186426",
          "183984",
          "165323",
          "196507",
          "34701",
          "168787",
          "170774",
          "5498",
          "185201",
          "195342",
          "163297",
          "174483",
          "185502",
          "164969",
          "175144",
          "162464",
          "186009",
          "195514",
          "181191",
          "172809",
          "173229",
          "197459",
          "165523",
          "161040",
          "187146",
          "175710",
          "170317",
          "160512",
          "184385",
          "160177",
          "187349",
          "187827",
          "192243",
          "199186",
          "187403",
          "191662",
          "179454",
          "175339",
          "191718",
          "191179",
          "194317",
          "179908",
          "198935",
          "192455",
          "174944",
          "195236",
          "186596",
          "167589",
          "190162",
          "186368",
          "175976",
          "166406",
          "185034",
          "184460",
          "196233",
          "170650",
          "196671",
          "8424",
          "192892",
          "170838",
          "29288",
          "170215",
          "173567",
          "163638",
          "169928",
          "190182",
          "163917",
          "172568",
          "174305",
          "172400",
          "173307",
          "198461",
          "163023",
          "168104",
          "169542",
          "178132",
          "170515",
          "161597",
          "193590",
          "184579",
          "192428",
          "178593",
          "188238",
          "166451",
          "160989",
          "5553",
          "184528",
          "181268",
          "189601",
          "167107",
          "173509",
          "29869",
          "197079",
          "192131",
          "182232",
          "172546",
          "177330",
          "196491",
          "194622",
          "163907",
          "179045",
          "178841",
          "34443",
          "170812",
          "161783"
         ],
         "xaxis": "x",
         "y": [
          131,
          131,
          131,
          131,
          131,
          131,
          131,
          131,
          131,
          131,
          131,
          131,
          131,
          131,
          131,
          131,
          131,
          131,
          131,
          131,
          131,
          131,
          131,
          131,
          131,
          131,
          131,
          131,
          131,
          131,
          131,
          131,
          131,
          131,
          131,
          131,
          131,
          131,
          131,
          131,
          131,
          131,
          131,
          131,
          131,
          131,
          131,
          131,
          131,
          131,
          131,
          131,
          131,
          131,
          131,
          131,
          131,
          131,
          140,
          131,
          131,
          131,
          131,
          131,
          131,
          131,
          131,
          131,
          131,
          131,
          131,
          131,
          131,
          131,
          131,
          131,
          131,
          131,
          131,
          131,
          131,
          131,
          131,
          131,
          131,
          131,
          131,
          131,
          131,
          131,
          131,
          131,
          131,
          131,
          131,
          131,
          131,
          131,
          131,
          131,
          131,
          131,
          131,
          131,
          9,
          9,
          9,
          9,
          9,
          9,
          9,
          9,
          9,
          9,
          9,
          9,
          9,
          9,
          9,
          9,
          9,
          9,
          9,
          9,
          9,
          9,
          9,
          9,
          9,
          9,
          9,
          9,
          9,
          9,
          9,
          9,
          9,
          9,
          9,
          9,
          9,
          9,
          9,
          9,
          9,
          9,
          9,
          9
         ],
         "yaxis": "y"
        },
        {
         "hovertemplate": "Client=teku<br>Validator index=%{x}<br>Number of missed/incorrect sync=%{y}<extra></extra>",
         "legendgroup": "teku",
         "marker": {
          "color": "#00cc96",
          "symbol": "circle"
         },
         "mode": "markers",
         "name": "teku",
         "orientation": "v",
         "showlegend": true,
         "type": "scatter",
         "x": [
          "15163",
          "11182",
          "12867",
          "15111",
          "15971",
          "11570",
          "12827",
          "13917",
          "15223",
          "12260",
          "15945",
          "13732",
          "139350",
          "152670",
          "140132",
          "12935",
          "136115",
          "138672",
          "153743",
          "142524",
          "147911",
          "141332",
          "11826",
          "129503",
          "125328",
          "157948",
          "152270",
          "147394",
          "13140",
          "150869",
          "150975",
          "146273",
          "159173",
          "144832",
          "120789",
          "14121",
          "131284",
          "123246",
          "123876",
          "15660"
         ],
         "xaxis": "x",
         "y": [
          131,
          131,
          131,
          131,
          131,
          131,
          131,
          131,
          131,
          131,
          131,
          131,
          9,
          9,
          9,
          9,
          9,
          9,
          9,
          9,
          9,
          9,
          9,
          9,
          9,
          9,
          9,
          9,
          9,
          9,
          9,
          9,
          9,
          9,
          9,
          9,
          9,
          9,
          9,
          9
         ],
         "yaxis": "y"
        },
        {
         "hovertemplate": "Client=prysm<br>Validator index=%{x}<br>Number of missed/incorrect sync=%{y}<extra></extra>",
         "legendgroup": "prysm",
         "marker": {
          "color": "#ab63fa",
          "symbol": "circle"
         },
         "mode": "markers",
         "name": "prysm",
         "orientation": "v",
         "showlegend": true,
         "type": "scatter",
         "x": [
          "32020",
          "35990",
          "39929",
          "38237",
          "39974",
          "38175",
          "37960",
          "38522",
          "35280",
          "38931",
          "37246",
          "39090",
          "35145",
          "38385",
          "37865",
          "37767",
          "52917",
          "45480",
          "4597",
          "78147",
          "68866",
          "4360",
          "52343",
          "42221",
          "55670",
          "58333",
          "1588",
          "63767",
          "48814",
          "38399",
          "39074",
          "53285",
          "54171",
          "60009",
          "56742",
          "52516",
          "61550",
          "39242",
          "62655",
          "67578",
          "62549",
          "40737",
          "77507",
          "73270",
          "7340",
          "79864",
          "79450",
          "7235",
          "74831",
          "38843",
          "48518",
          "58304",
          "27046",
          "50111",
          "65520",
          "76928",
          "78848",
          "55028",
          "50016",
          "68389"
         ],
         "xaxis": "x",
         "y": [
          131,
          131,
          131,
          131,
          131,
          131,
          131,
          131,
          131,
          131,
          131,
          131,
          131,
          131,
          131,
          131,
          9,
          9,
          9,
          9,
          9,
          9,
          9,
          9,
          9,
          9,
          9,
          9,
          9,
          9,
          9,
          9,
          9,
          9,
          9,
          9,
          9,
          9,
          9,
          9,
          9,
          9,
          9,
          9,
          9,
          9,
          9,
          9,
          9,
          9,
          9,
          9,
          9,
          9,
          9,
          9,
          9,
          9,
          9,
          9
         ],
         "yaxis": "y"
        },
        {
         "hovertemplate": "Client=lighthouse<br>Validator index=%{x}<br>Number of missed/incorrect sync=%{y}<extra></extra>",
         "legendgroup": "lighthouse",
         "marker": {
          "color": "#FFA15A",
          "symbol": "circle"
         },
         "mode": "markers",
         "name": "lighthouse",
         "orientation": "v",
         "showlegend": true,
         "type": "scatter",
         "x": [
          "30424",
          "25662",
          "22933",
          "30828",
          "30778",
          "30716",
          "30125",
          "97854",
          "52",
          "94392",
          "94352",
          "113379",
          "88504",
          "110399",
          "93405",
          "33316",
          "83174",
          "118232",
          "91742",
          "33556",
          "95751",
          "111722",
          "6534",
          "111899",
          "6010",
          "9259",
          "9107",
          "111765",
          "6005",
          "33048",
          "107591",
          "102734",
          "110952",
          "114557",
          "99374",
          "25042",
          "94671",
          "95006",
          "119508",
          "111049",
          "80524"
         ],
         "xaxis": "x",
         "y": [
          131,
          131,
          131,
          131,
          131,
          131,
          140,
          9,
          9,
          9,
          9,
          9,
          9,
          9,
          9,
          9,
          9,
          9,
          9,
          9,
          9,
          9,
          9,
          9,
          9,
          9,
          9,
          9,
          9,
          9,
          9,
          9,
          9,
          9,
          9,
          9,
          9,
          9,
          9,
          9,
          9
         ],
         "yaxis": "y"
        }
       ],
       "layout": {
        "autosize": true,
        "legend": {
         "title": {
          "text": "Client"
         },
         "tracegroupgap": 0
        },
        "margin": {
         "t": 60
        },
        "template": {
         "data": {
          "bar": [
           {
            "error_x": {
             "color": "#2a3f5f"
            },
            "error_y": {
             "color": "#2a3f5f"
            },
            "marker": {
             "line": {
              "color": "#E5ECF6",
              "width": 0.5
             }
            },
            "type": "bar"
           }
          ],
          "barpolar": [
           {
            "marker": {
             "line": {
              "color": "#E5ECF6",
              "width": 0.5
             }
            },
            "type": "barpolar"
           }
          ],
          "carpet": [
           {
            "aaxis": {
             "endlinecolor": "#2a3f5f",
             "gridcolor": "white",
             "linecolor": "white",
             "minorgridcolor": "white",
             "startlinecolor": "#2a3f5f"
            },
            "baxis": {
             "endlinecolor": "#2a3f5f",
             "gridcolor": "white",
             "linecolor": "white",
             "minorgridcolor": "white",
             "startlinecolor": "#2a3f5f"
            },
            "type": "carpet"
           }
          ],
          "choropleth": [
           {
            "colorbar": {
             "outlinewidth": 0,
             "ticks": ""
            },
            "type": "choropleth"
           }
          ],
          "contour": [
           {
            "colorbar": {
             "outlinewidth": 0,
             "ticks": ""
            },
            "colorscale": [
             [
              0,
              "#0d0887"
             ],
             [
              0.1111111111111111,
              "#46039f"
             ],
             [
              0.2222222222222222,
              "#7201a8"
             ],
             [
              0.3333333333333333,
              "#9c179e"
             ],
             [
              0.4444444444444444,
              "#bd3786"
             ],
             [
              0.5555555555555556,
              "#d8576b"
             ],
             [
              0.6666666666666666,
              "#ed7953"
             ],
             [
              0.7777777777777778,
              "#fb9f3a"
             ],
             [
              0.8888888888888888,
              "#fdca26"
             ],
             [
              1,
              "#f0f921"
             ]
            ],
            "type": "contour"
           }
          ],
          "contourcarpet": [
           {
            "colorbar": {
             "outlinewidth": 0,
             "ticks": ""
            },
            "type": "contourcarpet"
           }
          ],
          "heatmap": [
           {
            "colorbar": {
             "outlinewidth": 0,
             "ticks": ""
            },
            "colorscale": [
             [
              0,
              "#0d0887"
             ],
             [
              0.1111111111111111,
              "#46039f"
             ],
             [
              0.2222222222222222,
              "#7201a8"
             ],
             [
              0.3333333333333333,
              "#9c179e"
             ],
             [
              0.4444444444444444,
              "#bd3786"
             ],
             [
              0.5555555555555556,
              "#d8576b"
             ],
             [
              0.6666666666666666,
              "#ed7953"
             ],
             [
              0.7777777777777778,
              "#fb9f3a"
             ],
             [
              0.8888888888888888,
              "#fdca26"
             ],
             [
              1,
              "#f0f921"
             ]
            ],
            "type": "heatmap"
           }
          ],
          "heatmapgl": [
           {
            "colorbar": {
             "outlinewidth": 0,
             "ticks": ""
            },
            "colorscale": [
             [
              0,
              "#0d0887"
             ],
             [
              0.1111111111111111,
              "#46039f"
             ],
             [
              0.2222222222222222,
              "#7201a8"
             ],
             [
              0.3333333333333333,
              "#9c179e"
             ],
             [
              0.4444444444444444,
              "#bd3786"
             ],
             [
              0.5555555555555556,
              "#d8576b"
             ],
             [
              0.6666666666666666,
              "#ed7953"
             ],
             [
              0.7777777777777778,
              "#fb9f3a"
             ],
             [
              0.8888888888888888,
              "#fdca26"
             ],
             [
              1,
              "#f0f921"
             ]
            ],
            "type": "heatmapgl"
           }
          ],
          "histogram": [
           {
            "marker": {
             "colorbar": {
              "outlinewidth": 0,
              "ticks": ""
             }
            },
            "type": "histogram"
           }
          ],
          "histogram2d": [
           {
            "colorbar": {
             "outlinewidth": 0,
             "ticks": ""
            },
            "colorscale": [
             [
              0,
              "#0d0887"
             ],
             [
              0.1111111111111111,
              "#46039f"
             ],
             [
              0.2222222222222222,
              "#7201a8"
             ],
             [
              0.3333333333333333,
              "#9c179e"
             ],
             [
              0.4444444444444444,
              "#bd3786"
             ],
             [
              0.5555555555555556,
              "#d8576b"
             ],
             [
              0.6666666666666666,
              "#ed7953"
             ],
             [
              0.7777777777777778,
              "#fb9f3a"
             ],
             [
              0.8888888888888888,
              "#fdca26"
             ],
             [
              1,
              "#f0f921"
             ]
            ],
            "type": "histogram2d"
           }
          ],
          "histogram2dcontour": [
           {
            "colorbar": {
             "outlinewidth": 0,
             "ticks": ""
            },
            "colorscale": [
             [
              0,
              "#0d0887"
             ],
             [
              0.1111111111111111,
              "#46039f"
             ],
             [
              0.2222222222222222,
              "#7201a8"
             ],
             [
              0.3333333333333333,
              "#9c179e"
             ],
             [
              0.4444444444444444,
              "#bd3786"
             ],
             [
              0.5555555555555556,
              "#d8576b"
             ],
             [
              0.6666666666666666,
              "#ed7953"
             ],
             [
              0.7777777777777778,
              "#fb9f3a"
             ],
             [
              0.8888888888888888,
              "#fdca26"
             ],
             [
              1,
              "#f0f921"
             ]
            ],
            "type": "histogram2dcontour"
           }
          ],
          "mesh3d": [
           {
            "colorbar": {
             "outlinewidth": 0,
             "ticks": ""
            },
            "type": "mesh3d"
           }
          ],
          "parcoords": [
           {
            "line": {
             "colorbar": {
              "outlinewidth": 0,
              "ticks": ""
             }
            },
            "type": "parcoords"
           }
          ],
          "pie": [
           {
            "automargin": true,
            "type": "pie"
           }
          ],
          "scatter": [
           {
            "marker": {
             "colorbar": {
              "outlinewidth": 0,
              "ticks": ""
             }
            },
            "type": "scatter"
           }
          ],
          "scatter3d": [
           {
            "line": {
             "colorbar": {
              "outlinewidth": 0,
              "ticks": ""
             }
            },
            "marker": {
             "colorbar": {
              "outlinewidth": 0,
              "ticks": ""
             }
            },
            "type": "scatter3d"
           }
          ],
          "scattercarpet": [
           {
            "marker": {
             "colorbar": {
              "outlinewidth": 0,
              "ticks": ""
             }
            },
            "type": "scattercarpet"
           }
          ],
          "scattergeo": [
           {
            "marker": {
             "colorbar": {
              "outlinewidth": 0,
              "ticks": ""
             }
            },
            "type": "scattergeo"
           }
          ],
          "scattergl": [
           {
            "marker": {
             "colorbar": {
              "outlinewidth": 0,
              "ticks": ""
             }
            },
            "type": "scattergl"
           }
          ],
          "scattermapbox": [
           {
            "marker": {
             "colorbar": {
              "outlinewidth": 0,
              "ticks": ""
             }
            },
            "type": "scattermapbox"
           }
          ],
          "scatterpolar": [
           {
            "marker": {
             "colorbar": {
              "outlinewidth": 0,
              "ticks": ""
             }
            },
            "type": "scatterpolar"
           }
          ],
          "scatterpolargl": [
           {
            "marker": {
             "colorbar": {
              "outlinewidth": 0,
              "ticks": ""
             }
            },
            "type": "scatterpolargl"
           }
          ],
          "scatterternary": [
           {
            "marker": {
             "colorbar": {
              "outlinewidth": 0,
              "ticks": ""
             }
            },
            "type": "scatterternary"
           }
          ],
          "surface": [
           {
            "colorbar": {
             "outlinewidth": 0,
             "ticks": ""
            },
            "colorscale": [
             [
              0,
              "#0d0887"
             ],
             [
              0.1111111111111111,
              "#46039f"
             ],
             [
              0.2222222222222222,
              "#7201a8"
             ],
             [
              0.3333333333333333,
              "#9c179e"
             ],
             [
              0.4444444444444444,
              "#bd3786"
             ],
             [
              0.5555555555555556,
              "#d8576b"
             ],
             [
              0.6666666666666666,
              "#ed7953"
             ],
             [
              0.7777777777777778,
              "#fb9f3a"
             ],
             [
              0.8888888888888888,
              "#fdca26"
             ],
             [
              1,
              "#f0f921"
             ]
            ],
            "type": "surface"
           }
          ],
          "table": [
           {
            "cells": {
             "fill": {
              "color": "#EBF0F8"
             },
             "line": {
              "color": "white"
             }
            },
            "header": {
             "fill": {
              "color": "#C8D4E3"
             },
             "line": {
              "color": "white"
             }
            },
            "type": "table"
           }
          ]
         },
         "layout": {
          "annotationdefaults": {
           "arrowcolor": "#2a3f5f",
           "arrowhead": 0,
           "arrowwidth": 1
          },
          "autotypenumbers": "strict",
          "coloraxis": {
           "colorbar": {
            "outlinewidth": 0,
            "ticks": ""
           }
          },
          "colorscale": {
           "diverging": [
            [
             0,
             "#8e0152"
            ],
            [
             0.1,
             "#c51b7d"
            ],
            [
             0.2,
             "#de77ae"
            ],
            [
             0.3,
             "#f1b6da"
            ],
            [
             0.4,
             "#fde0ef"
            ],
            [
             0.5,
             "#f7f7f7"
            ],
            [
             0.6,
             "#e6f5d0"
            ],
            [
             0.7,
             "#b8e186"
            ],
            [
             0.8,
             "#7fbc41"
            ],
            [
             0.9,
             "#4d9221"
            ],
            [
             1,
             "#276419"
            ]
           ],
           "sequential": [
            [
             0,
             "#0d0887"
            ],
            [
             0.1111111111111111,
             "#46039f"
            ],
            [
             0.2222222222222222,
             "#7201a8"
            ],
            [
             0.3333333333333333,
             "#9c179e"
            ],
            [
             0.4444444444444444,
             "#bd3786"
            ],
            [
             0.5555555555555556,
             "#d8576b"
            ],
            [
             0.6666666666666666,
             "#ed7953"
            ],
            [
             0.7777777777777778,
             "#fb9f3a"
            ],
            [
             0.8888888888888888,
             "#fdca26"
            ],
            [
             1,
             "#f0f921"
            ]
           ],
           "sequentialminus": [
            [
             0,
             "#0d0887"
            ],
            [
             0.1111111111111111,
             "#46039f"
            ],
            [
             0.2222222222222222,
             "#7201a8"
            ],
            [
             0.3333333333333333,
             "#9c179e"
            ],
            [
             0.4444444444444444,
             "#bd3786"
            ],
            [
             0.5555555555555556,
             "#d8576b"
            ],
            [
             0.6666666666666666,
             "#ed7953"
            ],
            [
             0.7777777777777778,
             "#fb9f3a"
            ],
            [
             0.8888888888888888,
             "#fdca26"
            ],
            [
             1,
             "#f0f921"
            ]
           ]
          },
          "colorway": [
           "#636efa",
           "#EF553B",
           "#00cc96",
           "#ab63fa",
           "#FFA15A",
           "#19d3f3",
           "#FF6692",
           "#B6E880",
           "#FF97FF",
           "#FECB52"
          ],
          "font": {
           "color": "#2a3f5f"
          },
          "geo": {
           "bgcolor": "white",
           "lakecolor": "white",
           "landcolor": "#E5ECF6",
           "showlakes": true,
           "showland": true,
           "subunitcolor": "white"
          },
          "hoverlabel": {
           "align": "left"
          },
          "hovermode": "closest",
          "mapbox": {
           "style": "light"
          },
          "paper_bgcolor": "white",
          "plot_bgcolor": "#E5ECF6",
          "polar": {
           "angularaxis": {
            "gridcolor": "white",
            "linecolor": "white",
            "ticks": ""
           },
           "bgcolor": "#E5ECF6",
           "radialaxis": {
            "gridcolor": "white",
            "linecolor": "white",
            "ticks": ""
           }
          },
          "scene": {
           "xaxis": {
            "backgroundcolor": "#E5ECF6",
            "gridcolor": "white",
            "gridwidth": 2,
            "linecolor": "white",
            "showbackground": true,
            "ticks": "",
            "zerolinecolor": "white"
           },
           "yaxis": {
            "backgroundcolor": "#E5ECF6",
            "gridcolor": "white",
            "gridwidth": 2,
            "linecolor": "white",
            "showbackground": true,
            "ticks": "",
            "zerolinecolor": "white"
           },
           "zaxis": {
            "backgroundcolor": "#E5ECF6",
            "gridcolor": "white",
            "gridwidth": 2,
            "linecolor": "white",
            "showbackground": true,
            "ticks": "",
            "zerolinecolor": "white"
           }
          },
          "shapedefaults": {
           "line": {
            "color": "#2a3f5f"
           }
          },
          "ternary": {
           "aaxis": {
            "gridcolor": "white",
            "linecolor": "white",
            "ticks": ""
           },
           "baxis": {
            "gridcolor": "white",
            "linecolor": "white",
            "ticks": ""
           },
           "bgcolor": "#E5ECF6",
           "caxis": {
            "gridcolor": "white",
            "linecolor": "white",
            "ticks": ""
           }
          },
          "title": {
           "x": 0.05
          },
          "xaxis": {
           "automargin": true,
           "gridcolor": "white",
           "linecolor": "white",
           "ticks": "",
           "title": {
            "standoff": 15
           },
           "zerolinecolor": "white",
           "zerolinewidth": 2
          },
          "yaxis": {
           "automargin": true,
           "gridcolor": "white",
           "linecolor": "white",
           "ticks": "",
           "title": {
            "standoff": 15
           },
           "zerolinecolor": "white",
           "zerolinewidth": 2
          }
         }
        },
        "xaxis": {
         "anchor": "y",
         "autorange": true,
         "domain": [
          0,
          1
         ],
         "range": [
          -22.03475254730714,
          371.03475254730716
         ],
         "title": {
          "text": "Validator index"
         },
         "type": "category"
        },
        "yaxis": {
         "anchor": "x",
         "autorange": true,
         "domain": [
          0,
          1
         ],
         "range": [
          -0.35714285714285765,
          149.35714285714286
         ],
         "title": {
          "text": "Number of missed/incorrect sync"
         },
         "type": "linear"
        }
       }
      },
      "image/png": "[encoded data removed]",
      "text/html": [
       "<div>                            <div id=\"b915c90c-15bd-4cdf-a9e9-f8dd9cd84163\" class=\"plotly-graph-div\" style=\"height:525px; width:100%;\"></div>            <script type=\"text/javascript\">                require([\"plotly\"], function(Plotly) {                    window.PLOTLYENV=window.PLOTLYENV || {};                                    if (document.getElementById(\"b915c90c-15bd-4cdf-a9e9-f8dd9cd84163\")) {                    Plotly.newPlot(                        \"b915c90c-15bd-4cdf-a9e9-f8dd9cd84163\",                        [{\"hovertemplate\": \"Client=Unknown<br>Validator index=%{x}<br>Number of missed/incorrect sync=%{y}<extra></extra>\", \"legendgroup\": \"Unknown\", \"marker\": {\"color\": \"#636efa\", \"symbol\": \"circle\"}, \"mode\": \"markers\", \"name\": \"Unknown\", \"orientation\": \"v\", \"showlegend\": true, \"type\": \"scatter\", \"x\": [\"204380\", \"217704\", \"206920\", \"216518\", \"202060\", \"216099\", \"208689\", \"215869\", \"225808\", \"204976\", \"225786\", \"201197\", \"207271\", \"224108\", \"208376\", \"201354\", \"217383\", \"224537\", \"205486\", \"216056\", \"204559\", \"205229\", \"210908\", \"204703\", \"205386\", \"227610\", \"206226\", \"202978\", \"201013\", \"207323\", \"205627\", \"215395\", \"206757\", \"207393\", \"204288\", \"205811\", \"227142\", \"213657\", \"218052\", \"217607\", \"230728\", \"229408\", \"203156\", \"230227\", \"201884\", \"205629\", \"210097\", \"206979\", \"209912\", \"227059\", \"224207\", \"223308\", \"201146\", \"225770\", \"214024\", \"219266\", \"204426\", \"218984\", \"207826\", \"201625\", \"230924\"], \"xaxis\": \"x\", \"y\": [138, 138, 131, 131, 131, 131, 131, 131, 131, 131, 131, 131, 131, 131, 131, 131, 131, 131, 131, 131, 131, 131, 131, 131, 131, 131, 131, 131, 131, 131, 131, 131, 131, 131, 131, 131, 131, 9, 9, 9, 9, 9, 9, 9, 9, 9, 9, 9, 9, 9, 9, 9, 9, 9, 9, 9, 9, 9, 9, 9, 9], \"yaxis\": \"y\"}, {\"hovertemplate\": \"Client=nimbus<br>Validator index=%{x}<br>Number of missed/incorrect sync=%{y}<extra></extra>\", \"legendgroup\": \"nimbus\", \"marker\": {\"color\": \"#EF553B\", \"symbol\": \"circle\"}, \"mode\": \"markers\", \"name\": \"nimbus\", \"orientation\": \"v\", \"showlegend\": true, \"type\": \"scatter\", \"x\": [\"174807\", \"194298\", \"185514\", \"161964\", \"183731\", \"161259\", \"192376\", \"5582\", \"167275\", \"164724\", \"181121\", \"187268\", \"199829\", \"174140\", \"189950\", \"161426\", \"181846\", \"161559\", \"194036\", \"8875\", \"190471\", \"5846\", \"162050\", \"175925\", \"195185\", \"34240\", \"170045\", \"194185\", \"193740\", \"171527\", \"196169\", \"165790\", \"182551\", \"182859\", \"170712\", \"161501\", \"169678\", \"183224\", \"191955\", \"170249\", \"175562\", \"191181\", \"29458\", \"186426\", \"183984\", \"165323\", \"196507\", \"34701\", \"168787\", \"170774\", \"5498\", \"185201\", \"195342\", \"163297\", \"174483\", \"185502\", \"164969\", \"175144\", \"162464\", \"186009\", \"195514\", \"181191\", \"172809\", \"173229\", \"197459\", \"165523\", \"161040\", \"187146\", \"175710\", \"170317\", \"160512\", \"184385\", \"160177\", \"187349\", \"187827\", \"192243\", \"199186\", \"187403\", \"191662\", \"179454\", \"175339\", \"191718\", \"191179\", \"194317\", \"179908\", \"198935\", \"192455\", \"174944\", \"195236\", \"186596\", \"167589\", \"190162\", \"186368\", \"175976\", \"166406\", \"185034\", \"184460\", \"196233\", \"170650\", \"196671\", \"8424\", \"192892\", \"170838\", \"29288\", \"170215\", \"173567\", \"163638\", \"169928\", \"190182\", \"163917\", \"172568\", \"174305\", \"172400\", \"173307\", \"198461\", \"163023\", \"168104\", \"169542\", \"178132\", \"170515\", \"161597\", \"193590\", \"184579\", \"192428\", \"178593\", \"188238\", \"166451\", \"160989\", \"5553\", \"184528\", \"181268\", \"189601\", \"167107\", \"173509\", \"29869\", \"197079\", \"192131\", \"182232\", \"172546\", \"177330\", \"196491\", \"194622\", \"163907\", \"179045\", \"178841\", \"34443\", \"170812\", \"161783\"], \"xaxis\": \"x\", \"y\": [131, 131, 131, 131, 131, 131, 131, 131, 131, 131, 131, 131, 131, 131, 131, 131, 131, 131, 131, 131, 131, 131, 131, 131, 131, 131, 131, 131, 131, 131, 131, 131, 131, 131, 131, 131, 131, 131, 131, 131, 131, 131, 131, 131, 131, 131, 131, 131, 131, 131, 131, 131, 131, 131, 131, 131, 131, 131, 140, 131, 131, 131, 131, 131, 131, 131, 131, 131, 131, 131, 131, 131, 131, 131, 131, 131, 131, 131, 131, 131, 131, 131, 131, 131, 131, 131, 131, 131, 131, 131, 131, 131, 131, 131, 131, 131, 131, 131, 131, 131, 131, 131, 131, 131, 9, 9, 9, 9, 9, 9, 9, 9, 9, 9, 9, 9, 9, 9, 9, 9, 9, 9, 9, 9, 9, 9, 9, 9, 9, 9, 9, 9, 9, 9, 9, 9, 9, 9, 9, 9, 9, 9, 9, 9, 9, 9, 9, 9], \"yaxis\": \"y\"}, {\"hovertemplate\": \"Client=teku<br>Validator index=%{x}<br>Number of missed/incorrect sync=%{y}<extra></extra>\", \"legendgroup\": \"teku\", \"marker\": {\"color\": \"#00cc96\", \"symbol\": \"circle\"}, \"mode\": \"markers\", \"name\": \"teku\", \"orientation\": \"v\", \"showlegend\": true, \"type\": \"scatter\", \"x\": [\"15163\", \"11182\", \"12867\", \"15111\", \"15971\", \"11570\", \"12827\", \"13917\", \"15223\", \"12260\", \"15945\", \"13732\", \"139350\", \"152670\", \"140132\", \"12935\", \"136115\", \"138672\", \"153743\", \"142524\", \"147911\", \"141332\", \"11826\", \"129503\", \"125328\", \"157948\", \"152270\", \"147394\", \"13140\", \"150869\", \"150975\", \"146273\", \"159173\", \"144832\", \"120789\", \"14121\", \"131284\", \"123246\", \"123876\", \"15660\"], \"xaxis\": \"x\", \"y\": [131, 131, 131, 131, 131, 131, 131, 131, 131, 131, 131, 131, 9, 9, 9, 9, 9, 9, 9, 9, 9, 9, 9, 9, 9, 9, 9, 9, 9, 9, 9, 9, 9, 9, 9, 9, 9, 9, 9, 9], \"yaxis\": \"y\"}, {\"hovertemplate\": \"Client=prysm<br>Validator index=%{x}<br>Number of missed/incorrect sync=%{y}<extra></extra>\", \"legendgroup\": \"prysm\", \"marker\": {\"color\": \"#ab63fa\", \"symbol\": \"circle\"}, \"mode\": \"markers\", \"name\": \"prysm\", \"orientation\": \"v\", \"showlegend\": true, \"type\": \"scatter\", \"x\": [\"32020\", \"35990\", \"39929\", \"38237\", \"39974\", \"38175\", \"37960\", \"38522\", \"35280\", \"38931\", \"37246\", \"39090\", \"35145\", \"38385\", \"37865\", \"37767\", \"52917\", \"45480\", \"4597\", \"78147\", \"68866\", \"4360\", \"52343\", \"42221\", \"55670\", \"58333\", \"1588\", \"63767\", \"48814\", \"38399\", \"39074\", \"53285\", \"54171\", \"60009\", \"56742\", \"52516\", \"61550\", \"39242\", \"62655\", \"67578\", \"62549\", \"40737\", \"77507\", \"73270\", \"7340\", \"79864\", \"79450\", \"7235\", \"74831\", \"38843\", \"48518\", \"58304\", \"27046\", \"50111\", \"65520\", \"76928\", \"78848\", \"55028\", \"50016\", \"68389\"], \"xaxis\": \"x\", \"y\": [131, 131, 131, 131, 131, 131, 131, 131, 131, 131, 131, 131, 131, 131, 131, 131, 9, 9, 9, 9, 9, 9, 9, 9, 9, 9, 9, 9, 9, 9, 9, 9, 9, 9, 9, 9, 9, 9, 9, 9, 9, 9, 9, 9, 9, 9, 9, 9, 9, 9, 9, 9, 9, 9, 9, 9, 9, 9, 9, 9], \"yaxis\": \"y\"}, {\"hovertemplate\": \"Client=lighthouse<br>Validator index=%{x}<br>Number of missed/incorrect sync=%{y}<extra></extra>\", \"legendgroup\": \"lighthouse\", \"marker\": {\"color\": \"#FFA15A\", \"symbol\": \"circle\"}, \"mode\": \"markers\", \"name\": \"lighthouse\", \"orientation\": \"v\", \"showlegend\": true, \"type\": \"scatter\", \"x\": [\"30424\", \"25662\", \"22933\", \"30828\", \"30778\", \"30716\", \"30125\", \"97854\", \"52\", \"94392\", \"94352\", \"113379\", \"88504\", \"110399\", \"93405\", \"33316\", \"83174\", \"118232\", \"91742\", \"33556\", \"95751\", \"111722\", \"6534\", \"111899\", \"6010\", \"9259\", \"9107\", \"111765\", \"6005\", \"33048\", \"107591\", \"102734\", \"110952\", \"114557\", \"99374\", \"25042\", \"94671\", \"95006\", \"119508\", \"111049\", \"80524\"], \"xaxis\": \"x\", \"y\": [131, 131, 131, 131, 131, 131, 140, 9, 9, 9, 9, 9, 9, 9, 9, 9, 9, 9, 9, 9, 9, 9, 9, 9, 9, 9, 9, 9, 9, 9, 9, 9, 9, 9, 9, 9, 9, 9, 9, 9, 9], \"yaxis\": \"y\"}],                        {\"legend\": {\"title\": {\"text\": \"Client\"}, \"tracegroupgap\": 0}, \"margin\": {\"t\": 60}, \"template\": {\"data\": {\"bar\": [{\"error_x\": {\"color\": \"#2a3f5f\"}, \"error_y\": {\"color\": \"#2a3f5f\"}, \"marker\": {\"line\": {\"color\": \"#E5ECF6\", \"width\": 0.5}}, \"type\": \"bar\"}], \"barpolar\": [{\"marker\": {\"line\": {\"color\": \"#E5ECF6\", \"width\": 0.5}}, \"type\": \"barpolar\"}], \"carpet\": [{\"aaxis\": {\"endlinecolor\": \"#2a3f5f\", \"gridcolor\": \"white\", \"linecolor\": \"white\", \"minorgridcolor\": \"white\", \"startlinecolor\": \"#2a3f5f\"}, \"baxis\": {\"endlinecolor\": \"#2a3f5f\", \"gridcolor\": \"white\", \"linecolor\": \"white\", \"minorgridcolor\": \"white\", \"startlinecolor\": \"#2a3f5f\"}, \"type\": \"carpet\"}], \"choropleth\": [{\"colorbar\": {\"outlinewidth\": 0, \"ticks\": \"\"}, \"type\": \"choropleth\"}], \"contour\": [{\"colorbar\": {\"outlinewidth\": 0, \"ticks\": \"\"}, \"colorscale\": [[0.0, \"#0d0887\"], [0.1111111111111111, \"#46039f\"], [0.2222222222222222, \"#7201a8\"], [0.3333333333333333, \"#9c179e\"], [0.4444444444444444, \"#bd3786\"], [0.5555555555555556, \"#d8576b\"], [0.6666666666666666, \"#ed7953\"], [0.7777777777777778, \"#fb9f3a\"], [0.8888888888888888, \"#fdca26\"], [1.0, \"#f0f921\"]], \"type\": \"contour\"}], \"contourcarpet\": [{\"colorbar\": {\"outlinewidth\": 0, \"ticks\": \"\"}, \"type\": \"contourcarpet\"}], \"heatmap\": [{\"colorbar\": {\"outlinewidth\": 0, \"ticks\": \"\"}, \"colorscale\": [[0.0, \"#0d0887\"], [0.1111111111111111, \"#46039f\"], [0.2222222222222222, \"#7201a8\"], [0.3333333333333333, \"#9c179e\"], [0.4444444444444444, \"#bd3786\"], [0.5555555555555556, \"#d8576b\"], [0.6666666666666666, \"#ed7953\"], [0.7777777777777778, \"#fb9f3a\"], [0.8888888888888888, \"#fdca26\"], [1.0, \"#f0f921\"]], \"type\": \"heatmap\"}], \"heatmapgl\": [{\"colorbar\": {\"outlinewidth\": 0, \"ticks\": \"\"}, \"colorscale\": [[0.0, \"#0d0887\"], [0.1111111111111111, \"#46039f\"], [0.2222222222222222, \"#7201a8\"], [0.3333333333333333, \"#9c179e\"], [0.4444444444444444, \"#bd3786\"], [0.5555555555555556, \"#d8576b\"], [0.6666666666666666, \"#ed7953\"], [0.7777777777777778, \"#fb9f3a\"], [0.8888888888888888, \"#fdca26\"], [1.0, \"#f0f921\"]], \"type\": \"heatmapgl\"}], \"histogram\": [{\"marker\": {\"colorbar\": {\"outlinewidth\": 0, \"ticks\": \"\"}}, \"type\": \"histogram\"}], \"histogram2d\": [{\"colorbar\": {\"outlinewidth\": 0, \"ticks\": \"\"}, \"colorscale\": [[0.0, \"#0d0887\"], [0.1111111111111111, \"#46039f\"], [0.2222222222222222, \"#7201a8\"], [0.3333333333333333, \"#9c179e\"], [0.4444444444444444, \"#bd3786\"], [0.5555555555555556, \"#d8576b\"], [0.6666666666666666, \"#ed7953\"], [0.7777777777777778, \"#fb9f3a\"], [0.8888888888888888, \"#fdca26\"], [1.0, \"#f0f921\"]], \"type\": \"histogram2d\"}], \"histogram2dcontour\": [{\"colorbar\": {\"outlinewidth\": 0, \"ticks\": \"\"}, \"colorscale\": [[0.0, \"#0d0887\"], [0.1111111111111111, \"#46039f\"], [0.2222222222222222, \"#7201a8\"], [0.3333333333333333, \"#9c179e\"], [0.4444444444444444, \"#bd3786\"], [0.5555555555555556, \"#d8576b\"], [0.6666666666666666, \"#ed7953\"], [0.7777777777777778, \"#fb9f3a\"], [0.8888888888888888, \"#fdca26\"], [1.0, \"#f0f921\"]], \"type\": \"histogram2dcontour\"}], \"mesh3d\": [{\"colorbar\": {\"outlinewidth\": 0, \"ticks\": \"\"}, \"type\": \"mesh3d\"}], \"parcoords\": [{\"line\": {\"colorbar\": {\"outlinewidth\": 0, \"ticks\": \"\"}}, \"type\": \"parcoords\"}], \"pie\": [{\"automargin\": true, \"type\": \"pie\"}], \"scatter\": [{\"marker\": {\"colorbar\": {\"outlinewidth\": 0, \"ticks\": \"\"}}, \"type\": \"scatter\"}], \"scatter3d\": [{\"line\": {\"colorbar\": {\"outlinewidth\": 0, \"ticks\": \"\"}}, \"marker\": {\"colorbar\": {\"outlinewidth\": 0, \"ticks\": \"\"}}, \"type\": \"scatter3d\"}], \"scattercarpet\": [{\"marker\": {\"colorbar\": {\"outlinewidth\": 0, \"ticks\": \"\"}}, \"type\": \"scattercarpet\"}], \"scattergeo\": [{\"marker\": {\"colorbar\": {\"outlinewidth\": 0, \"ticks\": \"\"}}, \"type\": \"scattergeo\"}], \"scattergl\": [{\"marker\": {\"colorbar\": {\"outlinewidth\": 0, \"ticks\": \"\"}}, \"type\": \"scattergl\"}], \"scattermapbox\": [{\"marker\": {\"colorbar\": {\"outlinewidth\": 0, \"ticks\": \"\"}}, \"type\": \"scattermapbox\"}], \"scatterpolar\": [{\"marker\": {\"colorbar\": {\"outlinewidth\": 0, \"ticks\": \"\"}}, \"type\": \"scatterpolar\"}], \"scatterpolargl\": [{\"marker\": {\"colorbar\": {\"outlinewidth\": 0, \"ticks\": \"\"}}, \"type\": \"scatterpolargl\"}], \"scatterternary\": [{\"marker\": {\"colorbar\": {\"outlinewidth\": 0, \"ticks\": \"\"}}, \"type\": \"scatterternary\"}], \"surface\": [{\"colorbar\": {\"outlinewidth\": 0, \"ticks\": \"\"}, \"colorscale\": [[0.0, \"#0d0887\"], [0.1111111111111111, \"#46039f\"], [0.2222222222222222, \"#7201a8\"], [0.3333333333333333, \"#9c179e\"], [0.4444444444444444, \"#bd3786\"], [0.5555555555555556, \"#d8576b\"], [0.6666666666666666, \"#ed7953\"], [0.7777777777777778, \"#fb9f3a\"], [0.8888888888888888, \"#fdca26\"], [1.0, \"#f0f921\"]], \"type\": \"surface\"}], \"table\": [{\"cells\": {\"fill\": {\"color\": \"#EBF0F8\"}, \"line\": {\"color\": \"white\"}}, \"header\": {\"fill\": {\"color\": \"#C8D4E3\"}, \"line\": {\"color\": \"white\"}}, \"type\": \"table\"}]}, \"layout\": {\"annotationdefaults\": {\"arrowcolor\": \"#2a3f5f\", \"arrowhead\": 0, \"arrowwidth\": 1}, \"autotypenumbers\": \"strict\", \"coloraxis\": {\"colorbar\": {\"outlinewidth\": 0, \"ticks\": \"\"}}, \"colorscale\": {\"diverging\": [[0, \"#8e0152\"], [0.1, \"#c51b7d\"], [0.2, \"#de77ae\"], [0.3, \"#f1b6da\"], [0.4, \"#fde0ef\"], [0.5, \"#f7f7f7\"], [0.6, \"#e6f5d0\"], [0.7, \"#b8e186\"], [0.8, \"#7fbc41\"], [0.9, \"#4d9221\"], [1, \"#276419\"]], \"sequential\": [[0.0, \"#0d0887\"], [0.1111111111111111, \"#46039f\"], [0.2222222222222222, \"#7201a8\"], [0.3333333333333333, \"#9c179e\"], [0.4444444444444444, \"#bd3786\"], [0.5555555555555556, \"#d8576b\"], [0.6666666666666666, \"#ed7953\"], [0.7777777777777778, \"#fb9f3a\"], [0.8888888888888888, \"#fdca26\"], [1.0, \"#f0f921\"]], \"sequentialminus\": [[0.0, \"#0d0887\"], [0.1111111111111111, \"#46039f\"], [0.2222222222222222, \"#7201a8\"], [0.3333333333333333, \"#9c179e\"], [0.4444444444444444, \"#bd3786\"], [0.5555555555555556, \"#d8576b\"], [0.6666666666666666, \"#ed7953\"], [0.7777777777777778, \"#fb9f3a\"], [0.8888888888888888, \"#fdca26\"], [1.0, \"#f0f921\"]]}, \"colorway\": [\"#636efa\", \"#EF553B\", \"#00cc96\", \"#ab63fa\", \"#FFA15A\", \"#19d3f3\", \"#FF6692\", \"#B6E880\", \"#FF97FF\", \"#FECB52\"], \"font\": {\"color\": \"#2a3f5f\"}, \"geo\": {\"bgcolor\": \"white\", \"lakecolor\": \"white\", \"landcolor\": \"#E5ECF6\", \"showlakes\": true, \"showland\": true, \"subunitcolor\": \"white\"}, \"hoverlabel\": {\"align\": \"left\"}, \"hovermode\": \"closest\", \"mapbox\": {\"style\": \"light\"}, \"paper_bgcolor\": \"white\", \"plot_bgcolor\": \"#E5ECF6\", \"polar\": {\"angularaxis\": {\"gridcolor\": \"white\", \"linecolor\": \"white\", \"ticks\": \"\"}, \"bgcolor\": \"#E5ECF6\", \"radialaxis\": {\"gridcolor\": \"white\", \"linecolor\": \"white\", \"ticks\": \"\"}}, \"scene\": {\"xaxis\": {\"backgroundcolor\": \"#E5ECF6\", \"gridcolor\": \"white\", \"gridwidth\": 2, \"linecolor\": \"white\", \"showbackground\": true, \"ticks\": \"\", \"zerolinecolor\": \"white\"}, \"yaxis\": {\"backgroundcolor\": \"#E5ECF6\", \"gridcolor\": \"white\", \"gridwidth\": 2, \"linecolor\": \"white\", \"showbackground\": true, \"ticks\": \"\", \"zerolinecolor\": \"white\"}, \"zaxis\": {\"backgroundcolor\": \"#E5ECF6\", \"gridcolor\": \"white\", \"gridwidth\": 2, \"linecolor\": \"white\", \"showbackground\": true, \"ticks\": \"\", \"zerolinecolor\": \"white\"}}, \"shapedefaults\": {\"line\": {\"color\": \"#2a3f5f\"}}, \"ternary\": {\"aaxis\": {\"gridcolor\": \"white\", \"linecolor\": \"white\", \"ticks\": \"\"}, \"baxis\": {\"gridcolor\": \"white\", \"linecolor\": \"white\", \"ticks\": \"\"}, \"bgcolor\": \"#E5ECF6\", \"caxis\": {\"gridcolor\": \"white\", \"linecolor\": \"white\", \"ticks\": \"\"}}, \"title\": {\"x\": 0.05}, \"xaxis\": {\"automargin\": true, \"gridcolor\": \"white\", \"linecolor\": \"white\", \"ticks\": \"\", \"title\": {\"standoff\": 15}, \"zerolinecolor\": \"white\", \"zerolinewidth\": 2}, \"yaxis\": {\"automargin\": true, \"gridcolor\": \"white\", \"linecolor\": \"white\", \"ticks\": \"\", \"title\": {\"standoff\": 15}, \"zerolinecolor\": \"white\", \"zerolinewidth\": 2}}}, \"xaxis\": {\"anchor\": \"y\", \"domain\": [0.0, 1.0], \"title\": {\"text\": \"Validator index\"}}, \"yaxis\": {\"anchor\": \"x\", \"domain\": [0.0, 1.0], \"title\": {\"text\": \"Number of missed/incorrect sync\"}}},                        {\"responsive\": true}                    ).then(function(){\n",
       "                            \n",
       "var gd = document.getElementById('b915c90c-15bd-4cdf-a9e9-f8dd9cd84163');\n",
       "var x = new MutationObserver(function (mutations, observer) {{\n",
       "        var display = window.getComputedStyle(gd).display;\n",
       "        if (!display || display === 'none') {{\n",
       "            console.log([gd, 'removed!']);\n",
       "            Plotly.purge(gd);\n",
       "            observer.disconnect();\n",
       "        }}\n",
       "}});\n",
       "\n",
       "// Listen for the removal of the full notebook cells\n",
       "var notebookContainer = gd.closest('#notebook-container');\n",
       "if (notebookContainer) {{\n",
       "    x.observe(notebookContainer, {childList: true});\n",
       "}}\n",
       "\n",
       "// Listen for the clearing of the current output cell\n",
       "var outputEl = gd.closest('.output');\n",
       "if (outputEl) {{\n",
       "    x.observe(outputEl, {childList: true});\n",
       "}}\n",
       "\n",
       "                        })                };                });            </script>        </div>"
      ]
     },
     "metadata": {},
     "output_type": "display_data"
    }
   ],
   "source": [
    "px.scatter(freq_df, x = 'Validator index', y = 'Number of missed/incorrect sync', color = 'Client')"
   ]
  },
  {
   "cell_type": "code",
   "execution_count": 131,
   "id": "59401354-057b-4790-9d20-71b4d08b289e",
   "metadata": {},
   "outputs": [
    {
     "data": {
      "text/plain": [
       "Client\n",
       "Unknown        5077\n",
       "lighthouse     1232\n",
       "nimbus        14029\n",
       "prysm          2492\n",
       "teku           1824\n",
       "Name: Number of missed/incorrect sync, dtype: int64"
      ]
     },
     "execution_count": 131,
     "metadata": {},
     "output_type": "execute_result"
    }
   ],
   "source": [
    "df_pruned = freq_df[['Number of missed/incorrect sync','Client']]\n",
    "df_pruned_grouped = df_pruned.groupby(\"Client\")['Number of missed/incorrect sync'].sum()\n",
    "df_pruned_grouped"
   ]
  },
  {
   "cell_type": "code",
   "execution_count": 133,
   "id": "7d2723ec-4013-40b3-9c8f-795f0f05813c",
   "metadata": {},
   "outputs": [
    {
     "data": {
      "application/vnd.plotly.v1+json": {
       "config": {
        "plotlyServerURL": "https://plot.ly"
       },
       "data": [
        {
         "alignmentgroup": "True",
         "hovertemplate": "Client=%{x}<br>=%{y}<extra></extra>",
         "legendgroup": "",
         "marker": {
          "color": "#636efa"
         },
         "name": "",
         "offsetgroup": "",
         "orientation": "v",
         "showlegend": false,
         "textposition": "auto",
         "type": "bar",
         "x": [
          "unkown",
          "lighthouse",
          "nimbus",
          "prysm",
          "teku"
         ],
         "xaxis": "x",
         "y": [
          5077,
          1232,
          14029,
          2492,
          1824
         ],
         "yaxis": "y"
        }
       ],
       "layout": {
        "autosize": true,
        "barmode": "relative",
        "legend": {
         "tracegroupgap": 0
        },
        "template": {
         "data": {
          "bar": [
           {
            "error_x": {
             "color": "#2a3f5f"
            },
            "error_y": {
             "color": "#2a3f5f"
            },
            "marker": {
             "line": {
              "color": "#E5ECF6",
              "width": 0.5
             }
            },
            "type": "bar"
           }
          ],
          "barpolar": [
           {
            "marker": {
             "line": {
              "color": "#E5ECF6",
              "width": 0.5
             }
            },
            "type": "barpolar"
           }
          ],
          "carpet": [
           {
            "aaxis": {
             "endlinecolor": "#2a3f5f",
             "gridcolor": "white",
             "linecolor": "white",
             "minorgridcolor": "white",
             "startlinecolor": "#2a3f5f"
            },
            "baxis": {
             "endlinecolor": "#2a3f5f",
             "gridcolor": "white",
             "linecolor": "white",
             "minorgridcolor": "white",
             "startlinecolor": "#2a3f5f"
            },
            "type": "carpet"
           }
          ],
          "choropleth": [
           {
            "colorbar": {
             "outlinewidth": 0,
             "ticks": ""
            },
            "type": "choropleth"
           }
          ],
          "contour": [
           {
            "colorbar": {
             "outlinewidth": 0,
             "ticks": ""
            },
            "colorscale": [
             [
              0,
              "#0d0887"
             ],
             [
              0.1111111111111111,
              "#46039f"
             ],
             [
              0.2222222222222222,
              "#7201a8"
             ],
             [
              0.3333333333333333,
              "#9c179e"
             ],
             [
              0.4444444444444444,
              "#bd3786"
             ],
             [
              0.5555555555555556,
              "#d8576b"
             ],
             [
              0.6666666666666666,
              "#ed7953"
             ],
             [
              0.7777777777777778,
              "#fb9f3a"
             ],
             [
              0.8888888888888888,
              "#fdca26"
             ],
             [
              1,
              "#f0f921"
             ]
            ],
            "type": "contour"
           }
          ],
          "contourcarpet": [
           {
            "colorbar": {
             "outlinewidth": 0,
             "ticks": ""
            },
            "type": "contourcarpet"
           }
          ],
          "heatmap": [
           {
            "colorbar": {
             "outlinewidth": 0,
             "ticks": ""
            },
            "colorscale": [
             [
              0,
              "#0d0887"
             ],
             [
              0.1111111111111111,
              "#46039f"
             ],
             [
              0.2222222222222222,
              "#7201a8"
             ],
             [
              0.3333333333333333,
              "#9c179e"
             ],
             [
              0.4444444444444444,
              "#bd3786"
             ],
             [
              0.5555555555555556,
              "#d8576b"
             ],
             [
              0.6666666666666666,
              "#ed7953"
             ],
             [
              0.7777777777777778,
              "#fb9f3a"
             ],
             [
              0.8888888888888888,
              "#fdca26"
             ],
             [
              1,
              "#f0f921"
             ]
            ],
            "type": "heatmap"
           }
          ],
          "heatmapgl": [
           {
            "colorbar": {
             "outlinewidth": 0,
             "ticks": ""
            },
            "colorscale": [
             [
              0,
              "#0d0887"
             ],
             [
              0.1111111111111111,
              "#46039f"
             ],
             [
              0.2222222222222222,
              "#7201a8"
             ],
             [
              0.3333333333333333,
              "#9c179e"
             ],
             [
              0.4444444444444444,
              "#bd3786"
             ],
             [
              0.5555555555555556,
              "#d8576b"
             ],
             [
              0.6666666666666666,
              "#ed7953"
             ],
             [
              0.7777777777777778,
              "#fb9f3a"
             ],
             [
              0.8888888888888888,
              "#fdca26"
             ],
             [
              1,
              "#f0f921"
             ]
            ],
            "type": "heatmapgl"
           }
          ],
          "histogram": [
           {
            "marker": {
             "colorbar": {
              "outlinewidth": 0,
              "ticks": ""
             }
            },
            "type": "histogram"
           }
          ],
          "histogram2d": [
           {
            "colorbar": {
             "outlinewidth": 0,
             "ticks": ""
            },
            "colorscale": [
             [
              0,
              "#0d0887"
             ],
             [
              0.1111111111111111,
              "#46039f"
             ],
             [
              0.2222222222222222,
              "#7201a8"
             ],
             [
              0.3333333333333333,
              "#9c179e"
             ],
             [
              0.4444444444444444,
              "#bd3786"
             ],
             [
              0.5555555555555556,
              "#d8576b"
             ],
             [
              0.6666666666666666,
              "#ed7953"
             ],
             [
              0.7777777777777778,
              "#fb9f3a"
             ],
             [
              0.8888888888888888,
              "#fdca26"
             ],
             [
              1,
              "#f0f921"
             ]
            ],
            "type": "histogram2d"
           }
          ],
          "histogram2dcontour": [
           {
            "colorbar": {
             "outlinewidth": 0,
             "ticks": ""
            },
            "colorscale": [
             [
              0,
              "#0d0887"
             ],
             [
              0.1111111111111111,
              "#46039f"
             ],
             [
              0.2222222222222222,
              "#7201a8"
             ],
             [
              0.3333333333333333,
              "#9c179e"
             ],
             [
              0.4444444444444444,
              "#bd3786"
             ],
             [
              0.5555555555555556,
              "#d8576b"
             ],
             [
              0.6666666666666666,
              "#ed7953"
             ],
             [
              0.7777777777777778,
              "#fb9f3a"
             ],
             [
              0.8888888888888888,
              "#fdca26"
             ],
             [
              1,
              "#f0f921"
             ]
            ],
            "type": "histogram2dcontour"
           }
          ],
          "mesh3d": [
           {
            "colorbar": {
             "outlinewidth": 0,
             "ticks": ""
            },
            "type": "mesh3d"
           }
          ],
          "parcoords": [
           {
            "line": {
             "colorbar": {
              "outlinewidth": 0,
              "ticks": ""
             }
            },
            "type": "parcoords"
           }
          ],
          "pie": [
           {
            "automargin": true,
            "type": "pie"
           }
          ],
          "scatter": [
           {
            "marker": {
             "colorbar": {
              "outlinewidth": 0,
              "ticks": ""
             }
            },
            "type": "scatter"
           }
          ],
          "scatter3d": [
           {
            "line": {
             "colorbar": {
              "outlinewidth": 0,
              "ticks": ""
             }
            },
            "marker": {
             "colorbar": {
              "outlinewidth": 0,
              "ticks": ""
             }
            },
            "type": "scatter3d"
           }
          ],
          "scattercarpet": [
           {
            "marker": {
             "colorbar": {
              "outlinewidth": 0,
              "ticks": ""
             }
            },
            "type": "scattercarpet"
           }
          ],
          "scattergeo": [
           {
            "marker": {
             "colorbar": {
              "outlinewidth": 0,
              "ticks": ""
             }
            },
            "type": "scattergeo"
           }
          ],
          "scattergl": [
           {
            "marker": {
             "colorbar": {
              "outlinewidth": 0,
              "ticks": ""
             }
            },
            "type": "scattergl"
           }
          ],
          "scattermapbox": [
           {
            "marker": {
             "colorbar": {
              "outlinewidth": 0,
              "ticks": ""
             }
            },
            "type": "scattermapbox"
           }
          ],
          "scatterpolar": [
           {
            "marker": {
             "colorbar": {
              "outlinewidth": 0,
              "ticks": ""
             }
            },
            "type": "scatterpolar"
           }
          ],
          "scatterpolargl": [
           {
            "marker": {
             "colorbar": {
              "outlinewidth": 0,
              "ticks": ""
             }
            },
            "type": "scatterpolargl"
           }
          ],
          "scatterternary": [
           {
            "marker": {
             "colorbar": {
              "outlinewidth": 0,
              "ticks": ""
             }
            },
            "type": "scatterternary"
           }
          ],
          "surface": [
           {
            "colorbar": {
             "outlinewidth": 0,
             "ticks": ""
            },
            "colorscale": [
             [
              0,
              "#0d0887"
             ],
             [
              0.1111111111111111,
              "#46039f"
             ],
             [
              0.2222222222222222,
              "#7201a8"
             ],
             [
              0.3333333333333333,
              "#9c179e"
             ],
             [
              0.4444444444444444,
              "#bd3786"
             ],
             [
              0.5555555555555556,
              "#d8576b"
             ],
             [
              0.6666666666666666,
              "#ed7953"
             ],
             [
              0.7777777777777778,
              "#fb9f3a"
             ],
             [
              0.8888888888888888,
              "#fdca26"
             ],
             [
              1,
              "#f0f921"
             ]
            ],
            "type": "surface"
           }
          ],
          "table": [
           {
            "cells": {
             "fill": {
              "color": "#EBF0F8"
             },
             "line": {
              "color": "white"
             }
            },
            "header": {
             "fill": {
              "color": "#C8D4E3"
             },
             "line": {
              "color": "white"
             }
            },
            "type": "table"
           }
          ]
         },
         "layout": {
          "annotationdefaults": {
           "arrowcolor": "#2a3f5f",
           "arrowhead": 0,
           "arrowwidth": 1
          },
          "autotypenumbers": "strict",
          "coloraxis": {
           "colorbar": {
            "outlinewidth": 0,
            "ticks": ""
           }
          },
          "colorscale": {
           "diverging": [
            [
             0,
             "#8e0152"
            ],
            [
             0.1,
             "#c51b7d"
            ],
            [
             0.2,
             "#de77ae"
            ],
            [
             0.3,
             "#f1b6da"
            ],
            [
             0.4,
             "#fde0ef"
            ],
            [
             0.5,
             "#f7f7f7"
            ],
            [
             0.6,
             "#e6f5d0"
            ],
            [
             0.7,
             "#b8e186"
            ],
            [
             0.8,
             "#7fbc41"
            ],
            [
             0.9,
             "#4d9221"
            ],
            [
             1,
             "#276419"
            ]
           ],
           "sequential": [
            [
             0,
             "#0d0887"
            ],
            [
             0.1111111111111111,
             "#46039f"
            ],
            [
             0.2222222222222222,
             "#7201a8"
            ],
            [
             0.3333333333333333,
             "#9c179e"
            ],
            [
             0.4444444444444444,
             "#bd3786"
            ],
            [
             0.5555555555555556,
             "#d8576b"
            ],
            [
             0.6666666666666666,
             "#ed7953"
            ],
            [
             0.7777777777777778,
             "#fb9f3a"
            ],
            [
             0.8888888888888888,
             "#fdca26"
            ],
            [
             1,
             "#f0f921"
            ]
           ],
           "sequentialminus": [
            [
             0,
             "#0d0887"
            ],
            [
             0.1111111111111111,
             "#46039f"
            ],
            [
             0.2222222222222222,
             "#7201a8"
            ],
            [
             0.3333333333333333,
             "#9c179e"
            ],
            [
             0.4444444444444444,
             "#bd3786"
            ],
            [
             0.5555555555555556,
             "#d8576b"
            ],
            [
             0.6666666666666666,
             "#ed7953"
            ],
            [
             0.7777777777777778,
             "#fb9f3a"
            ],
            [
             0.8888888888888888,
             "#fdca26"
            ],
            [
             1,
             "#f0f921"
            ]
           ]
          },
          "colorway": [
           "#636efa",
           "#EF553B",
           "#00cc96",
           "#ab63fa",
           "#FFA15A",
           "#19d3f3",
           "#FF6692",
           "#B6E880",
           "#FF97FF",
           "#FECB52"
          ],
          "font": {
           "color": "#2a3f5f"
          },
          "geo": {
           "bgcolor": "white",
           "lakecolor": "white",
           "landcolor": "#E5ECF6",
           "showlakes": true,
           "showland": true,
           "subunitcolor": "white"
          },
          "hoverlabel": {
           "align": "left"
          },
          "hovermode": "closest",
          "mapbox": {
           "style": "light"
          },
          "paper_bgcolor": "white",
          "plot_bgcolor": "#E5ECF6",
          "polar": {
           "angularaxis": {
            "gridcolor": "white",
            "linecolor": "white",
            "ticks": ""
           },
           "bgcolor": "#E5ECF6",
           "radialaxis": {
            "gridcolor": "white",
            "linecolor": "white",
            "ticks": ""
           }
          },
          "scene": {
           "xaxis": {
            "backgroundcolor": "#E5ECF6",
            "gridcolor": "white",
            "gridwidth": 2,
            "linecolor": "white",
            "showbackground": true,
            "ticks": "",
            "zerolinecolor": "white"
           },
           "yaxis": {
            "backgroundcolor": "#E5ECF6",
            "gridcolor": "white",
            "gridwidth": 2,
            "linecolor": "white",
            "showbackground": true,
            "ticks": "",
            "zerolinecolor": "white"
           },
           "zaxis": {
            "backgroundcolor": "#E5ECF6",
            "gridcolor": "white",
            "gridwidth": 2,
            "linecolor": "white",
            "showbackground": true,
            "ticks": "",
            "zerolinecolor": "white"
           }
          },
          "shapedefaults": {
           "line": {
            "color": "#2a3f5f"
           }
          },
          "ternary": {
           "aaxis": {
            "gridcolor": "white",
            "linecolor": "white",
            "ticks": ""
           },
           "baxis": {
            "gridcolor": "white",
            "linecolor": "white",
            "ticks": ""
           },
           "bgcolor": "#E5ECF6",
           "caxis": {
            "gridcolor": "white",
            "linecolor": "white",
            "ticks": ""
           }
          },
          "title": {
           "x": 0.05
          },
          "xaxis": {
           "automargin": true,
           "gridcolor": "white",
           "linecolor": "white",
           "ticks": "",
           "title": {
            "standoff": 15
           },
           "zerolinecolor": "white",
           "zerolinewidth": 2
          },
          "yaxis": {
           "automargin": true,
           "gridcolor": "white",
           "linecolor": "white",
           "ticks": "",
           "title": {
            "standoff": 15
           },
           "zerolinecolor": "white",
           "zerolinewidth": 2
          }
         }
        },
        "title": {
         "text": "Distribution of missed/incorrect sync duties"
        },
        "xaxis": {
         "anchor": "y",
         "autorange": true,
         "domain": [
          0,
          1
         ],
         "range": [
          -0.5,
          4.5
         ],
         "title": {
          "text": "Client"
         },
         "type": "category"
        },
        "yaxis": {
         "anchor": "x",
         "autorange": true,
         "domain": [
          0,
          1
         ],
         "range": [
          0,
          14767.368421052632
         ],
         "title": {
          "text": ""
         },
         "type": "linear"
        }
       }
      },
      "image/png": "[encoded data removed]",
      "text/html": [
       "<div>                            <div id=\"531fd31a-661c-46c0-bd4b-6b004b25349a\" class=\"plotly-graph-div\" style=\"height:525px; width:100%;\"></div>            <script type=\"text/javascript\">                require([\"plotly\"], function(Plotly) {                    window.PLOTLYENV=window.PLOTLYENV || {};                                    if (document.getElementById(\"531fd31a-661c-46c0-bd4b-6b004b25349a\")) {                    Plotly.newPlot(                        \"531fd31a-661c-46c0-bd4b-6b004b25349a\",                        [{\"alignmentgroup\": \"True\", \"hovertemplate\": \"Client=%{x}<br>=%{y}<extra></extra>\", \"legendgroup\": \"\", \"marker\": {\"color\": \"#636efa\"}, \"name\": \"\", \"offsetgroup\": \"\", \"orientation\": \"v\", \"showlegend\": false, \"textposition\": \"auto\", \"type\": \"bar\", \"x\": [\"unkown\", \"lighthouse\", \"nimbus\", \"prysm\", \"teku\"], \"xaxis\": \"x\", \"y\": [5077, 1232, 14029, 2492, 1824], \"yaxis\": \"y\"}],                        {\"barmode\": \"relative\", \"legend\": {\"tracegroupgap\": 0}, \"template\": {\"data\": {\"bar\": [{\"error_x\": {\"color\": \"#2a3f5f\"}, \"error_y\": {\"color\": \"#2a3f5f\"}, \"marker\": {\"line\": {\"color\": \"#E5ECF6\", \"width\": 0.5}}, \"type\": \"bar\"}], \"barpolar\": [{\"marker\": {\"line\": {\"color\": \"#E5ECF6\", \"width\": 0.5}}, \"type\": \"barpolar\"}], \"carpet\": [{\"aaxis\": {\"endlinecolor\": \"#2a3f5f\", \"gridcolor\": \"white\", \"linecolor\": \"white\", \"minorgridcolor\": \"white\", \"startlinecolor\": \"#2a3f5f\"}, \"baxis\": {\"endlinecolor\": \"#2a3f5f\", \"gridcolor\": \"white\", \"linecolor\": \"white\", \"minorgridcolor\": \"white\", \"startlinecolor\": \"#2a3f5f\"}, \"type\": \"carpet\"}], \"choropleth\": [{\"colorbar\": {\"outlinewidth\": 0, \"ticks\": \"\"}, \"type\": \"choropleth\"}], \"contour\": [{\"colorbar\": {\"outlinewidth\": 0, \"ticks\": \"\"}, \"colorscale\": [[0.0, \"#0d0887\"], [0.1111111111111111, \"#46039f\"], [0.2222222222222222, \"#7201a8\"], [0.3333333333333333, \"#9c179e\"], [0.4444444444444444, \"#bd3786\"], [0.5555555555555556, \"#d8576b\"], [0.6666666666666666, \"#ed7953\"], [0.7777777777777778, \"#fb9f3a\"], [0.8888888888888888, \"#fdca26\"], [1.0, \"#f0f921\"]], \"type\": \"contour\"}], \"contourcarpet\": [{\"colorbar\": {\"outlinewidth\": 0, \"ticks\": \"\"}, \"type\": \"contourcarpet\"}], \"heatmap\": [{\"colorbar\": {\"outlinewidth\": 0, \"ticks\": \"\"}, \"colorscale\": [[0.0, \"#0d0887\"], [0.1111111111111111, \"#46039f\"], [0.2222222222222222, \"#7201a8\"], [0.3333333333333333, \"#9c179e\"], [0.4444444444444444, \"#bd3786\"], [0.5555555555555556, \"#d8576b\"], [0.6666666666666666, \"#ed7953\"], [0.7777777777777778, \"#fb9f3a\"], [0.8888888888888888, \"#fdca26\"], [1.0, \"#f0f921\"]], \"type\": \"heatmap\"}], \"heatmapgl\": [{\"colorbar\": {\"outlinewidth\": 0, \"ticks\": \"\"}, \"colorscale\": [[0.0, \"#0d0887\"], [0.1111111111111111, \"#46039f\"], [0.2222222222222222, \"#7201a8\"], [0.3333333333333333, \"#9c179e\"], [0.4444444444444444, \"#bd3786\"], [0.5555555555555556, \"#d8576b\"], [0.6666666666666666, \"#ed7953\"], [0.7777777777777778, \"#fb9f3a\"], [0.8888888888888888, \"#fdca26\"], [1.0, \"#f0f921\"]], \"type\": \"heatmapgl\"}], \"histogram\": [{\"marker\": {\"colorbar\": {\"outlinewidth\": 0, \"ticks\": \"\"}}, \"type\": \"histogram\"}], \"histogram2d\": [{\"colorbar\": {\"outlinewidth\": 0, \"ticks\": \"\"}, \"colorscale\": [[0.0, \"#0d0887\"], [0.1111111111111111, \"#46039f\"], [0.2222222222222222, \"#7201a8\"], [0.3333333333333333, \"#9c179e\"], [0.4444444444444444, \"#bd3786\"], [0.5555555555555556, \"#d8576b\"], [0.6666666666666666, \"#ed7953\"], [0.7777777777777778, \"#fb9f3a\"], [0.8888888888888888, \"#fdca26\"], [1.0, \"#f0f921\"]], \"type\": \"histogram2d\"}], \"histogram2dcontour\": [{\"colorbar\": {\"outlinewidth\": 0, \"ticks\": \"\"}, \"colorscale\": [[0.0, \"#0d0887\"], [0.1111111111111111, \"#46039f\"], [0.2222222222222222, \"#7201a8\"], [0.3333333333333333, \"#9c179e\"], [0.4444444444444444, \"#bd3786\"], [0.5555555555555556, \"#d8576b\"], [0.6666666666666666, \"#ed7953\"], [0.7777777777777778, \"#fb9f3a\"], [0.8888888888888888, \"#fdca26\"], [1.0, \"#f0f921\"]], \"type\": \"histogram2dcontour\"}], \"mesh3d\": [{\"colorbar\": {\"outlinewidth\": 0, \"ticks\": \"\"}, \"type\": \"mesh3d\"}], \"parcoords\": [{\"line\": {\"colorbar\": {\"outlinewidth\": 0, \"ticks\": \"\"}}, \"type\": \"parcoords\"}], \"pie\": [{\"automargin\": true, \"type\": \"pie\"}], \"scatter\": [{\"marker\": {\"colorbar\": {\"outlinewidth\": 0, \"ticks\": \"\"}}, \"type\": \"scatter\"}], \"scatter3d\": [{\"line\": {\"colorbar\": {\"outlinewidth\": 0, \"ticks\": \"\"}}, \"marker\": {\"colorbar\": {\"outlinewidth\": 0, \"ticks\": \"\"}}, \"type\": \"scatter3d\"}], \"scattercarpet\": [{\"marker\": {\"colorbar\": {\"outlinewidth\": 0, \"ticks\": \"\"}}, \"type\": \"scattercarpet\"}], \"scattergeo\": [{\"marker\": {\"colorbar\": {\"outlinewidth\": 0, \"ticks\": \"\"}}, \"type\": \"scattergeo\"}], \"scattergl\": [{\"marker\": {\"colorbar\": {\"outlinewidth\": 0, \"ticks\": \"\"}}, \"type\": \"scattergl\"}], \"scattermapbox\": [{\"marker\": {\"colorbar\": {\"outlinewidth\": 0, \"ticks\": \"\"}}, \"type\": \"scattermapbox\"}], \"scatterpolar\": [{\"marker\": {\"colorbar\": {\"outlinewidth\": 0, \"ticks\": \"\"}}, \"type\": \"scatterpolar\"}], \"scatterpolargl\": [{\"marker\": {\"colorbar\": {\"outlinewidth\": 0, \"ticks\": \"\"}}, \"type\": \"scatterpolargl\"}], \"scatterternary\": [{\"marker\": {\"colorbar\": {\"outlinewidth\": 0, \"ticks\": \"\"}}, \"type\": \"scatterternary\"}], \"surface\": [{\"colorbar\": {\"outlinewidth\": 0, \"ticks\": \"\"}, \"colorscale\": [[0.0, \"#0d0887\"], [0.1111111111111111, \"#46039f\"], [0.2222222222222222, \"#7201a8\"], [0.3333333333333333, \"#9c179e\"], [0.4444444444444444, \"#bd3786\"], [0.5555555555555556, \"#d8576b\"], [0.6666666666666666, \"#ed7953\"], [0.7777777777777778, \"#fb9f3a\"], [0.8888888888888888, \"#fdca26\"], [1.0, \"#f0f921\"]], \"type\": \"surface\"}], \"table\": [{\"cells\": {\"fill\": {\"color\": \"#EBF0F8\"}, \"line\": {\"color\": \"white\"}}, \"header\": {\"fill\": {\"color\": \"#C8D4E3\"}, \"line\": {\"color\": \"white\"}}, \"type\": \"table\"}]}, \"layout\": {\"annotationdefaults\": {\"arrowcolor\": \"#2a3f5f\", \"arrowhead\": 0, \"arrowwidth\": 1}, \"autotypenumbers\": \"strict\", \"coloraxis\": {\"colorbar\": {\"outlinewidth\": 0, \"ticks\": \"\"}}, \"colorscale\": {\"diverging\": [[0, \"#8e0152\"], [0.1, \"#c51b7d\"], [0.2, \"#de77ae\"], [0.3, \"#f1b6da\"], [0.4, \"#fde0ef\"], [0.5, \"#f7f7f7\"], [0.6, \"#e6f5d0\"], [0.7, \"#b8e186\"], [0.8, \"#7fbc41\"], [0.9, \"#4d9221\"], [1, \"#276419\"]], \"sequential\": [[0.0, \"#0d0887\"], [0.1111111111111111, \"#46039f\"], [0.2222222222222222, \"#7201a8\"], [0.3333333333333333, \"#9c179e\"], [0.4444444444444444, \"#bd3786\"], [0.5555555555555556, \"#d8576b\"], [0.6666666666666666, \"#ed7953\"], [0.7777777777777778, \"#fb9f3a\"], [0.8888888888888888, \"#fdca26\"], [1.0, \"#f0f921\"]], \"sequentialminus\": [[0.0, \"#0d0887\"], [0.1111111111111111, \"#46039f\"], [0.2222222222222222, \"#7201a8\"], [0.3333333333333333, \"#9c179e\"], [0.4444444444444444, \"#bd3786\"], [0.5555555555555556, \"#d8576b\"], [0.6666666666666666, \"#ed7953\"], [0.7777777777777778, \"#fb9f3a\"], [0.8888888888888888, \"#fdca26\"], [1.0, \"#f0f921\"]]}, \"colorway\": [\"#636efa\", \"#EF553B\", \"#00cc96\", \"#ab63fa\", \"#FFA15A\", \"#19d3f3\", \"#FF6692\", \"#B6E880\", \"#FF97FF\", \"#FECB52\"], \"font\": {\"color\": \"#2a3f5f\"}, \"geo\": {\"bgcolor\": \"white\", \"lakecolor\": \"white\", \"landcolor\": \"#E5ECF6\", \"showlakes\": true, \"showland\": true, \"subunitcolor\": \"white\"}, \"hoverlabel\": {\"align\": \"left\"}, \"hovermode\": \"closest\", \"mapbox\": {\"style\": \"light\"}, \"paper_bgcolor\": \"white\", \"plot_bgcolor\": \"#E5ECF6\", \"polar\": {\"angularaxis\": {\"gridcolor\": \"white\", \"linecolor\": \"white\", \"ticks\": \"\"}, \"bgcolor\": \"#E5ECF6\", \"radialaxis\": {\"gridcolor\": \"white\", \"linecolor\": \"white\", \"ticks\": \"\"}}, \"scene\": {\"xaxis\": {\"backgroundcolor\": \"#E5ECF6\", \"gridcolor\": \"white\", \"gridwidth\": 2, \"linecolor\": \"white\", \"showbackground\": true, \"ticks\": \"\", \"zerolinecolor\": \"white\"}, \"yaxis\": {\"backgroundcolor\": \"#E5ECF6\", \"gridcolor\": \"white\", \"gridwidth\": 2, \"linecolor\": \"white\", \"showbackground\": true, \"ticks\": \"\", \"zerolinecolor\": \"white\"}, \"zaxis\": {\"backgroundcolor\": \"#E5ECF6\", \"gridcolor\": \"white\", \"gridwidth\": 2, \"linecolor\": \"white\", \"showbackground\": true, \"ticks\": \"\", \"zerolinecolor\": \"white\"}}, \"shapedefaults\": {\"line\": {\"color\": \"#2a3f5f\"}}, \"ternary\": {\"aaxis\": {\"gridcolor\": \"white\", \"linecolor\": \"white\", \"ticks\": \"\"}, \"baxis\": {\"gridcolor\": \"white\", \"linecolor\": \"white\", \"ticks\": \"\"}, \"bgcolor\": \"#E5ECF6\", \"caxis\": {\"gridcolor\": \"white\", \"linecolor\": \"white\", \"ticks\": \"\"}}, \"title\": {\"x\": 0.05}, \"xaxis\": {\"automargin\": true, \"gridcolor\": \"white\", \"linecolor\": \"white\", \"ticks\": \"\", \"title\": {\"standoff\": 15}, \"zerolinecolor\": \"white\", \"zerolinewidth\": 2}, \"yaxis\": {\"automargin\": true, \"gridcolor\": \"white\", \"linecolor\": \"white\", \"ticks\": \"\", \"title\": {\"standoff\": 15}, \"zerolinecolor\": \"white\", \"zerolinewidth\": 2}}}, \"title\": {\"text\": \"Distribution of missed/incorrect sync duties\"}, \"xaxis\": {\"anchor\": \"y\", \"domain\": [0.0, 1.0], \"title\": {\"text\": \"Client\"}}, \"yaxis\": {\"anchor\": \"x\", \"domain\": [0.0, 1.0], \"title\": {\"text\": \"\"}}},                        {\"responsive\": true}                    ).then(function(){\n",
       "                            \n",
       "var gd = document.getElementById('531fd31a-661c-46c0-bd4b-6b004b25349a');\n",
       "var x = new MutationObserver(function (mutations, observer) {{\n",
       "        var display = window.getComputedStyle(gd).display;\n",
       "        if (!display || display === 'none') {{\n",
       "            console.log([gd, 'removed!']);\n",
       "            Plotly.purge(gd);\n",
       "            observer.disconnect();\n",
       "        }}\n",
       "}});\n",
       "\n",
       "// Listen for the removal of the full notebook cells\n",
       "var notebookContainer = gd.closest('#notebook-container');\n",
       "if (notebookContainer) {{\n",
       "    x.observe(notebookContainer, {childList: true});\n",
       "}}\n",
       "\n",
       "// Listen for the clearing of the current output cell\n",
       "var outputEl = gd.closest('.output');\n",
       "if (outputEl) {{\n",
       "    x.observe(outputEl, {childList: true});\n",
       "}}\n",
       "\n",
       "                        })                };                });            </script>        </div>"
      ]
     },
     "metadata": {},
     "output_type": "display_data"
    }
   ],
   "source": [
    "px.bar(y = df_pruned_grouped, x = ['unkown','lighthouse', 'nimbus', 'prysm', 'teku'], title=\"Distribution of missed/incorrect sync duties\", labels = {'y': \"\", 'x': 'Client'})\n"
   ]
  },
  {
   "cell_type": "markdown",
   "id": "5165ec74-be86-4efa-9780-81664500abe2",
   "metadata": {},
   "source": [
    "### Over time analysis"
   ]
  },
  {
   "cell_type": "code",
   "execution_count": 137,
   "id": "da5dfffb-34ab-4126-9731-313f55aa998a",
   "metadata": {},
   "outputs": [],
   "source": [
    "prater_start = 41095\n",
    "prater_end = 41195\n",
    "\n",
    "prater_validatros_1 = []\n",
    "prater_validators_2 = []\n",
    "prater_validators_3 = []\n",
    "prater_validators_4 = []\n",
    "prater_validators_5 = []\n",
    "prater_validators_6= []\n",
    "prater_validators_7= []\n",
    "prater_validators_8 = []\n",
    "prater_validators_9 = []\n",
    "prater_validators_10 = []\n",
    "\n",
    "for i in range((prater_start)*32, (prater_start+1)*32):\n",
    "    x = requests.request('GET', 'http://95.217.105.14:50002/eth/v1/beacon/states/{}/sync_committees'.format(str(i)))\n",
    "    prater_validators_1.append(x.json()['data']['validators'])\n",
    "for i in range((prater_start+1)*32, (prater_start+2)*32):\n",
    "    x = requests.request('GET', 'http://95.217.105.14:50002/eth/v1/beacon/states/{}/sync_committees'.format(str(i)))\n",
    "    prater_validators_2.append(x.json()['data']['validators'])\n",
    "for i in range((prater_start+2)*32, (prater_start+3)*32):\n",
    "    x = requests.request('GET', 'http://95.217.105.14:50002/eth/v1/beacon/states/{}/sync_committees'.format(str(i)))\n",
    "    prater_validators_3.append(x.json()['data']['validators'])\n",
    "for i in range((prater_start+3)*32, (prater_start+4)*32):\n",
    "    x = requests.request('GET', 'http://95.217.105.14:50002/eth/v1/beacon/states/{}/sync_committees'.format(str(i)))\n",
    "    prater_validators_4.append(x.json()['data']['validators'])\n",
    "for i in range((prater_start+4)*32, (prater_start+5)*32):\n",
    "    x = requests.request('GET', 'http://95.217.105.14:50002/eth/v1/beacon/states/{}/sync_committees'.format(str(i)))\n",
    "    prater_validators_5.append(x.json()['data']['validators'])\n",
    "for i in range((prater_start+5)*32, (prater_start+6)*32):\n",
    "    x = requests.request('GET', 'http://95.217.105.14:50002/eth/v1/beacon/states/{}/sync_committees'.format(str(i)))\n",
    "    prater_validators_6.append(x.json()['data']['validators'])\n",
    "for i in range((prater_start+6)*32, (prater_start+7)*32):\n",
    "    x = requests.request('GET', 'http://95.217.105.14:50002/eth/v1/beacon/states/{}/sync_committees'.format(str(i)))\n",
    "    prater_validators_7.append(x.json()['data']['validators'])\n",
    "for i in range((prater_start+7)*32, (prater_start+8)*32):\n",
    "    x = requests.request('GET', 'http://95.217.105.14:50002/eth/v1/beacon/states/{}/sync_committees'.format(str(i)))\n",
    "    prater_validators_8.append(x.json()['data']['validators'])\n",
    "for i in range((prater_start+8)*32, (prater_start+9)*32):\n",
    "    x = requests.request('GET', 'http://95.217.105.14:50002/eth/v1/beacon/states/{}/sync_committees'.format(str(i)))\n",
    "    prater_validators_9.append(x.json()['data']['validators'])\n",
    "for i in range((prater_start+9)*32, (prater_start+10)*32):\n",
    "    x = requests.request('GET', 'http://95.217.105.14:50002/eth/v1/beacon/states/{}/sync_committees'.format(str(i)))\n",
    "    prater_validators_10.append(x.json()['data']['validators'])\n",
    "    \n",
    "prater_bits_1 = []\n",
    "prater_bits_2 = []\n",
    "prater_bits_3 = []\n",
    "prater_bits_4 = []\n",
    "prater_bits_5 = []\n",
    "prater_bits_6 = []\n",
    "prater_bits_7 = []\n",
    "prater_bits_8 = []\n",
    "prater_bits_9 = []\n",
    "prater_bits_10 = []\n",
    "\n",
    "for i in range((prater_start)*32, (prater_start+1)*32):\n",
    "    x = requests.request('GET', 'http://95.217.105.14:50002/eth/v1/beacon/blocks/{}'.format(str(i)))\n",
    "    if 'data' in x.json():\n",
    "        prater_bits_1.append(x.json()['data']['message']['body']['sync_aggregate']['sync_committee_bits'])\n",
    "    else:\n",
    "        prater_bits_1.append('No Block At Slot')\n",
    "for i in range((prater_start+1)*32, (prater_start+2)*32):\n",
    "    x = requests.request('GET', 'http://95.217.105.14:50002/eth/v1/beacon/blocks/{}'.format(str(i)))\n",
    "    if 'data' in x.json():\n",
    "        prater_bits_2.append(x.json()['data']['message']['body']['sync_aggregate']['sync_committee_bits'])\n",
    "    else:\n",
    "        prater_bits_2.append('No Block At Slot')\n",
    "for i in range((prater_start+2)*32, (prater_start+3)*32):\n",
    "    x = requests.request('GET', 'http://95.217.105.14:50002/eth/v1/beacon/blocks/{}'.format(str(i)))\n",
    "    if 'data' in x.json():\n",
    "        prater_bits_3.append(x.json()['data']['message']['body']['sync_aggregate']['sync_committee_bits'])\n",
    "    else:\n",
    "        prater_bits_3.append('No Block At Slot')\n",
    "for i in range((prater_start+3)*32, (prater_start+4)*32):\n",
    "    x = requests.request('GET', 'http://95.217.105.14:50002/eth/v1/beacon/blocks/{}'.format(str(i)))\n",
    "    if 'data' in x.json():\n",
    "        prater_bits_4.append(x.json()['data']['message']['body']['sync_aggregate']['sync_committee_bits'])\n",
    "    else:\n",
    "        prater_bits_4.append('No Block At Slot')\n",
    "for i in range((prater_start+4)*32, (prater_start+5)*32):\n",
    "    x = requests.request('GET', 'http://95.217.105.14:50002/eth/v1/beacon/blocks/{}'.format(str(i)))\n",
    "    if 'data' in x.json():\n",
    "        prater_bits_5.append(x.json()['data']['message']['body']['sync_aggregate']['sync_committee_bits'])\n",
    "    else:\n",
    "        prater_bits_5.append('No Block At Slot')\n",
    "for i in range((prater_start+5)*32, (prater_start+6)*32):\n",
    "    x = requests.request('GET', 'http://95.217.105.14:50002/eth/v1/beacon/blocks/{}'.format(str(i)))\n",
    "    if 'data' in x.json():\n",
    "        prater_bits_6.append(x.json()['data']['message']['body']['sync_aggregate']['sync_committee_bits'])\n",
    "    else:\n",
    "        prater_bits_6.append('No Block At Slot')\n",
    "for i in range((prater_start+6)*32, (prater_start+7)*32):\n",
    "    x = requests.request('GET', 'http://95.217.105.14:50002/eth/v1/beacon/blocks/{}'.format(str(i)))\n",
    "    if 'data' in x.json():\n",
    "        prater_bits_7.append(x.json()['data']['message']['body']['sync_aggregate']['sync_committee_bits'])\n",
    "    else:\n",
    "        prater_bits_7.append('No Block At Slot')\n",
    "for i in range((prater_start+7)*32, (prater_start+8)*32):\n",
    "    x = requests.request('GET', 'http://95.217.105.14:50002/eth/v1/beacon/blocks/{}'.format(str(i)))\n",
    "    if 'data' in x.json():\n",
    "        prater_bits_8.append(x.json()['data']['message']['body']['sync_aggregate']['sync_committee_bits'])\n",
    "    else:\n",
    "        prater_bits_8.append('No Block At Slot')\n",
    "for i in range((prater_start+8)*32, (prater_start+9)*32):\n",
    "    x = requests.request('GET', 'http://95.217.105.14:50002/eth/v1/beacon/blocks/{}'.format(str(i)))\n",
    "    if 'data' in x.json():\n",
    "        prater_bits_9.append(x.json()['data']['message']['body']['sync_aggregate']['sync_committee_bits'])\n",
    "    else:\n",
    "        prater_bits_9.append('No Block At Slot')\n",
    "for i in range((prater_start+9)*32, (prater_start+10)*32):\n",
    "    x = requests.request('GET', 'http://95.217.105.14:50002/eth/v1/beacon/blocks/{}'.format(str(i)))\n",
    "    if 'data' in x.json():\n",
    "        prater_bits_10.append(x.json()['data']['message']['body']['sync_aggregate']['sync_committee_bits'])\n",
    "    else:\n",
    "        prater_bits_10.append('No Block At Slot')"
   ]
  },
  {
   "cell_type": "code",
   "execution_count": 138,
   "id": "8dc61225-db1b-43c5-b346-d5793753d365",
   "metadata": {},
   "outputs": [],
   "source": [
    "prater_bits_decoded_1 = []\n",
    "for i in prater_bits_1:\n",
    "    if i == 'No Block At Slot':\n",
    "        prater_bits_decoded_1.append(i)\n",
    "    else:\n",
    "        prater_bits_decoded_1.append(decoding(str(i)))\n",
    "        \n",
    "prater_bits_decoded_2 = []\n",
    "for i in prater_bits_2:\n",
    "    if i == 'No Block At Slot':\n",
    "        prater_bits_decoded_2.append(i)\n",
    "    else:\n",
    "        prater_bits_decoded_2.append(decoding(str(i)))\n",
    "        \n",
    "prater_bits_decoded_3 = []\n",
    "for i in prater_bits_3:\n",
    "    if i == 'No Block At Slot':\n",
    "        prater_bits_decoded_3.append(i)\n",
    "    else:\n",
    "        prater_bits_decoded_3.append(decoding(str(i)))\n",
    "        \n",
    "prater_bits_decoded_4 = []\n",
    "for i in prater_bits_4:\n",
    "    if i == 'No Block At Slot':\n",
    "        prater_bits_decoded_4.append(i)\n",
    "    else:\n",
    "        prater_bits_decoded_4.append(decoding(str(i)))\n",
    "        \n",
    "prater_bits_decoded_5 = []\n",
    "for i in prater_bits_5:\n",
    "    if i == 'No Block At Slot':\n",
    "        prater_bits_decoded_5.append(i)\n",
    "    else:\n",
    "        prater_bits_decoded_5.append(decoding(str(i)))\n",
    "        \n",
    "prater_bits_decoded_6 = []\n",
    "for i in prater_bits_6:\n",
    "    if i == 'No Block At Slot':\n",
    "        prater_bits_decoded_6.append(i)\n",
    "    else:\n",
    "        prater_bits_decoded_6.append(decoding(str(i)))\n",
    "        \n",
    "prater_bits_decoded_7 = []\n",
    "for i in prater_bits_7:\n",
    "    if i == 'No Block At Slot':\n",
    "        prater_bits_decoded_7.append(i)\n",
    "    else:\n",
    "        prater_bits_decoded_7.append(decoding(str(i)))\n",
    "        \n",
    "prater_bits_decoded_8 = []\n",
    "for i in prater_bits_8:\n",
    "    if i == 'No Block At Slot':\n",
    "        prater_bits_decoded_8.append(i)\n",
    "    else:\n",
    "        prater_bits_decoded_8.append(decoding(str(i)))\n",
    "        \n",
    "prater_bits_decoded_9 = []\n",
    "for i in prater_bits_9:\n",
    "    if i == 'No Block At Slot':\n",
    "        prater_bits_decoded_9.append(i)\n",
    "    else:\n",
    "        prater_bits_decoded_9.append(decoding(str(i)))\n",
    "        \n",
    "prater_bits_decoded_10 = []\n",
    "for i in prater_bits_10:\n",
    "    if i == 'No Block At Slot':\n",
    "        prater_bits_decoded_10.append(i)\n",
    "    else:\n",
    "        prater_bits_decoded_10.append(decoding(str(i)))"
   ]
  },
  {
   "cell_type": "code",
   "execution_count": 167,
   "id": "658c68c7-9954-426d-b136-13f26a3b8c09",
   "metadata": {},
   "outputs": [],
   "source": [
    "freq_dict_1 = {}\n",
    "\n",
    "for i in range(len(prater_bits_1)):\n",
    "    if prater_bits_decoded_1[i] == 'No Block At String':\n",
    "        continue\n",
    "    else: \n",
    "        for j in range(len(prater_bits_decoded_1[i])):\n",
    "            if prater_bits_decoded_1[i][j] == '0':\n",
    "                if prater_validators_1[i][j] in freq_dict_1:\n",
    "                    freq_dict_1[prater_validators_1[i][j]] += 1\n",
    "                else:\n",
    "                    freq_dict_1[prater_validators_1[i][j]] = 1\n",
    "                \n",
    "freq_df_1 = pd.DataFrame(freq_dict_1.items(), columns=['Validator index', 'Number of missed/incorrect sync'])\n",
    "\n",
    "freq_dict_2 = {}\n",
    "\n",
    "for i in range(len(prater_bits_1)):\n",
    "    if prater_bits_decoded_2[i] == 'No Block At String':\n",
    "        continue\n",
    "    else: \n",
    "        for j in range(len(prater_bits_decoded_2[i])):\n",
    "            if prater_bits_decoded_2[i][j] == '0':\n",
    "                if prater_validators_2[i][j] in freq_dict_2:\n",
    "                    freq_dict_2[prater_validators_2[i][j]] += 1\n",
    "                else:\n",
    "                    freq_dict_2[prater_validators_2[i][j]] = 1\n",
    "                \n",
    "freq_df_2 = pd.DataFrame(freq_dict_2.items(), columns=['Validator index', 'Number of missed/incorrect sync'])\n",
    "\n",
    "freq_dict_3 = {}\n",
    "\n",
    "for i in range(len(prater_bits_1)):\n",
    "    if prater_bits_decoded_3[i] == 'No Block At String':\n",
    "        continue\n",
    "    else: \n",
    "        for j in range(len(prater_bits_decoded_3[i])):\n",
    "            if prater_bits_decoded_3[i][j] == '0':\n",
    "                if prater_validators_3[i][j] in freq_dict_3:\n",
    "                    freq_dict_3[prater_validators_3[i][j]] += 1\n",
    "                else:\n",
    "                    freq_dict_3[prater_validators_3[i][j]] = 1\n",
    "                \n",
    "freq_df_3 = pd.DataFrame(freq_dict_3.items(), columns=['Validator index', 'Number of missed/incorrect sync'])\n",
    "\n",
    "freq_dict_4 = {}\n",
    "\n",
    "for i in range(len(prater_bits_1)):\n",
    "    if prater_bits_decoded_4[i] == 'No Block At String':\n",
    "        continue\n",
    "    else: \n",
    "        for j in range(len(prater_bits_decoded_4[i])):\n",
    "            if prater_bits_decoded_4[i][j] == '0':\n",
    "                if prater_validators_4[i][j] in freq_dict_4:\n",
    "                    freq_dict_4[prater_validators_4[i][j]] += 1\n",
    "                else:\n",
    "                    freq_dict_4[prater_validators_4[i][j]] = 1\n",
    "                \n",
    "freq_df_4 = pd.DataFrame(freq_dict_4.items(), columns=['Validator index', 'Number of missed/incorrect sync'])\n",
    "\n",
    "freq_dict_5 = {}\n",
    "\n",
    "for i in range(len(prater_bits_1)):\n",
    "    if prater_bits_decoded_5[i] == 'No Block At String':\n",
    "        continue\n",
    "    else: \n",
    "        for j in range(len(prater_bits_decoded_5[i])):\n",
    "            if prater_bits_decoded_5[i][j] == '0':\n",
    "                if prater_validators_5[i][j] in freq_dict_5:\n",
    "                    freq_dict_5[prater_validators_5[i][j]] += 1\n",
    "                else:\n",
    "                    freq_dict_5[prater_validators_5[i][j]] = 1\n",
    "                \n",
    "freq_df_5 = pd.DataFrame(freq_dict_5.items(), columns=['Validator index', 'Number of missed/incorrect sync'])\n",
    "\n",
    "freq_dict_6 = {}\n",
    "\n",
    "for i in range(len(prater_bits_1)):\n",
    "    if prater_bits_decoded_6[i] == 'No Block At String':\n",
    "        continue\n",
    "    else: \n",
    "        for j in range(len(prater_bits_decoded_6[i])):\n",
    "            if prater_bits_decoded_6[i][j] == '0':\n",
    "                if prater_validators_6[i][j] in freq_dict_6:\n",
    "                    freq_dict_6[prater_validators_6[i][j]] += 1\n",
    "                else:\n",
    "                    freq_dict_6[prater_validators_6[i][j]] = 1\n",
    "                \n",
    "freq_df_6 = pd.DataFrame(freq_dict_6.items(), columns=['Validator index', 'Number of missed/incorrect sync'])\n",
    "\n",
    "freq_dict_7 = {}\n",
    "\n",
    "for i in range(len(prater_bits_1)):\n",
    "    if prater_bits_decoded_7[i] == 'No Block At String':\n",
    "        continue\n",
    "    else: \n",
    "        for j in range(len(prater_bits_decoded_7[i])):\n",
    "            if prater_bits_decoded_7[i][j] == '0':\n",
    "                if prater_validators_7[i][j] in freq_dict_7:\n",
    "                    freq_dict_7[prater_validators_7[i][j]] += 1\n",
    "                else:\n",
    "                    freq_dict_7[prater_validators_7[i][j]] = 1\n",
    "                \n",
    "freq_df_7 = pd.DataFrame(freq_dict_7.items(), columns=['Validator index', 'Number of missed/incorrect sync'])\n",
    "\n",
    "freq_dict_8 = {}\n",
    "\n",
    "for i in range(len(prater_bits_1)):\n",
    "    if prater_bits_decoded_8[i] == 'No Block At String':\n",
    "        continue\n",
    "    else: \n",
    "        for j in range(len(prater_bits_decoded_8[i])):\n",
    "            if prater_bits_decoded_8[i][j] == '0':\n",
    "                if prater_validators_8[i][j] in freq_dict_8:\n",
    "                    freq_dict_8[prater_validators_8[i][j]] += 1\n",
    "                else:\n",
    "                    freq_dict_8[prater_validators_8[i][j]] = 1\n",
    "                \n",
    "freq_df_8 = pd.DataFrame(freq_dict_8.items(), columns=['Validator index', 'Number of missed/incorrect sync'])\n",
    "\n",
    "freq_dict_9 = {}\n",
    "\n",
    "for i in range(len(prater_bits_1)):\n",
    "    if prater_bits_decoded_9[i] == 'No Block At String':\n",
    "        continue\n",
    "    else: \n",
    "        for j in range(len(prater_bits_decoded_9[i])):\n",
    "            if prater_bits_decoded_9[i][j] == '0':\n",
    "                if prater_validators_9[i][j] in freq_dict_9:\n",
    "                    freq_dict_9[prater_validators_9[i][j]] += 1\n",
    "                else:\n",
    "                    freq_dict_9[prater_validators_9[i][j]] = 1\n",
    "                \n",
    "freq_df_9 = pd.DataFrame(freq_dict_9.items(), columns=['Validator index', 'Number of missed/incorrect sync'])\n",
    "\n",
    "freq_dict_10 = {}\n",
    "\n",
    "for i in range(len(prater_bits_10)):\n",
    "    if prater_bits_decoded_10[i] == 'No Block At String':\n",
    "        continue\n",
    "    else: \n",
    "        for j in range(len(prater_bits_decoded_10[i])):\n",
    "            if prater_bits_decoded_10[i][j] == '0':\n",
    "                if prater_validators_10[i][j] in freq_dict_10:\n",
    "                    freq_dict_10[prater_validators_10[i][j]] += 1\n",
    "                else:\n",
    "                    freq_dict_10[prater_validators_10[i][j]] = 1\n",
    "                \n",
    "freq_df_10 = pd.DataFrame(freq_dict_10.items(), columns=['Validator index', 'Number of missed/incorrect sync'])"
   ]
  },
  {
   "cell_type": "code",
   "execution_count": 168,
   "id": "5bb1f5ff-b367-4911-a230-b27d0f9ce123",
   "metadata": {},
   "outputs": [],
   "source": [
    "client_df = pd.read_csv('prater_client_map.csv')\n",
    "client = client_df.set_index('Validator index')['Client'].to_dict()\n",
    "\n",
    "client_list = []\n",
    "\n",
    "for i in freq_df_1['Validator index']:\n",
    "    if int(i) in client: \n",
    "        client_list.append(client[int(i)])\n",
    "    else:\n",
    "        client_list.append('Unknown')\n",
    "        \n",
    "freq_df_1['Client'] = client_list\n",
    "\n",
    "client_list = []\n",
    "\n",
    "for i in freq_df_2['Validator index']:\n",
    "    if int(i) in client: \n",
    "        client_list.append(client[int(i)])\n",
    "    else:\n",
    "        client_list.append('Unknown')\n",
    "        \n",
    "freq_df_2['Client'] = client_list\n",
    "\n",
    "client_list = []\n",
    "\n",
    "for i in freq_df_3['Validator index']:\n",
    "    if int(i) in client: \n",
    "        client_list.append(client[int(i)])\n",
    "    else:\n",
    "        client_list.append('Unknown')\n",
    "        \n",
    "freq_df_3['Client'] = client_list\n",
    "\n",
    "client_list = []\n",
    "\n",
    "for i in freq_df_4['Validator index']:\n",
    "    if int(i) in client: \n",
    "        client_list.append(client[int(i)])\n",
    "    else:\n",
    "        client_list.append('Unknown')\n",
    "        \n",
    "freq_df_4['Client'] = client_list\n",
    "\n",
    "client_list = []\n",
    "\n",
    "for i in freq_df_5['Validator index']:\n",
    "    if int(i) in client: \n",
    "        client_list.append(client[int(i)])\n",
    "    else:\n",
    "        client_list.append('Unknown')\n",
    "        \n",
    "freq_df_5['Client'] = client_list\n",
    "\n",
    "client_list = []\n",
    "\n",
    "for i in freq_df_6['Validator index']:\n",
    "    if int(i) in client: \n",
    "        client_list.append(client[int(i)])\n",
    "    else:\n",
    "        client_list.append('Unknown')\n",
    "        \n",
    "freq_df_6['Client'] = client_list\n",
    "\n",
    "client_list = []\n",
    "\n",
    "for i in freq_df_7['Validator index']:\n",
    "    if int(i) in client: \n",
    "        client_list.append(client[int(i)])\n",
    "    else:\n",
    "        client_list.append('Unknown')\n",
    "        \n",
    "freq_df_7['Client'] = client_list\n",
    "\n",
    "client_list = []\n",
    "\n",
    "for i in freq_df_8['Validator index']:\n",
    "    if int(i) in client: \n",
    "        client_list.append(client[int(i)])\n",
    "    else:\n",
    "        client_list.append('Unknown')\n",
    "        \n",
    "freq_df_8['Client'] = client_list\n",
    "\n",
    "client_list = []\n",
    "\n",
    "for i in freq_df_9['Validator index']:\n",
    "    if int(i) in client: \n",
    "        client_list.append(client[int(i)])\n",
    "    else:\n",
    "        client_list.append('Unknown')\n",
    "        \n",
    "freq_df_9['Client'] = client_list\n",
    "\n",
    "client_list = []\n",
    "\n",
    "for i in freq_df_10['Validator index']:\n",
    "    if int(i) in client: \n",
    "        client_list.append(client[int(i)])\n",
    "    else:\n",
    "        client_list.append('Unknown')\n",
    "        \n",
    "freq_df_10['Client'] = client_list"
   ]
  },
  {
   "cell_type": "code",
   "execution_count": 170,
   "id": "d47eb03e-9b32-4264-8405-c6e95c71d922",
   "metadata": {},
   "outputs": [
    {
     "data": {
      "text/html": [
       "<div>\n",
       "<style scoped>\n",
       "    .dataframe tbody tr th:only-of-type {\n",
       "        vertical-align: middle;\n",
       "    }\n",
       "\n",
       "    .dataframe tbody tr th {\n",
       "        vertical-align: top;\n",
       "    }\n",
       "\n",
       "    .dataframe thead th {\n",
       "        text-align: right;\n",
       "    }\n",
       "</style>\n",
       "<table border=\"1\" class=\"dataframe\">\n",
       "  <thead>\n",
       "    <tr style=\"text-align: right;\">\n",
       "      <th></th>\n",
       "      <th>Validator index</th>\n",
       "      <th>Number of missed/incorrect sync</th>\n",
       "      <th>Client</th>\n",
       "    </tr>\n",
       "  </thead>\n",
       "  <tbody>\n",
       "    <tr>\n",
       "      <th>0</th>\n",
       "      <td>170215</td>\n",
       "      <td>28</td>\n",
       "      <td>nimbus</td>\n",
       "    </tr>\n",
       "    <tr>\n",
       "      <th>1</th>\n",
       "      <td>139350</td>\n",
       "      <td>28</td>\n",
       "      <td>teku</td>\n",
       "    </tr>\n",
       "    <tr>\n",
       "      <th>2</th>\n",
       "      <td>97854</td>\n",
       "      <td>28</td>\n",
       "      <td>lighthouse</td>\n",
       "    </tr>\n",
       "    <tr>\n",
       "      <th>3</th>\n",
       "      <td>173567</td>\n",
       "      <td>28</td>\n",
       "      <td>nimbus</td>\n",
       "    </tr>\n",
       "    <tr>\n",
       "      <th>4</th>\n",
       "      <td>162464</td>\n",
       "      <td>28</td>\n",
       "      <td>nimbus</td>\n",
       "    </tr>\n",
       "    <tr>\n",
       "      <th>...</th>\n",
       "      <td>...</td>\n",
       "      <td>...</td>\n",
       "      <td>...</td>\n",
       "    </tr>\n",
       "    <tr>\n",
       "      <th>171</th>\n",
       "      <td>161783</td>\n",
       "      <td>28</td>\n",
       "      <td>nimbus</td>\n",
       "    </tr>\n",
       "    <tr>\n",
       "      <th>172</th>\n",
       "      <td>123876</td>\n",
       "      <td>28</td>\n",
       "      <td>teku</td>\n",
       "    </tr>\n",
       "    <tr>\n",
       "      <th>173</th>\n",
       "      <td>68389</td>\n",
       "      <td>28</td>\n",
       "      <td>prysm</td>\n",
       "    </tr>\n",
       "    <tr>\n",
       "      <th>174</th>\n",
       "      <td>80524</td>\n",
       "      <td>28</td>\n",
       "      <td>lighthouse</td>\n",
       "    </tr>\n",
       "    <tr>\n",
       "      <th>175</th>\n",
       "      <td>15660</td>\n",
       "      <td>28</td>\n",
       "      <td>teku</td>\n",
       "    </tr>\n",
       "  </tbody>\n",
       "</table>\n",
       "<p>176 rows × 3 columns</p>\n",
       "</div>"
      ],
      "text/plain": [
       "    Validator index  Number of missed/incorrect sync      Client\n",
       "0            170215                               28      nimbus\n",
       "1            139350                               28        teku\n",
       "2             97854                               28  lighthouse\n",
       "3            173567                               28      nimbus\n",
       "4            162464                               28      nimbus\n",
       "..              ...                              ...         ...\n",
       "171          161783                               28      nimbus\n",
       "172          123876                               28        teku\n",
       "173           68389                               28       prysm\n",
       "174           80524                               28  lighthouse\n",
       "175           15660                               28        teku\n",
       "\n",
       "[176 rows x 3 columns]"
      ]
     },
     "execution_count": 170,
     "metadata": {},
     "output_type": "execute_result"
    }
   ],
   "source": [
    "freq_df_10"
   ]
  },
  {
   "cell_type": "code",
   "execution_count": 171,
   "id": "e21fa349-8ffb-4408-840c-358498a976d5",
   "metadata": {},
   "outputs": [
    {
     "data": {
      "text/plain": [
       "Client\n",
       "Unknown        672\n",
       "lighthouse     980\n",
       "nimbus        1260\n",
       "prysm         1232\n",
       "teku           784\n",
       "Name: Number of missed/incorrect sync, dtype: int64"
      ]
     },
     "execution_count": 171,
     "metadata": {},
     "output_type": "execute_result"
    }
   ],
   "source": [
    "df_pruned_1 = freq_df_1[['Number of missed/incorrect sync','Client']]\n",
    "df_pruned_grouped_1 = df_pruned_1.groupby(\"Client\")['Number of missed/incorrect sync'].sum()\n",
    "df_pruned_grouped_1"
   ]
  },
  {
   "cell_type": "code",
   "execution_count": 172,
   "id": "dfddfc8d-0073-4192-940e-ae6869a7da4d",
   "metadata": {},
   "outputs": [
    {
     "data": {
      "text/plain": [
       "Client\n",
       "Unknown        672\n",
       "lighthouse     980\n",
       "nimbus        1260\n",
       "prysm         1232\n",
       "teku           784\n",
       "Name: Number of missed/incorrect sync, dtype: int64"
      ]
     },
     "execution_count": 172,
     "metadata": {},
     "output_type": "execute_result"
    }
   ],
   "source": [
    "df_pruned_2 = freq_df_2[['Number of missed/incorrect sync','Client']]\n",
    "df_pruned_grouped_2 = df_pruned_2.groupby(\"Client\")['Number of missed/incorrect sync'].sum()\n",
    "df_pruned_grouped_2"
   ]
  },
  {
   "cell_type": "code",
   "execution_count": 173,
   "id": "3695cbcf-f02e-463d-b33e-bed71c844b30",
   "metadata": {},
   "outputs": [
    {
     "data": {
      "text/plain": [
       "Client\n",
       "Unknown        720\n",
       "lighthouse    1048\n",
       "nimbus        1347\n",
       "prysm         1318\n",
       "teku           836\n",
       "Name: Number of missed/incorrect sync, dtype: int64"
      ]
     },
     "execution_count": 173,
     "metadata": {},
     "output_type": "execute_result"
    }
   ],
   "source": [
    "df_pruned_3 = freq_df_3[['Number of missed/incorrect sync','Client']]\n",
    "df_pruned_grouped_3 = df_pruned_3.groupby(\"Client\")['Number of missed/incorrect sync'].sum()\n",
    "df_pruned_grouped_3"
   ]
  },
  {
   "cell_type": "code",
   "execution_count": 174,
   "id": "5b1b06c4-7255-46a7-bb27-33c563ca099c",
   "metadata": {},
   "outputs": [
    {
     "data": {
      "text/plain": [
       "Client\n",
       "Unknown        720\n",
       "lighthouse    1050\n",
       "nimbus        1351\n",
       "prysm         1320\n",
       "teku           841\n",
       "Name: Number of missed/incorrect sync, dtype: int64"
      ]
     },
     "execution_count": 174,
     "metadata": {},
     "output_type": "execute_result"
    }
   ],
   "source": [
    "df_pruned_4 = freq_df_4[['Number of missed/incorrect sync','Client']]\n",
    "df_pruned_grouped_4 = df_pruned_4.groupby(\"Client\")['Number of missed/incorrect sync'].sum()\n",
    "df_pruned_grouped_4"
   ]
  },
  {
   "cell_type": "code",
   "execution_count": 175,
   "id": "6aaf420c-0036-4699-9e46-fc98e6f739a2",
   "metadata": {},
   "outputs": [
    {
     "data": {
      "text/plain": [
       "Client\n",
       "Unknown        648\n",
       "lighthouse     945\n",
       "nimbus        1215\n",
       "prysm         1188\n",
       "teku           756\n",
       "Name: Number of missed/incorrect sync, dtype: int64"
      ]
     },
     "execution_count": 175,
     "metadata": {},
     "output_type": "execute_result"
    }
   ],
   "source": [
    "df_pruned_5 = freq_df_5[['Number of missed/incorrect sync','Client']]\n",
    "df_pruned_grouped_5 = df_pruned_5.groupby(\"Client\")['Number of missed/incorrect sync'].sum()\n",
    "df_pruned_grouped_5"
   ]
  },
  {
   "cell_type": "code",
   "execution_count": 176,
   "id": "a65f4976-5c85-4d6b-ab4b-34aae7a9c820",
   "metadata": {},
   "outputs": [
    {
     "data": {
      "text/plain": [
       "Client\n",
       "Unknown        600\n",
       "lighthouse     875\n",
       "nimbus        1125\n",
       "prysm         1100\n",
       "teku           700\n",
       "Name: Number of missed/incorrect sync, dtype: int64"
      ]
     },
     "execution_count": 176,
     "metadata": {},
     "output_type": "execute_result"
    }
   ],
   "source": [
    "df_pruned_6 = freq_df_6[['Number of missed/incorrect sync','Client']]\n",
    "df_pruned_grouped_6 = df_pruned_6.groupby(\"Client\")['Number of missed/incorrect sync'].sum()\n",
    "df_pruned_grouped_6"
   ]
  },
  {
   "cell_type": "code",
   "execution_count": 177,
   "id": "badc5832-7373-4517-b507-ed47ddeb3fce",
   "metadata": {},
   "outputs": [
    {
     "data": {
      "text/plain": [
       "Client\n",
       "Unknown        744\n",
       "lighthouse    1085\n",
       "nimbus        1395\n",
       "prysm         1364\n",
       "teku           868\n",
       "Name: Number of missed/incorrect sync, dtype: int64"
      ]
     },
     "execution_count": 177,
     "metadata": {},
     "output_type": "execute_result"
    }
   ],
   "source": [
    "df_pruned_7 = freq_df_7[['Number of missed/incorrect sync','Client']]\n",
    "df_pruned_grouped_7 = df_pruned_7.groupby(\"Client\")['Number of missed/incorrect sync'].sum()\n",
    "df_pruned_grouped_7"
   ]
  },
  {
   "cell_type": "code",
   "execution_count": 178,
   "id": "0f56c43b-d86f-416d-ae72-3295b9d54284",
   "metadata": {},
   "outputs": [
    {
     "data": {
      "text/plain": [
       "Client\n",
       "Unknown        744\n",
       "lighthouse    1085\n",
       "nimbus        1395\n",
       "prysm         1364\n",
       "teku           868\n",
       "Name: Number of missed/incorrect sync, dtype: int64"
      ]
     },
     "execution_count": 178,
     "metadata": {},
     "output_type": "execute_result"
    }
   ],
   "source": [
    "df_pruned_8 = freq_df_8[['Number of missed/incorrect sync','Client']]\n",
    "df_pruned_grouped_8 = df_pruned_8.groupby(\"Client\")['Number of missed/incorrect sync'].sum()\n",
    "df_pruned_grouped_8"
   ]
  },
  {
   "cell_type": "code",
   "execution_count": 179,
   "id": "13edc81b-b7a2-4287-8a99-1f93050e6677",
   "metadata": {},
   "outputs": [
    {
     "data": {
      "text/plain": [
       "Client\n",
       "Unknown        624\n",
       "lighthouse     910\n",
       "nimbus        1172\n",
       "prysm         1144\n",
       "teku           730\n",
       "Name: Number of missed/incorrect sync, dtype: int64"
      ]
     },
     "execution_count": 179,
     "metadata": {},
     "output_type": "execute_result"
    }
   ],
   "source": [
    "df_pruned_9 = freq_df_9[['Number of missed/incorrect sync','Client']]\n",
    "df_pruned_grouped_9 = df_pruned_9.groupby(\"Client\")['Number of missed/incorrect sync'].sum()\n",
    "df_pruned_grouped_9"
   ]
  },
  {
   "cell_type": "code",
   "execution_count": 180,
   "id": "0b8fd3ce-d555-40c0-85b0-3de9c4cb2c67",
   "metadata": {},
   "outputs": [
    {
     "data": {
      "text/plain": [
       "Client\n",
       "Unknown        672\n",
       "lighthouse     980\n",
       "nimbus        1260\n",
       "prysm         1232\n",
       "teku           784\n",
       "Name: Number of missed/incorrect sync, dtype: int64"
      ]
     },
     "execution_count": 180,
     "metadata": {},
     "output_type": "execute_result"
    }
   ],
   "source": [
    "df_pruned_10 = freq_df_10[['Number of missed/incorrect sync','Client']]\n",
    "df_pruned_grouped_10 = df_pruned_10.groupby(\"Client\")['Number of missed/incorrect sync'].sum()\n",
    "df_pruned_grouped_10"
   ]
  },
  {
   "cell_type": "code",
   "execution_count": 182,
   "id": "095c31cc-1734-417d-a795-26b495f97d11",
   "metadata": {},
   "outputs": [],
   "source": [
    "x = [40800,40801,40802,40803,40804,40805,40806,40807,40808,40809,40810]\n",
    "\n",
    "y1 = [df_pruned_grouped_1[1], df_pruned_grouped_2[1], df_pruned_grouped_3[1], df_pruned_grouped_4[1], df_pruned_grouped_5[1], df_pruned_grouped_6[1], df_pruned_grouped_7[1], df_pruned_grouped_8[1], df_pruned_grouped_9[1], df_pruned_grouped_10[1]]\n",
    "y2 = [df_pruned_grouped_1[2], df_pruned_grouped_2[2], df_pruned_grouped_3[2], df_pruned_grouped_4[2], df_pruned_grouped_5[2], df_pruned_grouped_6[2], df_pruned_grouped_7[2], df_pruned_grouped_8[2], df_pruned_grouped_9[2], df_pruned_grouped_10[2]]\n",
    "y3 = [df_pruned_grouped_1[3], df_pruned_grouped_2[3], df_pruned_grouped_3[3], df_pruned_grouped_4[3], df_pruned_grouped_5[3], df_pruned_grouped_6[3], df_pruned_grouped_7[3], df_pruned_grouped_8[3], df_pruned_grouped_9[3], df_pruned_grouped_10[3]]\n",
    "y4 = [df_pruned_grouped_1[4], df_pruned_grouped_2[4], df_pruned_grouped_3[4], df_pruned_grouped_4[4], df_pruned_grouped_5[4], df_pruned_grouped_6[4], df_pruned_grouped_7[4], df_pruned_grouped_8[4], df_pruned_grouped_9[4], df_pruned_grouped_10[4]]"
   ]
  },
  {
   "cell_type": "code",
   "execution_count": 184,
   "id": "b102bd48-27de-4202-91db-1598eff7403c",
   "metadata": {},
   "outputs": [
    {
     "data": {
      "application/vnd.plotly.v1+json": {
       "config": {
        "plotlyServerURL": "https://plot.ly"
       },
       "data": [
        {
         "mode": "lines",
         "name": "lighthouse",
         "type": "scatter",
         "x": [
          40800,
          40801,
          40802,
          40803,
          40804,
          40805,
          40806,
          40807,
          40808,
          40809,
          40810
         ],
         "y": [
          980,
          980,
          1048,
          1050,
          945,
          875,
          1085,
          1085,
          910,
          980
         ]
        },
        {
         "mode": "lines",
         "name": "nimbus",
         "type": "scatter",
         "x": [
          40800,
          40801,
          40802,
          40803,
          40804,
          40805,
          40806,
          40807,
          40808,
          40809,
          40810
         ],
         "y": [
          1260,
          1260,
          1347,
          1351,
          1215,
          1125,
          1395,
          1395,
          1172,
          1260
         ]
        },
        {
         "mode": "lines",
         "name": "prysm",
         "type": "scatter",
         "x": [
          40800,
          40801,
          40802,
          40803,
          40804,
          40805,
          40806,
          40807,
          40808,
          40809,
          40810
         ],
         "y": [
          1232,
          1232,
          1318,
          1320,
          1188,
          1100,
          1364,
          1364,
          1144,
          1232
         ]
        },
        {
         "mode": "lines",
         "name": "teku",
         "type": "scatter",
         "x": [
          40800,
          40801,
          40802,
          40803,
          40804,
          40805,
          40806,
          40807,
          40808,
          40809,
          40810
         ],
         "y": [
          784,
          784,
          836,
          841,
          756,
          700,
          868,
          868,
          730,
          784
         ]
        }
       ],
       "layout": {
        "autosize": true,
        "template": {
         "data": {
          "bar": [
           {
            "error_x": {
             "color": "#2a3f5f"
            },
            "error_y": {
             "color": "#2a3f5f"
            },
            "marker": {
             "line": {
              "color": "#E5ECF6",
              "width": 0.5
             }
            },
            "type": "bar"
           }
          ],
          "barpolar": [
           {
            "marker": {
             "line": {
              "color": "#E5ECF6",
              "width": 0.5
             }
            },
            "type": "barpolar"
           }
          ],
          "carpet": [
           {
            "aaxis": {
             "endlinecolor": "#2a3f5f",
             "gridcolor": "white",
             "linecolor": "white",
             "minorgridcolor": "white",
             "startlinecolor": "#2a3f5f"
            },
            "baxis": {
             "endlinecolor": "#2a3f5f",
             "gridcolor": "white",
             "linecolor": "white",
             "minorgridcolor": "white",
             "startlinecolor": "#2a3f5f"
            },
            "type": "carpet"
           }
          ],
          "choropleth": [
           {
            "colorbar": {
             "outlinewidth": 0,
             "ticks": ""
            },
            "type": "choropleth"
           }
          ],
          "contour": [
           {
            "colorbar": {
             "outlinewidth": 0,
             "ticks": ""
            },
            "colorscale": [
             [
              0,
              "#0d0887"
             ],
             [
              0.1111111111111111,
              "#46039f"
             ],
             [
              0.2222222222222222,
              "#7201a8"
             ],
             [
              0.3333333333333333,
              "#9c179e"
             ],
             [
              0.4444444444444444,
              "#bd3786"
             ],
             [
              0.5555555555555556,
              "#d8576b"
             ],
             [
              0.6666666666666666,
              "#ed7953"
             ],
             [
              0.7777777777777778,
              "#fb9f3a"
             ],
             [
              0.8888888888888888,
              "#fdca26"
             ],
             [
              1,
              "#f0f921"
             ]
            ],
            "type": "contour"
           }
          ],
          "contourcarpet": [
           {
            "colorbar": {
             "outlinewidth": 0,
             "ticks": ""
            },
            "type": "contourcarpet"
           }
          ],
          "heatmap": [
           {
            "colorbar": {
             "outlinewidth": 0,
             "ticks": ""
            },
            "colorscale": [
             [
              0,
              "#0d0887"
             ],
             [
              0.1111111111111111,
              "#46039f"
             ],
             [
              0.2222222222222222,
              "#7201a8"
             ],
             [
              0.3333333333333333,
              "#9c179e"
             ],
             [
              0.4444444444444444,
              "#bd3786"
             ],
             [
              0.5555555555555556,
              "#d8576b"
             ],
             [
              0.6666666666666666,
              "#ed7953"
             ],
             [
              0.7777777777777778,
              "#fb9f3a"
             ],
             [
              0.8888888888888888,
              "#fdca26"
             ],
             [
              1,
              "#f0f921"
             ]
            ],
            "type": "heatmap"
           }
          ],
          "heatmapgl": [
           {
            "colorbar": {
             "outlinewidth": 0,
             "ticks": ""
            },
            "colorscale": [
             [
              0,
              "#0d0887"
             ],
             [
              0.1111111111111111,
              "#46039f"
             ],
             [
              0.2222222222222222,
              "#7201a8"
             ],
             [
              0.3333333333333333,
              "#9c179e"
             ],
             [
              0.4444444444444444,
              "#bd3786"
             ],
             [
              0.5555555555555556,
              "#d8576b"
             ],
             [
              0.6666666666666666,
              "#ed7953"
             ],
             [
              0.7777777777777778,
              "#fb9f3a"
             ],
             [
              0.8888888888888888,
              "#fdca26"
             ],
             [
              1,
              "#f0f921"
             ]
            ],
            "type": "heatmapgl"
           }
          ],
          "histogram": [
           {
            "marker": {
             "colorbar": {
              "outlinewidth": 0,
              "ticks": ""
             }
            },
            "type": "histogram"
           }
          ],
          "histogram2d": [
           {
            "colorbar": {
             "outlinewidth": 0,
             "ticks": ""
            },
            "colorscale": [
             [
              0,
              "#0d0887"
             ],
             [
              0.1111111111111111,
              "#46039f"
             ],
             [
              0.2222222222222222,
              "#7201a8"
             ],
             [
              0.3333333333333333,
              "#9c179e"
             ],
             [
              0.4444444444444444,
              "#bd3786"
             ],
             [
              0.5555555555555556,
              "#d8576b"
             ],
             [
              0.6666666666666666,
              "#ed7953"
             ],
             [
              0.7777777777777778,
              "#fb9f3a"
             ],
             [
              0.8888888888888888,
              "#fdca26"
             ],
             [
              1,
              "#f0f921"
             ]
            ],
            "type": "histogram2d"
           }
          ],
          "histogram2dcontour": [
           {
            "colorbar": {
             "outlinewidth": 0,
             "ticks": ""
            },
            "colorscale": [
             [
              0,
              "#0d0887"
             ],
             [
              0.1111111111111111,
              "#46039f"
             ],
             [
              0.2222222222222222,
              "#7201a8"
             ],
             [
              0.3333333333333333,
              "#9c179e"
             ],
             [
              0.4444444444444444,
              "#bd3786"
             ],
             [
              0.5555555555555556,
              "#d8576b"
             ],
             [
              0.6666666666666666,
              "#ed7953"
             ],
             [
              0.7777777777777778,
              "#fb9f3a"
             ],
             [
              0.8888888888888888,
              "#fdca26"
             ],
             [
              1,
              "#f0f921"
             ]
            ],
            "type": "histogram2dcontour"
           }
          ],
          "mesh3d": [
           {
            "colorbar": {
             "outlinewidth": 0,
             "ticks": ""
            },
            "type": "mesh3d"
           }
          ],
          "parcoords": [
           {
            "line": {
             "colorbar": {
              "outlinewidth": 0,
              "ticks": ""
             }
            },
            "type": "parcoords"
           }
          ],
          "pie": [
           {
            "automargin": true,
            "type": "pie"
           }
          ],
          "scatter": [
           {
            "marker": {
             "colorbar": {
              "outlinewidth": 0,
              "ticks": ""
             }
            },
            "type": "scatter"
           }
          ],
          "scatter3d": [
           {
            "line": {
             "colorbar": {
              "outlinewidth": 0,
              "ticks": ""
             }
            },
            "marker": {
             "colorbar": {
              "outlinewidth": 0,
              "ticks": ""
             }
            },
            "type": "scatter3d"
           }
          ],
          "scattercarpet": [
           {
            "marker": {
             "colorbar": {
              "outlinewidth": 0,
              "ticks": ""
             }
            },
            "type": "scattercarpet"
           }
          ],
          "scattergeo": [
           {
            "marker": {
             "colorbar": {
              "outlinewidth": 0,
              "ticks": ""
             }
            },
            "type": "scattergeo"
           }
          ],
          "scattergl": [
           {
            "marker": {
             "colorbar": {
              "outlinewidth": 0,
              "ticks": ""
             }
            },
            "type": "scattergl"
           }
          ],
          "scattermapbox": [
           {
            "marker": {
             "colorbar": {
              "outlinewidth": 0,
              "ticks": ""
             }
            },
            "type": "scattermapbox"
           }
          ],
          "scatterpolar": [
           {
            "marker": {
             "colorbar": {
              "outlinewidth": 0,
              "ticks": ""
             }
            },
            "type": "scatterpolar"
           }
          ],
          "scatterpolargl": [
           {
            "marker": {
             "colorbar": {
              "outlinewidth": 0,
              "ticks": ""
             }
            },
            "type": "scatterpolargl"
           }
          ],
          "scatterternary": [
           {
            "marker": {
             "colorbar": {
              "outlinewidth": 0,
              "ticks": ""
             }
            },
            "type": "scatterternary"
           }
          ],
          "surface": [
           {
            "colorbar": {
             "outlinewidth": 0,
             "ticks": ""
            },
            "colorscale": [
             [
              0,
              "#0d0887"
             ],
             [
              0.1111111111111111,
              "#46039f"
             ],
             [
              0.2222222222222222,
              "#7201a8"
             ],
             [
              0.3333333333333333,
              "#9c179e"
             ],
             [
              0.4444444444444444,
              "#bd3786"
             ],
             [
              0.5555555555555556,
              "#d8576b"
             ],
             [
              0.6666666666666666,
              "#ed7953"
             ],
             [
              0.7777777777777778,
              "#fb9f3a"
             ],
             [
              0.8888888888888888,
              "#fdca26"
             ],
             [
              1,
              "#f0f921"
             ]
            ],
            "type": "surface"
           }
          ],
          "table": [
           {
            "cells": {
             "fill": {
              "color": "#EBF0F8"
             },
             "line": {
              "color": "white"
             }
            },
            "header": {
             "fill": {
              "color": "#C8D4E3"
             },
             "line": {
              "color": "white"
             }
            },
            "type": "table"
           }
          ]
         },
         "layout": {
          "annotationdefaults": {
           "arrowcolor": "#2a3f5f",
           "arrowhead": 0,
           "arrowwidth": 1
          },
          "autotypenumbers": "strict",
          "coloraxis": {
           "colorbar": {
            "outlinewidth": 0,
            "ticks": ""
           }
          },
          "colorscale": {
           "diverging": [
            [
             0,
             "#8e0152"
            ],
            [
             0.1,
             "#c51b7d"
            ],
            [
             0.2,
             "#de77ae"
            ],
            [
             0.3,
             "#f1b6da"
            ],
            [
             0.4,
             "#fde0ef"
            ],
            [
             0.5,
             "#f7f7f7"
            ],
            [
             0.6,
             "#e6f5d0"
            ],
            [
             0.7,
             "#b8e186"
            ],
            [
             0.8,
             "#7fbc41"
            ],
            [
             0.9,
             "#4d9221"
            ],
            [
             1,
             "#276419"
            ]
           ],
           "sequential": [
            [
             0,
             "#0d0887"
            ],
            [
             0.1111111111111111,
             "#46039f"
            ],
            [
             0.2222222222222222,
             "#7201a8"
            ],
            [
             0.3333333333333333,
             "#9c179e"
            ],
            [
             0.4444444444444444,
             "#bd3786"
            ],
            [
             0.5555555555555556,
             "#d8576b"
            ],
            [
             0.6666666666666666,
             "#ed7953"
            ],
            [
             0.7777777777777778,
             "#fb9f3a"
            ],
            [
             0.8888888888888888,
             "#fdca26"
            ],
            [
             1,
             "#f0f921"
            ]
           ],
           "sequentialminus": [
            [
             0,
             "#0d0887"
            ],
            [
             0.1111111111111111,
             "#46039f"
            ],
            [
             0.2222222222222222,
             "#7201a8"
            ],
            [
             0.3333333333333333,
             "#9c179e"
            ],
            [
             0.4444444444444444,
             "#bd3786"
            ],
            [
             0.5555555555555556,
             "#d8576b"
            ],
            [
             0.6666666666666666,
             "#ed7953"
            ],
            [
             0.7777777777777778,
             "#fb9f3a"
            ],
            [
             0.8888888888888888,
             "#fdca26"
            ],
            [
             1,
             "#f0f921"
            ]
           ]
          },
          "colorway": [
           "#636efa",
           "#EF553B",
           "#00cc96",
           "#ab63fa",
           "#FFA15A",
           "#19d3f3",
           "#FF6692",
           "#B6E880",
           "#FF97FF",
           "#FECB52"
          ],
          "font": {
           "color": "#2a3f5f"
          },
          "geo": {
           "bgcolor": "white",
           "lakecolor": "white",
           "landcolor": "#E5ECF6",
           "showlakes": true,
           "showland": true,
           "subunitcolor": "white"
          },
          "hoverlabel": {
           "align": "left"
          },
          "hovermode": "closest",
          "mapbox": {
           "style": "light"
          },
          "paper_bgcolor": "white",
          "plot_bgcolor": "#E5ECF6",
          "polar": {
           "angularaxis": {
            "gridcolor": "white",
            "linecolor": "white",
            "ticks": ""
           },
           "bgcolor": "#E5ECF6",
           "radialaxis": {
            "gridcolor": "white",
            "linecolor": "white",
            "ticks": ""
           }
          },
          "scene": {
           "xaxis": {
            "backgroundcolor": "#E5ECF6",
            "gridcolor": "white",
            "gridwidth": 2,
            "linecolor": "white",
            "showbackground": true,
            "ticks": "",
            "zerolinecolor": "white"
           },
           "yaxis": {
            "backgroundcolor": "#E5ECF6",
            "gridcolor": "white",
            "gridwidth": 2,
            "linecolor": "white",
            "showbackground": true,
            "ticks": "",
            "zerolinecolor": "white"
           },
           "zaxis": {
            "backgroundcolor": "#E5ECF6",
            "gridcolor": "white",
            "gridwidth": 2,
            "linecolor": "white",
            "showbackground": true,
            "ticks": "",
            "zerolinecolor": "white"
           }
          },
          "shapedefaults": {
           "line": {
            "color": "#2a3f5f"
           }
          },
          "ternary": {
           "aaxis": {
            "gridcolor": "white",
            "linecolor": "white",
            "ticks": ""
           },
           "baxis": {
            "gridcolor": "white",
            "linecolor": "white",
            "ticks": ""
           },
           "bgcolor": "#E5ECF6",
           "caxis": {
            "gridcolor": "white",
            "linecolor": "white",
            "ticks": ""
           }
          },
          "title": {
           "x": 0.05
          },
          "xaxis": {
           "automargin": true,
           "gridcolor": "white",
           "linecolor": "white",
           "ticks": "",
           "title": {
            "standoff": 15
           },
           "zerolinecolor": "white",
           "zerolinewidth": 2
          },
          "yaxis": {
           "automargin": true,
           "gridcolor": "white",
           "linecolor": "white",
           "ticks": "",
           "title": {
            "standoff": 15
           },
           "zerolinecolor": "white",
           "zerolinewidth": 2
          }
         }
        },
        "xaxis": {
         "autorange": true,
         "range": [
          40800,
          40809
         ],
         "type": "linear"
        },
        "yaxis": {
         "autorange": true,
         "range": [
          661.3888888888889,
          1433.611111111111
         ],
         "type": "linear"
        }
       }
      },
      "image/png": "[encoded data removed]",
      "text/html": [
       "<div>                            <div id=\"83fbd43f-ad8b-45c6-bc77-987c6841a063\" class=\"plotly-graph-div\" style=\"height:525px; width:100%;\"></div>            <script type=\"text/javascript\">                require([\"plotly\"], function(Plotly) {                    window.PLOTLYENV=window.PLOTLYENV || {};                                    if (document.getElementById(\"83fbd43f-ad8b-45c6-bc77-987c6841a063\")) {                    Plotly.newPlot(                        \"83fbd43f-ad8b-45c6-bc77-987c6841a063\",                        [{\"mode\": \"lines\", \"name\": \"lighthouse\", \"type\": \"scatter\", \"x\": [40800, 40801, 40802, 40803, 40804, 40805, 40806, 40807, 40808, 40809, 40810], \"y\": [980, 980, 1048, 1050, 945, 875, 1085, 1085, 910, 980]}, {\"mode\": \"lines\", \"name\": \"nimbus\", \"type\": \"scatter\", \"x\": [40800, 40801, 40802, 40803, 40804, 40805, 40806, 40807, 40808, 40809, 40810], \"y\": [1260, 1260, 1347, 1351, 1215, 1125, 1395, 1395, 1172, 1260]}, {\"mode\": \"lines\", \"name\": \"prysm\", \"type\": \"scatter\", \"x\": [40800, 40801, 40802, 40803, 40804, 40805, 40806, 40807, 40808, 40809, 40810], \"y\": [1232, 1232, 1318, 1320, 1188, 1100, 1364, 1364, 1144, 1232]}, {\"mode\": \"lines\", \"name\": \"teku\", \"type\": \"scatter\", \"x\": [40800, 40801, 40802, 40803, 40804, 40805, 40806, 40807, 40808, 40809, 40810], \"y\": [784, 784, 836, 841, 756, 700, 868, 868, 730, 784]}],                        {\"template\": {\"data\": {\"bar\": [{\"error_x\": {\"color\": \"#2a3f5f\"}, \"error_y\": {\"color\": \"#2a3f5f\"}, \"marker\": {\"line\": {\"color\": \"#E5ECF6\", \"width\": 0.5}}, \"type\": \"bar\"}], \"barpolar\": [{\"marker\": {\"line\": {\"color\": \"#E5ECF6\", \"width\": 0.5}}, \"type\": \"barpolar\"}], \"carpet\": [{\"aaxis\": {\"endlinecolor\": \"#2a3f5f\", \"gridcolor\": \"white\", \"linecolor\": \"white\", \"minorgridcolor\": \"white\", \"startlinecolor\": \"#2a3f5f\"}, \"baxis\": {\"endlinecolor\": \"#2a3f5f\", \"gridcolor\": \"white\", \"linecolor\": \"white\", \"minorgridcolor\": \"white\", \"startlinecolor\": \"#2a3f5f\"}, \"type\": \"carpet\"}], \"choropleth\": [{\"colorbar\": {\"outlinewidth\": 0, \"ticks\": \"\"}, \"type\": \"choropleth\"}], \"contour\": [{\"colorbar\": {\"outlinewidth\": 0, \"ticks\": \"\"}, \"colorscale\": [[0.0, \"#0d0887\"], [0.1111111111111111, \"#46039f\"], [0.2222222222222222, \"#7201a8\"], [0.3333333333333333, \"#9c179e\"], [0.4444444444444444, \"#bd3786\"], [0.5555555555555556, \"#d8576b\"], [0.6666666666666666, \"#ed7953\"], [0.7777777777777778, \"#fb9f3a\"], [0.8888888888888888, \"#fdca26\"], [1.0, \"#f0f921\"]], \"type\": \"contour\"}], \"contourcarpet\": [{\"colorbar\": {\"outlinewidth\": 0, \"ticks\": \"\"}, \"type\": \"contourcarpet\"}], \"heatmap\": [{\"colorbar\": {\"outlinewidth\": 0, \"ticks\": \"\"}, \"colorscale\": [[0.0, \"#0d0887\"], [0.1111111111111111, \"#46039f\"], [0.2222222222222222, \"#7201a8\"], [0.3333333333333333, \"#9c179e\"], [0.4444444444444444, \"#bd3786\"], [0.5555555555555556, \"#d8576b\"], [0.6666666666666666, \"#ed7953\"], [0.7777777777777778, \"#fb9f3a\"], [0.8888888888888888, \"#fdca26\"], [1.0, \"#f0f921\"]], \"type\": \"heatmap\"}], \"heatmapgl\": [{\"colorbar\": {\"outlinewidth\": 0, \"ticks\": \"\"}, \"colorscale\": [[0.0, \"#0d0887\"], [0.1111111111111111, \"#46039f\"], [0.2222222222222222, \"#7201a8\"], [0.3333333333333333, \"#9c179e\"], [0.4444444444444444, \"#bd3786\"], [0.5555555555555556, \"#d8576b\"], [0.6666666666666666, \"#ed7953\"], [0.7777777777777778, \"#fb9f3a\"], [0.8888888888888888, \"#fdca26\"], [1.0, \"#f0f921\"]], \"type\": \"heatmapgl\"}], \"histogram\": [{\"marker\": {\"colorbar\": {\"outlinewidth\": 0, \"ticks\": \"\"}}, \"type\": \"histogram\"}], \"histogram2d\": [{\"colorbar\": {\"outlinewidth\": 0, \"ticks\": \"\"}, \"colorscale\": [[0.0, \"#0d0887\"], [0.1111111111111111, \"#46039f\"], [0.2222222222222222, \"#7201a8\"], [0.3333333333333333, \"#9c179e\"], [0.4444444444444444, \"#bd3786\"], [0.5555555555555556, \"#d8576b\"], [0.6666666666666666, \"#ed7953\"], [0.7777777777777778, \"#fb9f3a\"], [0.8888888888888888, \"#fdca26\"], [1.0, \"#f0f921\"]], \"type\": \"histogram2d\"}], \"histogram2dcontour\": [{\"colorbar\": {\"outlinewidth\": 0, \"ticks\": \"\"}, \"colorscale\": [[0.0, \"#0d0887\"], [0.1111111111111111, \"#46039f\"], [0.2222222222222222, \"#7201a8\"], [0.3333333333333333, \"#9c179e\"], [0.4444444444444444, \"#bd3786\"], [0.5555555555555556, \"#d8576b\"], [0.6666666666666666, \"#ed7953\"], [0.7777777777777778, \"#fb9f3a\"], [0.8888888888888888, \"#fdca26\"], [1.0, \"#f0f921\"]], \"type\": \"histogram2dcontour\"}], \"mesh3d\": [{\"colorbar\": {\"outlinewidth\": 0, \"ticks\": \"\"}, \"type\": \"mesh3d\"}], \"parcoords\": [{\"line\": {\"colorbar\": {\"outlinewidth\": 0, \"ticks\": \"\"}}, \"type\": \"parcoords\"}], \"pie\": [{\"automargin\": true, \"type\": \"pie\"}], \"scatter\": [{\"marker\": {\"colorbar\": {\"outlinewidth\": 0, \"ticks\": \"\"}}, \"type\": \"scatter\"}], \"scatter3d\": [{\"line\": {\"colorbar\": {\"outlinewidth\": 0, \"ticks\": \"\"}}, \"marker\": {\"colorbar\": {\"outlinewidth\": 0, \"ticks\": \"\"}}, \"type\": \"scatter3d\"}], \"scattercarpet\": [{\"marker\": {\"colorbar\": {\"outlinewidth\": 0, \"ticks\": \"\"}}, \"type\": \"scattercarpet\"}], \"scattergeo\": [{\"marker\": {\"colorbar\": {\"outlinewidth\": 0, \"ticks\": \"\"}}, \"type\": \"scattergeo\"}], \"scattergl\": [{\"marker\": {\"colorbar\": {\"outlinewidth\": 0, \"ticks\": \"\"}}, \"type\": \"scattergl\"}], \"scattermapbox\": [{\"marker\": {\"colorbar\": {\"outlinewidth\": 0, \"ticks\": \"\"}}, \"type\": \"scattermapbox\"}], \"scatterpolar\": [{\"marker\": {\"colorbar\": {\"outlinewidth\": 0, \"ticks\": \"\"}}, \"type\": \"scatterpolar\"}], \"scatterpolargl\": [{\"marker\": {\"colorbar\": {\"outlinewidth\": 0, \"ticks\": \"\"}}, \"type\": \"scatterpolargl\"}], \"scatterternary\": [{\"marker\": {\"colorbar\": {\"outlinewidth\": 0, \"ticks\": \"\"}}, \"type\": \"scatterternary\"}], \"surface\": [{\"colorbar\": {\"outlinewidth\": 0, \"ticks\": \"\"}, \"colorscale\": [[0.0, \"#0d0887\"], [0.1111111111111111, \"#46039f\"], [0.2222222222222222, \"#7201a8\"], [0.3333333333333333, \"#9c179e\"], [0.4444444444444444, \"#bd3786\"], [0.5555555555555556, \"#d8576b\"], [0.6666666666666666, \"#ed7953\"], [0.7777777777777778, \"#fb9f3a\"], [0.8888888888888888, \"#fdca26\"], [1.0, \"#f0f921\"]], \"type\": \"surface\"}], \"table\": [{\"cells\": {\"fill\": {\"color\": \"#EBF0F8\"}, \"line\": {\"color\": \"white\"}}, \"header\": {\"fill\": {\"color\": \"#C8D4E3\"}, \"line\": {\"color\": \"white\"}}, \"type\": \"table\"}]}, \"layout\": {\"annotationdefaults\": {\"arrowcolor\": \"#2a3f5f\", \"arrowhead\": 0, \"arrowwidth\": 1}, \"autotypenumbers\": \"strict\", \"coloraxis\": {\"colorbar\": {\"outlinewidth\": 0, \"ticks\": \"\"}}, \"colorscale\": {\"diverging\": [[0, \"#8e0152\"], [0.1, \"#c51b7d\"], [0.2, \"#de77ae\"], [0.3, \"#f1b6da\"], [0.4, \"#fde0ef\"], [0.5, \"#f7f7f7\"], [0.6, \"#e6f5d0\"], [0.7, \"#b8e186\"], [0.8, \"#7fbc41\"], [0.9, \"#4d9221\"], [1, \"#276419\"]], \"sequential\": [[0.0, \"#0d0887\"], [0.1111111111111111, \"#46039f\"], [0.2222222222222222, \"#7201a8\"], [0.3333333333333333, \"#9c179e\"], [0.4444444444444444, \"#bd3786\"], [0.5555555555555556, \"#d8576b\"], [0.6666666666666666, \"#ed7953\"], [0.7777777777777778, \"#fb9f3a\"], [0.8888888888888888, \"#fdca26\"], [1.0, \"#f0f921\"]], \"sequentialminus\": [[0.0, \"#0d0887\"], [0.1111111111111111, \"#46039f\"], [0.2222222222222222, \"#7201a8\"], [0.3333333333333333, \"#9c179e\"], [0.4444444444444444, \"#bd3786\"], [0.5555555555555556, \"#d8576b\"], [0.6666666666666666, \"#ed7953\"], [0.7777777777777778, \"#fb9f3a\"], [0.8888888888888888, \"#fdca26\"], [1.0, \"#f0f921\"]]}, \"colorway\": [\"#636efa\", \"#EF553B\", \"#00cc96\", \"#ab63fa\", \"#FFA15A\", \"#19d3f3\", \"#FF6692\", \"#B6E880\", \"#FF97FF\", \"#FECB52\"], \"font\": {\"color\": \"#2a3f5f\"}, \"geo\": {\"bgcolor\": \"white\", \"lakecolor\": \"white\", \"landcolor\": \"#E5ECF6\", \"showlakes\": true, \"showland\": true, \"subunitcolor\": \"white\"}, \"hoverlabel\": {\"align\": \"left\"}, \"hovermode\": \"closest\", \"mapbox\": {\"style\": \"light\"}, \"paper_bgcolor\": \"white\", \"plot_bgcolor\": \"#E5ECF6\", \"polar\": {\"angularaxis\": {\"gridcolor\": \"white\", \"linecolor\": \"white\", \"ticks\": \"\"}, \"bgcolor\": \"#E5ECF6\", \"radialaxis\": {\"gridcolor\": \"white\", \"linecolor\": \"white\", \"ticks\": \"\"}}, \"scene\": {\"xaxis\": {\"backgroundcolor\": \"#E5ECF6\", \"gridcolor\": \"white\", \"gridwidth\": 2, \"linecolor\": \"white\", \"showbackground\": true, \"ticks\": \"\", \"zerolinecolor\": \"white\"}, \"yaxis\": {\"backgroundcolor\": \"#E5ECF6\", \"gridcolor\": \"white\", \"gridwidth\": 2, \"linecolor\": \"white\", \"showbackground\": true, \"ticks\": \"\", \"zerolinecolor\": \"white\"}, \"zaxis\": {\"backgroundcolor\": \"#E5ECF6\", \"gridcolor\": \"white\", \"gridwidth\": 2, \"linecolor\": \"white\", \"showbackground\": true, \"ticks\": \"\", \"zerolinecolor\": \"white\"}}, \"shapedefaults\": {\"line\": {\"color\": \"#2a3f5f\"}}, \"ternary\": {\"aaxis\": {\"gridcolor\": \"white\", \"linecolor\": \"white\", \"ticks\": \"\"}, \"baxis\": {\"gridcolor\": \"white\", \"linecolor\": \"white\", \"ticks\": \"\"}, \"bgcolor\": \"#E5ECF6\", \"caxis\": {\"gridcolor\": \"white\", \"linecolor\": \"white\", \"ticks\": \"\"}}, \"title\": {\"x\": 0.05}, \"xaxis\": {\"automargin\": true, \"gridcolor\": \"white\", \"linecolor\": \"white\", \"ticks\": \"\", \"title\": {\"standoff\": 15}, \"zerolinecolor\": \"white\", \"zerolinewidth\": 2}, \"yaxis\": {\"automargin\": true, \"gridcolor\": \"white\", \"linecolor\": \"white\", \"ticks\": \"\", \"title\": {\"standoff\": 15}, \"zerolinecolor\": \"white\", \"zerolinewidth\": 2}}}},                        {\"responsive\": true}                    ).then(function(){\n",
       "                            \n",
       "var gd = document.getElementById('83fbd43f-ad8b-45c6-bc77-987c6841a063');\n",
       "var x = new MutationObserver(function (mutations, observer) {{\n",
       "        var display = window.getComputedStyle(gd).display;\n",
       "        if (!display || display === 'none') {{\n",
       "            console.log([gd, 'removed!']);\n",
       "            Plotly.purge(gd);\n",
       "            observer.disconnect();\n",
       "        }}\n",
       "}});\n",
       "\n",
       "// Listen for the removal of the full notebook cells\n",
       "var notebookContainer = gd.closest('#notebook-container');\n",
       "if (notebookContainer) {{\n",
       "    x.observe(notebookContainer, {childList: true});\n",
       "}}\n",
       "\n",
       "// Listen for the clearing of the current output cell\n",
       "var outputEl = gd.closest('.output');\n",
       "if (outputEl) {{\n",
       "    x.observe(outputEl, {childList: true});\n",
       "}}\n",
       "\n",
       "                        })                };                });            </script>        </div>"
      ]
     },
     "metadata": {},
     "output_type": "display_data"
    }
   ],
   "source": [
    "import plotly.graph_objects as go\n",
    "\n",
    "fig = go.Figure()\n",
    "\n",
    "fig.add_trace(go.Scatter(x=x, y=y1,\n",
    "                    mode='lines',\n",
    "                    name='lighthouse'))\n",
    "fig.add_trace(go.Scatter(x=x, y=y2,\n",
    "                    mode='lines',\n",
    "                    name='nimbus'))\n",
    "fig.add_trace(go.Scatter(x=x, y=y3,\n",
    "                    mode='lines',\n",
    "                    name='prysm'))\n",
    "fig.add_trace(go.Scatter(x=x, y=y4,\n",
    "                    mode='lines',\n",
    "                    name='teku'))"
   ]
  },
  {
   "cell_type": "code",
   "execution_count": null,
   "id": "531bf123-96ca-4e77-a0ea-fa9e818c8754",
   "metadata": {},
   "outputs": [],
   "source": []
  }
 ],
 "metadata": {
  "kernelspec": {
   "display_name": "Python 3",
   "language": "python",
   "name": "python3"
  },
  "language_info": {
   "codemirror_mode": {
    "name": "ipython",
    "version": 3
   },
   "file_extension": ".py",
   "mimetype": "text/x-python",
   "name": "python",
   "nbconvert_exporter": "python",
   "pygments_lexer": "ipython3",
   "version": "3.8.2"
  }
 },
 "nbformat": 4,
 "nbformat_minor": 5
}
