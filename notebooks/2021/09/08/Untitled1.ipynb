{
 "cells": [
  {
   "cell_type": "code",
   "execution_count": 1,
   "id": "c8fbe99b-6b4c-4282-bce3-799bac02f2e8",
   "metadata": {},
   "outputs": [],
   "source": [
    "addresses = ['a76a7d0d06754e4fc4941519d1f9d56fd9f8d53b', 'a40dfee99e1c85dc97fdc594b16a460717838703', 'e572d341fdb292f0bf8964f3ff9b0c2b9498f1c2', 'dd9663bd979f1ab1bada85e1bc7d7f13cafe71f8', '4069d8a3de3a72eca86ca5e0a4b94619085e7362']\n",
    "api_key = 'dDQvWWNGZzhxaTlZRC5id01rT1gu'"
   ]
  },
  {
   "cell_type": "code",
   "execution_count": 2,
   "id": "f57f8824-cf53-42d7-8693-659409dcaaa5",
   "metadata": {},
   "outputs": [],
   "source": [
    "from web3 import Web3\n",
    "import json\n",
    "import requests\n",
    "import csv\n",
    "import pandas as pd\n",
    "import seaborn as sns \n",
    "import numpy as np\n",
    "import matplotlib.pyplot as plt\n",
    "from time import *\n",
    "import plotly.express as px\n",
    "import plotly.io as pio\n",
    "pd.options.plotting.backend = \"plotly\"\n",
    "pio.renderers.default = \"plotly_mimetype+notebook_connected\"\n",
    "import plotly.graph_objects as go\n",
    "import math\n",
    "import warnings"
   ]
  },
  {
   "cell_type": "code",
   "execution_count": 7,
   "id": "8ac1a663-413f-4fde-9527-eec0105bdb25",
   "metadata": {},
   "outputs": [],
   "source": [
    "address = ['a76a7d0d06754e4fc4941519d1f9d56fd9f8d53b', 'a40dfee99e1c85dc97fdc594b16a460717838703', 'e572d341fdb292f0bf8964f3ff9b0c2b9498f1c2', 'dd9663bd979f1ab1bada85e1bc7d7f13cafe71f8', '4069d8a3de3a72eca86ca5e0a4b94619085e7362']"
   ]
  },
  {
   "cell_type": "code",
   "execution_count": 8,
   "id": "c57ca5c1-72fc-458d-a8d8-e9b1538dcafa",
   "metadata": {},
   "outputs": [],
   "source": [
    "l_validators = []\n",
    "kr_validators = []\n",
    "bi_validators = []\n",
    "bs_validators = []\n",
    "st_validators = []"
   ]
  },
  {
   "cell_type": "code",
   "execution_count": 9,
   "id": "71da0d2f-1243-4e7a-9476-49819de3394c",
   "metadata": {},
   "outputs": [],
   "source": [
    "x = requests.get('https://beaconcha.in/api/v1/validator/eth1/{}?api_key={}'.format(address[0], api_key))\n",
    "data = x.json()['data']\n",
    "for i in data:\n",
    "    l_validators.append(i['validatorindex'])\n",
    "sleep(6)\n",
    "    \n",
    "x = requests.get('https://beaconcha.in/api/v1/validator/eth1/{}?api_key={}'.format(address[1], api_key))\n",
    "data = x.json()['data']\n",
    "for i in data:\n",
    "    kr_validators.append(i['validatorindex'])\n",
    "sleep(6)\n",
    "    \n",
    "x = requests.get('https://beaconcha.in/api/v1/validator/eth1/{}?api_key={}'.format(address[2], api_key))\n",
    "data = x.json()['data']\n",
    "for i in data:\n",
    "    bi_validators.append(i['validatorindex'])\n",
    "sleep(6)\n",
    "    \n",
    "x = requests.get('https://beaconcha.in/api/v1/validator/eth1/{}?api_key={}'.format(address[3], api_key))\n",
    "data = x.json()['data']\n",
    "for i in data:\n",
    "    bs_validators.append(i['validatorindex'])\n",
    "sleep(6)\n",
    "    \n",
    "x = requests.get('https://beaconcha.in/api/v1/validator/eth1/{}?api_key={}'.format(address[4], api_key))\n",
    "data = x.json()['data']\n",
    "for i in data:\n",
    "    st_validators.append(i['validatorindex'])\n",
    "sleep(6)"
   ]
  },
  {
   "cell_type": "code",
   "execution_count": 10,
   "id": "55dce693-6ad9-4a7e-827c-a472d2d21686",
   "metadata": {},
   "outputs": [],
   "source": [
    "with open(\"lido.txt\", \"w\") as output:\n",
    "    output.write(str(l_validators))\n",
    "    \n",
    "with open(\"kraken.txt\", \"w\") as output:\n",
    "    output.write(str(kr_validators))\n",
    "    \n",
    "with open(\"binance.txt\", \"w\") as output:\n",
    "    output.write(str(bi_validators))\n",
    "\n",
    "with open(\"bitcoin_suisse.txt\", \"w\") as output:\n",
    "    output.write(str(bs_validators))\n",
    "\n",
    "with open(\"stkr.txt\", \"w\") as output:\n",
    "    output.write(str(st_validators))"
   ]
  },
  {
   "cell_type": "code",
   "execution_count": null,
   "id": "98c2dd93-48a0-40c6-978a-46628fbbf53a",
   "metadata": {},
   "outputs": [],
   "source": []
  }
 ],
 "metadata": {
  "kernelspec": {
   "display_name": "Python 3",
   "language": "python",
   "name": "python3"
  },
  "language_info": {
   "codemirror_mode": {
    "name": "ipython",
    "version": 3
   },
   "file_extension": ".py",
   "mimetype": "text/x-python",
   "name": "python",
   "nbconvert_exporter": "python",
   "pygments_lexer": "ipython3",
   "version": "3.8.2"
  }
 },
 "nbformat": 4,
 "nbformat_minor": 5
}
