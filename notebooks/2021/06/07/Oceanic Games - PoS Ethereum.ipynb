{
 "cells": [
  {
   "cell_type": "markdown",
   "metadata": {},
   "source": [
    "# Oceanic Games in PoS Ethereum Staking"
   ]
  },
  {
   "cell_type": "markdown",
   "metadata": {},
   "source": [
    "In this issue of Beacondigest, in addition to our recurring analysis of network metrics we also aim to analyze startegic considerations in the setting of PoS Ethereum Staking through the concept of Oceanic Games<sup>[1]</sup> . The notion was first put forth by J.W Milnor and L.S Shapely in the year 1978. It has since then been used to study decision making strategies especially in weighted voting systems. The concept was adapted to Blockchain mining by researchers Nikos Leonardos, Stefanos Leonardos and Georgious Piliouras in their paper Oceanic Games: Centralization Risks and Incentives in Blockchain Mining<sup>[2]</sup>\n",
    "\n",
    "In this notebook we extend this analysis to Eth staking to estimate the values per unit resources for major staking \"entities\".\n",
    "\n",
    "The outline of this notebook is as follows:\n",
    "We start off by presenting the Oceanic Games model and define all relavant terms. We then apply the concepts in the setting of Ethereum staking and present our results. We finally conclude by listing some shortcomings of this notebook and our analysis."
   ]
  },
  {
   "cell_type": "markdown",
   "metadata": {},
   "source": [
    "## An Introduction to Oceanic Games"
   ]
  },
  {
   "cell_type": "markdown",
   "metadata": {},
   "source": [
    "The first question we aim to answer is, what are oceanic games? In the context of corporate governance, they are a class of games that involve large players also known \"atomic players\" who own a significant portion of the companies total shares and and an *ocean* of \"non-atomic\" players that each own an infinitesimal portion of the company's total shares. The main focus while analyzing such games is to measure the value of a resource per unit resource.\n",
    "\n",
    "As seen in a lot of literature <sup>[2][3][4][5]</sup> the *value* of a resource has a lot more to it than just the amount of resource that are in one's possession.\n",
    "\n",
    "For example, in the context of Blockchain mining: Consider a party having access to 51% of all mining resources vs one having access to 49% of all mining resources. While the difference is only 2%, the possession in the first case is more *valuable* as now the party has complete control over the Blockchain. This can be extended to the case where many miners collude with each other: If a miner has access to 49% of all mining resources and another miner 2%, their combined possession is worth more than in the first miner had access to only 47% of the totalresources. \n",
    "\n",
    "Thus the aim of our analysis is to measure the **value of resources** needed for staking on the Beacon Chain **per unit resource** for major staking entities and the ocean of small validators. \n",
    "\n",
    "These major staking entities can be thought of as PoS parallels to mining pools in PoW system"
   ]
  },
  {
   "cell_type": "markdown",
   "metadata": {},
   "source": [
    "## Introducing the Oceanic Games Model"
   ]
  },
  {
   "cell_type": "markdown",
   "metadata": {},
   "source": [
    "Without going too much into the technical details, here is the overview of the Oceanic Games Model:\n",
    "\n",
    "- **Stakers**: They refer to the block proposers and validators that take part in the PoS consensus after making their initial deposit of 32Eth. Any set of stakers are made up of two important components:\n",
    "    - Major Stakers: A *set* of entities that control a significant portion of the Eth staked on the beacon chain \n",
    "    - The Ocean: An *interval* of infinitesimal stakers.\n",
    "    \n",
    "    \n",
    "- **Resources**: Refers to the native cryptocurrency (Eth) deposited by stakers to take part in PoS consensus. In our analysis we measure resources in terms of the fraction of staked ether that an entity controls.\n",
    "\n",
    "\n",
    "- **Majority Quota**: A common notion in weighted voting systems, in our context it refers to the minumum amount resources controlled by a single entity to raise an alert. We assume the quota of our oceanic game is 0.33, as a single entity controlling more than 1/3rd of the resources could mean that they could bring about a great deal of harm to the protocol if they wish to. (ReadL https://www.talentica.com/blogs/why-bft-protocols-cannot-have-13-dishonest-parties/)\n",
    "\n",
    "\n",
    "- **Values**: Under this current model, we aim to calculate a value for each major staker and the entirety of the ocean. Without going into the mathematical details, we can think of the value of a staker i, v<sub>i</sub> , as the probability that, that staker will be the crucial entity to turn a random coalition of stakers from losing (total resources of the coalition without i are less than q) to winning (total resources of the coalition with i are equal to or greater than q)<sup>[4]<sup>\n",
    "    \n",
    "\n",
    "- **Value per unit resource**: As the name suggests, it is simply the value of a staker divided by his resources!"
   ]
  },
  {
   "cell_type": "markdown",
   "metadata": {},
   "source": [
    "## Analysis"
   ]
  },
  {
   "cell_type": "markdown",
   "metadata": {},
   "source": [
    "Now for the interesting portion of the notebook, applying the model on Eth PoS consensus! The first step would be to identify the stakers, both the major stakers and the ocean as well as the resources they possess\n",
    "\n",
    "But the first stage, as always, is data collection. We collect data pertaining to the eth1 deposits made by the first 163400 validators who were activated using beaconcha.in's api. We then identify which entities control large portions of the total Eth staked on the Beacon Chain"
   ]
  },
  {
   "cell_type": "code",
   "execution_count": 2,
   "metadata": {},
   "outputs": [],
   "source": [
    "#Import all the modules \n",
    "\n",
    "import requests\n",
    "import json\n",
    "import csv\n",
    "import pandas as pd\n",
    "import seaborn as sns \n",
    "import numpy as np\n",
    "import matplotlib.pyplot as plt\n",
    "from time import *"
   ]
  },
  {
   "cell_type": "code",
   "execution_count": null,
   "metadata": {},
   "outputs": [],
   "source": [
    "validator_staking = {}"
   ]
  },
  {
   "cell_type": "code",
   "execution_count": null,
   "metadata": {},
   "outputs": [],
   "source": [
    "with open('api_key.txt', 'r') as api_file:\n",
    "    api_key = api_file.read()\n",
    "\n",
    "for i in range(0,163399,100):\n",
    "    str1 = ''\n",
    "\n",
    "    for j in range(99):\n",
    "        str1 = str1 + str(i+j) + ','\n",
    "    \n",
    "    str1 = str1 + str(i+99)\n",
    "    \n",
    "    x = requests.get('https://beaconcha.in/api/v1/validator/{}/deposits?api_key={}'.format(str1, api_key))\n",
    "    #Add a sleep to stay within the call rate limits\n",
    "    sleep(6)\n",
    "    \n",
    "    data = x.json()['data']\n",
    "    \n",
    "    for t in data:\n",
    "        if(validator_staking.get(t['from_address']) != None):\n",
    "            validator_staking[t['from_address']] += t['amount']\n",
    "        else:\n",
    "            validator_staking[t['from_address']] = t['amount']"
   ]
  },
  {
   "cell_type": "code",
   "execution_count": null,
   "metadata": {},
   "outputs": [],
   "source": [
    "with open('api_key.txt', 'r') as api_file:\n",
    "    api_key = api_file.read()\n",
    "    \n",
    "x = requests.get('https://beaconcha.in/api/v1/validator/{}/deposits?api_key={}'.format(163400, api_key))\n",
    "t = x.json()['data']\n",
    "if(validator_staking.get(t['from_address']) != None):\n",
    "    validator_staking[t['from_address']] += t['amount']\n",
    "else:\n",
    "    validator_staking[t['from_address']] = t['amount']"
   ]
  },
  {
   "cell_type": "code",
   "execution_count": null,
   "metadata": {},
   "outputs": [],
   "source": [
    "# #Writing the dictionaries to csv files\n",
    "\n",
    "# with open('staking_pools.csv','w') as result_file:\n",
    "#     wr = csv.writer(result_file, dialect='excel')\n",
    "#     for key, value in validator_staking.items():\n",
    "#         wr.writerow([key,value])"
   ]
  },
  {
   "cell_type": "code",
   "execution_count": 14,
   "metadata": {},
   "outputs": [
    {
     "name": "stdout",
     "output_type": "stream",
     "text": [
      "28934\n",
      "0.1770746634026928\n"
     ]
    }
   ],
   "source": [
    "df = pd.read_csv('staking_pools.csv', header= None, names = [\"address\",\"stake\"])\n",
    "df['percentage_stake'] = (df['stake']/df['stake'].sum())\n",
    "print(len(df))\n",
    "print(len(df)/163400)"
   ]
  },
  {
   "cell_type": "markdown",
   "metadata": {},
   "source": [
    "At this point, we see a very interesting result! When we look into the wallet addresses of the deposit contracts that were used to activate 163400 validators, we notice that only 28934 distint wallet addresses activated these validators. This means that only about **17.7%** of these deposits were made by unique addresses. "
   ]
  },
  {
   "cell_type": "code",
   "execution_count": 22,
   "metadata": {},
   "outputs": [
    {
     "name": "stdout",
     "output_type": "stream",
     "text": [
      "       ID            stake  percentage_stake\n",
      "3345    1  728160000000000          0.139110\n",
      "5012    2  113920000000000          0.021764\n",
      "2479    3   82848000000000          0.015828\n",
      "9722    4   77920000000000          0.014886\n",
      "1153    5   64032000000000          0.012233\n",
      "4824    6   55008000000000          0.010509\n",
      "601     7   48768000000000          0.009317\n",
      "5870    8   48736000000000          0.009311\n",
      "4789    9   45120000000000          0.008620\n",
      "22874  10   44192000000000          0.008443\n"
     ]
    }
   ],
   "source": [
    "sorted_df = df.sort_values('percentage_stake',ascending=False)\n",
    "sorted_df.insert(1, 'ID', range(1, 1 + len(df)))\n",
    "sorted_df = sorted_df[sorted_df.columns[1:4]]\n",
    "print(sorted_df.head(n=10))\n",
    "#print(sorted_df.head(n=6))\n",
    "#print(13.911047+2.176371+1.582760+1.488614+1.223292+1.050894)"
   ]
  },
  {
   "cell_type": "markdown",
   "metadata": {},
   "source": [
    "The above table captures, the 10 wallet addresses arranged in the descending order of the percentage of staked ether they possess. [The addresses have not been displayed for the sake of the privacy of these entities]. We consider the first 6 entities to be atomic players or major stakers since they control more than 1% of all the Eth staked. The remaining ones are considered to be oceanic.\n",
    "\n",
    "Out of these 6 entities only 2 have public tags to their wallet address from which we can deduce which instituition they represent: The first one that controls 13.9% is, the US Based Crypto based exchange, Kraken and the third largest one that controls about 1.58% of the network belongs to the financial insitution Bitcoin Suisse. "
   ]
  },
  {
   "cell_type": "markdown",
   "metadata": {},
   "source": [
    "Using this intial distribution we can now try and estimate the values per unit resource for the 6 major staking entities and the entirety of the ocean. For this, we first used the publicly available [ssocean software](http://homepages.warwick.ac.uk/~ecaae/ssocean.html) to find the ssindices of the atomic and non-atomic player and we finally divide this by the amount of resources they each possess to find their values per unit resource. "
   ]
  },
  {
   "cell_type": "code",
   "execution_count": 5,
   "metadata": {},
   "outputs": [],
   "source": [
    "ss_index = [0.161317,0.021623,0.015633,0.014690,0.012041,0.010327,0.764370]\n",
    "resource_percentage = [0.139110,0.021764,0.015828,0.014886,0.012233,0.010509,0.785700]\n",
    "\n",
    "value_per_unit_resource = []\n",
    "\n",
    "for i in range(7):\n",
    "    value_per_unit_resource.append(ss_index[i]/resource_percentage[i])\n",
    "    \n",
    "x_axis = [1,2,3,4,5,6,7]"
   ]
  },
  {
   "cell_type": "code",
   "execution_count": 26,
   "metadata": {},
   "outputs": [
    {
     "name": "stdout",
     "output_type": "stream",
     "text": [
      "The below graph displays the value per unit of resource of current staking entities: big miners and the ocean. 1 represents the largest staker, 6 the smallest and 7 represents the ocean.\n"
     ]
    },
    {
     "data": {
      "image/png": "[encoded data removed]",
      "text/plain": [
       "<Figure size 432x288 with 1 Axes>"
      ]
     },
     "metadata": {
      "needs_background": "light"
     },
     "output_type": "display_data"
    }
   ],
   "source": [
    "plt.plot(x_axis,value_per_unit_resource)\n",
    "plt.xlabel(\"Staking entity\")\n",
    "plt.ylabel(\"Value per unit resource\")\n",
    "\n",
    "print(\"The below graph displays the value per unit of resource of current staking entities: big miners and the ocean. 1 represents the largest staker, 6 the smallest and 7 represents the ocean.\")"
   ]
  },
  {
   "cell_type": "markdown",
   "metadata": {},
   "source": [
    "Hence, the results clearly reveal that: Higher the resource, higher the value per unit resource which is consistent with the findings of [2]"
   ]
  },
  {
   "cell_type": "markdown",
   "metadata": {},
   "source": [
    "## Limitations of the Notebook"
   ]
  },
  {
   "cell_type": "markdown",
   "metadata": {},
   "source": [
    "1) We make an assumption that among 163400 the number of deactivated validators are minimal and are negligible. In reality there have been about 140 validators who have successfully exited and another 140 who have been slashed. Thus they make up close to 0.17% of the total population of the validators we've considered\n",
    "\n",
    "2) In this notebook, we classify \"entities\" based on their Eth1 address. In reality however it can be possible that a single entity can make deposits with more than one wallet address. The logical next step to this analysis is to identify the all the addresses that belong to a single entity and further aggregate them. We will do so in the susiquent notebooks."
   ]
  },
  {
   "cell_type": "markdown",
   "metadata": {},
   "source": [
    "## References "
   ]
  },
  {
   "cell_type": "markdown",
   "metadata": {},
   "source": [
    "[1] Milnor, J.W., Shapley, L.S.: Values of Large Games II: Oceanic Games. Mathematics of Operations Research 3(4), 290–307 (1978).https://doi.org/10.1287/moor.3.4.290\n",
    "\n",
    "[2] Leonardos, Nikos, Leonardos, Stefanos, Piliouras Georgios: Oceanic Games: Centralization Risks and Incentives in Blockchain Mining. International Conference on Mathematical Research for Blockchain Economy (MARBLE 2019), Santorini, Greece. [Best Paper Award]. https://arxiv.org/abs/1904.02368\n",
    "\n",
    "[3] Aumann, R.J.: Markets with a Continuum of Traders. Econometrica 32(1/2), 39–50 (1964)\n",
    "\n",
    "[4] Shapiro, N.Z., Shapley, L.S.: Values of Large Games, I: A Limit Theorem. Mathematics of Operations Research 3(1), 1–9 (1978).https://doi.org/10.1287/moor.3.1.1\n",
    "\n",
    "[5] Shitovitz, B.: Oligopoly in Markets with a Continuum of Traders. Econometrica 41(3), 467–501 (1973)"
   ]
  },
  {
   "cell_type": "markdown",
   "metadata": {},
   "source": [
    "## Acknowledgements "
   ]
  },
  {
   "cell_type": "markdown",
   "metadata": {},
   "source": [
    "A huge thank you to [Barnabé Monnot](https://twitter.com/barnabemonnot?ref_src=twsrc%5Egoogle%7Ctwcamp%5Eserp%7Ctwgr%5Eauthor) for all his very valuable insights and suggestions and his continued support for Beacon Digest. \n",
    "\n",
    "Another huge thank you to Stefanos Leonardos and Georgios Piliouras for intriducing me to the idea of Oceanic Games and its applications in Blockchains. \n",
    "\n",
    "I'd also like to express my gratitude to the team at The University of Warwick for making their software [ssocean](https://homepages.warwick.ac.uk/~ecaae/ssocean.html) free and open source"
   ]
  }
 ],
 "metadata": {
  "kernelspec": {
   "display_name": "Python 3",
   "language": "python",
   "name": "python3"
  },
  "language_info": {
   "codemirror_mode": {
    "name": "ipython",
    "version": 3
   },
   "file_extension": ".py",
   "mimetype": "text/x-python",
   "name": "python",
   "nbconvert_exporter": "python",
   "pygments_lexer": "ipython3",
   "version": "3.7.6"
  }
 },
 "nbformat": 4,
 "nbformat_minor": 4
}
