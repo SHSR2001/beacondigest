{
  "nbformat": 4,
  "nbformat_minor": 5,
  "metadata": {
    "colab": {
      "name": "random_forests.ipynb",
      "provenance": [],
      "collapsed_sections": []
    },
    "kernelspec": {
      "display_name": "Python 3",
      "language": "python",
      "name": "python3"
    },
    "language_info": {
      "codemirror_mode": {
        "name": "ipython",
        "version": 3
      },
      "file_extension": ".py",
      "mimetype": "text/x-python",
      "name": "python",
      "nbconvert_exporter": "python",
      "pygments_lexer": "ipython3",
      "version": "3.8.2"
    },
    "accelerator": "GPU"
  },
  "cells": [
    {
      "cell_type": "code",
      "metadata": {
        "id": "19eeab0f-eb90-4885-bd1a-b27dd90eba56"
      },
      "source": [
        "import pandas as pd\n",
        "import os\n",
        "os.chdir('/')"
      ],
      "id": "19eeab0f-eb90-4885-bd1a-b27dd90eba56",
      "execution_count": null,
      "outputs": []
    },
    {
      "cell_type": "code",
      "metadata": {
        "colab": {
          "base_uri": "https://localhost:8080/",
          "height": 226
        },
        "id": "c4059cda-1e1b-4720-b1cf-f9ae7c4db4fb",
        "outputId": "57a36f02-c698-493c-d628-775b035cd617"
      },
      "source": [
        "features = pd.read_csv('df_for_regression.csv')\n",
        "features = features.iloc[: , 1:]\n",
        "\n",
        "features.head(5)"
      ],
      "id": "c4059cda-1e1b-4720-b1cf-f9ae7c4db4fb",
      "execution_count": null,
      "outputs": [
        {
          "output_type": "execute_result",
          "data": {
            "text/html": [
              "<div>\n",
              "<style scoped>\n",
              "    .dataframe tbody tr th:only-of-type {\n",
              "        vertical-align: middle;\n",
              "    }\n",
              "\n",
              "    .dataframe tbody tr th {\n",
              "        vertical-align: top;\n",
              "    }\n",
              "\n",
              "    .dataframe thead th {\n",
              "        text-align: right;\n",
              "    }\n",
              "</style>\n",
              "<table border=\"1\" class=\"dataframe\">\n",
              "  <thead>\n",
              "    <tr style=\"text-align: right;\">\n",
              "      <th></th>\n",
              "      <th>block_number</th>\n",
              "      <th>value</th>\n",
              "      <th>gas</th>\n",
              "      <th>is_to_address_uni_pool</th>\n",
              "      <th>is_sipher_inu_transaction</th>\n",
              "      <th>gas_used</th>\n",
              "      <th>is_to_uniswap_router</th>\n",
              "    </tr>\n",
              "  </thead>\n",
              "  <tbody>\n",
              "    <tr>\n",
              "      <th>0</th>\n",
              "      <td>13188414</td>\n",
              "      <td>0.000000e+00</td>\n",
              "      <td>46703</td>\n",
              "      <td>False</td>\n",
              "      <td>False</td>\n",
              "      <td>46703</td>\n",
              "      <td>False</td>\n",
              "    </tr>\n",
              "    <tr>\n",
              "      <th>1</th>\n",
              "      <td>13188414</td>\n",
              "      <td>0.000000e+00</td>\n",
              "      <td>450000</td>\n",
              "      <td>False</td>\n",
              "      <td>False</td>\n",
              "      <td>246088</td>\n",
              "      <td>False</td>\n",
              "    </tr>\n",
              "    <tr>\n",
              "      <th>2</th>\n",
              "      <td>13188414</td>\n",
              "      <td>2.300000e+17</td>\n",
              "      <td>215887</td>\n",
              "      <td>False</td>\n",
              "      <td>False</td>\n",
              "      <td>163754</td>\n",
              "      <td>False</td>\n",
              "    </tr>\n",
              "    <tr>\n",
              "      <th>3</th>\n",
              "      <td>13188414</td>\n",
              "      <td>0.000000e+00</td>\n",
              "      <td>450000</td>\n",
              "      <td>False</td>\n",
              "      <td>False</td>\n",
              "      <td>246090</td>\n",
              "      <td>False</td>\n",
              "    </tr>\n",
              "    <tr>\n",
              "      <th>4</th>\n",
              "      <td>13188414</td>\n",
              "      <td>0.000000e+00</td>\n",
              "      <td>74926</td>\n",
              "      <td>False</td>\n",
              "      <td>False</td>\n",
              "      <td>74926</td>\n",
              "      <td>False</td>\n",
              "    </tr>\n",
              "  </tbody>\n",
              "</table>\n",
              "</div>"
            ],
            "text/plain": [
              "   block_number         value  ...  gas_used  is_to_uniswap_router\n",
              "0      13188414  0.000000e+00  ...     46703                 False\n",
              "1      13188414  0.000000e+00  ...    246088                 False\n",
              "2      13188414  2.300000e+17  ...    163754                 False\n",
              "3      13188414  0.000000e+00  ...    246090                 False\n",
              "4      13188414  0.000000e+00  ...     74926                 False\n",
              "\n",
              "[5 rows x 7 columns]"
            ]
          },
          "metadata": {},
          "execution_count": 2
        }
      ]
    },
    {
      "cell_type": "code",
      "metadata": {
        "colab": {
          "base_uri": "https://localhost:8080/",
          "height": 317
        },
        "id": "1e7cad19-296a-406f-a151-c5792ebc91c4",
        "outputId": "274ecffa-9ab7-4b8a-968c-7841f4046e26"
      },
      "source": [
        "print('The shape of our features is:', features.shape)\n",
        "features.iloc[: , -6:].describe()"
      ],
      "id": "1e7cad19-296a-406f-a151-c5792ebc91c4",
      "execution_count": null,
      "outputs": [
        {
          "output_type": "stream",
          "name": "stdout",
          "text": [
            "The shape of our features is: (1258391, 7)\n"
          ]
        },
        {
          "output_type": "execute_result",
          "data": {
            "text/html": [
              "<div>\n",
              "<style scoped>\n",
              "    .dataframe tbody tr th:only-of-type {\n",
              "        vertical-align: middle;\n",
              "    }\n",
              "\n",
              "    .dataframe tbody tr th {\n",
              "        vertical-align: top;\n",
              "    }\n",
              "\n",
              "    .dataframe thead th {\n",
              "        text-align: right;\n",
              "    }\n",
              "</style>\n",
              "<table border=\"1\" class=\"dataframe\">\n",
              "  <thead>\n",
              "    <tr style=\"text-align: right;\">\n",
              "      <th></th>\n",
              "      <th>value</th>\n",
              "      <th>gas</th>\n",
              "      <th>gas_used</th>\n",
              "    </tr>\n",
              "  </thead>\n",
              "  <tbody>\n",
              "    <tr>\n",
              "      <th>count</th>\n",
              "      <td>1.258391e+06</td>\n",
              "      <td>1.258391e+06</td>\n",
              "      <td>1.258391e+06</td>\n",
              "    </tr>\n",
              "    <tr>\n",
              "      <th>mean</th>\n",
              "      <td>2.016572e+18</td>\n",
              "      <td>1.837131e+05</td>\n",
              "      <td>8.184644e+04</td>\n",
              "    </tr>\n",
              "    <tr>\n",
              "      <th>std</th>\n",
              "      <td>3.167764e+20</td>\n",
              "      <td>4.110996e+05</td>\n",
              "      <td>1.672691e+05</td>\n",
              "    </tr>\n",
              "    <tr>\n",
              "      <th>min</th>\n",
              "      <td>0.000000e+00</td>\n",
              "      <td>2.100000e+04</td>\n",
              "      <td>2.100000e+04</td>\n",
              "    </tr>\n",
              "    <tr>\n",
              "      <th>25%</th>\n",
              "      <td>0.000000e+00</td>\n",
              "      <td>4.200000e+04</td>\n",
              "      <td>2.100000e+04</td>\n",
              "    </tr>\n",
              "    <tr>\n",
              "      <th>50%</th>\n",
              "      <td>0.000000e+00</td>\n",
              "      <td>1.000000e+05</td>\n",
              "      <td>4.610900e+04</td>\n",
              "    </tr>\n",
              "    <tr>\n",
              "      <th>75%</th>\n",
              "      <td>1.000000e+17</td>\n",
              "      <td>2.325460e+05</td>\n",
              "      <td>8.651800e+04</td>\n",
              "    </tr>\n",
              "    <tr>\n",
              "      <th>max</th>\n",
              "      <td>2.235530e+23</td>\n",
              "      <td>3.000000e+07</td>\n",
              "      <td>2.308042e+07</td>\n",
              "    </tr>\n",
              "  </tbody>\n",
              "</table>\n",
              "</div>"
            ],
            "text/plain": [
              "              value           gas      gas_used\n",
              "count  1.258391e+06  1.258391e+06  1.258391e+06\n",
              "mean   2.016572e+18  1.837131e+05  8.184644e+04\n",
              "std    3.167764e+20  4.110996e+05  1.672691e+05\n",
              "min    0.000000e+00  2.100000e+04  2.100000e+04\n",
              "25%    0.000000e+00  4.200000e+04  2.100000e+04\n",
              "50%    0.000000e+00  1.000000e+05  4.610900e+04\n",
              "75%    1.000000e+17  2.325460e+05  8.651800e+04\n",
              "max    2.235530e+23  3.000000e+07  2.308042e+07"
            ]
          },
          "metadata": {},
          "execution_count": 3
        }
      ]
    },
    {
      "cell_type": "code",
      "metadata": {
        "id": "1917c982-38e9-470a-b6b3-0f46a0e2e97e"
      },
      "source": [
        "# Use numpy to convert to arrays\n",
        "import numpy as np\n",
        "\n",
        "# Labels are the values we want to predict\n",
        "labels = np.array(features['gas_used'])\n",
        "\n",
        "# Remove the labels from the features\n",
        "# axis 1 refers to the columns\n",
        "features= features.drop('gas_used', axis = 1)\n",
        "\n",
        "# Saving feature names for later use\n",
        "feature_list = list(features.columns)\n",
        "\n",
        "# Convert to numpy array\n",
        "features = np.array(features)"
      ],
      "id": "1917c982-38e9-470a-b6b3-0f46a0e2e97e",
      "execution_count": null,
      "outputs": []
    },
    {
      "cell_type": "code",
      "metadata": {
        "id": "5c51de68-5d08-4673-b14f-97953640c0a7"
      },
      "source": [
        "# Using Skicit-learn to split data into training and testing sets\n",
        "from sklearn.model_selection import train_test_split\n",
        "\n",
        "# Split the data into training and testing sets\n",
        "train_features, test_features, train_labels, test_labels = train_test_split(features, labels, test_size = 0.25, random_state = 123)"
      ],
      "id": "5c51de68-5d08-4673-b14f-97953640c0a7",
      "execution_count": null,
      "outputs": []
    },
    {
      "cell_type": "code",
      "metadata": {
        "colab": {
          "base_uri": "https://localhost:8080/"
        },
        "id": "4749e5cd-bcd7-416c-964a-bed8d91b7fd7",
        "outputId": "074b4947-e33e-4bef-cd29-98802c09068e"
      },
      "source": [
        "print('Training Features Shape:', train_features.shape)\n",
        "print('Training Labels Shape:', train_labels.shape)\n",
        "print('Testing Features Shape:', test_features.shape)\n",
        "print('Testing Labels Shape:', test_labels.shape)"
      ],
      "id": "4749e5cd-bcd7-416c-964a-bed8d91b7fd7",
      "execution_count": null,
      "outputs": [
        {
          "output_type": "stream",
          "name": "stdout",
          "text": [
            "Training Features Shape: (943793, 6)\n",
            "Training Labels Shape: (943793,)\n",
            "Testing Features Shape: (314598, 6)\n",
            "Testing Labels Shape: (314598,)\n"
          ]
        }
      ]
    },
    {
      "cell_type": "code",
      "metadata": {
        "colab": {
          "base_uri": "https://localhost:8080/"
        },
        "id": "5a4c0230-2159-4082-8c31-677f8b7cc20a",
        "outputId": "3ba91e04-3638-4d35-b769-1445a360a6ef"
      },
      "source": [
        "baseline_predictions =  test_features[:, feature_list.index('gas')]\n",
        "baseline_errors = abs(baseline_predictions - test_labels)\n",
        "print('Average baseline error: ', round(np.mean(baseline_errors), 2))"
      ],
      "id": "5a4c0230-2159-4082-8c31-677f8b7cc20a",
      "execution_count": null,
      "outputs": [
        {
          "output_type": "stream",
          "name": "stdout",
          "text": [
            "Average baseline error:  101241.85\n"
          ]
        }
      ]
    },
    {
      "cell_type": "code",
      "metadata": {
        "colab": {
          "base_uri": "https://localhost:8080/"
        },
        "id": "CR93X6bpk9rF",
        "outputId": "53c04dcf-d82e-4489-8570-c13cad58ed5a"
      },
      "source": [
        "mape_baseline = 100 * (baseline_errors / test_labels)\n",
        "\n",
        "# Calculate and display accuracy\n",
        "baseline_accuracy = 100 - np.mean(mape_baseline)\n",
        "print('Accuracy:', round(baseline_accuracy, 2), '%.')"
      ],
      "id": "CR93X6bpk9rF",
      "execution_count": null,
      "outputs": [
        {
          "output_type": "stream",
          "name": "stdout",
          "text": [
            "Accuracy: -112.17 %.\n"
          ]
        }
      ]
    },
    {
      "cell_type": "code",
      "metadata": {
        "id": "d53675f8-fc0b-404e-9809-4f9c356421f4"
      },
      "source": [
        "# Import the model we are using\n",
        "from sklearn.ensemble import RandomForestRegressor\n",
        "\n",
        "# Instantiate model with 100 decision trees\n",
        "rf = RandomForestRegressor(n_estimators = 100, random_state = 123)\n",
        "\n",
        "# Train the model on training data\n",
        "rf.fit(train_features, train_labels);"
      ],
      "id": "d53675f8-fc0b-404e-9809-4f9c356421f4",
      "execution_count": null,
      "outputs": []
    },
    {
      "cell_type": "code",
      "metadata": {
        "id": "a8a14c3c-aba5-4425-b799-57f6001a8bfd",
        "colab": {
          "base_uri": "https://localhost:8080/"
        },
        "outputId": "b1fc05fa-2b10-4b48-8912-ae061e18fbe5"
      },
      "source": [
        "# Use the forest's predict method on the test data\n",
        "predictions = rf.predict(test_features)\n",
        "\n",
        "# Calculate the absolute errors\n",
        "errors = abs(predictions - test_labels)\n",
        "\n",
        "# Print out the mean absolute error (mae)\n",
        "print('Mean Absolute Error:', round(np.mean(errors), 2))"
      ],
      "id": "a8a14c3c-aba5-4425-b799-57f6001a8bfd",
      "execution_count": null,
      "outputs": [
        {
          "output_type": "stream",
          "name": "stdout",
          "text": [
            "Mean Absolute Error: 13980.49\n"
          ]
        }
      ]
    },
    {
      "cell_type": "code",
      "metadata": {
        "id": "4d4bec03-f8d8-40b6-adf3-1dab92b846dd",
        "colab": {
          "base_uri": "https://localhost:8080/"
        },
        "outputId": "3d489ce8-01d5-4159-99a2-f19ff887ab61"
      },
      "source": [
        "# Calculate mean absolute percentage error (MAPE)\n",
        "mape = 100 * (errors / test_labels)\n",
        "\n",
        "# Calculate and display accuracy\n",
        "accuracy = 100 - np.mean(mape)\n",
        "print('Accuracy:', round(accuracy, 2), '%.')"
      ],
      "id": "4d4bec03-f8d8-40b6-adf3-1dab92b846dd",
      "execution_count": null,
      "outputs": [
        {
          "output_type": "stream",
          "name": "stdout",
          "text": [
            "Accuracy: 81.34 %.\n"
          ]
        }
      ]
    },
    {
      "cell_type": "code",
      "metadata": {
        "id": "TW53VongnCvQ"
      },
      "source": [
        "import pickle\n",
        "\n",
        "filename = 'random_forest_model.sav'\n",
        "pickle.dump(rf, open(filename, 'wb'))"
      ],
      "id": "TW53VongnCvQ",
      "execution_count": null,
      "outputs": []
    },
    {
      "cell_type": "code",
      "metadata": {
        "id": "_NTiTNTvnWil"
      },
      "source": [
        "loaded_model = pickle.load(open(filename, 'rb'))"
      ],
      "id": "_NTiTNTvnWil",
      "execution_count": 15,
      "outputs": []
    },
    {
      "cell_type": "code",
      "metadata": {
        "id": "8FX0bxlVhGDC"
      },
      "source": [
        "# Import tools needed for visualization\n",
        "from sklearn.tree import export_graphviz\n",
        "import pydot\n",
        "\n",
        "# Pull out one tree from the forest\n",
        "tree = rf.estimators_[5]\n",
        "\n",
        "# Import tools needed for visualization\n",
        "from sklearn.tree import export_graphviz\n",
        "import pydot\n",
        "\n",
        "# Pull out one tree from the forest\n",
        "tree = rf.estimators_[5]\n",
        "\n",
        "# Export the image to a dot file\n",
        "export_graphviz(tree, out_file = 'tree.dot', feature_names = feature_list, rounded = True, precision = 1)\n",
        "\n",
        "# Use dot file to create a graph\n",
        "(graph, ) = pydot.graph_from_dot_file('tree.dot')\n",
        "\n",
        "# Write graph to a png file\n",
        "graph.write_png('tree.png')"
      ],
      "id": "8FX0bxlVhGDC",
      "execution_count": null,
      "outputs": []
    },
    {
      "cell_type": "code",
      "metadata": {
        "id": "TZuckkqZhbkP"
      },
      "source": [
        "# Limit depth of tree to 3 levels\n",
        "rf_small = RandomForestRegressor(n_estimators=10, max_depth = 3)\n",
        "rf_small.fit(train_features, train_labels)\n",
        "\n",
        "# Extract the small tree\n",
        "tree_small = rf_small.estimators_[5]\n",
        "\n",
        "# Save the tree as a png image\n",
        "export_graphviz(tree_small, out_file = 'small_tree.dot', feature_names = feature_list, rounded = True, precision = 1)\n",
        "(graph, ) = pydot.graph_from_dot_file('small_tree.dot')\n",
        "graph.write_png('small_tree.png');"
      ],
      "id": "TZuckkqZhbkP",
      "execution_count": null,
      "outputs": []
    },
    {
      "cell_type": "code",
      "metadata": {
        "id": "n7thTgO3j8-l",
        "colab": {
          "base_uri": "https://localhost:8080/"
        },
        "outputId": "4b43497f-ba36-4f9c-9881-6fc3af6a50b4"
      },
      "source": [
        "# Get numerical feature importances\n",
        "importances = list(rf.feature_importances_)\n",
        "\n",
        "# List of tuples with variable and importance\n",
        "feature_importances = [(feature, round(importance, 2)) for feature, importance in zip(feature_list, importances)]\n",
        "\n",
        "# Sort the feature importances by most important first\n",
        "feature_importances = sorted(feature_importances, key = lambda x: x[1], reverse = True)\n",
        "\n",
        "# Print out the feature and importances \n",
        "[print('Variable: {:20} Importance: {}'.format(*pair)) for pair in feature_importances];"
      ],
      "id": "n7thTgO3j8-l",
      "execution_count": 17,
      "outputs": [
        {
          "output_type": "stream",
          "name": "stdout",
          "text": [
            "Variable: gas                  Importance: 0.84\n",
            "Variable: block_number         Importance: 0.09\n",
            "Variable: value                Importance: 0.05\n",
            "Variable: is_sipher_inu_transaction Importance: 0.01\n",
            "Variable: is_to_uniswap_router Importance: 0.01\n",
            "Variable: is_to_address_uni_pool Importance: 0.0\n"
          ]
        }
      ]
    },
    {
      "cell_type": "code",
      "metadata": {
        "colab": {
          "base_uri": "https://localhost:8080/"
        },
        "id": "OZsQhXLNowGJ",
        "outputId": "24395943-b908-4583-b9f1-d3dd17ed7079"
      },
      "source": [
        "# New random forest with only the two most important variables\n",
        "rf_most_important = RandomForestRegressor(n_estimators= 100, random_state=42)\n",
        "\n",
        "# Extract the two most important features\n",
        "important_indices = [feature_list.index('gas'), feature_list.index('block_number'), feature_list.index('value')]\n",
        "\n",
        "train_important = train_features[:, important_indices]\n",
        "test_important = test_features[:, important_indices]\n",
        "\n",
        "# Train the random forest\n",
        "rf_most_important.fit(train_important, train_labels)\n",
        "\n",
        "# Make predictions and determine the error\n",
        "predictions = rf_most_important.predict(test_important)\n",
        "errors = abs(predictions - test_labels)\n",
        "\n",
        "# Display the performance metrics\n",
        "print('Mean Absolute Error:', round(np.mean(errors), 2), 'degrees.')\n",
        "mape = np.mean(100 * (errors / test_labels))\n",
        "\n",
        "accuracy = 100 - mape\n",
        "print('Accuracy:', round(accuracy, 2), '%.')\n"
      ],
      "id": "OZsQhXLNowGJ",
      "execution_count": 19,
      "outputs": [
        {
          "output_type": "stream",
          "name": "stdout",
          "text": [
            "Mean Absolute Error: 14309.2 degrees.\n",
            "Accuracy: 81.01 %.\n"
          ]
        }
      ]
    }
  ]
}