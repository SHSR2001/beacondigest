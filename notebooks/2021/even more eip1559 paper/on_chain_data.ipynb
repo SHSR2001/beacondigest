{
 "cells": [
  {
   "cell_type": "markdown",
   "id": "4dca6ded-48e6-4132-95cd-13886d39de5c",
   "metadata": {},
   "source": [
    "## Avg gas price"
   ]
  },
  {
   "cell_type": "code",
   "execution_count": null,
   "id": "f8ef7d17-6004-4238-a948-c432e66aad4c",
   "metadata": {},
   "outputs": [],
   "source": [
    "# Line plot - values + smoothed"
   ]
  },
  {
   "cell_type": "markdown",
   "id": "7d23a77d-5fa1-4b58-9492-b27e438ffdab",
   "metadata": {},
   "source": [
    "## Fraction of EIP-1559 transactions"
   ]
  },
  {
   "cell_type": "code",
   "execution_count": null,
   "id": "5ceb437c-c9bc-4699-8c3c-647f7e014e1e",
   "metadata": {},
   "outputs": [],
   "source": [
    "# Line plot - values + smoothed"
   ]
  },
  {
   "cell_type": "markdown",
   "id": "4d988a0d-57ce-45fa-93f5-bbceeb716dd4",
   "metadata": {},
   "source": [
    "## Block sizes"
   ]
  },
  {
   "cell_type": "code",
   "execution_count": null,
   "id": "8b065641-edde-4411-a71a-ecf522959516",
   "metadata": {},
   "outputs": [],
   "source": [
    "# Line plot - values + smoothed"
   ]
  }
 ],
 "metadata": {
  "kernelspec": {
   "display_name": "Python 3",
   "language": "python",
   "name": "python3"
  },
  "language_info": {
   "codemirror_mode": {
    "name": "ipython",
    "version": 3
   },
   "file_extension": ".py",
   "mimetype": "text/x-python",
   "name": "python",
   "nbconvert_exporter": "python",
   "pygments_lexer": "ipython3",
   "version": "3.8.2"
  }
 },
 "nbformat": 4,
 "nbformat_minor": 5
}
