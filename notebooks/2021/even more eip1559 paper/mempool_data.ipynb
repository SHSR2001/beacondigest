{
 "cells": [
  {
   "cell_type": "markdown",
   "id": "fde0e80d-0621-4ef2-b2a5-9b6c402fcf53",
   "metadata": {},
   "source": [
    "## Fraction of different types of transactions - total"
   ]
  },
  {
   "cell_type": "code",
   "execution_count": null,
   "id": "e06f2521-a7a5-4071-8d02-ab73569a9bd8",
   "metadata": {},
   "outputs": [],
   "source": [
    "# Scatter plot - w/ colour indicator"
   ]
  },
  {
   "cell_type": "markdown",
   "id": "c459dcc6-b477-4f29-8964-b490008f5bb6",
   "metadata": {},
   "source": [
    "## Fraction of different types of transaction - over time"
   ]
  },
  {
   "cell_type": "code",
   "execution_count": null,
   "id": "273b3be5-e93b-4148-84de-7c08501b1b94",
   "metadata": {},
   "outputs": [],
   "source": [
    "# 3 line plots of different colours (one for each transaction type)"
   ]
  },
  {
   "cell_type": "markdown",
   "id": "e3fa1eb5-4e63-4929-9012-5f0fbace87b1",
   "metadata": {},
   "source": [
    "## Gas price"
   ]
  },
  {
   "cell_type": "markdown",
   "id": "d6af812b-d3d4-42bf-8ee1-cd895def6a53",
   "metadata": {},
   "source": [
    "### Pending"
   ]
  },
  {
   "cell_type": "code",
   "execution_count": null,
   "id": "94b418c6-d99d-4fef-85d2-c4ffefdc3e04",
   "metadata": {},
   "outputs": [],
   "source": [
    "# Avg gas price - line plot - values + smoothed "
   ]
  },
  {
   "cell_type": "markdown",
   "id": "a5d7ab60-7894-4fef-a00d-46485017d140",
   "metadata": {},
   "source": [
    "### Failed"
   ]
  },
  {
   "cell_type": "code",
   "execution_count": null,
   "id": "5536ecd9-e46c-4f5f-a4e0-6efb6aa8588d",
   "metadata": {},
   "outputs": [],
   "source": [
    "# Avg gas price - line plot - values + smoothed "
   ]
  },
  {
   "cell_type": "markdown",
   "id": "a84f4ae0-25a8-45dc-9351-7f2cfc8c5c46",
   "metadata": {},
   "source": [
    "### Successful"
   ]
  },
  {
   "cell_type": "code",
   "execution_count": null,
   "id": "0b79c087-a94a-4ade-bb6d-a3a3a3fb9248",
   "metadata": {},
   "outputs": [],
   "source": [
    "# Avg gas price - line plot - values + smoothed "
   ]
  },
  {
   "cell_type": "markdown",
   "id": "40a7676a-f336-488f-aeff-f717c7b21d0a",
   "metadata": {},
   "source": [
    "## Transaction sizes"
   ]
  },
  {
   "cell_type": "markdown",
   "id": "f76ef05c-733d-4827-a7fc-388e6007cda7",
   "metadata": {},
   "source": [
    "### Pending"
   ]
  },
  {
   "cell_type": "code",
   "execution_count": null,
   "id": "6480312a-cc2f-4896-a973-b29b7ed07575",
   "metadata": {},
   "outputs": [],
   "source": [
    "# Avg gas price - line plot - values + smoothed "
   ]
  },
  {
   "cell_type": "markdown",
   "id": "95e88e8f-0071-44ec-b74a-690650696c63",
   "metadata": {},
   "source": [
    "### Failed"
   ]
  },
  {
   "cell_type": "code",
   "execution_count": null,
   "id": "80945e5d-eec3-4a4a-a1d3-0c4de97eedce",
   "metadata": {},
   "outputs": [],
   "source": [
    "# Avg gas price - line plot - values + smoothed "
   ]
  },
  {
   "cell_type": "markdown",
   "id": "2bcafe49-cdd9-4412-9aab-2d2383355ac9",
   "metadata": {},
   "source": [
    "### Successful "
   ]
  },
  {
   "cell_type": "code",
   "execution_count": null,
   "id": "ef1a4366-b591-4ec6-9527-f2100e73acb9",
   "metadata": {},
   "outputs": [],
   "source": [
    "# Avg gas price - line plot - values + smoothed "
   ]
  },
  {
   "cell_type": "markdown",
   "id": "ffb88791-0910-40fd-ba03-a4c75c083c5a",
   "metadata": {},
   "source": [
    "## NFT - Launch specific info"
   ]
  },
  {
   "cell_type": "markdown",
   "id": "8202a2c4-04b0-47b6-a876-811c234737b6",
   "metadata": {},
   "source": [
    "### Fraction of different types of transactions - total"
   ]
  },
  {
   "cell_type": "code",
   "execution_count": null,
   "id": "38a04dac-78fe-4d29-bbc5-b9977043c4ae",
   "metadata": {},
   "outputs": [],
   "source": [
    "# Scatter plot - w/ colour indicator"
   ]
  },
  {
   "cell_type": "markdown",
   "id": "4ce83d43-6347-49ab-8efe-bb66f7f772c4",
   "metadata": {},
   "source": [
    "### Gas price"
   ]
  },
  {
   "cell_type": "code",
   "execution_count": null,
   "id": "969d1072-4154-4da1-a871-45490149c906",
   "metadata": {},
   "outputs": [],
   "source": [
    "# 3 histograms - w/ relavant bins (one for each transaction type)"
   ]
  },
  {
   "cell_type": "markdown",
   "id": "d4b6cf43-e3a9-4a86-b25b-6a82c190fa68",
   "metadata": {},
   "source": [
    "### Transaction size"
   ]
  },
  {
   "cell_type": "code",
   "execution_count": null,
   "id": "3a9fe39e-643f-4c7d-83eb-3069c6e6bf45",
   "metadata": {},
   "outputs": [],
   "source": [
    "# 3 histograms - w/ relavant bins (one for each transaction type)"
   ]
  }
 ],
 "metadata": {
  "kernelspec": {
   "display_name": "Python 3",
   "language": "python",
   "name": "python3"
  },
  "language_info": {
   "codemirror_mode": {
    "name": "ipython",
    "version": 3
   },
   "file_extension": ".py",
   "mimetype": "text/x-python",
   "name": "python",
   "nbconvert_exporter": "python",
   "pygments_lexer": "ipython3",
   "version": "3.8.2"
  }
 },
 "nbformat": 4,
 "nbformat_minor": 5
}
