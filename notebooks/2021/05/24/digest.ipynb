{
 "cells": [
  {
   "cell_type": "markdown",
   "metadata": {},
   "source": [
    "In this notebook, we take a look at the data from epochs 38320 - 39120 (May 21, 2021, 7:28PM GMT to May 24, 2021, 8:49AM GMT) and analyze the overall network performance of the Ethereum Proof-of-stake consensus chain mainnet through the lens of 6 metrics (attestor slashing, proposer slashing, proposed block count, global participation rate, new deposits and voluntary exit counts). \n",
    "\n",
    "We first collect the data using beaconcha.in's api, then proceed to explain these metrics and analyze the collected data using statistical methods and relavant visualizations. A similar notebook will be published once every 2 weeks, with an analysis of the data for these 2 weeks."
   ]
  },
  {
   "cell_type": "code",
   "execution_count": 1,
   "metadata": {},
   "outputs": [],
   "source": [
    "#Import all the modules \n",
    "\n",
    "import requests\n",
    "import json\n",
    "import csv\n",
    "import pandas as pd\n",
    "import seaborn as sns \n",
    "import numpy as np\n",
    "import matplotlib.pyplot as plt\n",
    "from time import *\n",
    "import plotly.express as px\n",
    "import plotly.io as pio\n",
    "pio.renderers.default = \"plotly_mimetype+notebook_connected\""
   ]
  },
  {
   "cell_type": "markdown",
   "metadata": {},
   "source": [
    "## Data Collection"
   ]
  },
  {
   "cell_type": "code",
   "execution_count": 2,
   "metadata": {},
   "outputs": [],
   "source": [
    "#Dictionaries to store the data queried using the API end-points\n",
    "\n",
    "# attestor_slashing = {}\n",
    "# proposer_slashing = {}\n",
    "# proposed_block_count = {}\n",
    "# global_participation_rate = {}\n",
    "# exit_counts = {}\n",
    "# deposits = {}"
   ]
  },
  {
   "cell_type": "code",
   "execution_count": 3,
   "metadata": {},
   "outputs": [],
   "source": [
    "# with open('api_key.txt', 'r') as api_file:\n",
    "#     api_key = api_file.read()\n",
    "\n",
    "# for epoch in range(38320,39121):\n",
    "#     x = requests.get('https://beaconcha.in/api/v1/epoch/{}?api_key={}'.format(epoch, api_key))\n",
    "#     #Add a sleep to stay within the call rate limits\n",
    "#     sleep(6)\n",
    "    \n",
    "#     data = x.json()['data']\n",
    "    \n",
    "#     attestor_slashing[epoch] = data['attesterslashingscount']\n",
    "#     proposer_slashing[epoch] = data['proposerslashingscount']\n",
    "#     proposed_block_count[epoch] = data['proposedblocks']\n",
    "#     global_participation_rate[epoch] = data['globalparticipationrate']\n",
    "#     exit_counts[epoch] = data['voluntaryexitscount']\n",
    "#     deposits[epoch] = data['depositscount']"
   ]
  },
  {
   "cell_type": "code",
   "execution_count": 4,
   "metadata": {},
   "outputs": [],
   "source": [
    "#Writing the dictionaries to csv files\n",
    "\n",
    "# with open('attestor_slashing.csv','w') as result_file:\n",
    "#     wr = csv.writer(result_file, dialect='excel')\n",
    "#     for key, value in attestor_slashing.items():\n",
    "#         wr.writerow([key,value])\n",
    "        \n",
    "# with open('proposer_slashing.csv','w') as result_file:\n",
    "#     wr = csv.writer(result_file, dialect='excel')\n",
    "#     for key, value in proposer_slashing.items():\n",
    "#         wr.writerow([key,value])\n",
    "        \n",
    "# with open('proposed_block_count.csv','w') as result_file:\n",
    "#     wr = csv.writer(result_file, dialect='excel')\n",
    "#     for key, value in proposed_block_count.items():\n",
    "#         wr.writerow([key,value])\n",
    "        \n",
    "# with open('global_participation_rate.csv','w') as result_file:\n",
    "#     wr = csv.writer(result_file, dialect='excel')\n",
    "#     for key, value in global_participation_rate.items():\n",
    "#         wr.writerow([key,value])\n",
    "        \n",
    "# with open('exit_counts.csv','w') as result_file:\n",
    "#     wr = csv.writer(result_file, dialect='excel')\n",
    "#     for key, value in exit_counts.items():\n",
    "#         wr.writerow([key,value])\n",
    "        \n",
    "# with open('deposits.csv','w') as result_file:\n",
    "#     wr = csv.writer(result_file, dialect='excel')\n",
    "#     for key, value in deposits.items():\n",
    "#         wr.writerow([key,value])"
   ]
  },
  {
   "cell_type": "markdown",
   "metadata": {},
   "source": [
    "On doing some simple merging, the final dataframe with all 5 metrics is prepared"
   ]
  },
  {
   "cell_type": "code",
   "execution_count": 5,
   "metadata": {},
   "outputs": [
    {
     "name": "stdout",
     "output_type": "stream",
     "text": [
      "   epoch  attestor_slashing  proposer_slashing  block_count  \\\n",
      "0  38320                  0                  0           32   \n",
      "1  38321                  0                  0           32   \n",
      "2  38322                  0                  0           32   \n",
      "3  38323                  0                  0           31   \n",
      "4  38324                  0                  0           32   \n",
      "\n",
      "   participation_rate  exit_count  deposits  \n",
      "0            0.994738         0.0         0  \n",
      "1            0.993110         0.0         0  \n",
      "2            0.995255         0.0         0  \n",
      "3            0.993418         0.0         0  \n",
      "4            0.995465         0.0         0  \n"
     ]
    }
   ],
   "source": [
    "df1 = pd.read_csv('attestor_slashing.csv', header= None, names = [\"epoch\",\"attestor_slashing\"])\n",
    "df2 = pd.read_csv('proposer_slashing.csv', header= None, names = [\"epoch\",\"proposer_slashing\"])\n",
    "df3 = pd.read_csv('proposed_block_count.csv', header= None, names = [\"epoch\",\"block_count\"])\n",
    "df4 = pd.read_csv('global_participation_rate.csv', header= None, names = [\"epoch\",\"participation_rate\"])\n",
    "df5 = pd.read_csv('exit_counts.csv', header= None, names = [\"epoch\",\"exit_count\"])\n",
    "df6 = pd.read_csv('deposits.csv', header= None, names = [\"epoch\",\"deposits\"])\n",
    "\n",
    "df = pd.merge(df1, df2, on ='epoch')\n",
    "df = pd.merge(df, df3, on ='epoch')\n",
    "df = pd.merge(df, df4, on ='epoch')\n",
    "df = pd.merge(df, df5, on ='epoch')\n",
    "df = pd.merge(df, df6, on ='epoch')\n",
    "\n",
    "print(df.head())"
   ]
  },
  {
   "cell_type": "markdown",
   "metadata": {},
   "source": [
    "## Attestor and proposer slashing events"
   ]
  },
  {
   "cell_type": "markdown",
   "metadata": {},
   "source": [
    "As per protocol rules, there are certain offences that if beacon chain validators commit, warrants some of their stake to be slashed. On committing such offences a portion of the validator's stake is slashed and the validator is forced to exit the network. \n",
    "\n",
    "[Slashable offences](https://ethos.dev/beacon-chain/#slashable-offences) include: \n",
    "\n",
    "- Double proposals\n",
    "- Surround votes \n",
    "- Double votes\n",
    "\n",
    "Note that an honest validator cannot be slashed by the actions of other validators.\n",
    "\n",
    "We now take a look at the number of slashing events that occurred in each epoch for the given range"
   ]
  },
  {
   "cell_type": "code",
   "execution_count": 6,
   "metadata": {},
   "outputs": [
    {
     "name": "stdout",
     "output_type": "stream",
     "text": [
      "Epoch: 38518, Number of attestors slashed: 1\n"
     ]
    },
    {
     "data": {
      "image/png": "[encoded data removed]",
      "text/plain": [
       "<Figure size 432x288 with 1 Axes>"
      ]
     },
     "metadata": {
      "needs_background": "light"
     },
     "output_type": "display_data"
    }
   ],
   "source": [
    "#Attestor Slashing\n",
    "\n",
    "attestor_slashing_events = df['attestor_slashing']\n",
    "attestor_slashing_events_unique = set(attestor_slashing_events)\n",
    "num_of_events = len(attestor_slashing_events_unique) #output value = 2\n",
    "#print(\"The number of unique values in the attestor_slashing_events series is: {}\".format(num_of_events))\n",
    "\n",
    "#Thus, there have been one or more attestor slashing events that have occured during this range of epochs \n",
    "\n",
    "plt.plot(df['epoch'],df['attestor_slashing']) \n",
    "\n",
    "for i in range(0,801):\n",
    "    if df['attestor_slashing'][i] != 0:\n",
    "        print(\"Epoch: {}, Number of attestors slashed: {}\".format(df['epoch'][i],df['attestor_slashing'][i]))"
   ]
  },
  {
   "cell_type": "code",
   "execution_count": 7,
   "metadata": {},
   "outputs": [
    {
     "data": {
      "text/plain": [
       "[<matplotlib.lines.Line2D at 0x137450370>]"
      ]
     },
     "execution_count": 7,
     "metadata": {},
     "output_type": "execute_result"
    },
    {
     "data": {
      "image/png": "[encoded data removed]",
      "text/plain": [
       "<Figure size 432x288 with 1 Axes>"
      ]
     },
     "metadata": {
      "needs_background": "light"
     },
     "output_type": "display_data"
    }
   ],
   "source": [
    "#Proposer Slashing\n",
    "\n",
    "proposer_slashing_events = df['proposer_slashing']\n",
    "proposer_slashing_events_unique = set(proposer_slashing_events)\n",
    "num_of_events = len(proposer_slashing_events_unique) #output value = 1\n",
    "#print(\"The number of unique values in the proposer_slashing_events series is: {}\".format(num_of_events))\n",
    "\n",
    "#Thus, there have been no proposer slashing events that have occured during this range of epochs \n",
    "\n",
    "plt.plot(df['epoch'],df['proposer_slashing']) \n",
    "\n",
    "# for i in range(0,801):\n",
    "#     if df['proposer_slashing'][i] != 0:\n",
    "#         print(\"Epoch: {}, Number of proposers slashed: {}\".format(df['epoch'][i],df['proposer_slashing'][i]))"
   ]
  },
  {
   "cell_type": "markdown",
   "metadata": {},
   "source": [
    "Thus we can see that in the range of epochs 38320 - 39120, there has been only one attestor slashing event where one validator was slashed at epoch 38518 and no proposer slashing events"
   ]
  },
  {
   "cell_type": "markdown",
   "metadata": {},
   "source": [
    "## Proposed block count"
   ]
  },
  {
   "cell_type": "markdown",
   "metadata": {},
   "source": [
    "In Proof-of-Stake Ethereum, each epoch is divided into 32 slots. Each slot can be thought of as an opportunity to produce a block, which means that there is no guarantee that a block is produced in each slot. However, when the network is performing optimally and the validators are perfoming well in their duties as block producers, every slot will have a block produced meaning that every epoch will have 32 blocks produced. \n",
    "\n",
    "Thus, one way to measure the network's performance is to look at the number of blocks that have been produced in each epoch. If this number is 32 or is at least close to 32, the network is considered to be performing well. \n",
    "\n",
    "We now look at the number of blocks produced at each epoch for this range. The size of each point below represents the number of epochs that achieved the number of blocks produced on the y-axis."
   ]
  },
  {
   "cell_type": "code",
   "execution_count": 8,
   "metadata": {},
   "outputs": [
    {
     "data": {
      "text/html": [
       "        <script type=\"text/javascript\">\n",
       "        window.PlotlyConfig = {MathJaxConfig: 'local'};\n",
       "        if (window.MathJax) {MathJax.Hub.Config({SVG: {font: \"STIX-Web\"}});}\n",
       "        if (typeof require !== 'undefined') {\n",
       "        require.undef(\"plotly\");\n",
       "        requirejs.config({\n",
       "            paths: {\n",
       "                'plotly': ['https://cdn.plot.ly/plotly-latest.min']\n",
       "            }\n",
       "        });\n",
       "        require(['plotly'], function(Plotly) {\n",
       "            window._Plotly = Plotly;\n",
       "        });\n",
       "        }\n",
       "        </script>\n",
       "        "
      ]
     },
     "metadata": {},
     "output_type": "display_data"
    },
    {
     "data": {
      "application/vnd.plotly.v1+json": {
       "config": {
        "plotlyServerURL": "https://plot.ly"
       },
       "data": [
        {
         "hovertemplate": "Epoch=%{x}<br>Blocks produced=%{y}<br>Count=%{marker.size}<extra></extra>",
         "legendgroup": "",
         "marker": {
          "color": "#636efa",
          "size": [
           2,
           11,
           67,
           1,
           5,
           16,
           78,
           1,
           7,
           15,
           77,
           1,
           4,
           17,
           78,
           2,
           1,
           23,
           74,
           5,
           24,
           71,
           1,
           5,
           31,
           63,
           6,
           18,
           76,
           1,
           5,
           15
          ],
          "sizemode": "area",
          "sizeref": 0.195,
          "symbol": "circle"
         },
         "mode": "markers",
         "name": "",
         "orientation": "v",
         "showlegend": false,
         "type": "scatter",
         "x": [
          38350,
          38350,
          38350,
          38450,
          38450,
          38450,
          38450,
          38550,
          38550,
          38550,
          38550,
          38650,
          38650,
          38650,
          38650,
          38750,
          38750,
          38750,
          38750,
          38850,
          38850,
          38850,
          38950,
          38950,
          38950,
          38950,
          39050,
          39050,
          39050,
          39150,
          39150,
          39150
         ],
         "xaxis": "x",
         "y": [
          30,
          31,
          32,
          29,
          30,
          31,
          32,
          29,
          30,
          31,
          32,
          29,
          30,
          31,
          32,
          29,
          30,
          31,
          32,
          30,
          31,
          32,
          28,
          30,
          31,
          32,
          30,
          31,
          32,
          30,
          31,
          32
         ],
         "yaxis": "y"
        }
       ],
       "layout": {
        "height": 400,
        "legend": {
         "itemsizing": "constant",
         "tracegroupgap": 0
        },
        "margin": {
         "t": 60
        },
        "template": {
         "data": {
          "bar": [
           {
            "error_x": {
             "color": "#2a3f5f"
            },
            "error_y": {
             "color": "#2a3f5f"
            },
            "marker": {
             "line": {
              "color": "#E5ECF6",
              "width": 0.5
             }
            },
            "type": "bar"
           }
          ],
          "barpolar": [
           {
            "marker": {
             "line": {
              "color": "#E5ECF6",
              "width": 0.5
             }
            },
            "type": "barpolar"
           }
          ],
          "carpet": [
           {
            "aaxis": {
             "endlinecolor": "#2a3f5f",
             "gridcolor": "white",
             "linecolor": "white",
             "minorgridcolor": "white",
             "startlinecolor": "#2a3f5f"
            },
            "baxis": {
             "endlinecolor": "#2a3f5f",
             "gridcolor": "white",
             "linecolor": "white",
             "minorgridcolor": "white",
             "startlinecolor": "#2a3f5f"
            },
            "type": "carpet"
           }
          ],
          "choropleth": [
           {
            "colorbar": {
             "outlinewidth": 0,
             "ticks": ""
            },
            "type": "choropleth"
           }
          ],
          "contour": [
           {
            "colorbar": {
             "outlinewidth": 0,
             "ticks": ""
            },
            "colorscale": [
             [
              0,
              "#0d0887"
             ],
             [
              0.1111111111111111,
              "#46039f"
             ],
             [
              0.2222222222222222,
              "#7201a8"
             ],
             [
              0.3333333333333333,
              "#9c179e"
             ],
             [
              0.4444444444444444,
              "#bd3786"
             ],
             [
              0.5555555555555556,
              "#d8576b"
             ],
             [
              0.6666666666666666,
              "#ed7953"
             ],
             [
              0.7777777777777778,
              "#fb9f3a"
             ],
             [
              0.8888888888888888,
              "#fdca26"
             ],
             [
              1,
              "#f0f921"
             ]
            ],
            "type": "contour"
           }
          ],
          "contourcarpet": [
           {
            "colorbar": {
             "outlinewidth": 0,
             "ticks": ""
            },
            "type": "contourcarpet"
           }
          ],
          "heatmap": [
           {
            "colorbar": {
             "outlinewidth": 0,
             "ticks": ""
            },
            "colorscale": [
             [
              0,
              "#0d0887"
             ],
             [
              0.1111111111111111,
              "#46039f"
             ],
             [
              0.2222222222222222,
              "#7201a8"
             ],
             [
              0.3333333333333333,
              "#9c179e"
             ],
             [
              0.4444444444444444,
              "#bd3786"
             ],
             [
              0.5555555555555556,
              "#d8576b"
             ],
             [
              0.6666666666666666,
              "#ed7953"
             ],
             [
              0.7777777777777778,
              "#fb9f3a"
             ],
             [
              0.8888888888888888,
              "#fdca26"
             ],
             [
              1,
              "#f0f921"
             ]
            ],
            "type": "heatmap"
           }
          ],
          "heatmapgl": [
           {
            "colorbar": {
             "outlinewidth": 0,
             "ticks": ""
            },
            "colorscale": [
             [
              0,
              "#0d0887"
             ],
             [
              0.1111111111111111,
              "#46039f"
             ],
             [
              0.2222222222222222,
              "#7201a8"
             ],
             [
              0.3333333333333333,
              "#9c179e"
             ],
             [
              0.4444444444444444,
              "#bd3786"
             ],
             [
              0.5555555555555556,
              "#d8576b"
             ],
             [
              0.6666666666666666,
              "#ed7953"
             ],
             [
              0.7777777777777778,
              "#fb9f3a"
             ],
             [
              0.8888888888888888,
              "#fdca26"
             ],
             [
              1,
              "#f0f921"
             ]
            ],
            "type": "heatmapgl"
           }
          ],
          "histogram": [
           {
            "marker": {
             "colorbar": {
              "outlinewidth": 0,
              "ticks": ""
             }
            },
            "type": "histogram"
           }
          ],
          "histogram2d": [
           {
            "colorbar": {
             "outlinewidth": 0,
             "ticks": ""
            },
            "colorscale": [
             [
              0,
              "#0d0887"
             ],
             [
              0.1111111111111111,
              "#46039f"
             ],
             [
              0.2222222222222222,
              "#7201a8"
             ],
             [
              0.3333333333333333,
              "#9c179e"
             ],
             [
              0.4444444444444444,
              "#bd3786"
             ],
             [
              0.5555555555555556,
              "#d8576b"
             ],
             [
              0.6666666666666666,
              "#ed7953"
             ],
             [
              0.7777777777777778,
              "#fb9f3a"
             ],
             [
              0.8888888888888888,
              "#fdca26"
             ],
             [
              1,
              "#f0f921"
             ]
            ],
            "type": "histogram2d"
           }
          ],
          "histogram2dcontour": [
           {
            "colorbar": {
             "outlinewidth": 0,
             "ticks": ""
            },
            "colorscale": [
             [
              0,
              "#0d0887"
             ],
             [
              0.1111111111111111,
              "#46039f"
             ],
             [
              0.2222222222222222,
              "#7201a8"
             ],
             [
              0.3333333333333333,
              "#9c179e"
             ],
             [
              0.4444444444444444,
              "#bd3786"
             ],
             [
              0.5555555555555556,
              "#d8576b"
             ],
             [
              0.6666666666666666,
              "#ed7953"
             ],
             [
              0.7777777777777778,
              "#fb9f3a"
             ],
             [
              0.8888888888888888,
              "#fdca26"
             ],
             [
              1,
              "#f0f921"
             ]
            ],
            "type": "histogram2dcontour"
           }
          ],
          "mesh3d": [
           {
            "colorbar": {
             "outlinewidth": 0,
             "ticks": ""
            },
            "type": "mesh3d"
           }
          ],
          "parcoords": [
           {
            "line": {
             "colorbar": {
              "outlinewidth": 0,
              "ticks": ""
             }
            },
            "type": "parcoords"
           }
          ],
          "pie": [
           {
            "automargin": true,
            "type": "pie"
           }
          ],
          "scatter": [
           {
            "marker": {
             "colorbar": {
              "outlinewidth": 0,
              "ticks": ""
             }
            },
            "type": "scatter"
           }
          ],
          "scatter3d": [
           {
            "line": {
             "colorbar": {
              "outlinewidth": 0,
              "ticks": ""
             }
            },
            "marker": {
             "colorbar": {
              "outlinewidth": 0,
              "ticks": ""
             }
            },
            "type": "scatter3d"
           }
          ],
          "scattercarpet": [
           {
            "marker": {
             "colorbar": {
              "outlinewidth": 0,
              "ticks": ""
             }
            },
            "type": "scattercarpet"
           }
          ],
          "scattergeo": [
           {
            "marker": {
             "colorbar": {
              "outlinewidth": 0,
              "ticks": ""
             }
            },
            "type": "scattergeo"
           }
          ],
          "scattergl": [
           {
            "marker": {
             "colorbar": {
              "outlinewidth": 0,
              "ticks": ""
             }
            },
            "type": "scattergl"
           }
          ],
          "scattermapbox": [
           {
            "marker": {
             "colorbar": {
              "outlinewidth": 0,
              "ticks": ""
             }
            },
            "type": "scattermapbox"
           }
          ],
          "scatterpolar": [
           {
            "marker": {
             "colorbar": {
              "outlinewidth": 0,
              "ticks": ""
             }
            },
            "type": "scatterpolar"
           }
          ],
          "scatterpolargl": [
           {
            "marker": {
             "colorbar": {
              "outlinewidth": 0,
              "ticks": ""
             }
            },
            "type": "scatterpolargl"
           }
          ],
          "scatterternary": [
           {
            "marker": {
             "colorbar": {
              "outlinewidth": 0,
              "ticks": ""
             }
            },
            "type": "scatterternary"
           }
          ],
          "surface": [
           {
            "colorbar": {
             "outlinewidth": 0,
             "ticks": ""
            },
            "colorscale": [
             [
              0,
              "#0d0887"
             ],
             [
              0.1111111111111111,
              "#46039f"
             ],
             [
              0.2222222222222222,
              "#7201a8"
             ],
             [
              0.3333333333333333,
              "#9c179e"
             ],
             [
              0.4444444444444444,
              "#bd3786"
             ],
             [
              0.5555555555555556,
              "#d8576b"
             ],
             [
              0.6666666666666666,
              "#ed7953"
             ],
             [
              0.7777777777777778,
              "#fb9f3a"
             ],
             [
              0.8888888888888888,
              "#fdca26"
             ],
             [
              1,
              "#f0f921"
             ]
            ],
            "type": "surface"
           }
          ],
          "table": [
           {
            "cells": {
             "fill": {
              "color": "#EBF0F8"
             },
             "line": {
              "color": "white"
             }
            },
            "header": {
             "fill": {
              "color": "#C8D4E3"
             },
             "line": {
              "color": "white"
             }
            },
            "type": "table"
           }
          ]
         },
         "layout": {
          "annotationdefaults": {
           "arrowcolor": "#2a3f5f",
           "arrowhead": 0,
           "arrowwidth": 1
          },
          "autotypenumbers": "strict",
          "coloraxis": {
           "colorbar": {
            "outlinewidth": 0,
            "ticks": ""
           }
          },
          "colorscale": {
           "diverging": [
            [
             0,
             "#8e0152"
            ],
            [
             0.1,
             "#c51b7d"
            ],
            [
             0.2,
             "#de77ae"
            ],
            [
             0.3,
             "#f1b6da"
            ],
            [
             0.4,
             "#fde0ef"
            ],
            [
             0.5,
             "#f7f7f7"
            ],
            [
             0.6,
             "#e6f5d0"
            ],
            [
             0.7,
             "#b8e186"
            ],
            [
             0.8,
             "#7fbc41"
            ],
            [
             0.9,
             "#4d9221"
            ],
            [
             1,
             "#276419"
            ]
           ],
           "sequential": [
            [
             0,
             "#0d0887"
            ],
            [
             0.1111111111111111,
             "#46039f"
            ],
            [
             0.2222222222222222,
             "#7201a8"
            ],
            [
             0.3333333333333333,
             "#9c179e"
            ],
            [
             0.4444444444444444,
             "#bd3786"
            ],
            [
             0.5555555555555556,
             "#d8576b"
            ],
            [
             0.6666666666666666,
             "#ed7953"
            ],
            [
             0.7777777777777778,
             "#fb9f3a"
            ],
            [
             0.8888888888888888,
             "#fdca26"
            ],
            [
             1,
             "#f0f921"
            ]
           ],
           "sequentialminus": [
            [
             0,
             "#0d0887"
            ],
            [
             0.1111111111111111,
             "#46039f"
            ],
            [
             0.2222222222222222,
             "#7201a8"
            ],
            [
             0.3333333333333333,
             "#9c179e"
            ],
            [
             0.4444444444444444,
             "#bd3786"
            ],
            [
             0.5555555555555556,
             "#d8576b"
            ],
            [
             0.6666666666666666,
             "#ed7953"
            ],
            [
             0.7777777777777778,
             "#fb9f3a"
            ],
            [
             0.8888888888888888,
             "#fdca26"
            ],
            [
             1,
             "#f0f921"
            ]
           ]
          },
          "colorway": [
           "#636efa",
           "#EF553B",
           "#00cc96",
           "#ab63fa",
           "#FFA15A",
           "#19d3f3",
           "#FF6692",
           "#B6E880",
           "#FF97FF",
           "#FECB52"
          ],
          "font": {
           "color": "#2a3f5f"
          },
          "geo": {
           "bgcolor": "white",
           "lakecolor": "white",
           "landcolor": "#E5ECF6",
           "showlakes": true,
           "showland": true,
           "subunitcolor": "white"
          },
          "hoverlabel": {
           "align": "left"
          },
          "hovermode": "closest",
          "mapbox": {
           "style": "light"
          },
          "paper_bgcolor": "white",
          "plot_bgcolor": "#E5ECF6",
          "polar": {
           "angularaxis": {
            "gridcolor": "white",
            "linecolor": "white",
            "ticks": ""
           },
           "bgcolor": "#E5ECF6",
           "radialaxis": {
            "gridcolor": "white",
            "linecolor": "white",
            "ticks": ""
           }
          },
          "scene": {
           "xaxis": {
            "backgroundcolor": "#E5ECF6",
            "gridcolor": "white",
            "gridwidth": 2,
            "linecolor": "white",
            "showbackground": true,
            "ticks": "",
            "zerolinecolor": "white"
           },
           "yaxis": {
            "backgroundcolor": "#E5ECF6",
            "gridcolor": "white",
            "gridwidth": 2,
            "linecolor": "white",
            "showbackground": true,
            "ticks": "",
            "zerolinecolor": "white"
           },
           "zaxis": {
            "backgroundcolor": "#E5ECF6",
            "gridcolor": "white",
            "gridwidth": 2,
            "linecolor": "white",
            "showbackground": true,
            "ticks": "",
            "zerolinecolor": "white"
           }
          },
          "shapedefaults": {
           "line": {
            "color": "#2a3f5f"
           }
          },
          "ternary": {
           "aaxis": {
            "gridcolor": "white",
            "linecolor": "white",
            "ticks": ""
           },
           "baxis": {
            "gridcolor": "white",
            "linecolor": "white",
            "ticks": ""
           },
           "bgcolor": "#E5ECF6",
           "caxis": {
            "gridcolor": "white",
            "linecolor": "white",
            "ticks": ""
           }
          },
          "title": {
           "x": 0.05
          },
          "xaxis": {
           "automargin": true,
           "gridcolor": "white",
           "linecolor": "white",
           "ticks": "",
           "title": {
            "standoff": 15
           },
           "zerolinecolor": "white",
           "zerolinewidth": 2
          },
          "yaxis": {
           "automargin": true,
           "gridcolor": "white",
           "linecolor": "white",
           "ticks": "",
           "title": {
            "standoff": 15
           },
           "zerolinecolor": "white",
           "zerolinewidth": 2
          }
         }
        },
        "width": 600,
        "xaxis": {
         "anchor": "y",
         "autorange": true,
         "domain": [
          0,
          1
         ],
         "range": [
          38271.68173909359,
          39211.82225684422
         ],
         "tickmode": "array",
         "ticktext": [
          "38350",
          "38350",
          "38350",
          "38450",
          "38450",
          "38450",
          "38450",
          "38550",
          "38550",
          "38550",
          "38550",
          "38650",
          "38650",
          "38650",
          "38650",
          "38750",
          "38750",
          "38750",
          "38750",
          "38850",
          "38850",
          "38850",
          "38950",
          "38950",
          "38950",
          "38950",
          "39050",
          "39050",
          "39050",
          "39150",
          "39150",
          "39150"
         ],
         "tickvals": [
          38350,
          38350,
          38350,
          38450,
          38450,
          38450,
          38450,
          38550,
          38550,
          38550,
          38550,
          38650,
          38650,
          38650,
          38650,
          38750,
          38750,
          38750,
          38750,
          38850,
          38850,
          38850,
          38950,
          38950,
          38950,
          38950,
          39050,
          39050,
          39050,
          39150,
          39150,
          39150
         ],
         "title": {
          "text": "Epoch"
         },
         "type": "linear"
        },
        "yaxis": {
         "anchor": "x",
         "autorange": true,
         "domain": [
          0,
          1
         ],
         "range": [
          27.702586491475326,
          32.535556005001254
         ],
         "title": {
          "text": "Blocks produced"
         },
         "type": "linear"
        }
       }
      },
      "image/png": "[encoded data removed]",
      "text/html": [
       "<div>                            <div id=\"2ce550e0-4143-49f0-9ee5-f69f24bf9eb6\" class=\"plotly-graph-div\" style=\"height:400px; width:600px;\"></div>            <script type=\"text/javascript\">                require([\"plotly\"], function(Plotly) {                    window.PLOTLYENV=window.PLOTLYENV || {};                                    if (document.getElementById(\"2ce550e0-4143-49f0-9ee5-f69f24bf9eb6\")) {                    Plotly.newPlot(                        \"2ce550e0-4143-49f0-9ee5-f69f24bf9eb6\",                        [{\"hovertemplate\": \"Epoch=%{x}<br>Blocks produced=%{y}<br>Count=%{marker.size}<extra></extra>\", \"legendgroup\": \"\", \"marker\": {\"color\": \"#636efa\", \"size\": [2, 11, 67, 1, 5, 16, 78, 1, 7, 15, 77, 1, 4, 17, 78, 2, 1, 23, 74, 5, 24, 71, 1, 5, 31, 63, 6, 18, 76, 1, 5, 15], \"sizemode\": \"area\", \"sizeref\": 0.195, \"symbol\": \"circle\"}, \"mode\": \"markers\", \"name\": \"\", \"orientation\": \"v\", \"showlegend\": false, \"type\": \"scatter\", \"x\": [38350.0, 38350.0, 38350.0, 38450.0, 38450.0, 38450.0, 38450.0, 38550.0, 38550.0, 38550.0, 38550.0, 38650.0, 38650.0, 38650.0, 38650.0, 38750.0, 38750.0, 38750.0, 38750.0, 38850.0, 38850.0, 38850.0, 38950.0, 38950.0, 38950.0, 38950.0, 39050.0, 39050.0, 39050.0, 39150.0, 39150.0, 39150.0], \"xaxis\": \"x\", \"y\": [30, 31, 32, 29, 30, 31, 32, 29, 30, 31, 32, 29, 30, 31, 32, 29, 30, 31, 32, 30, 31, 32, 28, 30, 31, 32, 30, 31, 32, 30, 31, 32], \"yaxis\": \"y\"}],                        {\"height\": 400, \"legend\": {\"itemsizing\": \"constant\", \"tracegroupgap\": 0}, \"margin\": {\"t\": 60}, \"template\": {\"data\": {\"bar\": [{\"error_x\": {\"color\": \"#2a3f5f\"}, \"error_y\": {\"color\": \"#2a3f5f\"}, \"marker\": {\"line\": {\"color\": \"#E5ECF6\", \"width\": 0.5}}, \"type\": \"bar\"}], \"barpolar\": [{\"marker\": {\"line\": {\"color\": \"#E5ECF6\", \"width\": 0.5}}, \"type\": \"barpolar\"}], \"carpet\": [{\"aaxis\": {\"endlinecolor\": \"#2a3f5f\", \"gridcolor\": \"white\", \"linecolor\": \"white\", \"minorgridcolor\": \"white\", \"startlinecolor\": \"#2a3f5f\"}, \"baxis\": {\"endlinecolor\": \"#2a3f5f\", \"gridcolor\": \"white\", \"linecolor\": \"white\", \"minorgridcolor\": \"white\", \"startlinecolor\": \"#2a3f5f\"}, \"type\": \"carpet\"}], \"choropleth\": [{\"colorbar\": {\"outlinewidth\": 0, \"ticks\": \"\"}, \"type\": \"choropleth\"}], \"contour\": [{\"colorbar\": {\"outlinewidth\": 0, \"ticks\": \"\"}, \"colorscale\": [[0.0, \"#0d0887\"], [0.1111111111111111, \"#46039f\"], [0.2222222222222222, \"#7201a8\"], [0.3333333333333333, \"#9c179e\"], [0.4444444444444444, \"#bd3786\"], [0.5555555555555556, \"#d8576b\"], [0.6666666666666666, \"#ed7953\"], [0.7777777777777778, \"#fb9f3a\"], [0.8888888888888888, \"#fdca26\"], [1.0, \"#f0f921\"]], \"type\": \"contour\"}], \"contourcarpet\": [{\"colorbar\": {\"outlinewidth\": 0, \"ticks\": \"\"}, \"type\": \"contourcarpet\"}], \"heatmap\": [{\"colorbar\": {\"outlinewidth\": 0, \"ticks\": \"\"}, \"colorscale\": [[0.0, \"#0d0887\"], [0.1111111111111111, \"#46039f\"], [0.2222222222222222, \"#7201a8\"], [0.3333333333333333, \"#9c179e\"], [0.4444444444444444, \"#bd3786\"], [0.5555555555555556, \"#d8576b\"], [0.6666666666666666, \"#ed7953\"], [0.7777777777777778, \"#fb9f3a\"], [0.8888888888888888, \"#fdca26\"], [1.0, \"#f0f921\"]], \"type\": \"heatmap\"}], \"heatmapgl\": [{\"colorbar\": {\"outlinewidth\": 0, \"ticks\": \"\"}, \"colorscale\": [[0.0, \"#0d0887\"], [0.1111111111111111, \"#46039f\"], [0.2222222222222222, \"#7201a8\"], [0.3333333333333333, \"#9c179e\"], [0.4444444444444444, \"#bd3786\"], [0.5555555555555556, \"#d8576b\"], [0.6666666666666666, \"#ed7953\"], [0.7777777777777778, \"#fb9f3a\"], [0.8888888888888888, \"#fdca26\"], [1.0, \"#f0f921\"]], \"type\": \"heatmapgl\"}], \"histogram\": [{\"marker\": {\"colorbar\": {\"outlinewidth\": 0, \"ticks\": \"\"}}, \"type\": \"histogram\"}], \"histogram2d\": [{\"colorbar\": {\"outlinewidth\": 0, \"ticks\": \"\"}, \"colorscale\": [[0.0, \"#0d0887\"], [0.1111111111111111, \"#46039f\"], [0.2222222222222222, \"#7201a8\"], [0.3333333333333333, \"#9c179e\"], [0.4444444444444444, \"#bd3786\"], [0.5555555555555556, \"#d8576b\"], [0.6666666666666666, \"#ed7953\"], [0.7777777777777778, \"#fb9f3a\"], [0.8888888888888888, \"#fdca26\"], [1.0, \"#f0f921\"]], \"type\": \"histogram2d\"}], \"histogram2dcontour\": [{\"colorbar\": {\"outlinewidth\": 0, \"ticks\": \"\"}, \"colorscale\": [[0.0, \"#0d0887\"], [0.1111111111111111, \"#46039f\"], [0.2222222222222222, \"#7201a8\"], [0.3333333333333333, \"#9c179e\"], [0.4444444444444444, \"#bd3786\"], [0.5555555555555556, \"#d8576b\"], [0.6666666666666666, \"#ed7953\"], [0.7777777777777778, \"#fb9f3a\"], [0.8888888888888888, \"#fdca26\"], [1.0, \"#f0f921\"]], \"type\": \"histogram2dcontour\"}], \"mesh3d\": [{\"colorbar\": {\"outlinewidth\": 0, \"ticks\": \"\"}, \"type\": \"mesh3d\"}], \"parcoords\": [{\"line\": {\"colorbar\": {\"outlinewidth\": 0, \"ticks\": \"\"}}, \"type\": \"parcoords\"}], \"pie\": [{\"automargin\": true, \"type\": \"pie\"}], \"scatter\": [{\"marker\": {\"colorbar\": {\"outlinewidth\": 0, \"ticks\": \"\"}}, \"type\": \"scatter\"}], \"scatter3d\": [{\"line\": {\"colorbar\": {\"outlinewidth\": 0, \"ticks\": \"\"}}, \"marker\": {\"colorbar\": {\"outlinewidth\": 0, \"ticks\": \"\"}}, \"type\": \"scatter3d\"}], \"scattercarpet\": [{\"marker\": {\"colorbar\": {\"outlinewidth\": 0, \"ticks\": \"\"}}, \"type\": \"scattercarpet\"}], \"scattergeo\": [{\"marker\": {\"colorbar\": {\"outlinewidth\": 0, \"ticks\": \"\"}}, \"type\": \"scattergeo\"}], \"scattergl\": [{\"marker\": {\"colorbar\": {\"outlinewidth\": 0, \"ticks\": \"\"}}, \"type\": \"scattergl\"}], \"scattermapbox\": [{\"marker\": {\"colorbar\": {\"outlinewidth\": 0, \"ticks\": \"\"}}, \"type\": \"scattermapbox\"}], \"scatterpolar\": [{\"marker\": {\"colorbar\": {\"outlinewidth\": 0, \"ticks\": \"\"}}, \"type\": \"scatterpolar\"}], \"scatterpolargl\": [{\"marker\": {\"colorbar\": {\"outlinewidth\": 0, \"ticks\": \"\"}}, \"type\": \"scatterpolargl\"}], \"scatterternary\": [{\"marker\": {\"colorbar\": {\"outlinewidth\": 0, \"ticks\": \"\"}}, \"type\": \"scatterternary\"}], \"surface\": [{\"colorbar\": {\"outlinewidth\": 0, \"ticks\": \"\"}, \"colorscale\": [[0.0, \"#0d0887\"], [0.1111111111111111, \"#46039f\"], [0.2222222222222222, \"#7201a8\"], [0.3333333333333333, \"#9c179e\"], [0.4444444444444444, \"#bd3786\"], [0.5555555555555556, \"#d8576b\"], [0.6666666666666666, \"#ed7953\"], [0.7777777777777778, \"#fb9f3a\"], [0.8888888888888888, \"#fdca26\"], [1.0, \"#f0f921\"]], \"type\": \"surface\"}], \"table\": [{\"cells\": {\"fill\": {\"color\": \"#EBF0F8\"}, \"line\": {\"color\": \"white\"}}, \"header\": {\"fill\": {\"color\": \"#C8D4E3\"}, \"line\": {\"color\": \"white\"}}, \"type\": \"table\"}]}, \"layout\": {\"annotationdefaults\": {\"arrowcolor\": \"#2a3f5f\", \"arrowhead\": 0, \"arrowwidth\": 1}, \"autotypenumbers\": \"strict\", \"coloraxis\": {\"colorbar\": {\"outlinewidth\": 0, \"ticks\": \"\"}}, \"colorscale\": {\"diverging\": [[0, \"#8e0152\"], [0.1, \"#c51b7d\"], [0.2, \"#de77ae\"], [0.3, \"#f1b6da\"], [0.4, \"#fde0ef\"], [0.5, \"#f7f7f7\"], [0.6, \"#e6f5d0\"], [0.7, \"#b8e186\"], [0.8, \"#7fbc41\"], [0.9, \"#4d9221\"], [1, \"#276419\"]], \"sequential\": [[0.0, \"#0d0887\"], [0.1111111111111111, \"#46039f\"], [0.2222222222222222, \"#7201a8\"], [0.3333333333333333, \"#9c179e\"], [0.4444444444444444, \"#bd3786\"], [0.5555555555555556, \"#d8576b\"], [0.6666666666666666, \"#ed7953\"], [0.7777777777777778, \"#fb9f3a\"], [0.8888888888888888, \"#fdca26\"], [1.0, \"#f0f921\"]], \"sequentialminus\": [[0.0, \"#0d0887\"], [0.1111111111111111, \"#46039f\"], [0.2222222222222222, \"#7201a8\"], [0.3333333333333333, \"#9c179e\"], [0.4444444444444444, \"#bd3786\"], [0.5555555555555556, \"#d8576b\"], [0.6666666666666666, \"#ed7953\"], [0.7777777777777778, \"#fb9f3a\"], [0.8888888888888888, \"#fdca26\"], [1.0, \"#f0f921\"]]}, \"colorway\": [\"#636efa\", \"#EF553B\", \"#00cc96\", \"#ab63fa\", \"#FFA15A\", \"#19d3f3\", \"#FF6692\", \"#B6E880\", \"#FF97FF\", \"#FECB52\"], \"font\": {\"color\": \"#2a3f5f\"}, \"geo\": {\"bgcolor\": \"white\", \"lakecolor\": \"white\", \"landcolor\": \"#E5ECF6\", \"showlakes\": true, \"showland\": true, \"subunitcolor\": \"white\"}, \"hoverlabel\": {\"align\": \"left\"}, \"hovermode\": \"closest\", \"mapbox\": {\"style\": \"light\"}, \"paper_bgcolor\": \"white\", \"plot_bgcolor\": \"#E5ECF6\", \"polar\": {\"angularaxis\": {\"gridcolor\": \"white\", \"linecolor\": \"white\", \"ticks\": \"\"}, \"bgcolor\": \"#E5ECF6\", \"radialaxis\": {\"gridcolor\": \"white\", \"linecolor\": \"white\", \"ticks\": \"\"}}, \"scene\": {\"xaxis\": {\"backgroundcolor\": \"#E5ECF6\", \"gridcolor\": \"white\", \"gridwidth\": 2, \"linecolor\": \"white\", \"showbackground\": true, \"ticks\": \"\", \"zerolinecolor\": \"white\"}, \"yaxis\": {\"backgroundcolor\": \"#E5ECF6\", \"gridcolor\": \"white\", \"gridwidth\": 2, \"linecolor\": \"white\", \"showbackground\": true, \"ticks\": \"\", \"zerolinecolor\": \"white\"}, \"zaxis\": {\"backgroundcolor\": \"#E5ECF6\", \"gridcolor\": \"white\", \"gridwidth\": 2, \"linecolor\": \"white\", \"showbackground\": true, \"ticks\": \"\", \"zerolinecolor\": \"white\"}}, \"shapedefaults\": {\"line\": {\"color\": \"#2a3f5f\"}}, \"ternary\": {\"aaxis\": {\"gridcolor\": \"white\", \"linecolor\": \"white\", \"ticks\": \"\"}, \"baxis\": {\"gridcolor\": \"white\", \"linecolor\": \"white\", \"ticks\": \"\"}, \"bgcolor\": \"#E5ECF6\", \"caxis\": {\"gridcolor\": \"white\", \"linecolor\": \"white\", \"ticks\": \"\"}}, \"title\": {\"x\": 0.05}, \"xaxis\": {\"automargin\": true, \"gridcolor\": \"white\", \"linecolor\": \"white\", \"ticks\": \"\", \"title\": {\"standoff\": 15}, \"zerolinecolor\": \"white\", \"zerolinewidth\": 2}, \"yaxis\": {\"automargin\": true, \"gridcolor\": \"white\", \"linecolor\": \"white\", \"ticks\": \"\", \"title\": {\"standoff\": 15}, \"zerolinecolor\": \"white\", \"zerolinewidth\": 2}}}, \"width\": 600, \"xaxis\": {\"anchor\": \"y\", \"domain\": [0.0, 1.0], \"tickmode\": \"array\", \"ticktext\": [\"38350\", \"38350\", \"38350\", \"38450\", \"38450\", \"38450\", \"38450\", \"38550\", \"38550\", \"38550\", \"38550\", \"38650\", \"38650\", \"38650\", \"38650\", \"38750\", \"38750\", \"38750\", \"38750\", \"38850\", \"38850\", \"38850\", \"38950\", \"38950\", \"38950\", \"38950\", \"39050\", \"39050\", \"39050\", \"39150\", \"39150\", \"39150\"], \"tickvals\": [38350.0, 38350.0, 38350.0, 38450.0, 38450.0, 38450.0, 38450.0, 38550.0, 38550.0, 38550.0, 38550.0, 38650.0, 38650.0, 38650.0, 38650.0, 38750.0, 38750.0, 38750.0, 38750.0, 38850.0, 38850.0, 38850.0, 38950.0, 38950.0, 38950.0, 38950.0, 39050.0, 39050.0, 39050.0, 39150.0, 39150.0, 39150.0], \"title\": {\"text\": \"Epoch\"}}, \"yaxis\": {\"anchor\": \"x\", \"domain\": [0.0, 1.0], \"title\": {\"text\": \"Blocks produced\"}}},                        {\"responsive\": true}                    ).then(function(){\n",
       "                            \n",
       "var gd = document.getElementById('2ce550e0-4143-49f0-9ee5-f69f24bf9eb6');\n",
       "var x = new MutationObserver(function (mutations, observer) {{\n",
       "        var display = window.getComputedStyle(gd).display;\n",
       "        if (!display || display === 'none') {{\n",
       "            console.log([gd, 'removed!']);\n",
       "            Plotly.purge(gd);\n",
       "            observer.disconnect();\n",
       "        }}\n",
       "}});\n",
       "\n",
       "// Listen for the removal of the full notebook cells\n",
       "var notebookContainer = gd.closest('#notebook-container');\n",
       "if (notebookContainer) {{\n",
       "    x.observe(notebookContainer, {childList: true});\n",
       "}}\n",
       "\n",
       "// Listen for the clearing of the current output cell\n",
       "var outputEl = gd.closest('.output');\n",
       "if (outputEl) {{\n",
       "    x.observe(outputEl, {childList: true});\n",
       "}}\n",
       "\n",
       "                        })                };                });            </script>        </div>"
      ]
     },
     "metadata": {},
     "output_type": "display_data"
    }
   ],
   "source": [
    "bucket_size = 100\n",
    "df[\"bucket\"] = np.floor_divide(df[\"epoch\"], bucket_size)\n",
    "df[\"n_bxs\"] = 1\n",
    "df_bucket = df[[\"bucket\", \"block_count\", \"n_bxs\"]].groupby([\"bucket\", \"block_count\"]).sum(\"n_bxs\").reset_index()\n",
    "df_bucket[\"epoch\"] = df_bucket[\"bucket\"] * bucket_size + bucket_size / 2.0\n",
    "\n",
    "fig = px.scatter(df_bucket, x = 'epoch', y = 'block_count', size = 'n_bxs', width=600, height=400, labels={ \"block_count\": \"Blocks produced\", \"epoch\": \"Epoch\", \"n_bxs\": \"Count\" })\n",
    "fig.update_layout(xaxis=dict(\n",
    "    tickmode = 'array',\n",
    "    tickvals = df_bucket['epoch'],\n",
    "    ticktext = [str(int(s)) for s in df_bucket['epoch']]\n",
    "))"
   ]
  },
  {
   "cell_type": "code",
   "execution_count": 9,
   "metadata": {},
   "outputs": [
    {
     "name": "stdout",
     "output_type": "stream",
     "text": [
      "frequncy table for first 200  epochs in this range\n",
      "col_0        count\n",
      "block_count       \n",
      "29               1\n",
      "30               9\n",
      "31              30\n",
      "32             160\n",
      "frequncy table for second 200  epochs in this range\n",
      "col_0        count\n",
      "block_count       \n",
      "29               2\n",
      "30               9\n",
      "31              33\n",
      "32             156\n",
      "frequncy table for third 200  epochs in this range\n",
      "col_0        count\n",
      "block_count       \n",
      "28               1\n",
      "29               2\n",
      "30               6\n",
      "31              50\n",
      "32             141\n",
      "frequncy table for fourth 200  epochs in this range\n",
      "col_0        count\n",
      "block_count       \n",
      "30              12\n",
      "31              47\n",
      "32             142\n"
     ]
    }
   ],
   "source": [
    "print(\"frequncy table for first 200  epochs in this range\")\n",
    "print(pd.crosstab(index=df['block_count'][0:200], columns='count'))\n",
    "print(\"frequncy table for second 200  epochs in this range\")\n",
    "print(pd.crosstab(index=df['block_count'][200:400], columns='count'))\n",
    "print(\"frequncy table for third 200  epochs in this range\")\n",
    "print(pd.crosstab(index=df['block_count'][400:600], columns='count'))\n",
    "print(\"frequncy table for fourth 200  epochs in this range\")\n",
    "print(pd.crosstab(index=df['block_count'][600:801], columns='count'))"
   ]
  },
  {
   "cell_type": "markdown",
   "metadata": {},
   "source": [
    "We thus see that the number of blocks produced is between 31-32 for most epochs, indicating an overall healthy network.\n",
    "\n",
    "However, they were around 5 epochs for which this value fell to 29 and one epoch (at around 38900) for which this value fell down to 28. But all in all a minimum value of 28 for this metric is a sign of an overall well performing network of validators. "
   ]
  },
  {
   "cell_type": "markdown",
   "metadata": {},
   "source": [
    "## Participation rate"
   ]
  },
  {
   "cell_type": "markdown",
   "metadata": {},
   "source": [
    "In the Ethereum Proof-of-Stake protocol, every validator is expected to submit their attestation once every epoch. However, they might be many different reasons because of which validators might fail to do so, such as validators going offline for long periods of time.\n",
    "\n",
    "The network participation rate can be defined as the percentage of staked ether which sends in their attestations in a timely manner when called to do so. This is a very important metric with a high value indicating that the network is healthy and a low value hinting at a range of issues form software bugs to latency issues.\n",
    "\n",
    "This [blog post](https://pintail.xyz/posts/medalla-validator-taxonomy) by [pintail](https://twitter.com/pintail_xyz) lists some reasons for which the network participation rate might be low. \n",
    "\n",
    "We now look at the network participation statistics for this range of epochs. In our dataset, percentages are represented as fractions. "
   ]
  },
  {
   "cell_type": "code",
   "execution_count": 10,
   "metadata": {},
   "outputs": [
    {
     "data": {
      "application/vnd.plotly.v1+json": {
       "config": {
        "plotlyServerURL": "https://plot.ly"
       },
       "data": [
        {
         "hovertemplate": "x=%{x}<br>y=%{y}<extra></extra>",
         "legendgroup": "",
         "line": {
          "color": "#636efa",
          "dash": "solid"
         },
         "mode": "lines",
         "name": "",
         "orientation": "v",
         "showlegend": false,
         "type": "scatter",
         "x": [
          38320,
          38321,
          38322,
          38323,
          38324,
          38325,
          38326,
          38327,
          38328,
          38329,
          38330,
          38331,
          38332,
          38333,
          38334,
          38335,
          38336,
          38337,
          38338,
          38339,
          38340,
          38341,
          38342,
          38343,
          38344,
          38345,
          38346,
          38347,
          38348,
          38349,
          38350,
          38351,
          38352,
          38353,
          38354,
          38355,
          38356,
          38357,
          38358,
          38359,
          38360,
          38361,
          38362,
          38363,
          38364,
          38365,
          38366,
          38367,
          38368,
          38369,
          38370,
          38371,
          38372,
          38373,
          38374,
          38375,
          38376,
          38377,
          38378,
          38379,
          38380,
          38381,
          38382,
          38383,
          38384,
          38385,
          38386,
          38387,
          38388,
          38389,
          38390,
          38391,
          38392,
          38393,
          38394,
          38395,
          38396,
          38397,
          38398,
          38399,
          38400,
          38401,
          38402,
          38403,
          38404,
          38405,
          38406,
          38407,
          38408,
          38409,
          38410,
          38411,
          38412,
          38413,
          38414,
          38415,
          38416,
          38417,
          38418,
          38419,
          38420,
          38421,
          38422,
          38423,
          38424,
          38425,
          38426,
          38427,
          38428,
          38429,
          38430,
          38431,
          38432,
          38433,
          38434,
          38435,
          38436,
          38437,
          38438,
          38439,
          38440,
          38441,
          38442,
          38443,
          38444,
          38445,
          38446,
          38447,
          38448,
          38449,
          38450,
          38451,
          38452,
          38453,
          38454,
          38455,
          38456,
          38457,
          38458,
          38459,
          38460,
          38461,
          38462,
          38463,
          38464,
          38465,
          38466,
          38467,
          38468,
          38469,
          38470,
          38471,
          38472,
          38473,
          38474,
          38475,
          38476,
          38477,
          38478,
          38479,
          38480,
          38481,
          38482,
          38483,
          38484,
          38485,
          38486,
          38487,
          38488,
          38489,
          38490,
          38491,
          38492,
          38493,
          38494,
          38495,
          38496,
          38497,
          38498,
          38499,
          38500,
          38501,
          38502,
          38503,
          38504,
          38505,
          38506,
          38507,
          38508,
          38509,
          38510,
          38511,
          38512,
          38513,
          38514,
          38515,
          38516,
          38517,
          38518,
          38519,
          38520,
          38521,
          38522,
          38523,
          38524,
          38525,
          38526,
          38527,
          38528,
          38529,
          38530,
          38531,
          38532,
          38533,
          38534,
          38535,
          38536,
          38537,
          38538,
          38539,
          38540,
          38541,
          38542,
          38543,
          38544,
          38545,
          38546,
          38547,
          38548,
          38549,
          38550,
          38551,
          38552,
          38553,
          38554,
          38555,
          38556,
          38557,
          38558,
          38559,
          38560,
          38561,
          38562,
          38563,
          38564,
          38565,
          38566,
          38567,
          38568,
          38569,
          38570,
          38571,
          38572,
          38573,
          38574,
          38575,
          38576,
          38577,
          38578,
          38579,
          38580,
          38581,
          38582,
          38583,
          38584,
          38585,
          38586,
          38587,
          38588,
          38589,
          38590,
          38591,
          38592,
          38593,
          38594,
          38595,
          38596,
          38597,
          38598,
          38599,
          38600,
          38601,
          38602,
          38603,
          38604,
          38605,
          38606,
          38607,
          38608,
          38609,
          38610,
          38611,
          38612,
          38613,
          38614,
          38615,
          38616,
          38617,
          38618,
          38619,
          38620,
          38621,
          38622,
          38623,
          38624,
          38625,
          38626,
          38627,
          38628,
          38629,
          38630,
          38631,
          38632,
          38633,
          38634,
          38635,
          38636,
          38637,
          38638,
          38639,
          38640,
          38641,
          38642,
          38643,
          38644,
          38645,
          38646,
          38647,
          38648,
          38649,
          38650,
          38651,
          38652,
          38653,
          38654,
          38655,
          38656,
          38657,
          38658,
          38659,
          38660,
          38661,
          38662,
          38663,
          38664,
          38665,
          38666,
          38667,
          38668,
          38669,
          38670,
          38671,
          38672,
          38673,
          38674,
          38675,
          38676,
          38677,
          38678,
          38679,
          38680,
          38681,
          38682,
          38683,
          38684,
          38685,
          38686,
          38687,
          38688,
          38689,
          38690,
          38691,
          38692,
          38693,
          38694,
          38695,
          38696,
          38697,
          38698,
          38699,
          38700,
          38701,
          38702,
          38703,
          38704,
          38705,
          38706,
          38707,
          38708,
          38709,
          38710,
          38711,
          38712,
          38713,
          38714,
          38715,
          38716,
          38717,
          38718,
          38719,
          38720,
          38721,
          38722,
          38723,
          38724,
          38725,
          38726,
          38727,
          38728,
          38729,
          38730,
          38731,
          38732,
          38733,
          38734,
          38735,
          38736,
          38737,
          38738,
          38739,
          38740,
          38741,
          38742,
          38743,
          38744,
          38745,
          38746,
          38747,
          38748,
          38749,
          38750,
          38751,
          38752,
          38753,
          38754,
          38755,
          38756,
          38757,
          38758,
          38759,
          38760,
          38761,
          38762,
          38763,
          38764,
          38765,
          38766,
          38767,
          38768,
          38769,
          38770,
          38771,
          38772,
          38773,
          38774,
          38775,
          38776,
          38777,
          38778,
          38779,
          38780,
          38781,
          38782,
          38783,
          38784,
          38785,
          38786,
          38787,
          38788,
          38789,
          38790,
          38791,
          38792,
          38793,
          38794,
          38795,
          38796,
          38797,
          38798,
          38799,
          38800,
          38801,
          38802,
          38803,
          38804,
          38805,
          38806,
          38807,
          38808,
          38809,
          38810,
          38811,
          38812,
          38813,
          38814,
          38815,
          38816,
          38817,
          38818,
          38819,
          38820,
          38821,
          38822,
          38823,
          38824,
          38825,
          38826,
          38827,
          38828,
          38829,
          38830,
          38831,
          38832,
          38833,
          38834,
          38835,
          38836,
          38837,
          38838,
          38839,
          38840,
          38841,
          38842,
          38843,
          38844,
          38845,
          38846,
          38847,
          38848,
          38849,
          38850,
          38851,
          38852,
          38853,
          38854,
          38855,
          38856,
          38857,
          38858,
          38859,
          38860,
          38861,
          38862,
          38863,
          38864,
          38865,
          38866,
          38867,
          38868,
          38869,
          38870,
          38871,
          38872,
          38873,
          38874,
          38875,
          38876,
          38877,
          38878,
          38879,
          38880,
          38881,
          38882,
          38883,
          38884,
          38885,
          38886,
          38887,
          38888,
          38889,
          38890,
          38891,
          38892,
          38893,
          38894,
          38895,
          38896,
          38897,
          38898,
          38899,
          38900,
          38901,
          38902,
          38903,
          38904,
          38905,
          38906,
          38907,
          38908,
          38909,
          38910,
          38911,
          38912,
          38913,
          38914,
          38915,
          38916,
          38917,
          38918,
          38919,
          38920,
          38921,
          38922,
          38923,
          38924,
          38925,
          38926,
          38927,
          38928,
          38929,
          38930,
          38931,
          38932,
          38933,
          38934,
          38935,
          38936,
          38937,
          38938,
          38939,
          38940,
          38941,
          38942,
          38943,
          38944,
          38945,
          38946,
          38947,
          38948,
          38949,
          38950,
          38951,
          38952,
          38953,
          38954,
          38955,
          38956,
          38957,
          38958,
          38959,
          38960,
          38961,
          38962,
          38963,
          38964,
          38965,
          38966,
          38967,
          38968,
          38969,
          38970,
          38971,
          38972,
          38973,
          38974,
          38975,
          38976,
          38977,
          38978,
          38979,
          38980,
          38981,
          38982,
          38983,
          38984,
          38985,
          38986,
          38987,
          38988,
          38989,
          38990,
          38991,
          38992,
          38993,
          38994,
          38995,
          38996,
          38997,
          38998,
          38999,
          39000,
          39001,
          39002,
          39003,
          39004,
          39005,
          39006,
          39007,
          39008,
          39009,
          39010,
          39011,
          39012,
          39013,
          39014,
          39015,
          39016,
          39017,
          39018,
          39019,
          39020,
          39021,
          39022,
          39023,
          39024,
          39025,
          39026,
          39027,
          39028,
          39029,
          39030,
          39031,
          39032,
          39033,
          39034,
          39035,
          39036,
          39037,
          39038,
          39039,
          39040,
          39041,
          39042,
          39043,
          39044,
          39045,
          39046,
          39047,
          39048,
          39049,
          39050,
          39051,
          39052,
          39053,
          39054,
          39055,
          39056,
          39057,
          39058,
          39059,
          39060,
          39061,
          39062,
          39063,
          39064,
          39065,
          39066,
          39067,
          39068,
          39069,
          39070,
          39071,
          39072,
          39073,
          39074,
          39075,
          39076,
          39077,
          39078,
          39079,
          39080,
          39081,
          39082,
          39083,
          39084,
          39085,
          39086,
          39087,
          39088,
          39089,
          39090,
          39091,
          39092,
          39093,
          39094,
          39095,
          39096,
          39097,
          39098,
          39099,
          39100,
          39101,
          39102,
          39103,
          39104,
          39105,
          39106,
          39107,
          39108,
          39109,
          39110,
          39111,
          39112,
          39113,
          39114,
          39115,
          39116,
          39117,
          39118,
          39119,
          39120
         ],
         "xaxis": "x",
         "y": [
          0.994737864,
          0.993109763,
          0.995255232,
          0.993417561,
          0.995465159,
          0.995101929,
          0.99539572,
          0.995199978,
          0.995731294,
          0.994955957,
          0.993272364,
          0.970377147,
          0.964970231,
          0.987984121,
          0.994677246,
          0.995145261,
          0.995061457,
          0.985226035,
          0.995033979,
          0.996382177,
          0.989557922,
          0.995872617,
          0.991360784,
          0.979724944,
          0.996675968,
          0.996403635,
          0.996327221,
          0.996117592,
          0.996222317,
          0.996718407,
          0.996432245,
          0.996865332,
          0.997242451,
          0.996229887,
          0.995922863,
          0.967960298,
          0.996816695,
          0.995825648,
          0.996342182,
          0.996272445,
          0.995672166,
          0.995777011,
          0.995853841,
          0.99317348,
          0.996475577,
          0.995979846,
          0.994340062,
          0.99648267,
          0.996001124,
          0.99567318,
          0.99639219,
          0.994326651,
          0.996392429,
          0.995108485,
          0.996008873,
          0.981864274,
          0.99512285,
          0.995737016,
          0.996246576,
          0.996435046,
          0.995828092,
          0.99209547,
          0.992953897,
          0.995563686,
          0.995800674,
          0.993714869,
          0.996170759,
          0.994664133,
          0.99589175,
          0.996317387,
          0.994071782,
          0.99651289,
          0.996485114,
          0.995662153,
          0.994365096,
          0.984587312,
          0.995062828,
          0.991973758,
          0.99587208,
          0.965195835,
          0.995349228,
          0.995544612,
          0.995028794,
          0.991668046,
          0.982590139,
          0.995754242,
          0.996939659,
          0.996598065,
          0.996793509,
          0.996960819,
          0.996465981,
          0.996452153,
          0.970610857,
          0.996884465,
          0.99230504,
          0.989468217,
          0.996599019,
          0.995037794,
          0.996822238,
          0.996668875,
          0.996585369,
          0.974716246,
          0.995756269,
          0.996320963,
          0.996327996,
          0.992147207,
          0.997275949,
          0.99589622,
          0.996182382,
          0.997025192,
          0.997101963,
          0.996056914,
          0.99647516,
          0.995966673,
          0.997443676,
          0.996628881,
          0.966242015,
          0.995660543,
          0.996280551,
          0.965806246,
          0.969519675,
          0.99206692,
          0.990994573,
          0.988772988,
          0.995605648,
          0.990612268,
          0.995647728,
          0.996044874,
          0.995508611,
          0.99669981,
          0.996922731,
          0.996017635,
          0.995321512,
          0.995523453,
          0.990385354,
          0.995983183,
          0.99661696,
          0.996025324,
          0.994486749,
          0.994765162,
          0.995719075,
          0.995357215,
          0.994890809,
          0.995357394,
          0.994132459,
          0.967967749,
          0.996367037,
          0.994480908,
          0.99025631,
          0.991780877,
          0.992205501,
          0.996785462,
          0.995497704,
          0.994085193,
          0.997195959,
          0.996875942,
          0.995421767,
          0.99682045,
          0.99593693,
          0.995985746,
          0.997015536,
          0.996869564,
          0.997266173,
          0.996779263,
          0.995269656,
          0.991506279,
          0.994316816,
          0.997489095,
          0.990227044,
          0.991465449,
          0.996557355,
          0.996884465,
          0.997065544,
          0.996223927,
          0.995180607,
          0.99635613,
          0.995048702,
          0.965415955,
          0.993595719,
          0.994388759,
          0.952943563,
          0.981767833,
          0.9911834,
          0.993798077,
          0.993374288,
          0.995272398,
          0.992352605,
          0.990753651,
          0.96364671,
          0.964454174,
          0.993813157,
          0.993827283,
          0.993021369,
          0.992965698,
          0.991533995,
          0.99190253,
          0.991889119,
          0.994467735,
          0.994377613,
          0.986649275,
          0.9951635,
          0.995066106,
          0.994322479,
          0.995003819,
          0.994288266,
          0.99499017,
          0.968507946,
          0.99485147,
          0.992996275,
          0.995324254,
          0.970144629,
          0.995282769,
          0.975815356,
          0.99580431,
          0.996450603,
          0.991927803,
          0.996374309,
          0.996325612,
          0.966191351,
          0.994401574,
          0.994589627,
          0.996305168,
          0.996694267,
          0.996326208,
          0.995972097,
          0.996583343,
          0.995291948,
          0.995354414,
          0.977111042,
          0.995431006,
          0.995535374,
          0.995653629,
          0.995140016,
          0.994917631,
          0.968296468,
          0.995723546,
          0.990835547,
          0.986843526,
          0.994883657,
          0.994932473,
          0.994780004,
          0.994460583,
          0.991510391,
          0.995030403,
          0.994079292,
          0.99464196,
          0.992615104,
          0.99387157,
          0.991560459,
          0.99314332,
          0.993733525,
          0.994746685,
          0.994351208,
          0.994108558,
          0.99465692,
          0.991458178,
          0.993068039,
          0.993748367,
          0.964313865,
          0.993491888,
          0.993756056,
          0.993471384,
          0.994561017,
          0.993638694,
          0.986548185,
          0.9894346,
          0.993160367,
          0.994138598,
          0.995359838,
          0.992238402,
          0.986612916,
          0.993771613,
          0.991607904,
          0.992995083,
          0.988785505,
          0.991948247,
          0.990006447,
          0.992344141,
          0.993543983,
          0.993634284,
          0.993710935,
          0.99416852,
          0.994439185,
          0.99429369,
          0.963278711,
          0.967502534,
          0.990799904,
          0.984192729,
          0.989884973,
          0.995251656,
          0.995078146,
          0.994191229,
          0.994003892,
          0.991051257,
          0.992389202,
          0.995494843,
          0.992140055,
          0.99504447,
          0.993769526,
          0.993512928,
          0.993644893,
          0.99369365,
          0.994733274,
          0.995336652,
          0.99445641,
          0.988781035,
          0.994248867,
          0.993272158,
          0.992710888,
          0.992198348,
          0.991152525,
          0.992843091,
          0.994762659,
          0.99428463,
          0.994194686,
          0.994721353,
          0.970730782,
          0.993869841,
          0.993696868,
          0.993634641,
          0.987968385,
          0.990967929,
          0.985898435,
          0.991758287,
          0.991266727,
          0.994314253,
          0.989216924,
          0.992022097,
          0.992583513,
          0.992292702,
          0.99140656,
          0.993020177,
          0.991338015,
          0.993138254,
          0.993055344,
          0.992397964,
          0.99332583,
          0.992952228,
          0.990840673,
          0.992828071,
          0.985316694,
          0.966327548,
          0.994268537,
          0.994815469,
          0.995251715,
          0.992372155,
          0.993625581,
          0.978079081,
          0.995868266,
          0.99469173,
          0.995556951,
          0.995259821,
          0.995986342,
          0.996263266,
          0.995924234,
          0.991502345,
          0.995101094,
          0.99535048,
          0.993585885,
          0.994866431,
          0.996222556,
          0.990466237,
          0.994845808,
          0.995302618,
          0.994562447,
          0.995676517,
          0.995752633,
          0.996015668,
          0.997025847,
          0.996700704,
          0.995974541,
          0.995365858,
          0.982825994,
          0.987066269,
          0.991361797,
          0.991306782,
          0.991451919,
          0.994315743,
          0.99002111,
          0.994094431,
          0.994468093,
          0.993624747,
          0.994136691,
          0.994184971,
          0.993811846,
          0.993646145,
          0.994282365,
          0.993784726,
          0.992948472,
          0.993273437,
          0.973984718,
          0.993453503,
          0.993211687,
          0.963195801,
          0.993384898,
          0.983956516,
          0.991823137,
          0.992466271,
          0.99290204,
          0.991568208,
          0.98675102,
          0.989592016,
          0.985182881,
          0.990705252,
          0.966759264,
          0.989973247,
          0.993905425,
          0.993111014,
          0.994658887,
          0.993249595,
          0.990202665,
          0.993761182,
          0.994051456,
          0.994031012,
          0.995025933,
          0.994051993,
          0.994162917,
          0.993078232,
          0.95688647,
          0.989106476,
          0.993838847,
          0.994598567,
          0.994198203,
          0.99531734,
          0.965092421,
          0.99596709,
          0.996160507,
          0.996188045,
          0.996015429,
          0.991906703,
          0.995511651,
          0.995125115,
          0.996057689,
          0.995857239,
          0.964473665,
          0.991673112,
          0.994559467,
          0.990334153,
          0.979294181,
          0.991757095,
          0.970769048,
          0.994139075,
          0.977384448,
          0.994042993,
          0.995451391,
          0.96464318,
          0.993781209,
          0.985380828,
          0.993519247,
          0.994029999,
          0.994561553,
          0.993878543,
          0.994071841,
          0.994216979,
          0.994817555,
          0.994645298,
          0.99453491,
          0.99434185,
          0.991271496,
          0.994079888,
          0.992900074,
          0.990865052,
          0.994970739,
          0.994611919,
          0.994984746,
          0.994508803,
          0.993722618,
          0.992873907,
          0.982698679,
          0.99267441,
          0.993543684,
          0.992502153,
          0.993757784,
          0.994034171,
          0.996344745,
          0.995524168,
          0.968887627,
          0.996193349,
          0.993469298,
          0.994276285,
          0.994572997,
          0.995835304,
          0.995593846,
          0.996221721,
          0.995766699,
          0.994139373,
          0.965641677,
          0.993257284,
          0.994305253,
          0.994236708,
          0.961315572,
          0.991292953,
          0.991844773,
          0.991679728,
          0.992776036,
          0.992141783,
          0.992438614,
          0.993493319,
          0.991728842,
          0.992363274,
          0.992625535,
          0.991123021,
          0.991088808,
          0.993363619,
          0.993556678,
          0.993687809,
          0.994108498,
          0.993777573,
          0.993309379,
          0.989574552,
          0.992923737,
          0.981168687,
          0.993317068,
          0.992538691,
          0.992765903,
          0.991677582,
          0.965738773,
          0.993069947,
          0.992835701,
          0.993180335,
          0.992829204,
          0.99258852,
          0.96349901,
          0.992485404,
          0.992526829,
          0.992286146,
          0.991494298,
          0.991756141,
          0.992493331,
          0.991563976,
          0.992604017,
          0.992377281,
          0.991309941,
          0.986758053,
          0.993569016,
          0.99311471,
          0.99362427,
          0.992378175,
          0.994402587,
          0.99434793,
          0.993762851,
          0.994169176,
          0.993583977,
          0.994196892,
          0.993770242,
          0.993983865,
          0.993130565,
          0.993261337,
          0.993509471,
          0.99388808,
          0.992924631,
          0.993455052,
          0.992168188,
          0.994109213,
          0.993937314,
          0.993379831,
          0.99146682,
          0.994453907,
          0.993077517,
          0.993422091,
          0.991371334,
          0.9922387,
          0.992644787,
          0.989934087,
          0.986824393,
          0.977715313,
          0.991269708,
          0.987451553,
          0.967989326,
          0.993148625,
          0.992784202,
          0.9933002,
          0.993080437,
          0.99151212,
          0.991030812,
          0.990900636,
          0.990976334,
          0.991306841,
          0.991416931,
          0.991087079,
          0.991053164,
          0.990750492,
          0.973592877,
          0.99133563,
          0.991755366,
          0.993172288,
          0.992993653,
          0.992299259,
          0.99044323,
          0.993179739,
          0.993076801,
          0.990987122,
          0.991386116,
          0.963900208,
          0.989482105,
          0.976152658,
          0.988279879,
          0.992273808,
          0.989345908,
          0.978629768,
          0.991140723,
          0.992866039,
          0.993127406,
          0.989890337,
          0.993203402,
          0.99351263,
          0.992461264,
          0.992221296,
          0.993306994,
          0.978876114,
          0.992441475,
          0.99306041,
          0.993733704,
          0.99323231,
          0.994070768,
          0.968916953,
          0.993171096,
          0.963896394,
          0.994167805,
          0.994380832,
          0.992635906,
          0.993309379,
          0.984716058,
          0.993165731,
          0.989724457,
          0.984346211,
          0.984010279,
          0.984374523,
          0.984100223,
          0.983462095,
          0.953785956,
          0.984259486,
          0.968615532,
          0.983566761,
          0.982138813,
          0.990324855,
          0.992508948,
          0.992612123,
          0.993264496,
          0.992763579,
          0.993052006,
          0.96466881,
          0.993388951,
          0.992008865,
          0.992187858,
          0.994021118,
          0.993932009,
          0.993307292,
          0.99126184,
          0.990548193,
          0.989738524,
          0.990280926,
          0.990027308,
          0.989897072,
          0.972073317,
          0.991709828,
          0.961553574,
          0.962879241,
          0.992396593,
          0.992836058,
          0.981355667,
          0.99285692,
          0.993173003,
          0.993845403,
          0.993331015,
          0.993976295,
          0.973866522,
          0.993969798,
          0.993935466,
          0.992728233,
          0.994443476,
          0.992447555,
          0.993942916,
          0.993901968,
          0.994711697,
          0.994444251,
          0.994067192,
          0.994423985,
          0.993971407,
          0.99404037,
          0.994726479,
          0.993745923,
          0.993210852,
          0.994404376,
          0.993218005,
          0.993643403,
          0.987266123,
          0.99363029,
          0.992828071,
          0.993877292,
          0.993685484,
          0.993308663,
          0.98759073,
          0.993884861,
          0.993926108,
          0.992623866,
          0.99350822,
          0.993213654,
          0.992967248,
          0.993097484,
          0.993392467,
          0.992830515,
          0.992899358,
          0.987340689,
          0.993091524,
          0.993297458,
          0.989542007,
          0.992900431,
          0.992454946,
          0.992612839,
          0.993504047,
          0.993031263,
          0.992633998,
          0.993634582,
          0.992442548,
          0.990277648,
          0.993477523,
          0.993025601,
          0.992744744,
          0.991998494,
          0.962128222,
          0.99241662,
          0.991532981,
          0.992965043,
          0.979942918,
          0.99336952,
          0.992582023,
          0.992869854,
          0.993733287,
          0.994294941,
          0.993699193,
          0.993617415,
          0.993412137,
          0.992816567,
          0.994042277,
          0.991926432,
          0.990344822,
          0.993851244,
          0.994111717,
          0.993865323,
          0.993214846,
          0.993591487,
          0.993543744,
          0.99429059,
          0.993770242,
          0.994030476,
          0.990840197,
          0.992285013,
          0.994058549,
          0.99338764,
          0.993627369,
          0.986289442,
          0.993511617,
          0.994380772,
          0.990869641,
          0.993498504,
          0.992663562,
          0.992821038,
          0.992567956,
          0.991486907,
          0.993745565,
          0.993704498,
          0.993869185,
          0.99315083,
          0.992487073,
          0.988614321,
          0.990284204,
          0.990517139,
          0.989840031,
          0.991523683,
          0.990134895,
          0.98980689,
          0.990005314,
          0.990026355,
          0.990238488,
          0.991100669,
          0.992051959,
          0.962275922,
          0.991689861,
          0.990930617,
          0.991957009,
          0.988044858,
          0.992183149,
          0.992470443,
          0.992552936,
          0.987895608,
          0.991534293,
          0.983895898,
          0.982015789,
          0.981100142,
          0.993572772,
          0.993785143,
          0.990325511,
          0.990694821,
          0.992390573,
          0.993635237,
          0.993792534,
          0.993458033,
          0.993136942,
          0.994545102,
          0.994682074
         ],
         "yaxis": "y"
        }
       ],
       "layout": {
        "autosize": true,
        "legend": {
         "tracegroupgap": 0
        },
        "margin": {
         "t": 60
        },
        "template": {
         "data": {
          "bar": [
           {
            "error_x": {
             "color": "#2a3f5f"
            },
            "error_y": {
             "color": "#2a3f5f"
            },
            "marker": {
             "line": {
              "color": "#E5ECF6",
              "width": 0.5
             }
            },
            "type": "bar"
           }
          ],
          "barpolar": [
           {
            "marker": {
             "line": {
              "color": "#E5ECF6",
              "width": 0.5
             }
            },
            "type": "barpolar"
           }
          ],
          "carpet": [
           {
            "aaxis": {
             "endlinecolor": "#2a3f5f",
             "gridcolor": "white",
             "linecolor": "white",
             "minorgridcolor": "white",
             "startlinecolor": "#2a3f5f"
            },
            "baxis": {
             "endlinecolor": "#2a3f5f",
             "gridcolor": "white",
             "linecolor": "white",
             "minorgridcolor": "white",
             "startlinecolor": "#2a3f5f"
            },
            "type": "carpet"
           }
          ],
          "choropleth": [
           {
            "colorbar": {
             "outlinewidth": 0,
             "ticks": ""
            },
            "type": "choropleth"
           }
          ],
          "contour": [
           {
            "colorbar": {
             "outlinewidth": 0,
             "ticks": ""
            },
            "colorscale": [
             [
              0,
              "#0d0887"
             ],
             [
              0.1111111111111111,
              "#46039f"
             ],
             [
              0.2222222222222222,
              "#7201a8"
             ],
             [
              0.3333333333333333,
              "#9c179e"
             ],
             [
              0.4444444444444444,
              "#bd3786"
             ],
             [
              0.5555555555555556,
              "#d8576b"
             ],
             [
              0.6666666666666666,
              "#ed7953"
             ],
             [
              0.7777777777777778,
              "#fb9f3a"
             ],
             [
              0.8888888888888888,
              "#fdca26"
             ],
             [
              1,
              "#f0f921"
             ]
            ],
            "type": "contour"
           }
          ],
          "contourcarpet": [
           {
            "colorbar": {
             "outlinewidth": 0,
             "ticks": ""
            },
            "type": "contourcarpet"
           }
          ],
          "heatmap": [
           {
            "colorbar": {
             "outlinewidth": 0,
             "ticks": ""
            },
            "colorscale": [
             [
              0,
              "#0d0887"
             ],
             [
              0.1111111111111111,
              "#46039f"
             ],
             [
              0.2222222222222222,
              "#7201a8"
             ],
             [
              0.3333333333333333,
              "#9c179e"
             ],
             [
              0.4444444444444444,
              "#bd3786"
             ],
             [
              0.5555555555555556,
              "#d8576b"
             ],
             [
              0.6666666666666666,
              "#ed7953"
             ],
             [
              0.7777777777777778,
              "#fb9f3a"
             ],
             [
              0.8888888888888888,
              "#fdca26"
             ],
             [
              1,
              "#f0f921"
             ]
            ],
            "type": "heatmap"
           }
          ],
          "heatmapgl": [
           {
            "colorbar": {
             "outlinewidth": 0,
             "ticks": ""
            },
            "colorscale": [
             [
              0,
              "#0d0887"
             ],
             [
              0.1111111111111111,
              "#46039f"
             ],
             [
              0.2222222222222222,
              "#7201a8"
             ],
             [
              0.3333333333333333,
              "#9c179e"
             ],
             [
              0.4444444444444444,
              "#bd3786"
             ],
             [
              0.5555555555555556,
              "#d8576b"
             ],
             [
              0.6666666666666666,
              "#ed7953"
             ],
             [
              0.7777777777777778,
              "#fb9f3a"
             ],
             [
              0.8888888888888888,
              "#fdca26"
             ],
             [
              1,
              "#f0f921"
             ]
            ],
            "type": "heatmapgl"
           }
          ],
          "histogram": [
           {
            "marker": {
             "colorbar": {
              "outlinewidth": 0,
              "ticks": ""
             }
            },
            "type": "histogram"
           }
          ],
          "histogram2d": [
           {
            "colorbar": {
             "outlinewidth": 0,
             "ticks": ""
            },
            "colorscale": [
             [
              0,
              "#0d0887"
             ],
             [
              0.1111111111111111,
              "#46039f"
             ],
             [
              0.2222222222222222,
              "#7201a8"
             ],
             [
              0.3333333333333333,
              "#9c179e"
             ],
             [
              0.4444444444444444,
              "#bd3786"
             ],
             [
              0.5555555555555556,
              "#d8576b"
             ],
             [
              0.6666666666666666,
              "#ed7953"
             ],
             [
              0.7777777777777778,
              "#fb9f3a"
             ],
             [
              0.8888888888888888,
              "#fdca26"
             ],
             [
              1,
              "#f0f921"
             ]
            ],
            "type": "histogram2d"
           }
          ],
          "histogram2dcontour": [
           {
            "colorbar": {
             "outlinewidth": 0,
             "ticks": ""
            },
            "colorscale": [
             [
              0,
              "#0d0887"
             ],
             [
              0.1111111111111111,
              "#46039f"
             ],
             [
              0.2222222222222222,
              "#7201a8"
             ],
             [
              0.3333333333333333,
              "#9c179e"
             ],
             [
              0.4444444444444444,
              "#bd3786"
             ],
             [
              0.5555555555555556,
              "#d8576b"
             ],
             [
              0.6666666666666666,
              "#ed7953"
             ],
             [
              0.7777777777777778,
              "#fb9f3a"
             ],
             [
              0.8888888888888888,
              "#fdca26"
             ],
             [
              1,
              "#f0f921"
             ]
            ],
            "type": "histogram2dcontour"
           }
          ],
          "mesh3d": [
           {
            "colorbar": {
             "outlinewidth": 0,
             "ticks": ""
            },
            "type": "mesh3d"
           }
          ],
          "parcoords": [
           {
            "line": {
             "colorbar": {
              "outlinewidth": 0,
              "ticks": ""
             }
            },
            "type": "parcoords"
           }
          ],
          "pie": [
           {
            "automargin": true,
            "type": "pie"
           }
          ],
          "scatter": [
           {
            "marker": {
             "colorbar": {
              "outlinewidth": 0,
              "ticks": ""
             }
            },
            "type": "scatter"
           }
          ],
          "scatter3d": [
           {
            "line": {
             "colorbar": {
              "outlinewidth": 0,
              "ticks": ""
             }
            },
            "marker": {
             "colorbar": {
              "outlinewidth": 0,
              "ticks": ""
             }
            },
            "type": "scatter3d"
           }
          ],
          "scattercarpet": [
           {
            "marker": {
             "colorbar": {
              "outlinewidth": 0,
              "ticks": ""
             }
            },
            "type": "scattercarpet"
           }
          ],
          "scattergeo": [
           {
            "marker": {
             "colorbar": {
              "outlinewidth": 0,
              "ticks": ""
             }
            },
            "type": "scattergeo"
           }
          ],
          "scattergl": [
           {
            "marker": {
             "colorbar": {
              "outlinewidth": 0,
              "ticks": ""
             }
            },
            "type": "scattergl"
           }
          ],
          "scattermapbox": [
           {
            "marker": {
             "colorbar": {
              "outlinewidth": 0,
              "ticks": ""
             }
            },
            "type": "scattermapbox"
           }
          ],
          "scatterpolar": [
           {
            "marker": {
             "colorbar": {
              "outlinewidth": 0,
              "ticks": ""
             }
            },
            "type": "scatterpolar"
           }
          ],
          "scatterpolargl": [
           {
            "marker": {
             "colorbar": {
              "outlinewidth": 0,
              "ticks": ""
             }
            },
            "type": "scatterpolargl"
           }
          ],
          "scatterternary": [
           {
            "marker": {
             "colorbar": {
              "outlinewidth": 0,
              "ticks": ""
             }
            },
            "type": "scatterternary"
           }
          ],
          "surface": [
           {
            "colorbar": {
             "outlinewidth": 0,
             "ticks": ""
            },
            "colorscale": [
             [
              0,
              "#0d0887"
             ],
             [
              0.1111111111111111,
              "#46039f"
             ],
             [
              0.2222222222222222,
              "#7201a8"
             ],
             [
              0.3333333333333333,
              "#9c179e"
             ],
             [
              0.4444444444444444,
              "#bd3786"
             ],
             [
              0.5555555555555556,
              "#d8576b"
             ],
             [
              0.6666666666666666,
              "#ed7953"
             ],
             [
              0.7777777777777778,
              "#fb9f3a"
             ],
             [
              0.8888888888888888,
              "#fdca26"
             ],
             [
              1,
              "#f0f921"
             ]
            ],
            "type": "surface"
           }
          ],
          "table": [
           {
            "cells": {
             "fill": {
              "color": "#EBF0F8"
             },
             "line": {
              "color": "white"
             }
            },
            "header": {
             "fill": {
              "color": "#C8D4E3"
             },
             "line": {
              "color": "white"
             }
            },
            "type": "table"
           }
          ]
         },
         "layout": {
          "annotationdefaults": {
           "arrowcolor": "#2a3f5f",
           "arrowhead": 0,
           "arrowwidth": 1
          },
          "autotypenumbers": "strict",
          "coloraxis": {
           "colorbar": {
            "outlinewidth": 0,
            "ticks": ""
           }
          },
          "colorscale": {
           "diverging": [
            [
             0,
             "#8e0152"
            ],
            [
             0.1,
             "#c51b7d"
            ],
            [
             0.2,
             "#de77ae"
            ],
            [
             0.3,
             "#f1b6da"
            ],
            [
             0.4,
             "#fde0ef"
            ],
            [
             0.5,
             "#f7f7f7"
            ],
            [
             0.6,
             "#e6f5d0"
            ],
            [
             0.7,
             "#b8e186"
            ],
            [
             0.8,
             "#7fbc41"
            ],
            [
             0.9,
             "#4d9221"
            ],
            [
             1,
             "#276419"
            ]
           ],
           "sequential": [
            [
             0,
             "#0d0887"
            ],
            [
             0.1111111111111111,
             "#46039f"
            ],
            [
             0.2222222222222222,
             "#7201a8"
            ],
            [
             0.3333333333333333,
             "#9c179e"
            ],
            [
             0.4444444444444444,
             "#bd3786"
            ],
            [
             0.5555555555555556,
             "#d8576b"
            ],
            [
             0.6666666666666666,
             "#ed7953"
            ],
            [
             0.7777777777777778,
             "#fb9f3a"
            ],
            [
             0.8888888888888888,
             "#fdca26"
            ],
            [
             1,
             "#f0f921"
            ]
           ],
           "sequentialminus": [
            [
             0,
             "#0d0887"
            ],
            [
             0.1111111111111111,
             "#46039f"
            ],
            [
             0.2222222222222222,
             "#7201a8"
            ],
            [
             0.3333333333333333,
             "#9c179e"
            ],
            [
             0.4444444444444444,
             "#bd3786"
            ],
            [
             0.5555555555555556,
             "#d8576b"
            ],
            [
             0.6666666666666666,
             "#ed7953"
            ],
            [
             0.7777777777777778,
             "#fb9f3a"
            ],
            [
             0.8888888888888888,
             "#fdca26"
            ],
            [
             1,
             "#f0f921"
            ]
           ]
          },
          "colorway": [
           "#636efa",
           "#EF553B",
           "#00cc96",
           "#ab63fa",
           "#FFA15A",
           "#19d3f3",
           "#FF6692",
           "#B6E880",
           "#FF97FF",
           "#FECB52"
          ],
          "font": {
           "color": "#2a3f5f"
          },
          "geo": {
           "bgcolor": "white",
           "lakecolor": "white",
           "landcolor": "#E5ECF6",
           "showlakes": true,
           "showland": true,
           "subunitcolor": "white"
          },
          "hoverlabel": {
           "align": "left"
          },
          "hovermode": "closest",
          "mapbox": {
           "style": "light"
          },
          "paper_bgcolor": "white",
          "plot_bgcolor": "#E5ECF6",
          "polar": {
           "angularaxis": {
            "gridcolor": "white",
            "linecolor": "white",
            "ticks": ""
           },
           "bgcolor": "#E5ECF6",
           "radialaxis": {
            "gridcolor": "white",
            "linecolor": "white",
            "ticks": ""
           }
          },
          "scene": {
           "xaxis": {
            "backgroundcolor": "#E5ECF6",
            "gridcolor": "white",
            "gridwidth": 2,
            "linecolor": "white",
            "showbackground": true,
            "ticks": "",
            "zerolinecolor": "white"
           },
           "yaxis": {
            "backgroundcolor": "#E5ECF6",
            "gridcolor": "white",
            "gridwidth": 2,
            "linecolor": "white",
            "showbackground": true,
            "ticks": "",
            "zerolinecolor": "white"
           },
           "zaxis": {
            "backgroundcolor": "#E5ECF6",
            "gridcolor": "white",
            "gridwidth": 2,
            "linecolor": "white",
            "showbackground": true,
            "ticks": "",
            "zerolinecolor": "white"
           }
          },
          "shapedefaults": {
           "line": {
            "color": "#2a3f5f"
           }
          },
          "ternary": {
           "aaxis": {
            "gridcolor": "white",
            "linecolor": "white",
            "ticks": ""
           },
           "baxis": {
            "gridcolor": "white",
            "linecolor": "white",
            "ticks": ""
           },
           "bgcolor": "#E5ECF6",
           "caxis": {
            "gridcolor": "white",
            "linecolor": "white",
            "ticks": ""
           }
          },
          "title": {
           "x": 0.05
          },
          "xaxis": {
           "automargin": true,
           "gridcolor": "white",
           "linecolor": "white",
           "ticks": "",
           "title": {
            "standoff": 15
           },
           "zerolinecolor": "white",
           "zerolinewidth": 2
          },
          "yaxis": {
           "automargin": true,
           "gridcolor": "white",
           "linecolor": "white",
           "ticks": "",
           "title": {
            "standoff": 15
           },
           "zerolinecolor": "white",
           "zerolinewidth": 2
          }
         }
        },
        "xaxis": {
         "anchor": "y",
         "autorange": true,
         "domain": [
          0,
          1
         ],
         "range": [
          38320,
          39120
         ],
         "title": {
          "text": "x"
         },
         "type": "linear"
        },
        "yaxis": {
         "anchor": "x",
         "autorange": true,
         "domain": [
          0,
          1
         ],
         "range": [
          0.9504688112222223,
          0.9999638467777778
         ],
         "title": {
          "text": "y"
         },
         "type": "linear"
        }
       }
      },
      "image/png": "[encoded data removed]",
      "text/html": [
       "<div>                            <div id=\"4b44a185-12bc-4e4c-a6a0-7cba279195e8\" class=\"plotly-graph-div\" style=\"height:525px; width:100%;\"></div>            <script type=\"text/javascript\">                require([\"plotly\"], function(Plotly) {                    window.PLOTLYENV=window.PLOTLYENV || {};                                    if (document.getElementById(\"4b44a185-12bc-4e4c-a6a0-7cba279195e8\")) {                    Plotly.newPlot(                        \"4b44a185-12bc-4e4c-a6a0-7cba279195e8\",                        [{\"hovertemplate\": \"x=%{x}<br>y=%{y}<extra></extra>\", \"legendgroup\": \"\", \"line\": {\"color\": \"#636efa\", \"dash\": \"solid\"}, \"mode\": \"lines\", \"name\": \"\", \"orientation\": \"v\", \"showlegend\": false, \"type\": \"scatter\", \"x\": [38320, 38321, 38322, 38323, 38324, 38325, 38326, 38327, 38328, 38329, 38330, 38331, 38332, 38333, 38334, 38335, 38336, 38337, 38338, 38339, 38340, 38341, 38342, 38343, 38344, 38345, 38346, 38347, 38348, 38349, 38350, 38351, 38352, 38353, 38354, 38355, 38356, 38357, 38358, 38359, 38360, 38361, 38362, 38363, 38364, 38365, 38366, 38367, 38368, 38369, 38370, 38371, 38372, 38373, 38374, 38375, 38376, 38377, 38378, 38379, 38380, 38381, 38382, 38383, 38384, 38385, 38386, 38387, 38388, 38389, 38390, 38391, 38392, 38393, 38394, 38395, 38396, 38397, 38398, 38399, 38400, 38401, 38402, 38403, 38404, 38405, 38406, 38407, 38408, 38409, 38410, 38411, 38412, 38413, 38414, 38415, 38416, 38417, 38418, 38419, 38420, 38421, 38422, 38423, 38424, 38425, 38426, 38427, 38428, 38429, 38430, 38431, 38432, 38433, 38434, 38435, 38436, 38437, 38438, 38439, 38440, 38441, 38442, 38443, 38444, 38445, 38446, 38447, 38448, 38449, 38450, 38451, 38452, 38453, 38454, 38455, 38456, 38457, 38458, 38459, 38460, 38461, 38462, 38463, 38464, 38465, 38466, 38467, 38468, 38469, 38470, 38471, 38472, 38473, 38474, 38475, 38476, 38477, 38478, 38479, 38480, 38481, 38482, 38483, 38484, 38485, 38486, 38487, 38488, 38489, 38490, 38491, 38492, 38493, 38494, 38495, 38496, 38497, 38498, 38499, 38500, 38501, 38502, 38503, 38504, 38505, 38506, 38507, 38508, 38509, 38510, 38511, 38512, 38513, 38514, 38515, 38516, 38517, 38518, 38519, 38520, 38521, 38522, 38523, 38524, 38525, 38526, 38527, 38528, 38529, 38530, 38531, 38532, 38533, 38534, 38535, 38536, 38537, 38538, 38539, 38540, 38541, 38542, 38543, 38544, 38545, 38546, 38547, 38548, 38549, 38550, 38551, 38552, 38553, 38554, 38555, 38556, 38557, 38558, 38559, 38560, 38561, 38562, 38563, 38564, 38565, 38566, 38567, 38568, 38569, 38570, 38571, 38572, 38573, 38574, 38575, 38576, 38577, 38578, 38579, 38580, 38581, 38582, 38583, 38584, 38585, 38586, 38587, 38588, 38589, 38590, 38591, 38592, 38593, 38594, 38595, 38596, 38597, 38598, 38599, 38600, 38601, 38602, 38603, 38604, 38605, 38606, 38607, 38608, 38609, 38610, 38611, 38612, 38613, 38614, 38615, 38616, 38617, 38618, 38619, 38620, 38621, 38622, 38623, 38624, 38625, 38626, 38627, 38628, 38629, 38630, 38631, 38632, 38633, 38634, 38635, 38636, 38637, 38638, 38639, 38640, 38641, 38642, 38643, 38644, 38645, 38646, 38647, 38648, 38649, 38650, 38651, 38652, 38653, 38654, 38655, 38656, 38657, 38658, 38659, 38660, 38661, 38662, 38663, 38664, 38665, 38666, 38667, 38668, 38669, 38670, 38671, 38672, 38673, 38674, 38675, 38676, 38677, 38678, 38679, 38680, 38681, 38682, 38683, 38684, 38685, 38686, 38687, 38688, 38689, 38690, 38691, 38692, 38693, 38694, 38695, 38696, 38697, 38698, 38699, 38700, 38701, 38702, 38703, 38704, 38705, 38706, 38707, 38708, 38709, 38710, 38711, 38712, 38713, 38714, 38715, 38716, 38717, 38718, 38719, 38720, 38721, 38722, 38723, 38724, 38725, 38726, 38727, 38728, 38729, 38730, 38731, 38732, 38733, 38734, 38735, 38736, 38737, 38738, 38739, 38740, 38741, 38742, 38743, 38744, 38745, 38746, 38747, 38748, 38749, 38750, 38751, 38752, 38753, 38754, 38755, 38756, 38757, 38758, 38759, 38760, 38761, 38762, 38763, 38764, 38765, 38766, 38767, 38768, 38769, 38770, 38771, 38772, 38773, 38774, 38775, 38776, 38777, 38778, 38779, 38780, 38781, 38782, 38783, 38784, 38785, 38786, 38787, 38788, 38789, 38790, 38791, 38792, 38793, 38794, 38795, 38796, 38797, 38798, 38799, 38800, 38801, 38802, 38803, 38804, 38805, 38806, 38807, 38808, 38809, 38810, 38811, 38812, 38813, 38814, 38815, 38816, 38817, 38818, 38819, 38820, 38821, 38822, 38823, 38824, 38825, 38826, 38827, 38828, 38829, 38830, 38831, 38832, 38833, 38834, 38835, 38836, 38837, 38838, 38839, 38840, 38841, 38842, 38843, 38844, 38845, 38846, 38847, 38848, 38849, 38850, 38851, 38852, 38853, 38854, 38855, 38856, 38857, 38858, 38859, 38860, 38861, 38862, 38863, 38864, 38865, 38866, 38867, 38868, 38869, 38870, 38871, 38872, 38873, 38874, 38875, 38876, 38877, 38878, 38879, 38880, 38881, 38882, 38883, 38884, 38885, 38886, 38887, 38888, 38889, 38890, 38891, 38892, 38893, 38894, 38895, 38896, 38897, 38898, 38899, 38900, 38901, 38902, 38903, 38904, 38905, 38906, 38907, 38908, 38909, 38910, 38911, 38912, 38913, 38914, 38915, 38916, 38917, 38918, 38919, 38920, 38921, 38922, 38923, 38924, 38925, 38926, 38927, 38928, 38929, 38930, 38931, 38932, 38933, 38934, 38935, 38936, 38937, 38938, 38939, 38940, 38941, 38942, 38943, 38944, 38945, 38946, 38947, 38948, 38949, 38950, 38951, 38952, 38953, 38954, 38955, 38956, 38957, 38958, 38959, 38960, 38961, 38962, 38963, 38964, 38965, 38966, 38967, 38968, 38969, 38970, 38971, 38972, 38973, 38974, 38975, 38976, 38977, 38978, 38979, 38980, 38981, 38982, 38983, 38984, 38985, 38986, 38987, 38988, 38989, 38990, 38991, 38992, 38993, 38994, 38995, 38996, 38997, 38998, 38999, 39000, 39001, 39002, 39003, 39004, 39005, 39006, 39007, 39008, 39009, 39010, 39011, 39012, 39013, 39014, 39015, 39016, 39017, 39018, 39019, 39020, 39021, 39022, 39023, 39024, 39025, 39026, 39027, 39028, 39029, 39030, 39031, 39032, 39033, 39034, 39035, 39036, 39037, 39038, 39039, 39040, 39041, 39042, 39043, 39044, 39045, 39046, 39047, 39048, 39049, 39050, 39051, 39052, 39053, 39054, 39055, 39056, 39057, 39058, 39059, 39060, 39061, 39062, 39063, 39064, 39065, 39066, 39067, 39068, 39069, 39070, 39071, 39072, 39073, 39074, 39075, 39076, 39077, 39078, 39079, 39080, 39081, 39082, 39083, 39084, 39085, 39086, 39087, 39088, 39089, 39090, 39091, 39092, 39093, 39094, 39095, 39096, 39097, 39098, 39099, 39100, 39101, 39102, 39103, 39104, 39105, 39106, 39107, 39108, 39109, 39110, 39111, 39112, 39113, 39114, 39115, 39116, 39117, 39118, 39119, 39120], \"xaxis\": \"x\", \"y\": [0.994737864, 0.993109763, 0.995255232, 0.993417561, 0.995465159, 0.995101929, 0.99539572, 0.995199978, 0.995731294, 0.994955957, 0.993272364, 0.970377147, 0.964970231, 0.987984121, 0.994677246, 0.995145261, 0.995061457, 0.985226035, 0.995033979, 0.996382177, 0.989557922, 0.995872617, 0.991360784, 0.979724944, 0.996675968, 0.996403635, 0.996327221, 0.996117592, 0.996222317, 0.996718407, 0.996432245, 0.996865332, 0.997242451, 0.996229887, 0.995922863, 0.967960298, 0.996816695, 0.995825648, 0.996342182, 0.996272445, 0.995672166, 0.995777011, 0.995853841, 0.99317348, 0.996475577, 0.995979846, 0.994340062, 0.99648267, 0.996001124, 0.99567318, 0.99639219, 0.994326651, 0.996392429, 0.995108485, 0.996008873, 0.981864274, 0.99512285, 0.995737016, 0.996246576, 0.996435046, 0.995828092, 0.99209547, 0.992953897, 0.995563686, 0.995800674, 0.993714869, 0.996170759, 0.994664133, 0.99589175, 0.996317387, 0.994071782, 0.99651289, 0.996485114, 0.995662153, 0.994365096, 0.984587312, 0.995062828, 0.991973758, 0.99587208, 0.965195835, 0.995349228, 0.995544612, 0.995028794, 0.991668046, 0.982590139, 0.995754242, 0.996939659, 0.996598065, 0.996793509, 0.996960819, 0.996465981, 0.996452153, 0.970610857, 0.996884465, 0.99230504, 0.989468217, 0.996599019, 0.995037794, 0.996822238, 0.996668875, 0.996585369, 0.974716246, 0.995756269, 0.996320963, 0.996327996, 0.992147207, 0.997275949, 0.99589622, 0.996182382, 0.997025192, 0.997101963, 0.996056914, 0.99647516, 0.995966673, 0.997443676, 0.996628881, 0.966242015, 0.995660543, 0.996280551, 0.965806246, 0.969519675, 0.99206692, 0.990994573, 0.988772988, 0.995605648, 0.990612268, 0.995647728, 0.996044874, 0.995508611, 0.99669981, 0.996922731, 0.996017635, 0.995321512, 0.995523453, 0.990385354, 0.995983183, 0.99661696, 0.996025324, 0.994486749, 0.994765162, 0.995719075, 0.995357215, 0.994890809, 0.995357394, 0.994132459, 0.967967749, 0.996367037, 0.994480908, 0.99025631, 0.991780877, 0.992205501, 0.996785462, 0.995497704, 0.994085193, 0.997195959, 0.996875942, 0.995421767, 0.99682045, 0.99593693, 0.995985746, 0.997015536, 0.996869564, 0.997266173, 0.996779263, 0.995269656, 0.991506279, 0.994316816, 0.997489095, 0.990227044, 0.991465449, 0.996557355, 0.996884465, 0.997065544, 0.996223927, 0.995180607, 0.99635613, 0.995048702, 0.965415955, 0.993595719, 0.994388759, 0.952943563, 0.981767833, 0.9911834, 0.993798077, 0.993374288, 0.995272398, 0.992352605, 0.990753651, 0.96364671, 0.964454174, 0.993813157, 0.993827283, 0.993021369, 0.992965698, 0.991533995, 0.99190253, 0.991889119, 0.994467735, 0.994377613, 0.986649275, 0.9951635, 0.995066106, 0.994322479, 0.995003819, 0.994288266, 0.99499017, 0.968507946, 0.99485147, 0.992996275, 0.995324254, 0.970144629, 0.995282769, 0.975815356, 0.99580431, 0.996450603, 0.991927803, 0.996374309, 0.996325612, 0.966191351, 0.994401574, 0.994589627, 0.996305168, 0.996694267, 0.996326208, 0.995972097, 0.996583343, 0.995291948, 0.995354414, 0.977111042, 0.995431006, 0.995535374, 0.995653629, 0.995140016, 0.994917631, 0.968296468, 0.995723546, 0.990835547, 0.986843526, 0.994883657, 0.994932473, 0.994780004, 0.994460583, 0.991510391, 0.995030403, 0.994079292, 0.99464196, 0.992615104, 0.99387157, 0.991560459, 0.99314332, 0.993733525, 0.994746685, 0.994351208, 0.994108558, 0.99465692, 0.991458178, 0.993068039, 0.993748367, 0.964313865, 0.993491888, 0.993756056, 0.993471384, 0.994561017, 0.993638694, 0.986548185, 0.9894346, 0.993160367, 0.994138598, 0.995359838, 0.992238402, 0.986612916, 0.993771613, 0.991607904, 0.992995083, 0.988785505, 0.991948247, 0.990006447, 0.992344141, 0.993543983, 0.993634284, 0.993710935, 0.99416852, 0.994439185, 0.99429369, 0.963278711, 0.967502534, 0.990799904, 0.984192729, 0.989884973, 0.995251656, 0.995078146, 0.994191229, 0.994003892, 0.991051257, 0.992389202, 0.995494843, 0.992140055, 0.99504447, 0.993769526, 0.993512928, 0.993644893, 0.99369365, 0.994733274, 0.995336652, 0.99445641, 0.988781035, 0.994248867, 0.993272158, 0.992710888, 0.992198348, 0.991152525, 0.992843091, 0.994762659, 0.99428463, 0.994194686, 0.994721353, 0.970730782, 0.993869841, 0.993696868, 0.993634641, 0.987968385, 0.990967929, 0.985898435, 0.991758287, 0.991266727, 0.994314253, 0.989216924, 0.992022097, 0.992583513, 0.992292702, 0.99140656, 0.993020177, 0.991338015, 0.993138254, 0.993055344, 0.992397964, 0.99332583, 0.992952228, 0.990840673, 0.992828071, 0.985316694, 0.966327548, 0.994268537, 0.994815469, 0.995251715, 0.992372155, 0.993625581, 0.978079081, 0.995868266, 0.99469173, 0.995556951, 0.995259821, 0.995986342, 0.996263266, 0.995924234, 0.991502345, 0.995101094, 0.99535048, 0.993585885, 0.994866431, 0.996222556, 0.990466237, 0.994845808, 0.995302618, 0.994562447, 0.995676517, 0.995752633, 0.996015668, 0.997025847, 0.996700704, 0.995974541, 0.995365858, 0.982825994, 0.987066269, 0.991361797, 0.991306782, 0.991451919, 0.994315743, 0.99002111, 0.994094431, 0.994468093, 0.993624747, 0.994136691, 0.994184971, 0.993811846, 0.993646145, 0.994282365, 0.993784726, 0.992948472, 0.993273437, 0.973984718, 0.993453503, 0.993211687, 0.963195801, 0.993384898, 0.983956516, 0.991823137, 0.992466271, 0.99290204, 0.991568208, 0.98675102, 0.989592016, 0.985182881, 0.990705252, 0.966759264, 0.989973247, 0.993905425, 0.993111014, 0.994658887, 0.993249595, 0.990202665, 0.993761182, 0.994051456, 0.994031012, 0.995025933, 0.994051993, 0.994162917, 0.993078232, 0.95688647, 0.989106476, 0.993838847, 0.994598567, 0.994198203, 0.99531734, 0.965092421, 0.99596709, 0.996160507, 0.996188045, 0.996015429, 0.991906703, 0.995511651, 0.995125115, 0.996057689, 0.995857239, 0.964473665, 0.991673112, 0.994559467, 0.990334153, 0.979294181, 0.991757095, 0.970769048, 0.994139075, 0.977384448, 0.994042993, 0.995451391, 0.96464318, 0.993781209, 0.985380828, 0.993519247, 0.994029999, 0.994561553, 0.993878543, 0.994071841, 0.994216979, 0.994817555, 0.994645298, 0.99453491, 0.99434185, 0.991271496, 0.994079888, 0.992900074, 0.990865052, 0.994970739, 0.994611919, 0.994984746, 0.994508803, 0.993722618, 0.992873907, 0.982698679, 0.99267441, 0.993543684, 0.992502153, 0.993757784, 0.994034171, 0.996344745, 0.995524168, 0.968887627, 0.996193349, 0.993469298, 0.994276285, 0.994572997, 0.995835304, 0.995593846, 0.996221721, 0.995766699, 0.994139373, 0.965641677, 0.993257284, 0.994305253, 0.994236708, 0.961315572, 0.991292953, 0.991844773, 0.991679728, 0.992776036, 0.992141783, 0.992438614, 0.993493319, 0.991728842, 0.992363274, 0.992625535, 0.991123021, 0.991088808, 0.993363619, 0.993556678, 0.993687809, 0.994108498, 0.993777573, 0.993309379, 0.989574552, 0.992923737, 0.981168687, 0.993317068, 0.992538691, 0.992765903, 0.991677582, 0.965738773, 0.993069947, 0.992835701, 0.993180335, 0.992829204, 0.99258852, 0.96349901, 0.992485404, 0.992526829, 0.992286146, 0.991494298, 0.991756141, 0.992493331, 0.991563976, 0.992604017, 0.992377281, 0.991309941, 0.986758053, 0.993569016, 0.99311471, 0.99362427, 0.992378175, 0.994402587, 0.99434793, 0.993762851, 0.994169176, 0.993583977, 0.994196892, 0.993770242, 0.993983865, 0.993130565, 0.993261337, 0.993509471, 0.99388808, 0.992924631, 0.993455052, 0.992168188, 0.994109213, 0.993937314, 0.993379831, 0.99146682, 0.994453907, 0.993077517, 0.993422091, 0.991371334, 0.9922387, 0.992644787, 0.989934087, 0.986824393, 0.977715313, 0.991269708, 0.987451553, 0.967989326, 0.993148625, 0.992784202, 0.9933002, 0.993080437, 0.99151212, 0.991030812, 0.990900636, 0.990976334, 0.991306841, 0.991416931, 0.991087079, 0.991053164, 0.990750492, 0.973592877, 0.99133563, 0.991755366, 0.993172288, 0.992993653, 0.992299259, 0.99044323, 0.993179739, 0.993076801, 0.990987122, 0.991386116, 0.963900208, 0.989482105, 0.976152658, 0.988279879, 0.992273808, 0.989345908, 0.978629768, 0.991140723, 0.992866039, 0.993127406, 0.989890337, 0.993203402, 0.99351263, 0.992461264, 0.992221296, 0.993306994, 0.978876114, 0.992441475, 0.99306041, 0.993733704, 0.99323231, 0.994070768, 0.968916953, 0.993171096, 0.963896394, 0.994167805, 0.994380832, 0.992635906, 0.993309379, 0.984716058, 0.993165731, 0.989724457, 0.984346211, 0.984010279, 0.984374523, 0.984100223, 0.983462095, 0.953785956, 0.984259486, 0.968615532, 0.983566761, 0.982138813, 0.990324855, 0.992508948, 0.992612123, 0.993264496, 0.992763579, 0.993052006, 0.96466881, 0.993388951, 0.992008865, 0.992187858, 0.994021118, 0.993932009, 0.993307292, 0.99126184, 0.990548193, 0.989738524, 0.990280926, 0.990027308, 0.989897072, 0.972073317, 0.991709828, 0.961553574, 0.962879241, 0.992396593, 0.992836058, 0.981355667, 0.99285692, 0.993173003, 0.993845403, 0.993331015, 0.993976295, 0.973866522, 0.993969798, 0.993935466, 0.992728233, 0.994443476, 0.992447555, 0.993942916, 0.993901968, 0.994711697, 0.994444251, 0.994067192, 0.994423985, 0.993971407, 0.99404037, 0.994726479, 0.993745923, 0.993210852, 0.994404376, 0.993218005, 0.993643403, 0.987266123, 0.99363029, 0.992828071, 0.993877292, 0.993685484, 0.993308663, 0.98759073, 0.993884861, 0.993926108, 0.992623866, 0.99350822, 0.993213654, 0.992967248, 0.993097484, 0.993392467, 0.992830515, 0.992899358, 0.987340689, 0.993091524, 0.993297458, 0.989542007, 0.992900431, 0.992454946, 0.992612839, 0.993504047, 0.993031263, 0.992633998, 0.993634582, 0.992442548, 0.990277648, 0.993477523, 0.993025601, 0.992744744, 0.991998494, 0.962128222, 0.99241662, 0.991532981, 0.992965043, 0.979942918, 0.99336952, 0.992582023, 0.992869854, 0.993733287, 0.994294941, 0.993699193, 0.993617415, 0.993412137, 0.992816567, 0.994042277, 0.991926432, 0.990344822, 0.993851244, 0.994111717, 0.993865323, 0.993214846, 0.993591487, 0.993543744, 0.99429059, 0.993770242, 0.994030476, 0.990840197, 0.992285013, 0.994058549, 0.99338764, 0.993627369, 0.986289442, 0.993511617, 0.994380772, 0.990869641, 0.993498504, 0.992663562, 0.992821038, 0.992567956, 0.991486907, 0.993745565, 0.993704498, 0.993869185, 0.99315083, 0.992487073, 0.988614321, 0.990284204, 0.990517139, 0.989840031, 0.991523683, 0.990134895, 0.98980689, 0.990005314, 0.990026355, 0.990238488, 0.991100669, 0.992051959, 0.962275922, 0.991689861, 0.990930617, 0.991957009, 0.988044858, 0.992183149, 0.992470443, 0.992552936, 0.987895608, 0.991534293, 0.983895898, 0.982015789, 0.981100142, 0.993572772, 0.993785143, 0.990325511, 0.990694821, 0.992390573, 0.993635237, 0.993792534, 0.993458033, 0.993136942, 0.994545102, 0.994682074], \"yaxis\": \"y\"}],                        {\"legend\": {\"tracegroupgap\": 0}, \"margin\": {\"t\": 60}, \"template\": {\"data\": {\"bar\": [{\"error_x\": {\"color\": \"#2a3f5f\"}, \"error_y\": {\"color\": \"#2a3f5f\"}, \"marker\": {\"line\": {\"color\": \"#E5ECF6\", \"width\": 0.5}}, \"type\": \"bar\"}], \"barpolar\": [{\"marker\": {\"line\": {\"color\": \"#E5ECF6\", \"width\": 0.5}}, \"type\": \"barpolar\"}], \"carpet\": [{\"aaxis\": {\"endlinecolor\": \"#2a3f5f\", \"gridcolor\": \"white\", \"linecolor\": \"white\", \"minorgridcolor\": \"white\", \"startlinecolor\": \"#2a3f5f\"}, \"baxis\": {\"endlinecolor\": \"#2a3f5f\", \"gridcolor\": \"white\", \"linecolor\": \"white\", \"minorgridcolor\": \"white\", \"startlinecolor\": \"#2a3f5f\"}, \"type\": \"carpet\"}], \"choropleth\": [{\"colorbar\": {\"outlinewidth\": 0, \"ticks\": \"\"}, \"type\": \"choropleth\"}], \"contour\": [{\"colorbar\": {\"outlinewidth\": 0, \"ticks\": \"\"}, \"colorscale\": [[0.0, \"#0d0887\"], [0.1111111111111111, \"#46039f\"], [0.2222222222222222, \"#7201a8\"], [0.3333333333333333, \"#9c179e\"], [0.4444444444444444, \"#bd3786\"], [0.5555555555555556, \"#d8576b\"], [0.6666666666666666, \"#ed7953\"], [0.7777777777777778, \"#fb9f3a\"], [0.8888888888888888, \"#fdca26\"], [1.0, \"#f0f921\"]], \"type\": \"contour\"}], \"contourcarpet\": [{\"colorbar\": {\"outlinewidth\": 0, \"ticks\": \"\"}, \"type\": \"contourcarpet\"}], \"heatmap\": [{\"colorbar\": {\"outlinewidth\": 0, \"ticks\": \"\"}, \"colorscale\": [[0.0, \"#0d0887\"], [0.1111111111111111, \"#46039f\"], [0.2222222222222222, \"#7201a8\"], [0.3333333333333333, \"#9c179e\"], [0.4444444444444444, \"#bd3786\"], [0.5555555555555556, \"#d8576b\"], [0.6666666666666666, \"#ed7953\"], [0.7777777777777778, \"#fb9f3a\"], [0.8888888888888888, \"#fdca26\"], [1.0, \"#f0f921\"]], \"type\": \"heatmap\"}], \"heatmapgl\": [{\"colorbar\": {\"outlinewidth\": 0, \"ticks\": \"\"}, \"colorscale\": [[0.0, \"#0d0887\"], [0.1111111111111111, \"#46039f\"], [0.2222222222222222, \"#7201a8\"], [0.3333333333333333, \"#9c179e\"], [0.4444444444444444, \"#bd3786\"], [0.5555555555555556, \"#d8576b\"], [0.6666666666666666, \"#ed7953\"], [0.7777777777777778, \"#fb9f3a\"], [0.8888888888888888, \"#fdca26\"], [1.0, \"#f0f921\"]], \"type\": \"heatmapgl\"}], \"histogram\": [{\"marker\": {\"colorbar\": {\"outlinewidth\": 0, \"ticks\": \"\"}}, \"type\": \"histogram\"}], \"histogram2d\": [{\"colorbar\": {\"outlinewidth\": 0, \"ticks\": \"\"}, \"colorscale\": [[0.0, \"#0d0887\"], [0.1111111111111111, \"#46039f\"], [0.2222222222222222, \"#7201a8\"], [0.3333333333333333, \"#9c179e\"], [0.4444444444444444, \"#bd3786\"], [0.5555555555555556, \"#d8576b\"], [0.6666666666666666, \"#ed7953\"], [0.7777777777777778, \"#fb9f3a\"], [0.8888888888888888, \"#fdca26\"], [1.0, \"#f0f921\"]], \"type\": \"histogram2d\"}], \"histogram2dcontour\": [{\"colorbar\": {\"outlinewidth\": 0, \"ticks\": \"\"}, \"colorscale\": [[0.0, \"#0d0887\"], [0.1111111111111111, \"#46039f\"], [0.2222222222222222, \"#7201a8\"], [0.3333333333333333, \"#9c179e\"], [0.4444444444444444, \"#bd3786\"], [0.5555555555555556, \"#d8576b\"], [0.6666666666666666, \"#ed7953\"], [0.7777777777777778, \"#fb9f3a\"], [0.8888888888888888, \"#fdca26\"], [1.0, \"#f0f921\"]], \"type\": \"histogram2dcontour\"}], \"mesh3d\": [{\"colorbar\": {\"outlinewidth\": 0, \"ticks\": \"\"}, \"type\": \"mesh3d\"}], \"parcoords\": [{\"line\": {\"colorbar\": {\"outlinewidth\": 0, \"ticks\": \"\"}}, \"type\": \"parcoords\"}], \"pie\": [{\"automargin\": true, \"type\": \"pie\"}], \"scatter\": [{\"marker\": {\"colorbar\": {\"outlinewidth\": 0, \"ticks\": \"\"}}, \"type\": \"scatter\"}], \"scatter3d\": [{\"line\": {\"colorbar\": {\"outlinewidth\": 0, \"ticks\": \"\"}}, \"marker\": {\"colorbar\": {\"outlinewidth\": 0, \"ticks\": \"\"}}, \"type\": \"scatter3d\"}], \"scattercarpet\": [{\"marker\": {\"colorbar\": {\"outlinewidth\": 0, \"ticks\": \"\"}}, \"type\": \"scattercarpet\"}], \"scattergeo\": [{\"marker\": {\"colorbar\": {\"outlinewidth\": 0, \"ticks\": \"\"}}, \"type\": \"scattergeo\"}], \"scattergl\": [{\"marker\": {\"colorbar\": {\"outlinewidth\": 0, \"ticks\": \"\"}}, \"type\": \"scattergl\"}], \"scattermapbox\": [{\"marker\": {\"colorbar\": {\"outlinewidth\": 0, \"ticks\": \"\"}}, \"type\": \"scattermapbox\"}], \"scatterpolar\": [{\"marker\": {\"colorbar\": {\"outlinewidth\": 0, \"ticks\": \"\"}}, \"type\": \"scatterpolar\"}], \"scatterpolargl\": [{\"marker\": {\"colorbar\": {\"outlinewidth\": 0, \"ticks\": \"\"}}, \"type\": \"scatterpolargl\"}], \"scatterternary\": [{\"marker\": {\"colorbar\": {\"outlinewidth\": 0, \"ticks\": \"\"}}, \"type\": \"scatterternary\"}], \"surface\": [{\"colorbar\": {\"outlinewidth\": 0, \"ticks\": \"\"}, \"colorscale\": [[0.0, \"#0d0887\"], [0.1111111111111111, \"#46039f\"], [0.2222222222222222, \"#7201a8\"], [0.3333333333333333, \"#9c179e\"], [0.4444444444444444, \"#bd3786\"], [0.5555555555555556, \"#d8576b\"], [0.6666666666666666, \"#ed7953\"], [0.7777777777777778, \"#fb9f3a\"], [0.8888888888888888, \"#fdca26\"], [1.0, \"#f0f921\"]], \"type\": \"surface\"}], \"table\": [{\"cells\": {\"fill\": {\"color\": \"#EBF0F8\"}, \"line\": {\"color\": \"white\"}}, \"header\": {\"fill\": {\"color\": \"#C8D4E3\"}, \"line\": {\"color\": \"white\"}}, \"type\": \"table\"}]}, \"layout\": {\"annotationdefaults\": {\"arrowcolor\": \"#2a3f5f\", \"arrowhead\": 0, \"arrowwidth\": 1}, \"autotypenumbers\": \"strict\", \"coloraxis\": {\"colorbar\": {\"outlinewidth\": 0, \"ticks\": \"\"}}, \"colorscale\": {\"diverging\": [[0, \"#8e0152\"], [0.1, \"#c51b7d\"], [0.2, \"#de77ae\"], [0.3, \"#f1b6da\"], [0.4, \"#fde0ef\"], [0.5, \"#f7f7f7\"], [0.6, \"#e6f5d0\"], [0.7, \"#b8e186\"], [0.8, \"#7fbc41\"], [0.9, \"#4d9221\"], [1, \"#276419\"]], \"sequential\": [[0.0, \"#0d0887\"], [0.1111111111111111, \"#46039f\"], [0.2222222222222222, \"#7201a8\"], [0.3333333333333333, \"#9c179e\"], [0.4444444444444444, \"#bd3786\"], [0.5555555555555556, \"#d8576b\"], [0.6666666666666666, \"#ed7953\"], [0.7777777777777778, \"#fb9f3a\"], [0.8888888888888888, \"#fdca26\"], [1.0, \"#f0f921\"]], \"sequentialminus\": [[0.0, \"#0d0887\"], [0.1111111111111111, \"#46039f\"], [0.2222222222222222, \"#7201a8\"], [0.3333333333333333, \"#9c179e\"], [0.4444444444444444, \"#bd3786\"], [0.5555555555555556, \"#d8576b\"], [0.6666666666666666, \"#ed7953\"], [0.7777777777777778, \"#fb9f3a\"], [0.8888888888888888, \"#fdca26\"], [1.0, \"#f0f921\"]]}, \"colorway\": [\"#636efa\", \"#EF553B\", \"#00cc96\", \"#ab63fa\", \"#FFA15A\", \"#19d3f3\", \"#FF6692\", \"#B6E880\", \"#FF97FF\", \"#FECB52\"], \"font\": {\"color\": \"#2a3f5f\"}, \"geo\": {\"bgcolor\": \"white\", \"lakecolor\": \"white\", \"landcolor\": \"#E5ECF6\", \"showlakes\": true, \"showland\": true, \"subunitcolor\": \"white\"}, \"hoverlabel\": {\"align\": \"left\"}, \"hovermode\": \"closest\", \"mapbox\": {\"style\": \"light\"}, \"paper_bgcolor\": \"white\", \"plot_bgcolor\": \"#E5ECF6\", \"polar\": {\"angularaxis\": {\"gridcolor\": \"white\", \"linecolor\": \"white\", \"ticks\": \"\"}, \"bgcolor\": \"#E5ECF6\", \"radialaxis\": {\"gridcolor\": \"white\", \"linecolor\": \"white\", \"ticks\": \"\"}}, \"scene\": {\"xaxis\": {\"backgroundcolor\": \"#E5ECF6\", \"gridcolor\": \"white\", \"gridwidth\": 2, \"linecolor\": \"white\", \"showbackground\": true, \"ticks\": \"\", \"zerolinecolor\": \"white\"}, \"yaxis\": {\"backgroundcolor\": \"#E5ECF6\", \"gridcolor\": \"white\", \"gridwidth\": 2, \"linecolor\": \"white\", \"showbackground\": true, \"ticks\": \"\", \"zerolinecolor\": \"white\"}, \"zaxis\": {\"backgroundcolor\": \"#E5ECF6\", \"gridcolor\": \"white\", \"gridwidth\": 2, \"linecolor\": \"white\", \"showbackground\": true, \"ticks\": \"\", \"zerolinecolor\": \"white\"}}, \"shapedefaults\": {\"line\": {\"color\": \"#2a3f5f\"}}, \"ternary\": {\"aaxis\": {\"gridcolor\": \"white\", \"linecolor\": \"white\", \"ticks\": \"\"}, \"baxis\": {\"gridcolor\": \"white\", \"linecolor\": \"white\", \"ticks\": \"\"}, \"bgcolor\": \"#E5ECF6\", \"caxis\": {\"gridcolor\": \"white\", \"linecolor\": \"white\", \"ticks\": \"\"}}, \"title\": {\"x\": 0.05}, \"xaxis\": {\"automargin\": true, \"gridcolor\": \"white\", \"linecolor\": \"white\", \"ticks\": \"\", \"title\": {\"standoff\": 15}, \"zerolinecolor\": \"white\", \"zerolinewidth\": 2}, \"yaxis\": {\"automargin\": true, \"gridcolor\": \"white\", \"linecolor\": \"white\", \"ticks\": \"\", \"title\": {\"standoff\": 15}, \"zerolinecolor\": \"white\", \"zerolinewidth\": 2}}}, \"xaxis\": {\"anchor\": \"y\", \"domain\": [0.0, 1.0], \"title\": {\"text\": \"x\"}}, \"yaxis\": {\"anchor\": \"x\", \"domain\": [0.0, 1.0], \"title\": {\"text\": \"y\"}}},                        {\"responsive\": true}                    ).then(function(){\n",
       "                            \n",
       "var gd = document.getElementById('4b44a185-12bc-4e4c-a6a0-7cba279195e8');\n",
       "var x = new MutationObserver(function (mutations, observer) {{\n",
       "        var display = window.getComputedStyle(gd).display;\n",
       "        if (!display || display === 'none') {{\n",
       "            console.log([gd, 'removed!']);\n",
       "            Plotly.purge(gd);\n",
       "            observer.disconnect();\n",
       "        }}\n",
       "}});\n",
       "\n",
       "// Listen for the removal of the full notebook cells\n",
       "var notebookContainer = gd.closest('#notebook-container');\n",
       "if (notebookContainer) {{\n",
       "    x.observe(notebookContainer, {childList: true});\n",
       "}}\n",
       "\n",
       "// Listen for the clearing of the current output cell\n",
       "var outputEl = gd.closest('.output');\n",
       "if (outputEl) {{\n",
       "    x.observe(outputEl, {childList: true});\n",
       "}}\n",
       "\n",
       "                        })                };                });            </script>        </div>"
      ]
     },
     "metadata": {},
     "output_type": "display_data"
    }
   ],
   "source": [
    "px.line(x=df['epoch'], y=df['participation_rate'])"
   ]
  },
  {
   "cell_type": "code",
   "execution_count": 11,
   "metadata": {},
   "outputs": [
    {
     "name": "stdout",
     "output_type": "stream",
     "text": [
      "           participation statistics\n",
      "-----------------------------------------------\n",
      "mean: 0.9912720623033707\n",
      "standard devidation: 0.007331661417942296\n",
      "\n",
      "minimum: 0.952943563\n",
      "median: 0.993417561\n",
      "maximum: 0.997489095\n"
     ]
    }
   ],
   "source": [
    "mean = df['participation_rate'].mean()\n",
    "std = df['participation_rate'].std()\n",
    "mini = min(df['participation_rate'])\n",
    "median = df['participation_rate'].quantile(0.5)\n",
    "maxi = max(df['participation_rate'])\n",
    "\n",
    "print(\"           participation statistics\")\n",
    "print(\"-----------------------------------------------\")\n",
    "print(\"mean: {}\".format(mean))\n",
    "print(\"standard devidation: {}\".format(std))\n",
    "print(\"\")\n",
    "print(\"minimum: {}\".format(mini))\n",
    "print(\"median: {}\".format(median))\n",
    "print(\"maximum: {}\".format(maxi))"
   ]
  },
  {
   "cell_type": "markdown",
   "metadata": {},
   "source": [
    "We notice that on average, the network participation rate is pretty high! (with a mean of about 0.991 and a standard deviation of 0.007)! The network participation rate never went below 95.3% which is another sign of an overall healthy network"
   ]
  },
  {
   "cell_type": "markdown",
   "metadata": {},
   "source": [
    "## Exit counts"
   ]
  },
  {
   "cell_type": "markdown",
   "metadata": {},
   "source": [
    "The next metric that we explore in this notebook is the number of validators who voluntarily exited the network.\n",
    "\n",
    "A validator who performs a voluntary exit is one who chooses to voluntarily stop performing their validator duties (proposing blocks and attesting to blocks).\n",
    "\n",
    "A validator can initiate a voluntary exit provided that the validator is currently active, has not been slashed and has been active for at least 256 epochs (~27 hours) since it has been activated\n",
    "\n",
    "It takes at a minimum 5 epochs (32 minutes) for a validator to exit after initiating a voluntary exit. This number can be much higher depending on how many other validators are queued to exit.\n",
    "\n",
    "(reference: https://lighthouse-book.sigmaprime.io/voluntary-exit.html)"
   ]
  },
  {
   "cell_type": "code",
   "execution_count": 12,
   "metadata": {},
   "outputs": [
    {
     "data": {
      "text/plain": [
       "[<matplotlib.lines.Line2D at 0x13728c4f0>]"
      ]
     },
     "execution_count": 12,
     "metadata": {},
     "output_type": "execute_result"
    },
    {
     "data": {
      "image/png": "[encoded data removed]",
      "text/plain": [
       "<Figure size 432x288 with 1 Axes>"
      ]
     },
     "metadata": {
      "needs_background": "light"
     },
     "output_type": "display_data"
    }
   ],
   "source": [
    "exit_count = df['exit_count']\n",
    "exit_count_unique = set(exit_count)\n",
    "num_of_exits = len(exit_count_unique) #output value = 1\n",
    "#print(\"The number of unique values in the proposer_slashing_events series is: {}\".format(num_of_events))\n",
    "\n",
    "#Thus, there have been no voluntary exits that have occured during this range of epochs \n",
    "\n",
    "plt.plot(df['epoch'],df['exit_count']) \n"
   ]
  },
  {
   "cell_type": "markdown",
   "metadata": {},
   "source": [
    "Thus we can see that in the range of epochs 38320 - 39120, there has been only no voluntary exists by any validator "
   ]
  },
  {
   "cell_type": "markdown",
   "metadata": {},
   "source": [
    "## Deposit Counts"
   ]
  },
  {
   "cell_type": "markdown",
   "metadata": {},
   "source": [
    "The final metric that we explore in this notebook is the number of deposits made in that epoch. \n",
    "\n",
    "If a validator makes a deposit of at least 32ETH, he then gets added into the activtion queue. Once the validator reaches the end of the activation queue he gets activated and is assigned to a committee and can begin attesting/proposing blocks.\n",
    "\n",
    "Thus looking at the deposits count per epoch gives us an idea of the number of new validators activated over time."
   ]
  },
  {
   "cell_type": "code",
   "execution_count": 13,
   "metadata": {},
   "outputs": [
    {
     "data": {
      "application/vnd.plotly.v1+json": {
       "config": {
        "plotlyServerURL": "https://plot.ly"
       },
       "data": [
        {
         "hovertemplate": "epoch=%{x}<br>temp=%{y}<br>deposits=%{marker.size}<extra></extra>",
         "legendgroup": "",
         "marker": {
          "color": "#636efa",
          "size": [
           43,
           28,
           464,
           212,
           18,
           97,
           304,
           185,
           144,
           464,
           30,
           16,
           300,
           416,
           266,
           10,
           10,
           62
          ],
          "sizemode": "area",
          "sizeref": 1.16,
          "symbol": "circle"
         },
         "mode": "markers",
         "name": "",
         "orientation": "v",
         "showlegend": false,
         "type": "scatter",
         "x": [
          38370,
          38434,
          38498,
          38499,
          38563,
          38627,
          38690,
          38691,
          38754,
          38755,
          38756,
          38818,
          38819,
          38882,
          38883,
          38946,
          39010,
          39074
         ],
         "xaxis": "x",
         "y": [
          1.9990820247510832,
          1.767727829392317,
          8.916772662549139,
          7.486080194569492,
          5.307695905990535,
          6.395632712371101,
          7.625321470706523,
          2.705349409101757,
          0.4015129954706642,
          2.017821107190554,
          1.2492367930564308,
          3.606573344502543,
          5.127392446067582,
          8.435883847625412,
          6.375887004784591,
          7.936821505599726,
          2.8454087511182524,
          6.83258357658813
         ],
         "yaxis": "y"
        }
       ],
       "layout": {
        "height": 400,
        "legend": {
         "itemsizing": "constant",
         "tracegroupgap": 0
        },
        "margin": {
         "t": 60
        },
        "template": {
         "data": {
          "bar": [
           {
            "error_x": {
             "color": "#2a3f5f"
            },
            "error_y": {
             "color": "#2a3f5f"
            },
            "marker": {
             "line": {
              "color": "#E5ECF6",
              "width": 0.5
             }
            },
            "type": "bar"
           }
          ],
          "barpolar": [
           {
            "marker": {
             "line": {
              "color": "#E5ECF6",
              "width": 0.5
             }
            },
            "type": "barpolar"
           }
          ],
          "carpet": [
           {
            "aaxis": {
             "endlinecolor": "#2a3f5f",
             "gridcolor": "white",
             "linecolor": "white",
             "minorgridcolor": "white",
             "startlinecolor": "#2a3f5f"
            },
            "baxis": {
             "endlinecolor": "#2a3f5f",
             "gridcolor": "white",
             "linecolor": "white",
             "minorgridcolor": "white",
             "startlinecolor": "#2a3f5f"
            },
            "type": "carpet"
           }
          ],
          "choropleth": [
           {
            "colorbar": {
             "outlinewidth": 0,
             "ticks": ""
            },
            "type": "choropleth"
           }
          ],
          "contour": [
           {
            "colorbar": {
             "outlinewidth": 0,
             "ticks": ""
            },
            "colorscale": [
             [
              0,
              "#0d0887"
             ],
             [
              0.1111111111111111,
              "#46039f"
             ],
             [
              0.2222222222222222,
              "#7201a8"
             ],
             [
              0.3333333333333333,
              "#9c179e"
             ],
             [
              0.4444444444444444,
              "#bd3786"
             ],
             [
              0.5555555555555556,
              "#d8576b"
             ],
             [
              0.6666666666666666,
              "#ed7953"
             ],
             [
              0.7777777777777778,
              "#fb9f3a"
             ],
             [
              0.8888888888888888,
              "#fdca26"
             ],
             [
              1,
              "#f0f921"
             ]
            ],
            "type": "contour"
           }
          ],
          "contourcarpet": [
           {
            "colorbar": {
             "outlinewidth": 0,
             "ticks": ""
            },
            "type": "contourcarpet"
           }
          ],
          "heatmap": [
           {
            "colorbar": {
             "outlinewidth": 0,
             "ticks": ""
            },
            "colorscale": [
             [
              0,
              "#0d0887"
             ],
             [
              0.1111111111111111,
              "#46039f"
             ],
             [
              0.2222222222222222,
              "#7201a8"
             ],
             [
              0.3333333333333333,
              "#9c179e"
             ],
             [
              0.4444444444444444,
              "#bd3786"
             ],
             [
              0.5555555555555556,
              "#d8576b"
             ],
             [
              0.6666666666666666,
              "#ed7953"
             ],
             [
              0.7777777777777778,
              "#fb9f3a"
             ],
             [
              0.8888888888888888,
              "#fdca26"
             ],
             [
              1,
              "#f0f921"
             ]
            ],
            "type": "heatmap"
           }
          ],
          "heatmapgl": [
           {
            "colorbar": {
             "outlinewidth": 0,
             "ticks": ""
            },
            "colorscale": [
             [
              0,
              "#0d0887"
             ],
             [
              0.1111111111111111,
              "#46039f"
             ],
             [
              0.2222222222222222,
              "#7201a8"
             ],
             [
              0.3333333333333333,
              "#9c179e"
             ],
             [
              0.4444444444444444,
              "#bd3786"
             ],
             [
              0.5555555555555556,
              "#d8576b"
             ],
             [
              0.6666666666666666,
              "#ed7953"
             ],
             [
              0.7777777777777778,
              "#fb9f3a"
             ],
             [
              0.8888888888888888,
              "#fdca26"
             ],
             [
              1,
              "#f0f921"
             ]
            ],
            "type": "heatmapgl"
           }
          ],
          "histogram": [
           {
            "marker": {
             "colorbar": {
              "outlinewidth": 0,
              "ticks": ""
             }
            },
            "type": "histogram"
           }
          ],
          "histogram2d": [
           {
            "colorbar": {
             "outlinewidth": 0,
             "ticks": ""
            },
            "colorscale": [
             [
              0,
              "#0d0887"
             ],
             [
              0.1111111111111111,
              "#46039f"
             ],
             [
              0.2222222222222222,
              "#7201a8"
             ],
             [
              0.3333333333333333,
              "#9c179e"
             ],
             [
              0.4444444444444444,
              "#bd3786"
             ],
             [
              0.5555555555555556,
              "#d8576b"
             ],
             [
              0.6666666666666666,
              "#ed7953"
             ],
             [
              0.7777777777777778,
              "#fb9f3a"
             ],
             [
              0.8888888888888888,
              "#fdca26"
             ],
             [
              1,
              "#f0f921"
             ]
            ],
            "type": "histogram2d"
           }
          ],
          "histogram2dcontour": [
           {
            "colorbar": {
             "outlinewidth": 0,
             "ticks": ""
            },
            "colorscale": [
             [
              0,
              "#0d0887"
             ],
             [
              0.1111111111111111,
              "#46039f"
             ],
             [
              0.2222222222222222,
              "#7201a8"
             ],
             [
              0.3333333333333333,
              "#9c179e"
             ],
             [
              0.4444444444444444,
              "#bd3786"
             ],
             [
              0.5555555555555556,
              "#d8576b"
             ],
             [
              0.6666666666666666,
              "#ed7953"
             ],
             [
              0.7777777777777778,
              "#fb9f3a"
             ],
             [
              0.8888888888888888,
              "#fdca26"
             ],
             [
              1,
              "#f0f921"
             ]
            ],
            "type": "histogram2dcontour"
           }
          ],
          "mesh3d": [
           {
            "colorbar": {
             "outlinewidth": 0,
             "ticks": ""
            },
            "type": "mesh3d"
           }
          ],
          "parcoords": [
           {
            "line": {
             "colorbar": {
              "outlinewidth": 0,
              "ticks": ""
             }
            },
            "type": "parcoords"
           }
          ],
          "pie": [
           {
            "automargin": true,
            "type": "pie"
           }
          ],
          "scatter": [
           {
            "marker": {
             "colorbar": {
              "outlinewidth": 0,
              "ticks": ""
             }
            },
            "type": "scatter"
           }
          ],
          "scatter3d": [
           {
            "line": {
             "colorbar": {
              "outlinewidth": 0,
              "ticks": ""
             }
            },
            "marker": {
             "colorbar": {
              "outlinewidth": 0,
              "ticks": ""
             }
            },
            "type": "scatter3d"
           }
          ],
          "scattercarpet": [
           {
            "marker": {
             "colorbar": {
              "outlinewidth": 0,
              "ticks": ""
             }
            },
            "type": "scattercarpet"
           }
          ],
          "scattergeo": [
           {
            "marker": {
             "colorbar": {
              "outlinewidth": 0,
              "ticks": ""
             }
            },
            "type": "scattergeo"
           }
          ],
          "scattergl": [
           {
            "marker": {
             "colorbar": {
              "outlinewidth": 0,
              "ticks": ""
             }
            },
            "type": "scattergl"
           }
          ],
          "scattermapbox": [
           {
            "marker": {
             "colorbar": {
              "outlinewidth": 0,
              "ticks": ""
             }
            },
            "type": "scattermapbox"
           }
          ],
          "scatterpolar": [
           {
            "marker": {
             "colorbar": {
              "outlinewidth": 0,
              "ticks": ""
             }
            },
            "type": "scatterpolar"
           }
          ],
          "scatterpolargl": [
           {
            "marker": {
             "colorbar": {
              "outlinewidth": 0,
              "ticks": ""
             }
            },
            "type": "scatterpolargl"
           }
          ],
          "scatterternary": [
           {
            "marker": {
             "colorbar": {
              "outlinewidth": 0,
              "ticks": ""
             }
            },
            "type": "scatterternary"
           }
          ],
          "surface": [
           {
            "colorbar": {
             "outlinewidth": 0,
             "ticks": ""
            },
            "colorscale": [
             [
              0,
              "#0d0887"
             ],
             [
              0.1111111111111111,
              "#46039f"
             ],
             [
              0.2222222222222222,
              "#7201a8"
             ],
             [
              0.3333333333333333,
              "#9c179e"
             ],
             [
              0.4444444444444444,
              "#bd3786"
             ],
             [
              0.5555555555555556,
              "#d8576b"
             ],
             [
              0.6666666666666666,
              "#ed7953"
             ],
             [
              0.7777777777777778,
              "#fb9f3a"
             ],
             [
              0.8888888888888888,
              "#fdca26"
             ],
             [
              1,
              "#f0f921"
             ]
            ],
            "type": "surface"
           }
          ],
          "table": [
           {
            "cells": {
             "fill": {
              "color": "#EBF0F8"
             },
             "line": {
              "color": "white"
             }
            },
            "header": {
             "fill": {
              "color": "#C8D4E3"
             },
             "line": {
              "color": "white"
             }
            },
            "type": "table"
           }
          ]
         },
         "layout": {
          "annotationdefaults": {
           "arrowcolor": "#2a3f5f",
           "arrowhead": 0,
           "arrowwidth": 1
          },
          "autotypenumbers": "strict",
          "coloraxis": {
           "colorbar": {
            "outlinewidth": 0,
            "ticks": ""
           }
          },
          "colorscale": {
           "diverging": [
            [
             0,
             "#8e0152"
            ],
            [
             0.1,
             "#c51b7d"
            ],
            [
             0.2,
             "#de77ae"
            ],
            [
             0.3,
             "#f1b6da"
            ],
            [
             0.4,
             "#fde0ef"
            ],
            [
             0.5,
             "#f7f7f7"
            ],
            [
             0.6,
             "#e6f5d0"
            ],
            [
             0.7,
             "#b8e186"
            ],
            [
             0.8,
             "#7fbc41"
            ],
            [
             0.9,
             "#4d9221"
            ],
            [
             1,
             "#276419"
            ]
           ],
           "sequential": [
            [
             0,
             "#0d0887"
            ],
            [
             0.1111111111111111,
             "#46039f"
            ],
            [
             0.2222222222222222,
             "#7201a8"
            ],
            [
             0.3333333333333333,
             "#9c179e"
            ],
            [
             0.4444444444444444,
             "#bd3786"
            ],
            [
             0.5555555555555556,
             "#d8576b"
            ],
            [
             0.6666666666666666,
             "#ed7953"
            ],
            [
             0.7777777777777778,
             "#fb9f3a"
            ],
            [
             0.8888888888888888,
             "#fdca26"
            ],
            [
             1,
             "#f0f921"
            ]
           ],
           "sequentialminus": [
            [
             0,
             "#0d0887"
            ],
            [
             0.1111111111111111,
             "#46039f"
            ],
            [
             0.2222222222222222,
             "#7201a8"
            ],
            [
             0.3333333333333333,
             "#9c179e"
            ],
            [
             0.4444444444444444,
             "#bd3786"
            ],
            [
             0.5555555555555556,
             "#d8576b"
            ],
            [
             0.6666666666666666,
             "#ed7953"
            ],
            [
             0.7777777777777778,
             "#fb9f3a"
            ],
            [
             0.8888888888888888,
             "#fdca26"
            ],
            [
             1,
             "#f0f921"
            ]
           ]
          },
          "colorway": [
           "#636efa",
           "#EF553B",
           "#00cc96",
           "#ab63fa",
           "#FFA15A",
           "#19d3f3",
           "#FF6692",
           "#B6E880",
           "#FF97FF",
           "#FECB52"
          ],
          "font": {
           "color": "#2a3f5f"
          },
          "geo": {
           "bgcolor": "white",
           "lakecolor": "white",
           "landcolor": "#E5ECF6",
           "showlakes": true,
           "showland": true,
           "subunitcolor": "white"
          },
          "hoverlabel": {
           "align": "left"
          },
          "hovermode": "closest",
          "mapbox": {
           "style": "light"
          },
          "paper_bgcolor": "white",
          "plot_bgcolor": "#E5ECF6",
          "polar": {
           "angularaxis": {
            "gridcolor": "white",
            "linecolor": "white",
            "ticks": ""
           },
           "bgcolor": "#E5ECF6",
           "radialaxis": {
            "gridcolor": "white",
            "linecolor": "white",
            "ticks": ""
           }
          },
          "scene": {
           "xaxis": {
            "backgroundcolor": "#E5ECF6",
            "gridcolor": "white",
            "gridwidth": 2,
            "linecolor": "white",
            "showbackground": true,
            "ticks": "",
            "zerolinecolor": "white"
           },
           "yaxis": {
            "backgroundcolor": "#E5ECF6",
            "gridcolor": "white",
            "gridwidth": 2,
            "linecolor": "white",
            "showbackground": true,
            "ticks": "",
            "zerolinecolor": "white"
           },
           "zaxis": {
            "backgroundcolor": "#E5ECF6",
            "gridcolor": "white",
            "gridwidth": 2,
            "linecolor": "white",
            "showbackground": true,
            "ticks": "",
            "zerolinecolor": "white"
           }
          },
          "shapedefaults": {
           "line": {
            "color": "#2a3f5f"
           }
          },
          "ternary": {
           "aaxis": {
            "gridcolor": "white",
            "linecolor": "white",
            "ticks": ""
           },
           "baxis": {
            "gridcolor": "white",
            "linecolor": "white",
            "ticks": ""
           },
           "bgcolor": "#E5ECF6",
           "caxis": {
            "gridcolor": "white",
            "linecolor": "white",
            "ticks": ""
           }
          },
          "title": {
           "x": 0.05
          },
          "xaxis": {
           "automargin": true,
           "gridcolor": "white",
           "linecolor": "white",
           "ticks": "",
           "title": {
            "standoff": 15
           },
           "zerolinecolor": "white",
           "zerolinewidth": 2
          },
          "yaxis": {
           "automargin": true,
           "gridcolor": "white",
           "linecolor": "white",
           "ticks": "",
           "title": {
            "standoff": 15
           },
           "zerolinecolor": "white",
           "zerolinewidth": 2
          }
         }
        },
        "width": 800,
        "xaxis": {
         "anchor": "y",
         "autorange": true,
         "domain": [
          0,
          1
         ],
         "range": [
          38324.16295985391,
          39121.04031895458
         ],
         "title": {
          "text": "epoch"
         },
         "type": "linear"
        },
        "yaxis": {
         "anchor": "x",
         "autorange": true,
         "domain": [
          0,
          1
         ],
         "range": [
          -0.4854059648139908,
          10.0884991473266
         ],
         "title": {
          "text": "temp"
         },
         "type": "linear",
         "visible": false
        }
       }
      },
      "image/png": "[encoded data removed]",
      "text/html": [
       "<div>                            <div id=\"8624dfe7-8919-4f98-8195-96690aa6d1c7\" class=\"plotly-graph-div\" style=\"height:400px; width:800px;\"></div>            <script type=\"text/javascript\">                require([\"plotly\"], function(Plotly) {                    window.PLOTLYENV=window.PLOTLYENV || {};                                    if (document.getElementById(\"8624dfe7-8919-4f98-8195-96690aa6d1c7\")) {                    Plotly.newPlot(                        \"8624dfe7-8919-4f98-8195-96690aa6d1c7\",                        [{\"hovertemplate\": \"epoch=%{x}<br>temp=%{y}<br>deposits=%{marker.size}<extra></extra>\", \"legendgroup\": \"\", \"marker\": {\"color\": \"#636efa\", \"size\": [43, 28, 464, 212, 18, 97, 304, 185, 144, 464, 30, 16, 300, 416, 266, 10, 10, 62], \"sizemode\": \"area\", \"sizeref\": 1.16, \"symbol\": \"circle\"}, \"mode\": \"markers\", \"name\": \"\", \"orientation\": \"v\", \"showlegend\": false, \"type\": \"scatter\", \"x\": [38370, 38434, 38498, 38499, 38563, 38627, 38690, 38691, 38754, 38755, 38756, 38818, 38819, 38882, 38883, 38946, 39010, 39074], \"xaxis\": \"x\", \"y\": [1.9990820247510832, 1.767727829392317, 8.916772662549139, 7.486080194569492, 5.307695905990535, 6.395632712371101, 7.625321470706523, 2.705349409101757, 0.4015129954706642, 2.017821107190554, 1.2492367930564308, 3.606573344502543, 5.127392446067582, 8.435883847625412, 6.375887004784591, 7.936821505599726, 2.8454087511182524, 6.83258357658813], \"yaxis\": \"y\"}],                        {\"height\": 400, \"legend\": {\"itemsizing\": \"constant\", \"tracegroupgap\": 0}, \"margin\": {\"t\": 60}, \"template\": {\"data\": {\"bar\": [{\"error_x\": {\"color\": \"#2a3f5f\"}, \"error_y\": {\"color\": \"#2a3f5f\"}, \"marker\": {\"line\": {\"color\": \"#E5ECF6\", \"width\": 0.5}}, \"type\": \"bar\"}], \"barpolar\": [{\"marker\": {\"line\": {\"color\": \"#E5ECF6\", \"width\": 0.5}}, \"type\": \"barpolar\"}], \"carpet\": [{\"aaxis\": {\"endlinecolor\": \"#2a3f5f\", \"gridcolor\": \"white\", \"linecolor\": \"white\", \"minorgridcolor\": \"white\", \"startlinecolor\": \"#2a3f5f\"}, \"baxis\": {\"endlinecolor\": \"#2a3f5f\", \"gridcolor\": \"white\", \"linecolor\": \"white\", \"minorgridcolor\": \"white\", \"startlinecolor\": \"#2a3f5f\"}, \"type\": \"carpet\"}], \"choropleth\": [{\"colorbar\": {\"outlinewidth\": 0, \"ticks\": \"\"}, \"type\": \"choropleth\"}], \"contour\": [{\"colorbar\": {\"outlinewidth\": 0, \"ticks\": \"\"}, \"colorscale\": [[0.0, \"#0d0887\"], [0.1111111111111111, \"#46039f\"], [0.2222222222222222, \"#7201a8\"], [0.3333333333333333, \"#9c179e\"], [0.4444444444444444, \"#bd3786\"], [0.5555555555555556, \"#d8576b\"], [0.6666666666666666, \"#ed7953\"], [0.7777777777777778, \"#fb9f3a\"], [0.8888888888888888, \"#fdca26\"], [1.0, \"#f0f921\"]], \"type\": \"contour\"}], \"contourcarpet\": [{\"colorbar\": {\"outlinewidth\": 0, \"ticks\": \"\"}, \"type\": \"contourcarpet\"}], \"heatmap\": [{\"colorbar\": {\"outlinewidth\": 0, \"ticks\": \"\"}, \"colorscale\": [[0.0, \"#0d0887\"], [0.1111111111111111, \"#46039f\"], [0.2222222222222222, \"#7201a8\"], [0.3333333333333333, \"#9c179e\"], [0.4444444444444444, \"#bd3786\"], [0.5555555555555556, \"#d8576b\"], [0.6666666666666666, \"#ed7953\"], [0.7777777777777778, \"#fb9f3a\"], [0.8888888888888888, \"#fdca26\"], [1.0, \"#f0f921\"]], \"type\": \"heatmap\"}], \"heatmapgl\": [{\"colorbar\": {\"outlinewidth\": 0, \"ticks\": \"\"}, \"colorscale\": [[0.0, \"#0d0887\"], [0.1111111111111111, \"#46039f\"], [0.2222222222222222, \"#7201a8\"], [0.3333333333333333, \"#9c179e\"], [0.4444444444444444, \"#bd3786\"], [0.5555555555555556, \"#d8576b\"], [0.6666666666666666, \"#ed7953\"], [0.7777777777777778, \"#fb9f3a\"], [0.8888888888888888, \"#fdca26\"], [1.0, \"#f0f921\"]], \"type\": \"heatmapgl\"}], \"histogram\": [{\"marker\": {\"colorbar\": {\"outlinewidth\": 0, \"ticks\": \"\"}}, \"type\": \"histogram\"}], \"histogram2d\": [{\"colorbar\": {\"outlinewidth\": 0, \"ticks\": \"\"}, \"colorscale\": [[0.0, \"#0d0887\"], [0.1111111111111111, \"#46039f\"], [0.2222222222222222, \"#7201a8\"], [0.3333333333333333, \"#9c179e\"], [0.4444444444444444, \"#bd3786\"], [0.5555555555555556, \"#d8576b\"], [0.6666666666666666, \"#ed7953\"], [0.7777777777777778, \"#fb9f3a\"], [0.8888888888888888, \"#fdca26\"], [1.0, \"#f0f921\"]], \"type\": \"histogram2d\"}], \"histogram2dcontour\": [{\"colorbar\": {\"outlinewidth\": 0, \"ticks\": \"\"}, \"colorscale\": [[0.0, \"#0d0887\"], [0.1111111111111111, \"#46039f\"], [0.2222222222222222, \"#7201a8\"], [0.3333333333333333, \"#9c179e\"], [0.4444444444444444, \"#bd3786\"], [0.5555555555555556, \"#d8576b\"], [0.6666666666666666, \"#ed7953\"], [0.7777777777777778, \"#fb9f3a\"], [0.8888888888888888, \"#fdca26\"], [1.0, \"#f0f921\"]], \"type\": \"histogram2dcontour\"}], \"mesh3d\": [{\"colorbar\": {\"outlinewidth\": 0, \"ticks\": \"\"}, \"type\": \"mesh3d\"}], \"parcoords\": [{\"line\": {\"colorbar\": {\"outlinewidth\": 0, \"ticks\": \"\"}}, \"type\": \"parcoords\"}], \"pie\": [{\"automargin\": true, \"type\": \"pie\"}], \"scatter\": [{\"marker\": {\"colorbar\": {\"outlinewidth\": 0, \"ticks\": \"\"}}, \"type\": \"scatter\"}], \"scatter3d\": [{\"line\": {\"colorbar\": {\"outlinewidth\": 0, \"ticks\": \"\"}}, \"marker\": {\"colorbar\": {\"outlinewidth\": 0, \"ticks\": \"\"}}, \"type\": \"scatter3d\"}], \"scattercarpet\": [{\"marker\": {\"colorbar\": {\"outlinewidth\": 0, \"ticks\": \"\"}}, \"type\": \"scattercarpet\"}], \"scattergeo\": [{\"marker\": {\"colorbar\": {\"outlinewidth\": 0, \"ticks\": \"\"}}, \"type\": \"scattergeo\"}], \"scattergl\": [{\"marker\": {\"colorbar\": {\"outlinewidth\": 0, \"ticks\": \"\"}}, \"type\": \"scattergl\"}], \"scattermapbox\": [{\"marker\": {\"colorbar\": {\"outlinewidth\": 0, \"ticks\": \"\"}}, \"type\": \"scattermapbox\"}], \"scatterpolar\": [{\"marker\": {\"colorbar\": {\"outlinewidth\": 0, \"ticks\": \"\"}}, \"type\": \"scatterpolar\"}], \"scatterpolargl\": [{\"marker\": {\"colorbar\": {\"outlinewidth\": 0, \"ticks\": \"\"}}, \"type\": \"scatterpolargl\"}], \"scatterternary\": [{\"marker\": {\"colorbar\": {\"outlinewidth\": 0, \"ticks\": \"\"}}, \"type\": \"scatterternary\"}], \"surface\": [{\"colorbar\": {\"outlinewidth\": 0, \"ticks\": \"\"}, \"colorscale\": [[0.0, \"#0d0887\"], [0.1111111111111111, \"#46039f\"], [0.2222222222222222, \"#7201a8\"], [0.3333333333333333, \"#9c179e\"], [0.4444444444444444, \"#bd3786\"], [0.5555555555555556, \"#d8576b\"], [0.6666666666666666, \"#ed7953\"], [0.7777777777777778, \"#fb9f3a\"], [0.8888888888888888, \"#fdca26\"], [1.0, \"#f0f921\"]], \"type\": \"surface\"}], \"table\": [{\"cells\": {\"fill\": {\"color\": \"#EBF0F8\"}, \"line\": {\"color\": \"white\"}}, \"header\": {\"fill\": {\"color\": \"#C8D4E3\"}, \"line\": {\"color\": \"white\"}}, \"type\": \"table\"}]}, \"layout\": {\"annotationdefaults\": {\"arrowcolor\": \"#2a3f5f\", \"arrowhead\": 0, \"arrowwidth\": 1}, \"autotypenumbers\": \"strict\", \"coloraxis\": {\"colorbar\": {\"outlinewidth\": 0, \"ticks\": \"\"}}, \"colorscale\": {\"diverging\": [[0, \"#8e0152\"], [0.1, \"#c51b7d\"], [0.2, \"#de77ae\"], [0.3, \"#f1b6da\"], [0.4, \"#fde0ef\"], [0.5, \"#f7f7f7\"], [0.6, \"#e6f5d0\"], [0.7, \"#b8e186\"], [0.8, \"#7fbc41\"], [0.9, \"#4d9221\"], [1, \"#276419\"]], \"sequential\": [[0.0, \"#0d0887\"], [0.1111111111111111, \"#46039f\"], [0.2222222222222222, \"#7201a8\"], [0.3333333333333333, \"#9c179e\"], [0.4444444444444444, \"#bd3786\"], [0.5555555555555556, \"#d8576b\"], [0.6666666666666666, \"#ed7953\"], [0.7777777777777778, \"#fb9f3a\"], [0.8888888888888888, \"#fdca26\"], [1.0, \"#f0f921\"]], \"sequentialminus\": [[0.0, \"#0d0887\"], [0.1111111111111111, \"#46039f\"], [0.2222222222222222, \"#7201a8\"], [0.3333333333333333, \"#9c179e\"], [0.4444444444444444, \"#bd3786\"], [0.5555555555555556, \"#d8576b\"], [0.6666666666666666, \"#ed7953\"], [0.7777777777777778, \"#fb9f3a\"], [0.8888888888888888, \"#fdca26\"], [1.0, \"#f0f921\"]]}, \"colorway\": [\"#636efa\", \"#EF553B\", \"#00cc96\", \"#ab63fa\", \"#FFA15A\", \"#19d3f3\", \"#FF6692\", \"#B6E880\", \"#FF97FF\", \"#FECB52\"], \"font\": {\"color\": \"#2a3f5f\"}, \"geo\": {\"bgcolor\": \"white\", \"lakecolor\": \"white\", \"landcolor\": \"#E5ECF6\", \"showlakes\": true, \"showland\": true, \"subunitcolor\": \"white\"}, \"hoverlabel\": {\"align\": \"left\"}, \"hovermode\": \"closest\", \"mapbox\": {\"style\": \"light\"}, \"paper_bgcolor\": \"white\", \"plot_bgcolor\": \"#E5ECF6\", \"polar\": {\"angularaxis\": {\"gridcolor\": \"white\", \"linecolor\": \"white\", \"ticks\": \"\"}, \"bgcolor\": \"#E5ECF6\", \"radialaxis\": {\"gridcolor\": \"white\", \"linecolor\": \"white\", \"ticks\": \"\"}}, \"scene\": {\"xaxis\": {\"backgroundcolor\": \"#E5ECF6\", \"gridcolor\": \"white\", \"gridwidth\": 2, \"linecolor\": \"white\", \"showbackground\": true, \"ticks\": \"\", \"zerolinecolor\": \"white\"}, \"yaxis\": {\"backgroundcolor\": \"#E5ECF6\", \"gridcolor\": \"white\", \"gridwidth\": 2, \"linecolor\": \"white\", \"showbackground\": true, \"ticks\": \"\", \"zerolinecolor\": \"white\"}, \"zaxis\": {\"backgroundcolor\": \"#E5ECF6\", \"gridcolor\": \"white\", \"gridwidth\": 2, \"linecolor\": \"white\", \"showbackground\": true, \"ticks\": \"\", \"zerolinecolor\": \"white\"}}, \"shapedefaults\": {\"line\": {\"color\": \"#2a3f5f\"}}, \"ternary\": {\"aaxis\": {\"gridcolor\": \"white\", \"linecolor\": \"white\", \"ticks\": \"\"}, \"baxis\": {\"gridcolor\": \"white\", \"linecolor\": \"white\", \"ticks\": \"\"}, \"bgcolor\": \"#E5ECF6\", \"caxis\": {\"gridcolor\": \"white\", \"linecolor\": \"white\", \"ticks\": \"\"}}, \"title\": {\"x\": 0.05}, \"xaxis\": {\"automargin\": true, \"gridcolor\": \"white\", \"linecolor\": \"white\", \"ticks\": \"\", \"title\": {\"standoff\": 15}, \"zerolinecolor\": \"white\", \"zerolinewidth\": 2}, \"yaxis\": {\"automargin\": true, \"gridcolor\": \"white\", \"linecolor\": \"white\", \"ticks\": \"\", \"title\": {\"standoff\": 15}, \"zerolinecolor\": \"white\", \"zerolinewidth\": 2}}}, \"width\": 800, \"xaxis\": {\"anchor\": \"y\", \"domain\": [0.0, 1.0], \"title\": {\"text\": \"epoch\"}}, \"yaxis\": {\"anchor\": \"x\", \"domain\": [0.0, 1.0], \"title\": {\"text\": \"temp\"}, \"visible\": false}},                        {\"responsive\": true}                    ).then(function(){\n",
       "                            \n",
       "var gd = document.getElementById('8624dfe7-8919-4f98-8195-96690aa6d1c7');\n",
       "var x = new MutationObserver(function (mutations, observer) {{\n",
       "        var display = window.getComputedStyle(gd).display;\n",
       "        if (!display || display === 'none') {{\n",
       "            console.log([gd, 'removed!']);\n",
       "            Plotly.purge(gd);\n",
       "            observer.disconnect();\n",
       "        }}\n",
       "}});\n",
       "\n",
       "// Listen for the removal of the full notebook cells\n",
       "var notebookContainer = gd.closest('#notebook-container');\n",
       "if (notebookContainer) {{\n",
       "    x.observe(notebookContainer, {childList: true});\n",
       "}}\n",
       "\n",
       "// Listen for the clearing of the current output cell\n",
       "var outputEl = gd.closest('.output');\n",
       "if (outputEl) {{\n",
       "    x.observe(outputEl, {childList: true});\n",
       "}}\n",
       "\n",
       "                        })                };                });            </script>        </div>"
      ]
     },
     "metadata": {},
     "output_type": "display_data"
    }
   ],
   "source": [
    "rng = np.random.default_rng(42)\n",
    "df['temp'] = rng.uniform(0, 10, len(df[\"epoch\"]))\n",
    "fig = px.scatter(df[df.deposits > 0], x = 'epoch', y = 'temp', size = 'deposits', size_max = 20, width = 800, height = 400)\n",
    "fig.update_yaxes(visible=False)"
   ]
  },
  {
   "cell_type": "markdown",
   "metadata": {},
   "source": [
    "We notice that in this range of epochs there are a handful during which multiple validators were activated at one shot. For some epochs (around 38500,28750,38890) this number even exceeded 400.\n",
    "\n",
    "It is quite likely that in such cases all the validators that were activated belong to the same entity, but this hypothesis can only be verfied after looking more closely into the addresses that made these deposits. "
   ]
  },
  {
   "cell_type": "markdown",
   "metadata": {},
   "source": [
    "## Acknowledgements "
   ]
  },
  {
   "cell_type": "markdown",
   "metadata": {},
   "source": [
    "A huge thank you to [Barnabé Monnot](https://twitter.com/barnabemonnot?ref_src=twsrc%5Egoogle%7Ctwcamp%5Eserp%7Ctwgr%5Eauthor) for all his very valuable insights into this analysis and for answering my numerous questions on the Eth2.0 specs.\n",
    "\n",
    "Thank you to [Pintail](https://twitter.com/pintail_xyz) for his [blog series](https://pintail.xyz/posts/medalla-tldr/) from which I learnt a lot to succesfully carry out this analysis. "
   ]
  },
  {
   "cell_type": "raw",
   "metadata": {},
   "source": [
    "The Beacon Chain Digest - May 24th"
   ]
  },
  {
   "cell_type": "raw",
   "metadata": {},
   "source": [
    "Explorations of beacon chain data"
   ]
  },
  {
   "cell_type": "raw",
   "metadata": {},
   "source": [
    "// References + footnotes\n",
    "\n",
    "// Authors\n",
    "let authorData = [\"shyam\"];"
   ]
  },
  {
   "cell_type": "raw",
   "metadata": {},
   "source": []
  }
 ],
 "metadata": {
  "kernelspec": {
   "display_name": "Python 3",
   "language": "python",
   "name": "python3"
  },
  "language_info": {
   "codemirror_mode": {
    "name": "ipython",
    "version": 3
   },
   "file_extension": ".py",
   "mimetype": "text/x-python",
   "name": "python",
   "nbconvert_exporter": "python",
   "pygments_lexer": "ipython3",
   "version": "3.7.6"
  }
 },
 "nbformat": 4,
 "nbformat_minor": 4
}
